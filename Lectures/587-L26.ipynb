{
 "cells": [
  {
   "cell_type": "markdown",
   "metadata": {},
   "source": [
    "# Material Balances XVII\n",
    "\n",
    "This lecture solves reactor design problems involving semi-batch reactors; membrane reactors; recycle reactors, and packed beds with pressure drops."
   ]
  },
  {
   "cell_type": "code",
   "execution_count": 1,
   "metadata": {
    "executionInfo": {
     "elapsed": 126,
     "status": "ok",
     "timestamp": 1633700692097,
     "user": {
      "displayName": "Bowei Liu",
      "photoUrl": "https://lh3.googleusercontent.com/a/default-user=s64",
      "userId": "09481582047933696573"
     },
     "user_tz": 240
    },
    "id": "h9UTaC1vBEif"
   },
   "outputs": [],
   "source": [
    "import numpy as np\n",
    "import matplotlib.pyplot as plt\n",
    "import scipy.optimize as opt\n",
    "from scipy.integrate import solve_ivp\n",
    "from scipy.interpolate import interp1d"
   ]
  },
  {
   "cell_type": "markdown",
   "metadata": {},
   "source": [
    "## Example Problem 01\n",
    "\n",
    "The synthesis of Methyl Bromide is carried out in the liquid phase using a well-mixed tank reactor. \n",
    "\t\t\t\n",
    "$$C\\!N\\!Br + C\\!H_3N\\!H_2 \\longrightarrow C\\!H_3Br + N\\!C\\!N\\!H_2$$\n",
    "\n",
    "The tank is initially filled with 5L of a solvent solution containing Bromine Cyanide (A) at a concentration of 0.05M.  At time zero, you turn on the feed to the reactor, which is a solvent solution containing methylamine (B) at 0.025M; the feed enters the reactor at a total volumetric flowrate of 0.05 L s$^{-1}$. This reaction is first order in A and first order in B, and we are given a rate constant of:\n",
    "\n",
    "$$k = 2.2 \\ \\textrm{L} \\ \\textrm{mol}^{-1} \\ \\textrm{s}^{-1}$$\n",
    "\n",
    "All species are dissolved in an inert solvent and present at relatively low concentrations, so we can assume that the density of all fluid in the system is approximately equal to the density of the solvent. Plot the concentrations of all species in the reactor as well as the rate of reaction as a function of time.\n",
    "\n",
    "How long does it take to reach 90% conversion of species A in this system?"
   ]
  },
  {
   "cell_type": "markdown",
   "metadata": {},
   "source": [
    "### Solution to Example Problem 01\n",
    "\n",
    "We'll use the shorthand:\n",
    "\n",
    "$$A + B \\longrightarrow C + D$$\n",
    "\n",
    "Write balances on species:\n",
    "\n",
    "\\begin{align}\n",
    "    \\frac{dN_A}{dt} &= R_AV \\\\\n",
    "    \\frac{dN_B}{dt} &= F_{Bf} + R_BV \\\\\n",
    "    \\frac{dN_C}{dt} &= R_CV \\\\\n",
    "    \\frac{dN_D}{dt} &= R_DV\n",
    "\\end{align}\n",
    "\n",
    "The only new concept above is that, for species B, we have an inlet molar flowrate, so that (with respect to species B), this looks like a transient CSTR balance with no outflow. We can calculate the value of the feed molar flowrate of B using information in the problem statement:\n",
    "\n",
    "$$F_{Bf} = C_{Bf}Q_f$$\n",
    "\n",
    "Define Production rates $R_j$:\n",
    "\n",
    "\\begin{align}\n",
    "    R_A &= -r \\\\\n",
    "    R_B &= -r \\\\\n",
    "    R_C &= r \\\\\n",
    "    R_D &= r\n",
    "\\end{align}\n",
    "\n",
    "Reaction rate is given by:\n",
    "\n",
    "$$r = kC_AC_B$$\n",
    "\n",
    "Concentrations are given by:\n",
    "\n",
    "\\begin{align}\n",
    "    C_A = \\frac{N_A}{V} \\\\\n",
    "    C_B = \\frac{N_B}{V}\n",
    "\\end{align}\n",
    "\n",
    "Volume is clearly not going to be constant in this reactor since we have an inlet flow and no outlet flow.  We aren't given densities or molecular weights for these species, but we're told that the density is constant.  This makes it relatively easy to derive an equation that describes the change in volume with time.  Starting with a total mass balance:\n",
    "\n",
    "$$\\frac{dm}{dt} = \\dot{m}_{f}$$\n",
    "\n",
    "We can express mass ($m$) and mass flowrate ($\\dot{m}_{f}$) in terms of volume ($V$), volumetric flowrate ($Q_f$), and density ($\\rho$):\n",
    "\n",
    "$$\\frac{d(\\rho V)}{dt} = \\rho Q_f$$\n",
    "\n",
    "Since density is time invariant in this problem, the ODE simplifies to:\n",
    "\n",
    "$$\\frac{dV}{dt} = Q_f$$\n",
    "\n",
    "This can be solved analytically since it is not coupled to any other time dependent terms to give:\n",
    "\n",
    "$$V = V_0 + Q_ft$$\n",
    "\n",
    "Alternatively, you can use `solve_ivp()` to integrated the volume differential equation alongside the material balances.  This approach is more general, so we'll use that one to solve this problem."
   ]
  },
  {
   "cell_type": "code",
   "execution_count": null,
   "metadata": {},
   "outputs": [],
   "source": [
    "# ##############################################################\n",
    "# # Globals for P01                                            #\n",
    "# ##############################################################\n",
    "\n",
    "# V0  = 5.0 #L\n",
    "# CA0 = 0.05 #mol/L\n",
    "# Qf  = 0.05 #L/s\n",
    "# CBf = 0.025 #mol/L\n",
    "# FBf = CBf*Qf\n",
    "# NA0 = CA0*V0\n",
    "# NB0 = 0.0\n",
    "# NC0 = 0.0\n",
    "# ND0 = 0.0\n",
    "# k   = 2.2  #L/mol/s"
   ]
  },
  {
   "cell_type": "code",
   "execution_count": null,
   "metadata": {},
   "outputs": [],
   "source": [
    "# def P01(t, var):\n",
    "    \n",
    "#     NA, NB, NC, ND, V = var\n",
    "        \n",
    "#     CA = NA/V\n",
    "#     CB = NB/V\n",
    "    \n",
    "#     r  = k*CA*CB\n",
    "    \n",
    "#     RA = -r\n",
    "#     RB = -r\n",
    "#     RC =  r\n",
    "#     RD =  r\n",
    "    \n",
    "#     D1 =       RA*V\n",
    "#     D2 = FBf + RB*V\n",
    "#     D3 =       RC*V\n",
    "#     D4 =       RD*V\n",
    "#     D5 = Qf\n",
    "    \n",
    "#     return [D1, D2, D3, D4, D5]"
   ]
  },
  {
   "cell_type": "code",
   "execution_count": null,
   "metadata": {},
   "outputs": [],
   "source": [
    "# tspan = (0.0, 5000.0)\n",
    "# var0  = (NA0, NB0, NC0, ND0, V0)\n",
    "# ans1  = solve_ivp(P01, tspan, var0, atol = 1e-8, rtol = 1e-8)\n",
    "\n",
    "# t     = ans1.t\n",
    "# NA    = ans1.y[0, :]\n",
    "# NB    = ans1.y[1, :]\n",
    "# NC    = ans1.y[2, :]\n",
    "# ND    = ans1.y[3, :]\n",
    "# V     = ans1.y[4, :]\n",
    "\n",
    "# XA    = (NA0 - NA)/NA0\n",
    "# CA    = NA/V\n",
    "# CB    = NB/V\n",
    "# CC    = NC/V\n",
    "# CD    = ND/V\n",
    "# r     = k*CA*CB"
   ]
  },
  {
   "cell_type": "code",
   "execution_count": null,
   "metadata": {},
   "outputs": [],
   "source": [
    "# plt.figure(figsize = (5, 5))\n",
    "# plt.plot(t, CA, label = 'CA')\n",
    "# plt.plot(t, CB, label = 'CB')\n",
    "# plt.plot(t, CC, marker = 'o', label = 'CC')\n",
    "# plt.plot(t, CD, label = 'CD')\n",
    "# plt.xlim(0.0, max(tspan))\n",
    "# plt.xticks(fontsize = 11)\n",
    "# plt.xlabel('time (s)', fontsize = 14)\n",
    "# plt.ylim(0.0, 0.06)\n",
    "# plt.yticks(fontsize = 11)\n",
    "# plt.ylabel('Concentration (mol/L)', fontsize = 14)\n",
    "# plt.legend()\n",
    "# # plt.show()\n",
    "\n",
    "# plt.figure(figsize = (5, 5))\n",
    "# plt.plot(t, V)\n",
    "# plt.xlim(0.0, max(tspan))\n",
    "# plt.xticks(fontsize = 11)\n",
    "# plt.xlabel('time (s)', fontsize = 14)\n",
    "# #plt.ylim(0.0, 10)\n",
    "# plt.yticks(fontsize = 11)\n",
    "# plt.ylabel('Reactor Volume (L)', fontsize = 14)\n",
    "# # plt.show()\n",
    "\n",
    "# plt.figure(figsize = (5, 5))\n",
    "# plt.plot(t, r)\n",
    "# # plt.xlim(0.0, max(tspan))\n",
    "# plt.xlim(0.0, 200)\n",
    "# plt.xticks(fontsize = 11)\n",
    "# plt.xlabel('time (s)', fontsize = 14)\n",
    "# plt.yticks(fontsize = 11)\n",
    "# plt.ylabel('Reaction Rate (mol/L/s)', fontsize = 14)\n",
    "# plt.show()"
   ]
  },
  {
   "cell_type": "code",
   "execution_count": null,
   "metadata": {},
   "outputs": [],
   "source": [
    "# itp1 = interp1d(XA, t)\n",
    "# print(f'This reactor reaches 90% conversion at t = {itp1(0.9):0.3f}')\n",
    "\n",
    "# plt.figure(figsize = (5, 5))\n",
    "# plt.plot(t, XA, label = 'XA')\n",
    "# plt.xlim(0.0, 400)\n",
    "# plt.xticks(fontsize = 11)\n",
    "# plt.xlabel('time (s)', fontsize = 14)\n",
    "# plt.ylim(0.0, 1.0)\n",
    "# plt.yticks(fontsize = 11)\n",
    "# plt.ylabel('XA', fontsize = 14)\n",
    "# # plt.legend()\n",
    "# plt.show()"
   ]
  },
  {
   "cell_type": "markdown",
   "metadata": {},
   "source": [
    "## Example Problem 02\n",
    "\n",
    "You are designing a flow reactor in order to perform gas-phase propane dehydrogenation.  The purpose of this reaction is \"on purpose\" generation of propylene, which has historically been produced as a side product of ethylene synthesis via naphtha cracking. One of the consequences of the shale gas boom is that it greatly expanded the supply of ethane (and thus decrease the cost of ethane).  Accordingly, the majority of our ethylene production has shifted to ethane pyrolysis, which does not produce significant quantities of propylene.  Hence your interest in an on-purpose synthesis of propylene!\n",
    "\t\t\t\n",
    "$$C_3H_8 \\longleftrightarrow C_3H_6 + H_2$$\n",
    "\n",
    "The reaction has an elementary rate law, and it is performed at 500K and 8.2atm.  At this temperature, you find that the forward rate constant and the concentration-based equilibrium constant are:\n",
    "\n",
    "\\begin{align*}\n",
    "    k_f  = 0.7  \\ \\textrm{min}^{-1} \\\\\n",
    "    K_C = 0.05 \\ \\textrm{mol} \\ \\textrm{L}^{-1}\t\t\t\t\n",
    "\\end{align*}\t\t\t\n",
    "\n",
    "If the feed rate of propane to the reactor is 10 moles per minute, find the PFR volume required to achieve 95\\% conversion of propane."
   ]
  },
  {
   "cell_type": "markdown",
   "metadata": {},
   "source": [
    "### Solution to Example Problem 02\n",
    "\n",
    "#### Material Balances\n",
    "\n",
    "Our instinct for solving this problem is to write a balance on each species:\n",
    "\n",
    "$$\\frac{dF_j}{dV} = R_j$$\n",
    "\n",
    "We can then specify a production rate for each species in terms of the reaction rate:\n",
    "\n",
    "$$R_j = \\sum_i \\nu_{i,j}r_i$$\n",
    "\n",
    "The reaction rate in this problem is elementary, so:\n",
    "\n",
    "$$r = k_fC_A - k_rC_BC_C$$\n",
    "\n",
    "And we can define concentrations in terms of flowrates:\n",
    "\n",
    "$$C_j = \\frac{F_j}{Q}$$\n",
    "\n",
    "Where Q is given by:\n",
    "\n",
    "$$Q = \\frac{F_T RT}{P}$$\n",
    "\n",
    "In terms of parameters, we are given $k_f$, $T$, $P$, and $F_{Af}$.  We can infer that $F_{Bf}$ and $F_{Cf}$ are both zero.  Finally, we can calculate the reverse rate constant:\n",
    "\n",
    "$$k_r = \\frac{k_f}{K_C}$$\n",
    "\n",
    "With this, we can solve the problem by integrating the coupled ODEs with `solve_ivp()` and using `interp1d()` to back out the volume where we hit our conversion target."
   ]
  },
  {
   "cell_type": "code",
   "execution_count": 28,
   "metadata": {},
   "outputs": [],
   "source": [
    "# ########################################\n",
    "# # Globals for P02                      #\n",
    "# ########################################\n",
    "\n",
    "# kf  = 0.7  #1/min\n",
    "# KC  = 0.05 #mol/L\n",
    "# kr  = kf/KC #L/mol/min\n",
    "# T   = 500 #K\n",
    "# P   = 8.2 #atm\n",
    "# R   = 0.08206 #L*atm/mol/K\n",
    "# FAf = 10.0 #mol/min\n",
    "# FBf = 0.0\n",
    "# FCf = 0.0\n",
    "# XA_target = 0.95"
   ]
  },
  {
   "cell_type": "code",
   "execution_count": 3,
   "metadata": {},
   "outputs": [],
   "source": [
    "# def P02(V, var):\n",
    "#     FA, FB, FC = var\n",
    "    \n",
    "#     FT = FA + FB + FC\n",
    "    \n",
    "#     Q  = FT*R*T/P\n",
    "    \n",
    "#     CA = FA/Q\n",
    "#     CB = FB/Q\n",
    "#     CC = FC/Q\n",
    "    \n",
    "#     r  = kf*CA - kr*CB*CC\n",
    "    \n",
    "#     RA = -r\n",
    "#     RB =  r\n",
    "#     RC =  r\n",
    "    \n",
    "#     dA = RA\n",
    "#     dB = RB\n",
    "#     dC = RC\n",
    "    \n",
    "#     return [dA, dB, dC]"
   ]
  },
  {
   "cell_type": "code",
   "execution_count": 4,
   "metadata": {},
   "outputs": [
    {
     "data": {
      "image/png": "[encoded data removed]",
      "text/plain": [
       "<Figure size 500x500 with 1 Axes>"
      ]
     },
     "metadata": {},
     "output_type": "display_data"
    }
   ],
   "source": [
    "# Vspan = (0.0, 1000.0)\n",
    "# var0  = (FAf, FBf, FCf)\n",
    "# ans2  = solve_ivp(P02, Vspan, var0, atol = 1e-8, rtol =  1e-8)\n",
    "\n",
    "# V     = ans2.t\n",
    "# FA    = ans2.y[0, :]\n",
    "# FB    = ans2.y[1, :]\n",
    "# FC    = ans2.y[2, :]\n",
    "\n",
    "# XA    = (FAf - FA)/FAf\n",
    "# # itp1 = interp1d(XA, V)\n",
    "# # itp1(XA_target)\n",
    "\n",
    "# plt.figure(figsize = (5, 5))\n",
    "# plt.plot(V, XA)\n",
    "# plt.xlim(0.0, max(Vspan))\n",
    "# plt.xticks(fontsize = 11)\n",
    "# plt.xlabel('Volume (L)', fontsize = 14)\n",
    "# plt.ylim(0.0, 1.0)\n",
    "# plt.yticks(fontsize = 11)\n",
    "# plt.ylabel('Conversion of A', fontsize = 14)\n",
    "# plt.show()"
   ]
  },
  {
   "cell_type": "markdown",
   "metadata": {},
   "source": [
    "#### Always assess equilibrium limits for reversible reactions!\n",
    "\n",
    "We failed to consider the equilibrium limit before we asked for 95% conversion.  If we solve the equilibrium problem, we can see how attainable conversion depends on the specifications for this problem.  The best way to solve this is using the methods from Unit 02, where we solve an algebraic equation given by:\n",
    "\n",
    "$$K_C - \\prod_j C_j^{\\nu_j} = 0$$\n",
    "\n",
    "To do so, we can develop a mole table that relates all species flowrates to fractional conversion."
   ]
  },
  {
   "cell_type": "code",
   "execution_count": 27,
   "metadata": {},
   "outputs": [],
   "source": [
    "# def eqns2a(XA):\n",
    "      \n",
    "#     FA = FAf - FAf*XA\n",
    "#     FB = FBf + FAf*XA\n",
    "#     FC = FCf + FAf*XA\n",
    "#     FT = FA + FB + FC\n",
    "    \n",
    "#     Q  = FT*R*T/P\n",
    "    \n",
    "#     CA = FA/Q\n",
    "#     CB = FB/Q\n",
    "#     CC = FC/Q\n",
    "        \n",
    "#     KC_comp = CC*CB/CA\n",
    "    \n",
    "#     eqn1    = KC_comp - KC\n",
    "#     return eqn1"
   ]
  },
  {
   "cell_type": "code",
   "execution_count": 6,
   "metadata": {},
   "outputs": [
    {
     "name": "stdout",
     "output_type": "stream",
     "text": [
      "The equilibrium conversion of propane at these conditions is 0.447\n"
     ]
    }
   ],
   "source": [
    "# XAguess = 0.7\n",
    "# ans3    = opt.newton(eqns2a, XAguess)\n",
    "# print(f'The equilibrium conversion of propane at these conditions is {ans3:0.3f}')"
   ]
  },
  {
   "cell_type": "markdown",
   "metadata": {},
   "source": [
    "#### Example 02b: Increasing the attainable equilibrium conversion\n",
    "\n",
    "From the above analysis of equilibrium limits for these conditions, we learn that it is impossible to attain the requested conversion under the given conditions. Since this is a reaction where the number of moles increase with reaction (assuming we do not change the temperature), the only way we can improve the equilibrium limit so that we can reach the requested 95% conversion is to either reduce the system pressure, add an inert gas diluent (which accomplishes the same thing as reducing the pressure in terms of the equilibrium analysis), or do some combination of the two if it is more practical. \n",
    "\n",
    "We adapt the equilibrium problem below by adding diluent and reducing the operating pressure."
   ]
  },
  {
   "cell_type": "code",
   "execution_count": 26,
   "metadata": {},
   "outputs": [],
   "source": [
    "# def eqns2b(XA):\n",
    "        \n",
    "#     FA = FAf - FAf*XA\n",
    "#     FB = FBf + FAf*XA\n",
    "#     FC = FCf + FAf*XA\n",
    "#     FI = FIf\n",
    "#     FT = FA + FB + FC + FI\n",
    "    \n",
    "#     Q  = FT*R*T/P\n",
    "    \n",
    "#     CA = FA/Q\n",
    "#     CB = FB/Q\n",
    "#     CC = FC/Q\n",
    "        \n",
    "#     KC_comp = CC*CB/CA\n",
    "    \n",
    "#     eqn1    = KC_comp - KC\n",
    "#     return eqn1"
   ]
  },
  {
   "cell_type": "code",
   "execution_count": 25,
   "metadata": {},
   "outputs": [],
   "source": [
    "# ##########################################################\n",
    "# # Redefining globals at adjusted pressure and w/diluent  #\n",
    "# ##########################################################\n",
    "\n",
    "# KC  = 0.05 #mol/L\n",
    "# T   = 500 #K\n",
    "# P   = 8.2 #atm\n",
    "# R   = 0.08206 #L*atm/mol/K\n",
    "# FAf = 10.0 #mol/min\n",
    "# FBf = 0.0\n",
    "# FCf = 0.0\n",
    "# FIf = 0.0 #mol/min\n",
    "\n",
    "# # Solve problem with current set of globals\n",
    "# XAguess = 0.95\n",
    "# ans3    = opt.newton(eqns2b, XAguess)\n",
    "# print(f'The equilibrium conversion of propane at these conditions is \\n {ans3:0.3f}')"
   ]
  },
  {
   "cell_type": "markdown",
   "metadata": {},
   "source": [
    "#### Returning to the material balances under conditions where we can reach 95% conversion\n",
    "\n",
    "Next, we re-solve the material balances with conditions where it will be possible to reach 95% conversion to solve for the required reactor volume.  Specifically, we reduce the system pressure to 1 atm, and we add a diluent (e.g., $N_2$ gas) to the feed stream at 100 moles per minute."
   ]
  },
  {
   "cell_type": "code",
   "execution_count": 24,
   "metadata": {},
   "outputs": [],
   "source": [
    "# def P02b(V, var):\n",
    "#     FA, FB, FC = var\n",
    "#     FI = FIf\n",
    "    \n",
    "#     FT = FA + FB + FC + FI\n",
    "    \n",
    "#     Q  = FT*R*T/P\n",
    "    \n",
    "#     CA = FA/Q\n",
    "#     CB = FB/Q\n",
    "#     CC = FC/Q\n",
    "    \n",
    "#     r  = kf*CA - kr*CB*CC\n",
    "    \n",
    "#     RA = -r\n",
    "#     RB =  r\n",
    "#     RC =  r\n",
    "    \n",
    "#     dA = RA\n",
    "#     dB = RB\n",
    "#     dC = RC\n",
    "    \n",
    "#     return [dA, dB, dC]"
   ]
  },
  {
   "cell_type": "code",
   "execution_count": 23,
   "metadata": {},
   "outputs": [],
   "source": [
    "# Vspan = (0.0, 30000.0)\n",
    "# var0  = (FAf, FBf, FCf)\n",
    "# ans2  = solve_ivp(P02b, Vspan, var0, atol = 1e-8, rtol =  1e-8)\n",
    "\n",
    "# V     = ans2.t\n",
    "# FA    = ans2.y[0, :]\n",
    "# FB    = ans2.y[1, :]\n",
    "# FC    = ans2.y[2, :]\n",
    "\n",
    "# XA    = (FAf - FA)/FAf\n",
    "\n",
    "# plt.figure(1, figsize = (5, 5))\n",
    "# plt.plot(V, XA)\n",
    "# plt.xlim(0.0, max(Vspan))\n",
    "# plt.xticks(fontsize = 11)\n",
    "# plt.xlabel('Volume (L)', fontsize = 14)\n",
    "# plt.ylim(0.0, 1.0)\n",
    "# plt.yticks(fontsize = 11)\n",
    "# plt.ylabel('Conversion of A', fontsize = 14)\n",
    "# plt.show(1)\n",
    "\n",
    "# itp1 = interp1d(XA, V, kind = 'cubic')\n",
    "# Vopt = itp1(XA_target)\n",
    "# print(f'The Volume required for XA = {XA_target:0.2f} is {Vopt:0.0f}L')"
   ]
  }
 ],
 "metadata": {
  "colab": {
   "authorship_tag": "ABX9TyP0ZJPj0jWZ7tx7s+T6+2CS",
   "name": "P14.ipynb",
   "provenance": []
  },
  "kernelspec": {
   "display_name": "Python 3 (ipykernel)",
   "language": "python",
   "name": "python3"
  },
  "language_info": {
   "codemirror_mode": {
    "name": "ipython",
    "version": 3
   },
   "file_extension": ".py",
   "mimetype": "text/x-python",
   "name": "python",
   "nbconvert_exporter": "python",
   "pygments_lexer": "ipython3",
   "version": "3.12.3"
  }
 },
 "nbformat": 4,
 "nbformat_minor": 4
}
