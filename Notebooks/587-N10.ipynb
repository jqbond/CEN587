{
 "cells": [
  {
   "cell_type": "markdown",
   "metadata": {},
   "source": [
    "# Chemical Equilibrium VI\n",
    "\n",
    "[What is Bond listening to right now?](https://www.youtube.com/watch?v=ZjbAppJtx7E&list=RDZjbAppJtx7E&start_radio=1)\n",
    "\n",
    "These exercises will reinforce solution of general problems in chemical equilibrium for gas phase reactions at any temperature and pressure.  We will cover how to handle non-ideality at high pressure by working with fugacity coefficients.  We continue to build proficiency with Python and computer aided solutions by introducing Gaussian Quadrature as a tool for solving definite integrals numerically. This exercise should strengthen fundamentals of thermodynamics in reacting systems and improve confidence with Python, especially for solving problems that would be tedious or perhaps impossible to do by hand."
   ]
  },
  {
   "cell_type": "code",
   "execution_count": 59,
   "metadata": {},
   "outputs": [],
   "source": [
    "import numpy as np\n",
    "import scipy.optimize as opt\n",
    "import matplotlib.pyplot as plt"
   ]
  },
  {
   "cell_type": "markdown",
   "metadata": {},
   "source": [
    "## The definitive analysis of ammonia synthesis...\n",
    "\n",
    "In preceding Notebooks, we have considered the gas-phase reaction of molecular nitrogen with molecular hydrogen to produce ammonia:\n",
    "\n",
    "$$N_2 (g) + 3H_2 (g) \\leftrightarrow 2N\\!H_3 (g)$$\n",
    "\n",
    "We have always considered the reaction between 1 mole of $N_2$ and 3 moles of $H_2$. With that starting state in mind, we have thus far solved the problem in each of the following cases, finding the equilibrium conversions of $N_2$ indicated:\n",
    "\n",
    "1. 298K and 1 bar ([Notebook 07](https://jqbond.github.io/CEN587/Notebooks/587-N07.html)): $X_{N_2} = 0.97$\n",
    "2. 873K and 1 bar without a catalyst ([Notebook 08](https://jqbond.github.io/CEN587/Notebooks/587-N08.html#example-problem-01)): $X_{N_2} = 8.0 \\times 10^{-4}$ \n",
    "3. 873K and 1000 bar without a catalyst ([Notebook 08](https://jqbond.github.io/CEN587/Notebooks/587-N08.html#what-can-we-do-to-improve-the-equilibrium-conversion?)): $X_{N_2} = 0.38$\n",
    "4. 673K and 200 bar with a catalyst ([Notebook 08](https://jqbond.github.io/CEN587/Notebooks/587-N08.html#this-really-doesn't-seem-industrially-feasible)): $X_{N_2} = 0.51$\n",
    "\n",
    "In each of these cases, we assumed ideal gas behavior no matter how high the pressure was. Clearly, this is incorrect. Today, we will build thermodynamic non-ideality into our solution by calculating fugacity coefficients. In doing so, we will reinforce concepts in programming from [Notebook 09](https://jqbond.github.io/CEN587/Notebooks/587-N09). Specifically, we will set this problem up in a general way that allows us to easily solve for equilibrium converstion at any $(T,P)$ condition. We will do this by ***passing $T$ and $P$ as extra parameters to our objective function***.\n",
    "\n",
    "## Example Problem 01\n",
    "\n",
    "What is the equilibrium conversion of Nitrogen at 200 bar and 673K if we initially charge the reactor with 1 mole of $N_2$ and 3 moles of $H_2$? You may not assume ideal gas behavior for this problem.\n",
    "\n",
    "### Solution\n",
    "\n",
    "In all cases, we are solving the following equation:\n",
    "\n",
    "$$\\exp\\left(\\frac{-\\Delta G^\\circ}{RT}\\right) = K = \\prod_{j = 1}^{N_S}a_j^{\\nu_j}$$\n",
    "\n",
    "#### Calculating Equilibrium Constants\n",
    "\n",
    "**Reference State for ammonia synthesis reaction:** Pure gases at $T^\\circ$ = Reaction Temperature, and $P^\\circ$ = 1 bar.  We need to define our $\\Delta G^\\circ$ under these conditions. We were able to look up the following data for $N_2$, $H_2$, and $N\\!H_3$ as pure gases at 298K and 1 bar.\n",
    "\n",
    "|Species      | ${H_j}^\\circ (\\mathrm{kJ \\ mol^{-1}})$| ${S_j}^\\circ (\\mathrm{J \\ mol^{-1} \\ K^{-1}})$ | ${C_{p_j}}^\\circ (\\mathrm{J \\ mol^{-1} \\ K^{-1}})$|\n",
    "|-------------|:-------------------------------------:|:----------------------------------------------:|:-------------------------------------------------:|\n",
    "| $N_2$ (g)   | 0                                     |191.60                                          |29.12                                              | \n",
    "| $H_2$ (g)   | 0                                     |130.68                                          |28.84                                              | \n",
    "| $N\\!H_3$ (g)| -45.9                                 |192.77                                          |35.64                                              |\n",
    "\n",
    "This information is all we need to calculate the following:\n",
    "\n",
    "* $\\Delta H$ at any temperature, i.e. $\\Delta H(T)$\n",
    "* $\\Delta S$ at any temperature, i.e. $\\Delta S(T)$\n",
    "* $\\Delta G$ at any temperature, i.e. $\\Delta G(T)$\n",
    "* $K$ at any temperature, i.e. $K(T)$\n",
    "\n",
    "The steps are the same as those presented in [Notebook 08](https://jqbond.github.io/CEN587/Notebooks/587-N08.html) We can us the data at $T_0 = 298K$ and the various heat capacities to calculate the enthalpy of each species at 873K using the following equation:\n",
    "\n",
    "$$H_j = H_{j,0} + \\int_{T_0}^{T} C_{p_j} dT$$\n",
    "\n",
    "For heat capacities that are not a function of temperature (here, we have constant heat capacities), we can solve the integral and the equation simplifies to:\n",
    "\n",
    "$$H_j = H_{j,0} + C_{p_j}(T - T_0)$$\n",
    "\n",
    "Similarly, we can calculate entropies at a temperature other than $T_0 = 298K$ using the following equation:\n",
    "\n",
    "$$S_j = S_{j,0} + \\int_{T_0}^{T} \\frac{C_{p_j}}{T} dT$$\n",
    "\n",
    "For constant heat capacities like we have in this problem, we can again solve the integral giving:\n",
    "\n",
    "$$S_j = S_{j,0} + C_{p_j}\\ln\\left(\\frac{T}{T_0}\\right)$$\n",
    "\n",
    "In the cell below, we build a function to calculate enthalpies and entropies at any temperature based on our data at 298K and the heat capacities we have available. \n",
    "\n",
    "```{tip}\n",
    "The equilibrium constant, $K$, is a function only of temperature for a given reaction. It does not depend on pressure or the starting composition of the mixture. We account for these in the definitions of thermodynamic activities. Ultimately, the effect of temperature on a chemical equilibrium problem is fully described by the value of $K$, whereas pressure and composition effects are described by the values of thermodynamic activities, $a_j$.\n",
    "```"
   ]
  },
  {
   "cell_type": "code",
   "execution_count": 60,
   "metadata": {},
   "outputs": [
    {
     "name": "stdout",
     "output_type": "stream",
     "text": [
      "At T = 298K, the thermodynamic equilibrium constant for ammonia synthesis is K = 5.54E+05\n"
     ]
    }
   ],
   "source": [
    "#############################################################################\n",
    "# Creating a versatile function that calculates K at any T, i.e., K(T)      #\n",
    "#############################################################################\n",
    "\n",
    "def K(T):\n",
    "    T0 = 298   #K\n",
    "    R  = 8.314 #J/mol/K\n",
    "    \n",
    "    #Enthalpies at 298K, 1 bar\n",
    "    HN0 = 0\n",
    "    HH0 = 0\n",
    "    HA0 = -45.9*1000 #J/mol\n",
    "\n",
    "    #Entropies at 298K, 1 bar\n",
    "    SN0 = 191.60 #J/mol/K\n",
    "    SH0 = 130.68 #J/mol/K\n",
    "    SA0 = 192.77 #J/mol/K\n",
    "\n",
    "    #Heat capacities\n",
    "    CPN = 29.12 #J/mol/K\n",
    "    CPH = 28.84 #J/mol/K\n",
    "    CPA = 35.64 #J/mol/K\n",
    "\n",
    "    #Calculate thermodynamic state functions at T not equal to T0 = 298\n",
    "    HN = HN0 + CPN*(T - T0) #J/mol\n",
    "    HH = HH0 + CPH*(T - T0) #J/mol\n",
    "    HA = HA0 + CPA*(T - T0) #J/mol\n",
    "\n",
    "    SN = SN0 + CPN*np.log(T/T0) #J/mol/K\n",
    "    SH = SH0 + CPH*np.log(T/T0) #J/mol/K\n",
    "    SA = SA0 + CPA*np.log(T/T0) #J/mol/K\n",
    "\n",
    "    ΔH = 2*HA - HN - 3*HH #J/mol\n",
    "    ΔS = 2*SA - SN - 3*SH #J/mol/K\n",
    "    ΔG = ΔH - T*ΔS        #J/mol\n",
    "\n",
    "    K  = np.exp(-ΔG/R/T)     #Dimensionless\n",
    "    return K\n",
    "\n",
    "T1 = 298 #K\n",
    "print(f'At T = {T1:0.0f}K, the thermodynamic equilibrium constant for ammonia synthesis is K = {K(T1):0.2E}')"
   ]
  },
  {
   "cell_type": "markdown",
   "metadata": {},
   "source": [
    "#### Thermodynamic activities capture composition and pressure effects\n",
    "\n",
    "Now we have to unpack the composition dependencies buried within thermodynamic activities, i.e., we have solved for K(T), and we need to work on the right hand side of the equilbrium equation:\n",
    "\n",
    "$$K = \\prod_{j = 1}^{N_S}a_j^{\\nu_j}$$\n",
    "\n",
    "As illustrated in prior analyses of ammonia synthesis, if we expand the product operator, $\\prod$, for ammonia synthesis, we find:\n",
    "\n",
    "$$K = \\frac{{a_{N\\!H_3}}^{2}}{{a_{N_2}}{a_{H_2}}^3}$$\n",
    "\n",
    "Regardless of the reaction temperature or pressure (or even phase of matter), we always define a thermodyanmic activity as:\n",
    "\n",
    "$$a_j = \\frac{\\hat{f}_j}{f_j^\\circ}$$\n",
    "\n",
    "The numerator is the fugacity of species $j$ under reaction conditions $(T, P, x_j)$. The denominator is the fugacity of species $j$ in its reference state. Our reference state for gas-phase species is a pure species at 1 bar and the reaction temperature, $T$. Our convention for calculating fugacities of gases in a mixture uses the Lewis-Randall rule.  As usual, this gives:\n",
    "\n",
    "$$a_j = \\frac{y_j \\phi_j P}{y_j^\\circ \\phi_j^\\circ  P^\\circ}$$\n",
    "\n",
    "Looking at the numerator, we are operating this reactor at an unknown pressure, $P$, so we aren't yet sure about the fugacity coefficient in the numerator, $\\phi_j$. Looking at the denominator, the reference state is a pure species, so $y_j^\\circ = 1$. Further, that pure species is at 1 bar, so $\\phi_j^\\circ = 1$. This gives a very general result for activities of gases in a mixture. Here, we will retain the fugacity coefficient and not assume that it is equal to 1; this is essential for us to consider thermodynamically non-ideal gas behavior at high pressures:\n",
    "\n",
    "$$a_j = \\frac{y_j \\phi_j P}{P^\\circ}$$\n",
    "\n",
    "For completeness sake, just to make clear what shows up in the one \"equation\" we are trying to solve, substituting the activity definition for each species into the equilibrium equation gives:\n",
    "\n",
    "$$K = \\frac{\\left(\\frac{y_{N\\!H_3} \\phi_{N\\!H_3} P}{P^\\circ}\\right)^2}{\\left(\\frac{y_{N_2}\\phi_{N_2}P}{P^\\circ}\\right) \\left(\\frac{y_{H_2}\\phi_{H_2}P}{P^\\circ}\\right)^3}$$\n",
    "\n",
    "We see multiple pressures and reference pressures that will cancel, giving:\n",
    "\n",
    "$$K = \\frac{{y_{N\\!H_3}}^2}{y_{N_2}{y_{H_2}}^3} \\frac{{\\phi_{N\\!H_3}}^2}{\\phi_{N_2}{\\phi_{H_2}}^3}\\left(\\frac{P^\\circ}{P}\\right)^2$$\n",
    "\n",
    "This is a completely general equation that will apply at any Temperature or Pressure, so we can always use this result, regardless of the operating conditions.  As it stands, even after we specify temperature and pressure, we have many unknowns in the above equation. By specifying temperature and pressure we will define $K$ and $P$ for this system, but we still don't know:\n",
    "\n",
    "1. The mole fraction of Nitrogen $(y_{N_2})$.\n",
    "2. The mole fraction of Hydrogen $(y_{H_2})$.  \n",
    "3. The mole fraction of Ammonia $(y_{N\\!H_3})$ \n",
    "4. The fugacity coefficient of Nitrogen $(\\phi_{N_2})$.\n",
    "5. The fugacity coefficient of Hydrogen $(\\phi_{H_2})$.\n",
    "6. The fugacity coefficient of Ammonia $(\\phi_{N\\!H_3})$.\n",
    "\n",
    "This means that we have 6 unknowns in the equation above, and it cannot be solved in its current form. We need to do something to either (1) reduce the number of unknowns or (2) add five equations that can be solved simultaneously with the one above. Both strategies are viable, but here we'll take the more familiar approach of reducing the number of unknowns as we might do when pursuing an analytical solution by hand."
   ]
  },
  {
   "cell_type": "markdown",
   "metadata": {},
   "source": [
    "#### Using Stoichiometry to reduce unknowns\n",
    "\n",
    "At this point, (assuming we specify the reaction $T$, $P$) we have 6 unknowns: the equilibrium mole fractions of each species ($y_{N_2}$, $y_{H_2}$, and $y_{N\\!H_3}$) and the fugacity coefficient of each species ($\\phi_{N_2}$, $\\phi_{H_2}$, and $\\phi_{N\\!H_3}$) at the specified system pressure. Let's wait on the fugacity coefficients for a minute and deal with the mole fractions next. As in [Notebook 07](https://jqbond.github.io/CEN587/Notebooks/587-N07) and [Notebook 08](https://jqbond.github.io/CEN587/Notebooks/587-N08), we will express the mole fractions as functions of reaction extent, $\\varepsilon$.  We start by defining mole fractions in terms of molar quantities of each species:\n",
    "\n",
    "$$y_j = \\frac{N_j}{N_{tot}} = \\frac{N_j}{\\sum N_j}$$\n",
    "\n",
    "This allows us to define an extent of reaction, $\\varepsilon$, and then specifiy the moles of each species as a function of extent using a \"mole table\" type of approach:\n",
    "\n",
    "$$N_j = N_{j,0} + \\nu_j \\varepsilon$$\n",
    "\n",
    "As long as we know the initial composition of the system and can assign a basis, $N_{j,0}$ is not an unknown, and this allows us to express all mole fractions as functions of a single unknown, $\\varepsilon$, i.e., $y_j = f(\\varepsilon)$. For simplicity, I will relabel the compounds using N ($N_2$), H ($H_2$), and A ($N\\!H_3$) just for cleaner notation in the table below. \n",
    "\n",
    "$$N (g) + 3H (g) \\leftrightharpoons 2A (g)$$\n",
    "\n",
    "Applying this to each species, we find:\n",
    "\n",
    "|Species   |In        |Change           |End                     |\n",
    "|:---------|:--------:|:---------------:|:----------------------:|\n",
    "| $N_2$    |$N_{N0}$  |$-1\\varepsilon$  |$N_{N0} - 1\\varepsilon$ | \n",
    "| $H_2$    |$N_{H0}$  |$-3\\varepsilon$  |$N_{H0} - 3\\varepsilon$ |\n",
    "| $N\\!H_3$ |$N_{A0}$  |$+2\\varepsilon$  |$N_{A0} + 2\\varepsilon$ |\n",
    "| Total    |$N_{T0}$  |$-2\\varepsilon$  |$N_{T0} - 2\\varepsilon$ |\n",
    "\n",
    "\n",
    "Now that these are defined, we can substitute back into our mole fraction defintion:\n",
    "\n",
    "$$y_j = \\frac{N_j}{N_{tot}} = \\frac{N_j}{\\sum N_j}$$\n",
    "\n",
    "```{important}\n",
    "By defining each mole fraction in terms of reaction extent, we have reduced the number of unknowns. Specifically, we have gone from having 3 unknown mole fractions ($y_{N_2}$, $y_{H_2}$, and $y_{N\\!H_3}$), to expressing them all as functions of a single unknown -- the extent of reaction, $\\varepsilon$.\n",
    "```\n",
    "\n",
    "Now we are down to 4 unknowns: $\\varepsilon$, $\\phi_{N_2}$, $\\phi_{H_2}$, and $\\phi_{N\\!H_3}$. In the previous 3 lectures, we treated this as an ideal gas with $\\phi_j = 1$. But that is admittedly a bit ridiculous for pressures of 200 bar. To obtain a more realistic solution, we have to solve for the fugacity coefficients, $\\phi_j$.\n",
    "\n",
    "#### Calculating Fugacity Coefficients\n",
    "\n",
    "In general, you can calculate a fugacity coefficient for species $j$, $\\phi_j$, using the following equation:\n",
    "\n",
    "$$\\ln(\\phi_j) = \\int_0^P\\frac{\\left(Z_j-1\\right)}{P}d\\!P$$\n",
    "\n",
    "Or:\n",
    "\n",
    "$$\\phi_j = \\exp\\left(\\int_0^P\\frac{\\left(Z_j-1\\right)}{P}d\\!P\\right)$$\n",
    "\n",
    "We have the following empirical functions that describe the compressibility factors for $N_2$, $H_2$, and $N\\!H_3$ as gases at 600K. Don't worry too much about where they came from -- I built them by calculating real molar volumes for each gas as a function of pressure using the Van der Waals equation of state, using those to calculate compressibility factors as a function of pressure, and then regressing a 4th order polynomial fit to the Z vs. P data set. Regardless of how these expressions for compressibility factor were obtained, now that we have them, we can use them to calculate fugacity coefficients.  Here, Pressures are in units of bar.\n",
    "\n",
    "\\begin{align*}\n",
    "Z_{N_2}(P) &= 1 + 2.1735\\times10^{-4}P + 6.2923\\times10^{-7}P^2 - 2.3065\\times10^{-10}P^3      - 3.0835\\times10^{-14}P^4 \\\\\n",
    "Z_{H_2}(P) &= 1 + 4.3484\\times10^{-4}P + 9.5380\\times10^{-8}P^2 - 5.4028\\times10^{-11}P^3 + 1.5314\\times10^{-14}P^4 \\\\\n",
    "Z_{NH_3}(P) &= 1 - 9.0961\\times10^{-4}P - 1.0349\\times10^{-6}P^2 + 2.6566\\times10^{-9}P^3 + 4.6925\\times10^{-12}P^4 \\\\\n",
    "\\end{align*}"
   ]
  },
  {
   "cell_type": "code",
   "execution_count": 63,
   "metadata": {},
   "outputs": [],
   "source": [
    "# N2COEFFS  = [1.0000e+00, 2.1735e-04, 6.2923e-07, -2.3065e-10, -3.0835e-14]\n",
    "# H2COEFFS  = [1.0000e+00,  4.3484e-04,  9.5380e-08, -5.4028e-11,  1.5314e-14]\n",
    "# NH3COEFFS = [1.0000e+00, -9.0961e-04, -1.0349e-06,  2.6566e-09,  4.6925e-12]"
   ]
  },
  {
   "cell_type": "markdown",
   "metadata": {},
   "source": [
    "##### Write compressibility factors as functions of pressure.\n",
    "\n",
    "These are just univariate polynomias, so these can be easily written as `lambda` functions."
   ]
  },
  {
   "cell_type": "code",
   "execution_count": 64,
   "metadata": {},
   "outputs": [
    {
     "data": {
      "image/png": "[encoded data removed]",
      "text/plain": [
       "<Figure size 500x500 with 1 Axes>"
      ]
     },
     "metadata": {},
     "output_type": "display_data"
    }
   ],
   "source": [
    "ZN  = lambda P: (1 + 2.1735e-4*P + 6.2923e-7*P**2 - 2.3065e-10*P**3 - 3.0835e-14*P**4)\n",
    "ZH  = lambda P: (1 + 4.3484e-4*P + 9.5380e-8*P**2 - 5.4028e-11*P**3 + 1.5314e-14*P**4)\n",
    "ZA  = lambda P: (1 - 9.0961e-4*P - 1.0349e-6*P**2 + 2.6566e-09*P**3 + 4.6925e-12*P**4)\n",
    "\n",
    "# Plot compressibility factors as functions of pressure\n",
    "pplot = np.linspace(0,400,30) #We'll plot from 0 bar to 400 bar...\n",
    "plt.figure(figsize = (5,5))\n",
    "plt.plot(pplot, ZN(pplot), color = 'black', label = 'ZN2')\n",
    "plt.plot(pplot, ZH(pplot), color = 'blue', label = 'ZH2')\n",
    "plt.plot(pplot, ZA(pplot), color = 'red', label = 'ZNH3')\n",
    "plt.xlim(pplot[0], pplot[-1])\n",
    "plt.xlabel('Pressure (bar)')\n",
    "plt.ylabel('Z')\n",
    "plt.legend()\n",
    "plt.show()"
   ]
  },
  {
   "cell_type": "markdown",
   "metadata": {},
   "source": [
    "##### Use compressibility factors to find fugacity coefficients\n",
    "\n",
    "\n",
    "Now, we need to use those to calculate fugacity coefficients at 200 bar.  This is actually pretty easy to do in a programming language. We have polynomial expressions that give us compressibility factors for $N_2$, $H_2$, and $N\\!H_3$ as a function of pressure, so all we need to do to calculate fugacity coefficients is integrate those gnarly looking polynomials...You *could* do this by hand if you insist -- they are polynomials after all. But I prefer to use gaussian quadrature (similar to what your calculator does to solve definite integrals). It is much neater, much more concise, and much less error prone than hand evaluation of an integral.\n",
    "\n",
    "##### Introducing Gaussian Quadrature\n",
    "\n",
    "Before we deal with a complex looking function to handle fugacity coefficients, let's get a simple introduction to Gaussian quadrature.  This is in the `scipy` package, specifically as `scipy.integrate.quad()`.  We import this package in the cell below. This basically works very similar to your graphing calculator does for solving a definitite integral. We define an integrand (the function we're integrating), and we specifiy the range of integration. For example, let's use it to solve the following definite integral using Gaussian Quadrature:\n",
    "\n",
    "$$\\int_0^{10} x^2 dx$$\n",
    "\n",
    "Importantly, this is an easy integral to solve, and we know that the analytical solution to that integral is:\n",
    "\n",
    "$$\\frac{x^3}{3}\\bigg |_0^{10} = 333.33$$\n",
    "\n",
    "Now with `quad()` (note we have to define the integrand as a function...):"
   ]
  },
  {
   "cell_type": "code",
   "execution_count": null,
   "metadata": {},
   "outputs": [],
   "source": [
    "from scipy.integrate import quad"
   ]
  },
  {
   "cell_type": "code",
   "execution_count": 118,
   "metadata": {},
   "outputs": [
    {
     "name": "stdout",
     "output_type": "stream",
     "text": [
      "333.33333333333326 3.700743415417188e-12\n"
     ]
    }
   ],
   "source": [
    "example = lambda x: x**2\n",
    "# print(quad(example, 0, 10))\n",
    "ans, error = quad(example, 0, 10)\n",
    "print(ans, error)"
   ]
  },
  {
   "cell_type": "markdown",
   "metadata": {},
   "source": [
    "\n",
    "Now that we have expressions for compressibility factors, we'll use them to define integrands that we can use to solve for fugacity coefficients.  Again, we are trying to solve:\n",
    "\n",
    "$$\\phi_j = \\exp\\left(\\int_0^P\\frac{\\left(Z_j(P)-1\\right)}{P}d\\!P\\right)$$\n",
    "\n",
    "The integrand is the part we are integrating:\n",
    "\n",
    "$$\\phi_j = \\exp\\left(\\int_0^P \\textrm{integrand}(P) \\ d\\!P\\right)$$\n",
    "\n",
    "So we will now write functions that define the integrands that we need to integrate. Once defined, we pass them to `quad()` to figure out the fugacity coefficient at a given pressure.\n",
    "\n",
    "```{tip}\n",
    "We are using a `lambda` function since this is a nice, easy one line function. We are passing Pressure as a function argument, which then gets passed into $Z(P)$. Functions are neat this way---it may not have occurred to you before, but you can totally nest a function inside of another function if it is useful to you!!\n",
    "```"
   ]
  },
  {
   "cell_type": "code",
   "execution_count": 65,
   "metadata": {},
   "outputs": [],
   "source": [
    "INTN  = lambda P: (ZN(P) - 1)/P\n",
    "INTH  = lambda P: (ZH(P) - 1)/P\n",
    "INTA  = lambda P: (ZA(P) - 1)/P"
   ]
  },
  {
   "cell_type": "markdown",
   "metadata": {},
   "source": [
    "##### Integrate using gaussian quadrature to find the fugacity coefficient at specific P\n",
    "\n",
    "Now that we have the integrands defined, we can use Gaussian Quadrature to integrate them to any pressure we want. This is just integrating the integrand as a function of pressure from 0 to P.  Here, we'll use an upper limit of 200 bar since that is what the problem specifies for industrial synthesis of ammonia, i.e., we want to know the fugacity coefficient at $P = 200 \\ \\mathrm{bar}$.\n",
    "\n",
    "```{important}\n",
    "Note that in calculating the fugacity coefficients this way, we can see that they are strict functions of pressure only. We know the pressure in this system is $P = 200 \\ \\mathrm{bar}$, so these are known, fixed quantities, and we have reduced our equilibrium problem to a single unknown, $\\varepsilon$.\n",
    "```"
   ]
  },
  {
   "cell_type": "code",
   "execution_count": 66,
   "metadata": {},
   "outputs": [
    {
     "name": "stdout",
     "output_type": "stream",
     "text": [
      "1.0569920645443989 1.0927939252498104 0.8239390392243064\n"
     ]
    }
   ],
   "source": [
    "phiN, errN = np.exp(quad(INTN, 0, 200))\n",
    "phiH, errH = np.exp(quad(INTH, 0, 200))\n",
    "phiA, errA = np.exp(quad(INTA, 0, 200))\n",
    "# phiA, errA = np.exp(quad(INTA, 1e-10, 200))\n",
    "print(phiN, phiH, phiA)"
   ]
  },
  {
   "cell_type": "markdown",
   "metadata": {},
   "source": [
    "##### Adapt ammonia synthesis equilibrium problem to include fugacity coefficients\n",
    "\n",
    "Now, we're in a position to adapt our ammonia objective function to include fugacity coefficients. Despite the added complexity, this is still a univariate problem where we have only one unknown, $\\varepsilon$. This is the only unknown because fugacity coefficients are defined as a function of pressure (which is known), and mole fractions are defined as a function of extent (which is unknown). We can therefore solve this \"equation\" using `opt.newton()`"
   ]
  },
  {
   "cell_type": "code",
   "execution_count": 67,
   "metadata": {},
   "outputs": [],
   "source": [
    "####################################################################################################################################\n",
    "# Define the basis; as done here, these are global variables stored in the workspace and accessible within all functions and loops #\n",
    "####################################################################################################################################\n",
    "\n",
    "NN0 = 1 #mole of Nitrogen at start\n",
    "NH0 = 3 #moles of Hydrogen at start\n",
    "NA0 = 0 #moles of Ammonia at start\n",
    "NT0 = NN0 + NH0 + NA0 #total moles at start\n",
    "\n",
    "# Define reference pressure; it is constant throughout all problems\n",
    "P0  = 1 #bar"
   ]
  },
  {
   "cell_type": "code",
   "execution_count": 68,
   "metadata": {},
   "outputs": [
    {
     "name": "stdout",
     "output_type": "stream",
     "text": [
      "converged\n",
      "Conversion of N2 is 0.5759, yN is 0.1489, yH is 0.4467, and yA is 0.4044\n"
     ]
    }
   ],
   "source": [
    "###########################################################################\n",
    "# Define univariate equilibrium function with fugacity coefficients       #\n",
    "###########################################################################\n",
    "\n",
    "def EQ3(ε):\n",
    "    \n",
    "    #Specifications for this problem\n",
    "    T   = 673 #K\n",
    "    P   = 200 #bar\n",
    "\n",
    "    #Mole Table, this captures extent of reaction\n",
    "    NN  = NN0 - ε\n",
    "    NH  = NH0 - 3*ε\n",
    "    NA  = NA0 + 2*ε\n",
    "    NT  = NN + NH + NA\n",
    "    \n",
    "    #Mole fractions -- note extent is built into definitions of NA, NB, NC, NT\n",
    "    yN  = NN/NT\n",
    "    yH  = NH/NT\n",
    "    yA  = NA/NT\n",
    "    \n",
    "    #Fugacity coefficients -- generally species specific and a strong function of pressure\n",
    "    ϕN = 1.0569920645443758\n",
    "    ϕH = 1.0927939252498104\n",
    "    ϕA = 0.8239390392243812\n",
    "    \n",
    "    #Activity definitions -- extents embedded in yA, yB, yC; P and P0 also show up.\n",
    "    aN  = yN*ϕN*P/P0\n",
    "    aH  = yH*ϕH*P/P0\n",
    "    aA  = yA*ϕA*P/P0\n",
    "    \n",
    "    #This is our ratio of thermodynamic activities at equiliribum, i.e., Kactivity = Product(a_j^nu_j)\n",
    "    KACTIVITY = aA**2/aN/aH**3\n",
    "    \n",
    "    #And finally, our Thermodynamic equilibrium constant\n",
    "    KTHERMO = K(T)\n",
    "       \n",
    "    return KACTIVITY - KTHERMO  #We want to find the value of extent where KCOMP - Kthermo = 0\n",
    "\n",
    "ans, info = opt.newton(EQ3, 0.99, full_output = True) #This solves for the equilibrium extent\n",
    "\n",
    "print(info.flag) #Let's make sure it converged...\n",
    "\n",
    "#Solve for conversion and mole fractions.\n",
    "NN = NN0 - ans\n",
    "NH = NH0 - 3*ans\n",
    "NA = NA0 + 2*ans\n",
    "NT = NN + NH + NA\n",
    "XN = (NN0 - NN)/NN0\n",
    "yN = NN/NT\n",
    "yH = NH/NT\n",
    "yA = NA/NT\n",
    "\n",
    "print(f'Conversion of N2 is {round(XN,4)}, yN is {round(yN, 4)}, yH is {round(yH, 4)}, and yA is {round(yA, 4)}')"
   ]
  },
  {
   "cell_type": "markdown",
   "metadata": {},
   "source": [
    "## Example Problem 02\n",
    "\n",
    "Solve for the equilibrium conversion of Nitrogen at the following set of temperatures and pressures (solve the problem at all possible (T, P) pairs in these sets).\n",
    "\n",
    "    TSET = np.linspace(300, 900, 100)\n",
    "    PSET = np.logspace(-2, np.log10(200), 100)\n",
    "\n",
    "You are probably already familiar with `np.linspace()`, which creates an array of linearly spaced elements. `np.logspace()` creates an analogous set of floating point decimals that vary by powers of 10."
   ]
  },
  {
   "cell_type": "code",
   "execution_count": 116,
   "metadata": {},
   "outputs": [
    {
     "name": "stdout",
     "output_type": "stream",
     "text": [
      "T = 300, P =    0.01\n",
      "T = 375, P =    0.04\n",
      "T = 450, P =    0.18\n",
      "T = 525, P =    0.75\n",
      "T = 600, P =    3.16\n",
      "T = 675, P =   13.34\n",
      "T = 750, P =   56.23\n",
      "T = 825, P =  237.14\n",
      "T = 900, P = 1000.00\n"
     ]
    }
   ],
   "source": [
    "TSET = np.linspace(300, 900, 9)\n",
    "PSET = np.logspace(-2, np.log10(1000), 9)\n",
    "\n",
    "for T,P in zip(TSET, PSET):\n",
    "    print(f'T = {T:3.0f}, P = {P:7.2f}')"
   ]
  },
  {
   "cell_type": "markdown",
   "metadata": {},
   "source": [
    "\n",
    "### Solution to Example Problem 02\n",
    "\n",
    "The size of what we are trying to do here forces us to think generally. Immediately, we need to realize that solving the problem above requires us to solve the algebraic equation in the objective function above for equilibrium extent (the one unknown) at 10,000 combinations of Temperature and Pressure.  We should be thinking that we'll need to build a general objective function and solve it for each (T,P) pair using a loop. We'll build to this in a few steps. The first thing is to make our objective function more general and allow it to take (T, P) as function arguments instead of having to hard code their values at each new (T, P) combination.\n",
    "\n",
    "### It is much more convenient to pass T and P as extra parameters...\n",
    "\n",
    "The intuitive approach that we took in solving Example Problem 01 is fine if we are only considering a small set of temperatures and pressures. This objective function is not as useful for the current problem because it requires us to re-write specifications and recalculate fugacity coefficients every time we change the temperature and the pressure. A better approach is to embed all Temperature and Pressure-dependent calculations inside of the objective function and allow it to take $(T,P)$ as function arguments. This way, we can easily adapt the objective function to ***any*** $(T,P)$ without having to hard-code values of the equilibrium constant or fugacity coefficients. Let's start by moving ***everything that can vary as a function of temperature or pressure*** inside of the function. We'll also give that function 3 arguments:  reaction extent, temperature, and pressure, i.e., $f(\\varepsilon, T, P)$\n",
    "\n",
    "Forecasting ahead, we know that we'll be using an iterative root finding algorithm like `opt.newton()` to solve this equation. The snag is that `opt.newton()` takes one argument (the unknown) by default, so we should view this multivariate function as a temporary or intermediate function that handles the majority of necessary calculations but is not quite compatbile with the default formatting requirements for a univariate equation solvers."
   ]
  },
  {
   "cell_type": "code",
   "execution_count": 119,
   "metadata": {},
   "outputs": [],
   "source": [
    "################################################################################################################################\n",
    "# Build an intermediate function that takes extent, temperature, and pressure as arguments and returns K - KCOMP as an output. #\n",
    "################################################################################################################################\n",
    "\n",
    "def tempfun2(ε, T, P):\n",
    "    \n",
    "    #Mole Table, this captures extent of reaction\n",
    "    NN  = NN0 - ε\n",
    "    NH  = NH0 - 3*ε\n",
    "    NA  = NA0 + 2*ε\n",
    "    NT  = NN + NH + NA\n",
    "    \n",
    "    #Mole fractions -- note extent is built into definitions of NA, NB, NC, NT\n",
    "    yN  = NN/NT\n",
    "    yH  = NH/NT\n",
    "    yA  = NA/NT\n",
    "    \n",
    "    #Fugacity coefficients -- generally species specific and a strong function of pressure; reuse integrand functions\n",
    "    ϕN, errN = np.exp(quad(INTN, 0, P))\n",
    "    ϕH, errH = np.exp(quad(INTH, 0, P))\n",
    "    ϕA, errA = np.exp(quad(INTA, 0, P)) #Note - might need a lower limit not equal to zero here due to some instability at some pressures\n",
    "    \n",
    "    #Activity definitions -- extents embedded in yA, yB, yC; P and P0 also show up.\n",
    "    aN  = yN*ϕN*P/P0\n",
    "    aH  = yH*ϕH*P/P0\n",
    "    aA  = yA*ϕA*P/P0\n",
    "    \n",
    "    #This is our ratio of thermodynamic activities at equiliribum, i.e., Kactivity = Product(a_j^nu_j)\n",
    "    KACTIVITY = aA**2/aN/aH**3\n",
    "    \n",
    "    #Calculate the equilibrium constant at T = Trxn\n",
    "    KTHERMO = K(T) \n",
    "    \n",
    "    return KACTIVITY - KTHERMO  #We want to find the value of extent where KCOMP - Kthermo = 0"
   ]
  },
  {
   "cell_type": "markdown",
   "metadata": {},
   "source": [
    "### Lambda functions\n",
    "\n",
    "Now we just have to address the fact that `opt.newton()` will, by default, accept a function that takes a single argument ($\\varepsilon$ in this case)...here, we need to give 3 arguments to our function $(\\varepsilon, T, P)$.  Similar to the examples covered in [Notebook 09](https://jqbond.github.io/CEN587/Notebooks/587-N09.html), we can use `lambda` functions or the more Python-specific `args` keyword."
   ]
  },
  {
   "cell_type": "code",
   "execution_count": 120,
   "metadata": {},
   "outputs": [
    {
     "name": "stdout",
     "output_type": "stream",
     "text": [
      "      converged: True\n",
      "           flag: converged\n",
      " function_calls: 32\n",
      "     iterations: 31\n",
      "           root: 0.5758932567368205\n",
      "         method: secant \n",
      "\n",
      "converged \n",
      "\n",
      "Conversion of N2 is 0.5759, yN is 0.1489, yH is 0.4467, and yA is 0.4044\n"
     ]
    }
   ],
   "source": [
    "##############################################################################################################################################\n",
    "# Solving the equilibrium problem by passing temperature and pressure using lambda functions                                                 #\n",
    "##############################################################################################################################################\n",
    "\n",
    "Trxn = 673 #K\n",
    "Prxn  = 200 #bar\n",
    "objective = lambda ε: tempfun2(ε, Trxn, Prxn)\n",
    "ans, info = opt.newton(objective, 0.99, full_output = True) #This solves for the equilibrium extent\n",
    "\n",
    "print(info, '\\n') #Let's make sure it converged...\n",
    "print(info.flag, '\\n')\n",
    "\n",
    "#Solve for conversion and mole fractions.\n",
    "NN = NN0 - ans\n",
    "NH = NH0 - 3*ans\n",
    "NA = NA0 + 2*ans\n",
    "NT = NN + NH + NA\n",
    "XN = (NN0 - NN)/NN0\n",
    "yN = NN/NT\n",
    "yH = NH/NT\n",
    "yA = NA/NT\n",
    "\n",
    "print(f'Conversion of N2 is {round(XN,4)}, yN is {round(yN, 4)}, yH is {round(yH, 4)}, and yA is {round(yA, 4)}')"
   ]
  },
  {
   "cell_type": "markdown",
   "metadata": {},
   "source": [
    "### Using the args keyword\n",
    "\n",
    "You can also pass them directly to `opt.newton()` using the `args` keyword.  This is a pretty common option for both algebraic and ODE solvers in Python.  It is honestly pretty convenient, so it is worth knowing about."
   ]
  },
  {
   "cell_type": "code",
   "execution_count": 121,
   "metadata": {},
   "outputs": [
    {
     "name": "stdout",
     "output_type": "stream",
     "text": [
      "      converged: True\n",
      "           flag: converged\n",
      " function_calls: 28\n",
      "     iterations: 27\n",
      "           root: 0.5758932567368196\n",
      "         method: secant \n",
      "\n",
      "converged \n",
      "\n",
      "Conversion of N2 is 0.5759, yN is 0.1489, yH is 0.4467, and yA is 0.4044\n"
     ]
    }
   ],
   "source": [
    "##############################################################################################################################################\n",
    "# Solving the equilibrium problem by passing temperature and pressure directly to intermediate function using the args keyword               #\n",
    "##############################################################################################################################################\n",
    "\n",
    "Trxn = 673 #K\n",
    "Prxn = 200 #bar\n",
    "ans, info = opt.newton(tempfun2, 0.98, args = (Trxn, Prxn), full_output = True) #This solves for the equilibrium extent\n",
    "\n",
    "print(info, '\\n') #Let's make sure it converged...\n",
    "print(info.flag, '\\n')\n",
    "\n",
    "#Solve for conversion and mole fractions.\n",
    "NN = NN0 - ans\n",
    "NH = NH0 - 3*ans\n",
    "NA = NA0 + 2*ans\n",
    "NT = NN + NH + NA\n",
    "XN = (NN0 - NN)/NN0\n",
    "yN = NN/NT\n",
    "yH = NH/NT\n",
    "yA = NA/NT\n",
    "\n",
    "print(f'Conversion of N2 is {round(XN,4)}, yN is {round(yN, 4)}, yH is {round(yH, 4)}, and yA is {round(yA, 4)}')"
   ]
  },
  {
   "cell_type": "markdown",
   "metadata": {},
   "source": [
    "### Could we automate this type of calculation with a loop?\n",
    "\n",
    "This is a common situation where we might be interested in understanding the solution to our problem for large sets of Temperatures, Pressures, or (more likely) both.  We will see here that if I've built a general objective function that accepts extra parameters as arguments, this is very easy to do in a programming language.  First, we'll solve the problem for a range of Temperatures at P = 1 bar."
   ]
  },
  {
   "cell_type": "code",
   "execution_count": 124,
   "metadata": {},
   "outputs": [
    {
     "name": "stdout",
     "output_type": "stream",
     "text": [
      "\n",
      " 0.0006270669301861166\n",
      "\n",
      " [9.65840993e-01 9.59006434e-01 9.51131819e-01 9.42112835e-01\n",
      " 9.31842368e-01 9.20211822e-01 9.07112836e-01 8.92439485e-01\n",
      " 8.76091061e-01 8.57975520e-01 8.38013656e-01 8.16144043e-01\n",
      " 7.92328692e-01 7.66559294e-01 7.38863767e-01 7.09312666e-01\n",
      " 6.78024838e-01 6.45171534e-01 6.10978114e-01 5.75722485e-01\n",
      " 5.39729614e-01 5.03361860e-01 4.67005399e-01 4.31053642e-01\n",
      " 3.95889155e-01 3.61865898e-01 3.29293682e-01 2.98426409e-01\n",
      " 2.69455084e-01 2.42505827e-01 2.17642466e-01 1.94872744e-01\n",
      " 1.74156927e-01 1.55417592e-01 1.38549502e-01 1.23428800e-01\n",
      " 1.09920992e-01 9.78875076e-02 8.71907712e-02 7.76979210e-02\n",
      " 6.92833363e-02 6.18301966e-02 5.52312822e-02 4.93892098e-02\n",
      " 4.42162675e-02 3.96339798e-02 3.55725074e-02 3.19699566e-02\n",
      " 2.87716545e-02 2.59294270e-02 2.34009056e-02 2.11488772e-02\n",
      " 1.91406861e-02 1.73476905e-02 1.57447743e-02 1.43099122e-02\n",
      " 1.30237835e-02 1.18694331e-02 1.08319719e-02 9.89831633e-03\n",
      " 9.05695924e-03 8.29777085e-03 7.61182493e-03 6.99124758e-03\n",
      " 6.42908551e-03 5.91919151e-03 5.45612461e-03 5.03506332e-03\n",
      " 4.65172994e-03 4.30232467e-03 3.98346811e-03 3.69215111e-03\n",
      " 3.42569095e-03 3.18169303e-03 2.95801735e-03 2.75274917e-03\n",
      " 2.56417325e-03 2.39075125e-03 2.23110191e-03 2.08398355e-03\n",
      " 1.94827871e-03 1.82298060e-03 1.70718112e-03 1.60006029e-03\n",
      " 1.50087691e-03 1.40896026e-03 1.32370280e-03 1.24455359e-03\n",
      " 1.17101256e-03 1.10262534e-03 1.03897869e-03 9.79696378e-04\n",
      " 9.24435563e-04 8.72883541e-04 8.24754818e-04 7.79788515e-04\n",
      " 7.37746026e-04 6.98408902e-04 6.61577047e-04 6.27066930e-04]\n",
      "\n",
      " [1. 1. 1. 1. 1. 1. 1. 1. 1. 1. 1. 1. 1. 1. 1. 1. 1. 1. 1. 1. 1. 1. 1. 1.\n",
      " 1. 1. 1. 1. 1. 1. 1. 1. 1. 1. 1. 1. 1. 1. 1. 1. 1. 1. 1. 1. 1. 1. 1. 1.\n",
      " 1. 1. 1. 1. 1. 1. 1. 1. 1. 1. 1. 1. 1. 1. 1. 1. 1. 1. 1. 1. 1. 1. 1. 1.\n",
      " 1. 1. 1. 1. 1. 1. 1. 1. 1. 1. 1. 1. 1. 1. 1. 1. 1. 1. 1. 1. 1. 1. 1. 1.\n",
      " 1. 1. 1. 1.]\n"
     ]
    },
    {
     "data": {
      "image/png": "[encoded data removed]",
      "text/plain": [
       "<Figure size 500x500 with 1 Axes>"
      ]
     },
     "metadata": {},
     "output_type": "display_data"
    }
   ],
   "source": [
    "#######################################################################################################\n",
    "# Solving for equilibrium conversion at 1 bar and many temperatures with a single for loop            #\n",
    "#######################################################################################################\n",
    "\n",
    "PRXN = 1   #bar\n",
    "TSET = [298] #K\n",
    "TSET = [298, 323, 573] #K\n",
    "TSET = np.linspace(300, 900, 100) #K\n",
    "\n",
    "# If you know you want to store the result of each pass through the loop, you can pre-allocate storage arrays and then update them on each pass through the loop\n",
    "XOUT = np.zeros(len(TSET))\n",
    "flag = np.zeros(len(TSET))\n",
    "\n",
    "for j in range(0, len(TSET), 1):\n",
    "    # print(j, TSET[j])\n",
    "    objective = lambda ε: tempfun2(ε, TSET[j], PRXN)\n",
    "    ans, info = opt.newton(objective, 0.99, full_output = True)\n",
    "    # print(ans, info.converged, '\\n')\n",
    "    XOUT[j] = ans/NN0\n",
    "    flag[j] = info.converged\n",
    "    if info.converged == False:\n",
    "        print(f'Warning: solver failed to converge at P = {PRXN:5.2f} and T = {TSET[j]:5.2f}')\n",
    "\n",
    "print('\\n', ans)\n",
    "print('\\n', XOUT)\n",
    "print('\\n', flag)\n",
    "\n",
    "plt.figure(figsize = (5,5))\n",
    "plt.plot(TSET, XOUT)\n",
    "plt.yscale('log')\n",
    "plt.ylabel('N2 Conversion', fontsize = 16)\n",
    "plt.ylim(10**-4, 1)\n",
    "plt.xlabel('T (K)', fontsize = 16)\n",
    "plt.xlim(300, 900)\n",
    "plt.xticks(np.arange(300, 901, 100), fontsize = 14)\n",
    "plt.show()"
   ]
  },
  {
   "cell_type": "code",
   "execution_count": 125,
   "metadata": {},
   "outputs": [
    {
     "data": {
      "image/png": "[encoded data removed]",
      "text/plain": [
       "<Figure size 500x500 with 1 Axes>"
      ]
     },
     "metadata": {},
     "output_type": "display_data"
    }
   ],
   "source": [
    "########################################################################################################\n",
    "# Solving for equilibrium conversion at 673K and many pressures with a single for loop                 #\n",
    "########################################################################################################\n",
    "\n",
    "TRXN = 673 #K\n",
    "# PSET = [1]\n",
    "# PSET = [1, 2, 5, 10]   #bar\n",
    "PSET = np.logspace(-2, np.log10(500), 100) #np.logspace(starting power of 10, ending power of 10, number of steps)\n",
    "\n",
    "XOUT = np.zeros(len(PSET))\n",
    "flag = np.zeros(len(PSET))\n",
    "\n",
    "for j in range(0, len(PSET), 1):\n",
    "    # print(j, PSET[j])\n",
    "    objective = lambda ε: tempfun2(ε, TRXN, PSET[j])\n",
    "    # ans, info = opt.newton(objective, 0.99, full_output = True)\n",
    "    ans, info = opt.brentq(objective, 1e-6, 0.99999, xtol = 1e-8, rtol = 1e-8, full_output = True) #Brent's method is better for stability when it is hard to make good initial guesses\n",
    "    # print(ans, info.converged, '\\n')\n",
    "    XOUT[j] = ans/NN0\n",
    "    flag[j] = info.converged\n",
    "    if info.converged == False:\n",
    "        print(f'Warning: solver failed to converge at P = {PSET[j]:5.2f} and T = {TRXN:5.2f}')\n",
    "\n",
    "# print('\\n', ans)\n",
    "# print('\\n', XOUT)\n",
    "# print('\\n', flag)\n",
    "\n",
    "plt.figure(figsize = (5,5))\n",
    "plt.plot(PSET, XOUT)\n",
    "plt.yscale('log')\n",
    "plt.xscale('log')\n",
    "plt.ylabel('N2 Conversion', fontsize = 16)\n",
    "plt.ylim(10**-4, 1)\n",
    "plt.xlabel('P (bar)', fontsize = 16)\n",
    "# plt.xlim(0, 500)\n",
    "plt.show()"
   ]
  },
  {
   "cell_type": "markdown",
   "metadata": {},
   "source": [
    "### Why not do this for an absurd number of T and P values with a loop?\n",
    "\n",
    "Perhaps it would be useful to map the equilibrium conversion in 3D space as a function of reaction temperature and reaction pressure.  We can easily do this!  One option is a for loop that will solve the objective function for a lot of temperatures and pressures.\n",
    "\n",
    "```{note}\n",
    "It may not look like much, but the small block of code below solves the algebraic equation that describes chemical equilibrium for a 50x50 set of temperature and pressure combinations. It is literally solving 10,000 distinct nonlinear algebraic equations -- one on each pass through the loop.\n",
    "```"
   ]
  },
  {
   "cell_type": "code",
   "execution_count": 126,
   "metadata": {},
   "outputs": [
    {
     "data": {
      "image/png": "[encoded data removed]",
      "text/plain": [
       "<Figure size 600x500 with 2 Axes>"
      ]
     },
     "metadata": {},
     "output_type": "display_data"
    }
   ],
   "source": [
    "########################################################################################################\n",
    "# Solving for equilibrium conversion at many temperatures and pressures with two nested for loops      #\n",
    "########################################################################################################\n",
    "\n",
    "TSET = np.linspace(300, 900, 100)\n",
    "PSET = np.logspace(-2, np.log10(200), 100)\n",
    "XOUT = np.zeros((len(TSET), len(PSET)))\n",
    "flag = np.zeros((len(TSET), len(PSET)))\n",
    "# print(XOUT.shape, flag.shape)\n",
    "\n",
    "for i in range(0, len(TSET)):\n",
    "    for j in range(0, len(PSET)):\n",
    "        # print(i, j, TSET[i], PSET[j])\n",
    "        objective = lambda ex: tempfun2(ex, TSET[i], PSET[j])\n",
    "        ans, info = opt.brentq(objective, 1e-6, 0.99999, xtol = 1e-8, rtol = 1e-8, full_output = True)\n",
    "        # XOUT[i,j] = ans/NN0\n",
    "        # flag[i,j] = info.converged\n",
    "        if info.converged == True:\n",
    "            XOUT[i,j] = ans/NN0\n",
    "        if info.converged == False:\n",
    "            print(f'Warning: solver failed to converge at P = {PSET[j]:5.2f} and T = {TSET[i]:5.2f}')\n",
    "# print(XOUT)\n",
    "# print(flag)\n",
    "\n",
    "plt.figure(figsize = (6,5))\n",
    "# plt.contour(PSET, TSET, XOUT)\n",
    "# plt.contourf(PSET, TSET, XOUT)\n",
    "# plt.contourf(PSET, TSET, XOUT, levels = np.linspace(0, 1.0, 201))\n",
    "plt.contourf(PSET, TSET, XOUT, levels = np.linspace(0, 1.0, 201), cmap = 'jet')\n",
    "plt.xlim(PSET[0], PSET[-1])\n",
    "plt.xlabel('Pressure (bar)', fontsize = 14)\n",
    "plt.ylim(TSET[0], TSET[-1])\n",
    "plt.ylabel('Temperature (K)', fontsize = 14)\n",
    "plt.colorbar(ticks = np.arange(0, 1.1, 0.2))\n",
    "plt.show()"
   ]
  }
 ],
 "metadata": {
  "kernelspec": {
   "display_name": "base",
   "language": "python",
   "name": "python3"
  },
  "language_info": {
   "codemirror_mode": {
    "name": "ipython",
    "version": 3
   },
   "file_extension": ".py",
   "mimetype": "text/x-python",
   "name": "python",
   "nbconvert_exporter": "python",
   "pygments_lexer": "ipython3",
   "version": "3.13.5"
  }
 },
 "nbformat": 4,
 "nbformat_minor": 4
}
