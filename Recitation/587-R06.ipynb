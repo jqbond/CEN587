{
 "cells": [
  {
   "cell_type": "markdown",
   "metadata": {},
   "source": [
    "# CSTRs\n",
    "\n",
    "These exercises cover numerical solution of steady state and transient CSTR problems"
   ]
  },
  {
   "cell_type": "code",
   "execution_count": 1,
   "metadata": {},
   "outputs": [],
   "source": [
    "import numpy as np\n",
    "import matplotlib.pyplot as plt\n",
    "import scipy.optimize as opt\n",
    "from scipy.integrate import solve_ivp"
   ]
  },
  {
   "cell_type": "markdown",
   "metadata": {},
   "source": [
    "## Example Problem 01\n",
    "\n",
    "**Note: Compare to Example Problem 03 from Lecture 14, which solves the identical problem in a PFR at steady state.**\n",
    "\n",
    "Consider the following liquid-phase, irreversible, homogeneous reaction that is occuring in a perfectly-mixed CSTR\n",
    "\n",
    "$$\\textrm{A + B} \\longrightarrow \\textrm{C}$$\n",
    "\n",
    "This reaction is first order in A and first order in B. You may assume that the liquid phase has a constant density. Additional data are given below:\n",
    "\n",
    "$$k = 25.3 \\frac{L}{mol \\cdot h}$$\n",
    "$$Q_f = 10 \\frac{L}{h}$$\n",
    "$$F_{Af} = 10 \\frac{mol}{h}$$\n",
    "$$F_{Bf} = 10 \\frac{mol}{h}$$\n",
    "\n",
    "What fractional conversion of species A is achieved in 1.24 L CSTR?"
   ]
  },
  {
   "cell_type": "markdown",
   "metadata": {},
   "source": [
    "### Analytical Solution to Example Problem 01\n",
    "\n",
    "We write a balance on A:\n",
    "\n",
    "$$0 = F_{A,f} - F_A + R_AV$$\n",
    "\n",
    "We see an intensive production rate, $R_A$, which we define as usual:\n",
    "\n",
    "$$R_A = \\sum_{i = 1}^{N_R} \\nu_{i,A} \\, r_i$$\n",
    "\n",
    "And for this single reaction:\n",
    "\n",
    "$$R_A = -r$$\n",
    "\n",
    "We know the rate expression:\n",
    "\n",
    "$$r = kC_AC_B$$\n",
    "\n",
    "So this gives\n",
    "\n",
    "$$R_A = -kC_AC_B$$\n",
    "\n",
    "Which we can substitute into the material balance:\n",
    "\n",
    "$$0 = F_{A,f} - F_A - kC_AC_BV$$\n",
    "\n",
    "We have 3 unknowns in that equation: $F_A$, $C_A$, $C_B$. We are given Volume in the problem statement (1.24L).  If we want to solve this by hand, we'll need to express $F_A$, $C_A$, $C_B$ in terms of a single unknown.  I'll choose to work with fractional conversion of A here.  Completing a mole table, we find:\n",
    "\n",
    "\\begin{align}\n",
    "    F_A &= F_{A,f}(1 - X_A) \\\\\n",
    "    F_B &= F_{B,f} - F_{A,f}X_A \\\\\n",
    "\\end{align}\n",
    "\n",
    "But:  we see in the problem statement, that for this problem, $F_{A,f} = F_{B,F}$.  So, in this special case:\n",
    "\n",
    "\\begin{align}\n",
    "    F_A &= F_{A,f}(1 - X_A) \\\\\n",
    "    F_B &= F_{A,f}(1 - X_A) \\\\\n",
    "\\end{align}\n",
    "\n",
    "Then we define concentrations as usual; for a constant density flow reactor, $Q = Q_f$:\n",
    "\n",
    "\\begin{align}\n",
    "    C_A &= F_A/Q_f \\\\\n",
    "    C_B &= F_A/Q_f \\\\\n",
    "\\end{align}\n",
    "\n",
    "Substituting everything into the material balance, we get:\n",
    "\n",
    "$$0 = F_{A,f} - F_{A,f}(1 - X_A) - kF_{A,f}^2(1-X_A)^2\\frac{V}{Q_f^2}$$\n",
    "\n",
    "I solved this by simplifying, doing some FOIL magic, and using the quadratic formula.  Essentially, I get:\n",
    "\n",
    "$$0 = X_A^2 + (\\alpha - 2)X_A + 1$$\n",
    "\n",
    "Where $\\alpha = -Q_f^2/k/F_{A,f}/V$\n",
    "\n",
    "If you solve that with the quadratic formula, you'll find two roots at:\n",
    "\n",
    "$$X_A = 0.573$$\n",
    "\n",
    "and at\n",
    "\n",
    "$$X_A = 1.746$$\n",
    "\n",
    "Mathematically, they are both fine, but physically, we can't have a conversion of more than 100% since it would mean we consume more reactant than we put into the reactor.  So we reject the upper root and conclude that our solution is:\n",
    "\n",
    "$$X_A = 0.573$$"
   ]
  },
  {
   "cell_type": "markdown",
   "metadata": {},
   "source": [
    "### Numerical Solution of Example Problem 01\n",
    "\n",
    "This is a steady state CSTR, so it involves solution of algebric equations. This means that we need to use an algebraic equation solver like `opt.newton()` or `opt.root()` to solve the problem numerically.\n",
    "\n",
    "Below, we'll create a univariate objective function by expressing all molar flowrates as functions of the fractional conversion of species A, $X_A$."
   ]
  },
  {
   "cell_type": "code",
   "execution_count": 28,
   "metadata": {},
   "outputs": [],
   "source": [
    "def P01(XA):\n",
    "    FAf = 10 #mol/h\n",
    "    FBf = 10 #mol/h\n",
    "    Qf  = 10 #L/h\n",
    "    k   = 25.3 #L/mol/h\n",
    "    V   = 1.24 #L\n",
    "    \n",
    "    FA  = FAf*(1-XA)\n",
    "    FB  = FBf - FAf*XA\n",
    "    \n",
    "    Q   = Qf\n",
    "    CA  = FA/Q\n",
    "    CB  = FB/Q\n",
    "    \n",
    "    r   = k*CA*CB\n",
    "    \n",
    "    RA  = -r\n",
    "    \n",
    "    LHS = FAf - FA + RA*V\n",
    "    return LHS"
   ]
  },
  {
   "cell_type": "code",
   "execution_count": 29,
   "metadata": {},
   "outputs": [
    {
     "name": "stdout",
     "output_type": "stream",
     "text": [
      "      converged: True\n",
      "           flag: 'converged'\n",
      " function_calls: 6\n",
      "     iterations: 5\n",
      "           root: 0.5727289521699684 \n",
      "\n",
      "At steady state, this 1.24L CSTR achieves a conversion of A of 0.573.\n"
     ]
    }
   ],
   "source": [
    "XA0 = 0.5\n",
    "sol, info = opt.newton(P01, XA0, full_output = True)\n",
    "print(info, '\\n')\n",
    "print(f\"At steady state, this 1.24L CSTR achieves a conversion of A of {sol:0.3f}.\")"
   ]
  },
  {
   "cell_type": "markdown",
   "metadata": {},
   "source": [
    "## Example Problem 02: What if the CSTR is not at steady state?\n",
    "\n",
    "Assume a CSTR initially contains a solvent that is equal in density to the typical reactor contents (it just has no reactants or products in it). The feed stream contains species A and B in a concentration of 1.00 $\\text{mol/L}$. <ins>Approximately how long will it take to reach steady state?</ins> The volume of this reactor is 1.24 $L$. Additional details are below:\n",
    "\n",
    "The raction being carried out is:\n",
    "\n",
    "$$\\textrm{A + B} \\longrightarrow \\textrm{P}$$\n",
    "\n",
    "This reaction is first order in A and first order in B. You may assume that the liquid phase always has constant density that is exactly the same as the solvent initially inside of the reactor. You may additionally assume that, because of this, the volumetric flowrate into and out of the reactor are always equal.\n",
    "\n",
    "$$k = 25.3 \\ h^{-1}$$\n",
    "\n",
    "$$Q_f = 10 \\ L h^{-1}$$\n"
   ]
  },
  {
   "cell_type": "markdown",
   "metadata": {},
   "source": [
    "### Solution to Example Problem 02\n",
    "\n",
    "In this case, the left hand side of the material balance, $\\frac{dN_j}{dt}$, no longer equal to zero. The transient CSTR becomes an ODE (initial value problem)."
   ]
  },
  {
   "cell_type": "code",
   "execution_count": 30,
   "metadata": {},
   "outputs": [],
   "source": [
    "def P02(t,var): \n",
    "    NA  = var[0]\n",
    "    NB  = var[1]\n",
    "    k   = 25.3 #1/h\n",
    "    V   = 1.24 #L\n",
    "    CAf = 1.0 #mol/L\n",
    "    CBf = 1.0 #mol/L\n",
    "    Qf  = 10 #L/h  \n",
    "    FAf = CAf * Qf\n",
    "    FBf = CBf * Qf\n",
    "\n",
    "    CA  = NA/V\n",
    "    CB  = NB/V\n",
    "    FA  = CA*Qf\n",
    "    FB  = CB*Qf\n",
    "    r   = k*CA*CB\n",
    "    RA  = - r\n",
    "    RB  = - r\n",
    "    \n",
    "    dNAdt = FAf - FA + RA*V\n",
    "    dNBdt = FBf - FB + RB*V\n",
    "    return [dNAdt, dNBdt]"
   ]
  },
  {
   "cell_type": "code",
   "execution_count": 31,
   "metadata": {},
   "outputs": [
    {
     "data": {
      "image/png": "[encoded data removed]",
      "text/plain": [
       "<Figure size 360x360 with 1 Axes>"
      ]
     },
     "metadata": {
      "needs_background": "light"
     },
     "output_type": "display_data"
    },
    {
     "data": {
      "image/png": "[encoded data removed]",
      "text/plain": [
       "<Figure size 360x360 with 1 Axes>"
      ]
     },
     "metadata": {
      "needs_background": "light"
     },
     "output_type": "display_data"
    },
    {
     "name": "stdout",
     "output_type": "stream",
     "text": [
      "The steady state conversion in this reactor is XA = 0.573\n"
     ]
    }
   ],
   "source": [
    "k   = 25.3 #1/h\n",
    "V   = 1.24 #L\n",
    "CAf = 1.0 #mol/L\n",
    "CBf = 1.0 #mol/L\n",
    "Qf  = 10 #L/h  \n",
    "FAf = CAf*Qf\n",
    "FBf = CBf*Qf\n",
    "N0 = [0.0, 0.0]\n",
    "tspan = [0, 1]\n",
    "sol_tCSTR = solve_ivp(P02,tspan, N0, atol = 1e-6, rtol = 1e-6)\n",
    "tset = sol_tCSTR.t\n",
    "NA   = sol_tCSTR.y[0,:]\n",
    "FA   = NA/V*Qf\n",
    "XA   = (FAf - FA)/FAf\n",
    "\n",
    "plt.figure(1, figsize = (5, 5))\n",
    "plt.scatter(tset, NA, color = 'none', edgecolors = 'blue')\n",
    "plt.xlim(0, tspan[-1])\n",
    "plt.xlabel('time (h)', fontsize = 14)\n",
    "plt.ylim(0, 1)\n",
    "plt.ylabel('NA (moles)', fontsize = 14)\n",
    "plt.show(1)\n",
    "\n",
    "plt.figure(2, figsize = (5, 5))\n",
    "plt.scatter(tset, XA, color = 'none', edgecolors = 'blue')\n",
    "plt.xlim(0, tspan[-1])\n",
    "plt.xlabel('time (h)', fontsize = 14)\n",
    "plt.ylim(0, 1)\n",
    "plt.ylabel('NA (moles)', fontsize = 14)\n",
    "plt.show(2)\n",
    "\n",
    "print(f'The steady state conversion in this reactor is XA = {XA[-1]:0.3f}')"
   ]
  },
  {
   "cell_type": "code",
   "execution_count": 32,
   "metadata": {},
   "outputs": [],
   "source": [
    "def P03(t, N, p): \n",
    "    NA, NB = N\n",
    "    k, V, CAf, CBf, FAf, FBf, Qf = p\n",
    "    Q = Qf\n",
    "    \n",
    "    CA, CB = N/V\n",
    "    \n",
    "    FA  = CA*Q\n",
    "    FB  = CB*Q\n",
    "    r   = k*CA*CB\n",
    "    RA  = -r\n",
    "    RB  = -r\n",
    "    dNAdt   = FAf - FA + RA*V\n",
    "    dNBdt   = FBf - FB + RB*V\n",
    "    return [dNAdt, dNBdt]"
   ]
  },
  {
   "cell_type": "code",
   "execution_count": 33,
   "metadata": {},
   "outputs": [
    {
     "data": {
      "image/png": "[encoded data removed]",
      "text/plain": [
       "<Figure size 360x360 with 1 Axes>"
      ]
     },
     "metadata": {
      "needs_background": "light"
     },
     "output_type": "display_data"
    },
    {
     "data": {
      "image/png": "[encoded data removed]",
      "text/plain": [
       "<Figure size 360x360 with 1 Axes>"
      ]
     },
     "metadata": {
      "needs_background": "light"
     },
     "output_type": "display_data"
    },
    {
     "name": "stdout",
     "output_type": "stream",
     "text": [
      "The steady state conversion in this reactor is XA = 0.573\n"
     ]
    }
   ],
   "source": [
    "k   = 25.3 #1/h\n",
    "V   = 1.24 #L\n",
    "CAf = 1.0 #mol/L\n",
    "CBf = 1.0 #mol/L\n",
    "Qf  = 10 #L/h  \n",
    "FAf = CAf*Qf\n",
    "FBf = CBf*Qf\n",
    "parameters = [k, V, CAf, CBf, Qf, FAf, FBf]\n",
    "\n",
    "N0 = np.array([0.0, 0.0])\n",
    "\n",
    "#Pass parameters with a lambda function\n",
    "#odeproblem = lambda t, NA: P03(t, NA, parameters)\n",
    "#sol_tCSTR = solve_ivp(odeproblem,tspan, NA0, atol = 1e-6, rtol = 1e-6)\n",
    "#Pass parameters with args keyword\n",
    "sol_tCSTR = solve_ivp(P03,tspan, N0, args = (parameters, ), atol = 1e-6, rtol = 1e-6)\n",
    "\n",
    "tset = sol_tCSTR.t\n",
    "NA   = sol_tCSTR.y[0,:]\n",
    "CA   = NA/V\n",
    "FA   = CA*Qf\n",
    "XA   = (FAf - FA)/FAf\n",
    "\n",
    "plt.figure(1, figsize = (5, 5))\n",
    "plt.scatter(tset, NA, color = 'none', edgecolors = 'blue')\n",
    "plt.xlim(0, tspan[-1])\n",
    "plt.xlabel('time (h)', fontsize = 14)\n",
    "plt.ylim(0, 1)\n",
    "plt.ylabel('NA (moles)', fontsize = 14)\n",
    "plt.show(1)\n",
    "\n",
    "plt.figure(2, figsize = (5, 5))\n",
    "plt.scatter(tset, XA, color = 'none', edgecolors = 'blue')\n",
    "plt.xlim(0, tspan[-1])\n",
    "plt.xlabel('time (h)', fontsize = 14)\n",
    "plt.ylim(0, 1)\n",
    "plt.ylabel('NA (moles)', fontsize = 14)\n",
    "plt.show(2)\n",
    "\n",
    "print(f'The steady state conversion in this reactor is XA = {XA[-1]:0.3f}')"
   ]
  }
 ],
 "metadata": {
  "interpreter": {
   "hash": "a308584bb1964659e0457e732845415a6527e95c20c1f7cfa1fda08f4e3f7ff2"
  },
  "kernelspec": {
   "display_name": "Python 3 (ipykernel)",
   "language": "python",
   "name": "python3"
  },
  "language_info": {
   "codemirror_mode": {
    "name": "ipython",
    "version": 3
   },
   "file_extension": ".py",
   "mimetype": "text/x-python",
   "name": "python",
   "nbconvert_exporter": "python",
   "pygments_lexer": "ipython3",
   "version": "3.10.9"
  }
 },
 "nbformat": 4,
 "nbformat_minor": 4
}
