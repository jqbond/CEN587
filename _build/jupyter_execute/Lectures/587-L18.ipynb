{
 "cells": [
  {
   "cell_type": "markdown",
   "metadata": {},
   "source": [
    "# Material Balances IX\n",
    "\n",
    "This lecture solves more Material Balance Example Problems"
   ]
  },
  {
   "cell_type": "code",
   "execution_count": 1,
   "metadata": {
    "executionInfo": {
     "elapsed": 126,
     "status": "ok",
     "timestamp": 1633700692097,
     "user": {
      "displayName": "Bowei Liu",
      "photoUrl": "https://lh3.googleusercontent.com/a/default-user=s64",
      "userId": "09481582047933696573"
     },
     "user_tz": 240
    },
    "id": "h9UTaC1vBEif"
   },
   "outputs": [],
   "source": [
    "import numpy as np\n",
    "from scipy.integrate import solve_ivp\n",
    "import matplotlib.pyplot as plt\n",
    "from scipy.interpolate import interp1d"
   ]
  },
  {
   "cell_type": "markdown",
   "metadata": {},
   "source": [
    "## Example Problem 01\n",
    "\n",
    "The reversible, gas-phase, homogeneous reaction shown below is carried out in a well-mixed batch reactor operating at a constant temperature ($T = 298$K) and a constant pressure ($P = 1.0$ atm). \n",
    "\n",
    "$$A \\rightleftharpoons 4B$$\n",
    "\n",
    "The reaction is first order in A and fourth order in B; additional data are given below: \n",
    "\n",
    "\\begin{align}\n",
    "    k_f &= 0.5 \\ \\textrm{min}^{-1}\\\\\n",
    "    k_r &= 20 \\ \\textrm{L}^{3} \\ \\textrm{mol}^{-3} \\textrm{min}^{-1}\\\\\n",
    "    T   &= 298 \\ \\textrm{K}\\\\\n",
    "    P   &= 1.0 \\ \\textrm{atm}\\\\\n",
    "    V_0 &= 1.0 \\ \\textrm{L}\\\\\n",
    "    K_C &= 0.025 \\ \\textrm{mol}^3 \\ \\textrm{L}^{-3}\n",
    "\\end{align}\n",
    "\n",
    "The reactor is initially charged with pure compound A.  How long will it take to achieve 80\\% conversion of species A?\n",
    "\n",
    "**Answer**: t = 3.26 min"
   ]
  },
  {
   "cell_type": "markdown",
   "metadata": {},
   "source": [
    "### Solution to Example Problem 01\n",
    "\n",
    "Since this problem asks how long it will take to achieve a specific fractional conversion of A, my instinct is to write a material balance on A for this well-mixed batch reactor:\n",
    "\n",
    "$$\\frac{dN_A}{dt} = R_AV$$\n",
    "\n",
    "We define $R_A$ as usual to find:\n",
    "\n",
    "$$R_A = -r$$\n",
    "\n",
    "And then we are given reaction orders, so we can write a rate expression.\n",
    "\n",
    "$$r = k_fC_A - k_rC_B^4$$\n",
    "\n",
    "Here we see our first complication: the rate of reaction depends on the concentration of species B.  Our next complication arises when we define concentration.  Since we are in a batch reactor and working with $N_A$ and $N_B$ as state dependent variables, we define concentrations for A and B as:\n",
    "\n",
    "\\begin{align}\n",
    "    C_A &= N_A/V \\\\\n",
    "    C_B &= N_B/V\n",
    "\\end{align}\n",
    "\n",
    "We see that the volume appears here. These concentrations represent the concentration in the reactor at any point in time, t.  So, relative to the starting point, $N_A$ and $N_B$ are both changing.  The less obvious thing is that the volume of the reactor is also changing.  Here's why:\n",
    "\n",
    "The reactor temperature and pressure are fixed at 298K and 1 atm, respectively.  Because the pressure is low, we can use the ideal gas law to define the volume of the system:\n",
    "\n",
    "$$V = \\frac{N_TRT}{P}$$\n",
    "\n",
    "In other words, for a fixed temperature and pressure, the volume of the reactor scales directly with the total number of moles in the reactor. For this reaction, we can see clearly that every time the reaction occurs, it consumes 1 mole of A and produces 4 moles of B.  This means the reaction causes an increase in the number of moles in the system, so as it progresses, the volume of the reactor must increase to maintain a constant temperature and pressure.\n",
    "\n",
    "This means that we also have to keep track of the total number of moles in our system:\n",
    "\n",
    "$$N_T = N_A + N_B$$\n",
    "\n",
    "For me, the easiest way to handle this is to just write a balance on each species and solve the set of coupled differential equations numerically:\n",
    "\n",
    "\\begin{align}\n",
    "    \\frac{dN_A}{dt} = R_AV \\\\\n",
    "    \\frac{dN_B}{dt} = R_BV\n",
    "\\end{align}\n",
    "\n",
    "Now we just make sure that everything on the right hand side of those two balances is defined in terms of contants or the three variables tracked by our ODE solver (t, NA, NB).\n",
    "\n",
    "\\begin{align}\n",
    "    R_A = -r \\\\\n",
    "    R_B = 4r\n",
    "\\end{align}\n",
    "\n",
    "Where rate is given as:\n",
    "\n",
    "$$r = k_fC_A - k_rC_B^4$$\n",
    "\n",
    "This means we need to define concentrations in terms of NA and NB:\n",
    "\n",
    "\\begin{align}\n",
    "    C_A = N_A/V \\\\\n",
    "    C_B = N_B/V\n",
    "\\end{align}\n",
    "\n",
    "And we know that Volume can be defined in terms of the total moles in the system; hence we define:\n",
    "\n",
    "$$N_T = N_A + N_B$$\n",
    "\n",
    "And use this result with the ideal gas law to calculate system volume.\n",
    "\n",
    "$$V = \\frac{N_TRT}{P}$$\n",
    "\n",
    "Now $R_AV$ and $R_BV$ are fully defined in terms of t, NA, and NB, and we can solve this with `solve_ivp`.\n",
    "\n",
    "First, we create the function that specifies the ODE system."
   ]
  },
  {
   "cell_type": "code",
   "execution_count": 2,
   "metadata": {
    "executionInfo": {
     "elapsed": 112,
     "status": "ok",
     "timestamp": 1633700963682,
     "user": {
      "displayName": "Bowei Liu",
      "photoUrl": "https://lh3.googleusercontent.com/a/default-user=s64",
      "userId": "09481582047933696573"
     },
     "user_tz": 240
    },
    "id": "jPYgzx4lJke5"
   },
   "outputs": [],
   "source": [
    "def P01(t, var):\n",
    "    NA = var[0]\n",
    "    NB = var[1]\n",
    "\n",
    "    T = 298   #K\n",
    "    P = 1.0   #atm\n",
    "    R = 0.0821  #mol/L/K/atm\n",
    "    kf = 0.5 #1/min\n",
    "    kr = 20   #L^3/mol^3/min\n",
    "\n",
    "    NT = NA + NB\n",
    "\n",
    "    V  = NT*R*T/P\n",
    "\n",
    "    CA = NA/V\n",
    "    CB = NB/V\n",
    "\n",
    "    r  = kf*CA - kr*CB**4\n",
    "    RA = -r\n",
    "    RB = 4*r\n",
    "    D1 = RA*V\n",
    "    D2 = RB*V\n",
    "    return [D1, D2]"
   ]
  },
  {
   "cell_type": "markdown",
   "metadata": {},
   "source": [
    "Next, we set up the initial value problem solver.  We're working with $N_A$ and $N_B$ as our dependent variables, so we need their initial values.  These are easy to calculate using the ideal gas law with the initial T, P, V and composition of the system, all of which are given in the problem statement.  Once that is done, we use `solve_ivp` as ususal and then interpolate to find the time where $X_A = 0.8$.\n",
    "\n",
    "Doing so, we find $t = 3.26$ min."
   ]
  },
  {
   "cell_type": "code",
   "execution_count": 3,
   "metadata": {
    "colab": {
     "base_uri": "https://localhost:8080/",
     "height": 283
    },
    "executionInfo": {
     "elapsed": 296,
     "status": "ok",
     "timestamp": 1633701454232,
     "user": {
      "displayName": "Bowei Liu",
      "photoUrl": "https://lh3.googleusercontent.com/a/default-user=s64",
      "userId": "09481582047933696573"
     },
     "user_tz": 240
    },
    "id": "bOA9MT5IKnhr",
    "outputId": "c2a2b8bd-b70c-4b3e-ae80-9d5d11388e27"
   },
   "outputs": [
    {
     "name": "stdout",
     "output_type": "stream",
     "text": [
      "The time required to achieve 80% conversion is 3.26 minutes\n"
     ]
    },
    {
     "data": {
      "image/png": "[encoded data removed]",
      "text/plain": [
       "<Figure size 500x500 with 1 Axes>"
      ]
     },
     "metadata": {},
     "output_type": "display_data"
    },
    {
     "data": {
      "image/png": "[encoded data removed]",
      "text/plain": [
       "<Figure size 500x500 with 1 Axes>"
      ]
     },
     "metadata": {},
     "output_type": "display_data"
    }
   ],
   "source": [
    "T     = 298   #K\n",
    "P     = 1.0   #atm\n",
    "R     = 0.0821  #mol/L/K/atm\n",
    "V0    = 1.0   #L\n",
    "NA0   = P*V0/R/T\n",
    "NB0   = 0\n",
    "var0  = [NA0, NB0]\n",
    "tspan = (0, 20)\n",
    "ans   = solve_ivp(P01, tspan, var0, atol = 1e-10, rtol = 1e-10)\n",
    "t     = ans.t\n",
    "NA    = ans.y[0,:]\n",
    "NB    = ans.y[1,:]\n",
    "XA    = (NA0 - NA)/NA0\n",
    "NT    = NA + NB\n",
    "V     = NT*R*T/P\n",
    "\n",
    "itp1 = interp1d(XA, t)\n",
    "print(f'The time required to achieve 80% conversion is {itp1(0.8):0.2f} minutes')\n",
    "\n",
    "plt.figure(1, figsize = (5, 5))\n",
    "plt.plot(t, XA)\n",
    "plt.xlim(0, 20)\n",
    "plt.xlabel('t (min)', fontsize = 14)\n",
    "plt.ylim(0, 1)\n",
    "plt.ylabel('XA', fontsize = 14)\n",
    "plt.show(1)\n",
    "\n",
    "plt.figure(2, figsize = (5,5))\n",
    "plt.plot(t, V, color = 'red')\n",
    "plt.xlim(0, 20)\n",
    "plt.xlabel('t (min)', fontsize = 14)\n",
    "plt.ylim(0, 5)\n",
    "plt.ylabel('V (L)', fontsize = 14)\n",
    "plt.show(2)"
   ]
  },
  {
   "cell_type": "markdown",
   "metadata": {},
   "source": [
    "## Example Problem 02\n",
    "\n",
    "The reversible, gas-phase, homogeneous reaction shown below is carried out in a well-mixed batch reactor operating at a constant temperature ($T = 298$K) and a constant Volume ($V = 1.0$ L). \n",
    "\n",
    "$$A \\rightleftharpoons 4B$$\n",
    "\n",
    "The reaction is first order in A and fourth order in B; additional data are given below: \n",
    "\n",
    "\\begin{align}\n",
    "    k_f &= 0.5 \\ \\textrm{min}^{-1}\\\\\n",
    "    k_r &= 20 \\ \\textrm{L}^{3} \\ \\textrm{mol}^{-3} \\textrm{min}^{-1}\\\\\n",
    "    T   &= 298 \\ \\textrm{K}\\\\\n",
    "    P_0 &= 1.0 \\ \\textrm{atm}\\\\\n",
    "    V   &= 1.0 \\ \\textrm{L}\\\\\n",
    "    K_C &= 0.025 \\ \\textrm{mol}^3 \\ \\textrm{L}^{-3}\n",
    "\\end{align}\n",
    "\n",
    "The reactor is initially charged with pure compound A.  How long will it take to achieve 80\\% conversion of species A? "
   ]
  },
  {
   "cell_type": "markdown",
   "metadata": {},
   "source": [
    "### Solution to Example Problem 02\n",
    "\n",
    "This problem is almost identical to the one above except for the fact that we fix the volume constant and no longer have to solve for it with the ideal gas law.  Otherwise, we approach it pretty much the same way.  Since my rate law depends on both $C_A$ and $C_B$, I'll write a balance on both species.\n",
    "\n",
    "\\begin{align}\n",
    "    \\frac{dN_A}{dt} = R_AV \\\\\n",
    "    \\frac{dN_B}{dt} = R_BV\n",
    "\\end{align}\n",
    "\n",
    "Now we just make sure that everything on the right hand side of those two balances is defined in terms of contants or the three variables tracked by our ODE solver (t, NA, NB).\n",
    "\n",
    "\\begin{align}\n",
    "    R_A = -r \\\\\n",
    "    R_B = 4r\n",
    "\\end{align}\n",
    "\n",
    "Where rate is given as:\n",
    "\n",
    "$$r = k_fC_A - k_rC_B^4$$\n",
    "\n",
    "This means we need to define concentrations in terms of NA and NB:\n",
    "\n",
    "\\begin{align}\n",
    "    C_A = N_A/V \\\\\n",
    "    C_B = N_B/V\n",
    "\\end{align}\n",
    "\n",
    "And in this case, the volume is fixed at 1.0L.  At this point, we have written all the equations that we need, and we can solve this with an ODE solver just as we did above.\n",
    "\n",
    "We find that this reversible reaction reaches chemical equilibrium at about 76% conversion.  This is the maximum conversion that can be attained if we fix the reactor volume.  The reason for this is actually that, by fixing the volume, we are forcing the pressure in the reactor to increase.  As you can see in the stoichiometry for this reaction, there are more moles on the right hand side than the left hand side, so increasing pressure favors the left hand side and will decrease the equilibrium conversion we can attain."
   ]
  },
  {
   "cell_type": "code",
   "execution_count": 4,
   "metadata": {
    "executionInfo": {
     "elapsed": 121,
     "status": "ok",
     "timestamp": 1633701689739,
     "user": {
      "displayName": "Bowei Liu",
      "photoUrl": "https://lh3.googleusercontent.com/a/default-user=s64",
      "userId": "09481582047933696573"
     },
     "user_tz": 240
    },
    "id": "jPYgzx4lJke5"
   },
   "outputs": [],
   "source": [
    "def P02(t,var):\n",
    "    NA = var[0]\n",
    "    NB = var[1]\n",
    "\n",
    "    kf = 0.5 #1/min\n",
    "    kr = 20   #L^3/mol^3/min\n",
    "\n",
    "    V = 1.0   #L\n",
    "\n",
    "    CA = NA/V\n",
    "    CB = NB/V\n",
    "\n",
    "    r = kf*CA - kr*CB**4\n",
    "    RA = -r\n",
    "    RB = 4*r\n",
    "    D1 = RA*V\n",
    "    D2 = RB*V\n",
    "    return [D1, D2]"
   ]
  },
  {
   "cell_type": "code",
   "execution_count": 5,
   "metadata": {
    "colab": {
     "base_uri": "https://localhost:8080/",
     "height": 287
    },
    "executionInfo": {
     "elapsed": 321,
     "status": "ok",
     "timestamp": 1633701742446,
     "user": {
      "displayName": "Bowei Liu",
      "photoUrl": "https://lh3.googleusercontent.com/a/default-user=s64",
      "userId": "09481582047933696573"
     },
     "user_tz": 240
    },
    "id": "bOA9MT5IKnhr",
    "outputId": "efca2450-20bc-4ab9-d0a7-a5f2d4e5a0af"
   },
   "outputs": [
    {
     "data": {
      "image/png": "[encoded data removed]",
      "text/plain": [
       "<Figure size 500x500 with 1 Axes>"
      ]
     },
     "metadata": {},
     "output_type": "display_data"
    },
    {
     "data": {
      "image/png": "[encoded data removed]",
      "text/plain": [
       "<Figure size 500x500 with 1 Axes>"
      ]
     },
     "metadata": {},
     "output_type": "display_data"
    },
    {
     "data": {
      "text/plain": [
       "0.7630069354428065"
      ]
     },
     "execution_count": 5,
     "metadata": {},
     "output_type": "execute_result"
    }
   ],
   "source": [
    "T     = 298   #K\n",
    "P0    = 1.0   #atm\n",
    "R     = 0.0821  #mol/L/K/atm\n",
    "V     = 1.0   #L\n",
    "KC    = 0.025\n",
    "NA0   = P0*V/R/T\n",
    "NB0   = 0\n",
    "var0  = [NA0, NB0]\n",
    "tspan = (0, 20)\n",
    "sol   = solve_ivp(P02, tspan, var0, atol = 1e-10, rtol = 1e-10)\n",
    "NA    = sol.y[0,:]\n",
    "NB    = sol.y[1,:]\n",
    "CA    = NA/V\n",
    "CB    = NB/V\n",
    "XA    = (NA0 - NA)/NA0\n",
    "\n",
    "plt.figure(1, figsize = (5, 5))\n",
    "plt.plot(sol.t, XA)\n",
    "plt.xlim(0, 20)\n",
    "plt.xlabel('t (min)', fontsize = 14)\n",
    "plt.ylim(0, 1)\n",
    "plt.ylabel('XA', fontsize = 14)\n",
    "plt.show(1)\n",
    "\n",
    "plt.figure(2, figsize = (5, 5))\n",
    "plt.plot(sol.t, CB**4/CA, color = 'black', label = 'CB^4/CA')\n",
    "plt.hlines(KC, 0, 20, color = 'red', linestyle = 'dashed', linewidth = 0.75, label = 'KC')\n",
    "plt.xlim(0, 20)\n",
    "plt.xlabel('t (min)', fontsize = 14)\n",
    "plt.ylim(0, 0.05)\n",
    "plt.ylabel('Equilibrium Ratio', fontsize = 14)\n",
    "plt.legend()\n",
    "plt.show(1)\n",
    "\n",
    "\n",
    "XA[-1]\n",
    "#interp = interp1d(XA,sol.t)\n",
    "#interp(0.8)"
   ]
  },
  {
   "cell_type": "markdown",
   "metadata": {},
   "source": [
    "## Example Problem 03\n",
    "\n",
    "The reaction below is carried out in the liquid phase in a well-mixed batch reactor. \n",
    "\n",
    "$$A \\rightarrow B$$\n",
    "\n",
    "The reaction is second order in A.  Additional data are given below. \n",
    "\n",
    "\\begin{align}\n",
    "    k &= 3.5 \\times 10^{-3} \\ \\textrm{L} \\ \\textrm{mol}^{-1} \\ \\textrm{min}^{-1}\\\\\n",
    "    {V_A}^\\circ &= 50 \\ \\textrm{mL} \\ \\textrm{mol}^{-1}\\\\\n",
    "    {V_B}^\\circ &= 38.46 \\ \\textrm{mL} \\ \\textrm{mol}^{-1}\\\\\n",
    "\\end{align}\n",
    "\n",
    "The reactor is initially charged with 10 moles of species A. How long will it take to achieve 75\\% conversion of species A? \n",
    "\n",
    "**Answer**: 37.5 minutes."
   ]
  },
  {
   "cell_type": "markdown",
   "metadata": {},
   "source": [
    "### Solution to Example Problem 03\n",
    "\n",
    "The problem asks about fractional conversion of A, so I start by writing a balance on A:\n",
    "\n",
    "$$\\frac{dN_A}{dt} = R_AV$$\n",
    "\n",
    "I'd like to write everything on the right hand side in terms of $N_A$ and t.  We can expand the production rate:\n",
    "\n",
    "$$R_A = -r$$\n",
    "\n",
    "And the reaction rate\n",
    "\n",
    "$$r = kC_A^2$$\n",
    "\n",
    "So far so good, the reaction rate only depends on the concentration of A.  Now we define this in terms of molar quantities of A and Volume:\n",
    "\n",
    "$$C_A = N_A/V$$\n",
    "\n",
    "But here, we have a problem.  As the reaction happens, species A is converted into species B, and the two species occupy a different amount of space per mole.  In other words, they have different molar volumes (${V_j}^\\circ$).  So we need an equation of state to relate the number of moles of species to the volume of the system.  Here, I'll assume an ideal mixture, which is basically expressed as:\n",
    "\n",
    "$$\\sum_j C_j{V_j}^\\circ = 1$$\n",
    "\n",
    "The practical implication is that the volumes of species are additive.  For a single species, I calculate the volume it occupies, $V_j$ as:\n",
    "\n",
    "$$V_j = N_j{V_j}^\\circ$$\n",
    "\n",
    "When we have multiple species, we calculate the total volume of the system by adding the space occupied by each species:\n",
    "\n",
    "$$V = \\sum_j {V_j}$$\n",
    "\n",
    "Or:\n",
    "\n",
    "$$V = \\sum_j N_j{V_j}^\\circ$$\n",
    "\n",
    "In this particular example, we only have to worry about species A and species B, so:\n",
    "\n",
    "$$V = N_A{V_A}^\\circ + N_B{V_B}^\\circ$$\n",
    "\n",
    "Now that $N_B$ shows up in my definition of Volume, I have two dependent variables: $N_A$ and $N_B$.  I can either write them both in terms of a single fractional conversion or I can write balances on both A and B.  I choose the latter here because I find it more straightforward.\n",
    "\n",
    "$$\\frac{dN_B}{dt} = R_BV$$\n",
    "\n",
    "Now we can pack our ODE system into a function and solve it with `solve_ivp`."
   ]
  },
  {
   "cell_type": "code",
   "execution_count": 6,
   "metadata": {
    "executionInfo": {
     "elapsed": 113,
     "status": "ok",
     "timestamp": 1633702666842,
     "user": {
      "displayName": "Bowei Liu",
      "photoUrl": "https://lh3.googleusercontent.com/a/default-user=s64",
      "userId": "09481582047933696573"
     },
     "user_tz": 240
    },
    "id": "x8PDUopaQSho"
   },
   "outputs": [],
   "source": [
    "def P03(t, var):\n",
    "    NA = var[0]\n",
    "    NB = var[1]\n",
    "\n",
    "    VA = 50e-3     #L/mol\n",
    "    VB = 38.46e-3  #L/mol\n",
    "    k  = 3.5e-3    #L/mol/min\n",
    "\n",
    "    V  = NA*VA + NB*VB\n",
    "    CA = NA/V\n",
    "\n",
    "    r  = k*CA**2\n",
    "\n",
    "    RA = -r\n",
    "    RB = r\n",
    "    D1 = RA*V\n",
    "    D2 = RB*V\n",
    "    return [D1, D2]"
   ]
  },
  {
   "cell_type": "markdown",
   "metadata": {},
   "source": [
    "Now that's done, we just define the starting state and the integration span, and we can solve our problem with solve_ivp.  As usual, since we're using an interative ODE solver, it won't hit the target conversion exactly, so we use an interpolation to find the time required to achieve 75% conversion of A."
   ]
  },
  {
   "cell_type": "code",
   "execution_count": 7,
   "metadata": {
    "colab": {
     "base_uri": "https://localhost:8080/",
     "height": 283
    },
    "executionInfo": {
     "elapsed": 272,
     "status": "ok",
     "timestamp": 1633703122601,
     "user": {
      "displayName": "Bowei Liu",
      "photoUrl": "https://lh3.googleusercontent.com/a/default-user=s64",
      "userId": "09481582047933696573"
     },
     "user_tz": 240
    },
    "id": "ZqkjWOTFRHNg",
    "outputId": "f49b2635-59cb-4b88-be59-c18a3b479845"
   },
   "outputs": [
    {
     "data": {
      "image/png": "[encoded data removed]",
      "text/plain": [
       "<Figure size 500x500 with 1 Axes>"
      ]
     },
     "metadata": {},
     "output_type": "display_data"
    },
    {
     "name": "stdout",
     "output_type": "stream",
     "text": [
      "The time when conversion of A reaches 75% is 37.54 min\n"
     ]
    }
   ],
   "source": [
    "VA    = 50/1000  #L/mol\n",
    "VB    = 38.46/1000 #L/mol\n",
    "\n",
    "NA0   = 10  #mol\n",
    "NB0   = 0   #mol\n",
    "var0  = [NA0, NB0]\n",
    "tspan = [0, 50]\n",
    "ans   = solve_ivp(P03, tspan, var0, atol = 1e-10, rtol = 1e-10)\n",
    "t     = ans.t\n",
    "NA    = ans.y[0,:]\n",
    "NB    = ans.y[1,:]\n",
    "V     = NA*VA + NB*VB\n",
    "\n",
    "XA    = (NA0 - NA)/NA0\n",
    "\n",
    "plt.figure(1, figsize = (5,5))\n",
    "plt.plot(t, XA, label = 'XA', color = 'blue')\n",
    "plt.plot(t, V, label = 'V (L)', color = 'red')\n",
    "plt.xlim(0, 50)\n",
    "plt.xlabel('t (min)', fontsize = 14)\n",
    "plt.ylim(0, 1)\n",
    "plt.ylabel('XA or V (L)', fontsize = 14)\n",
    "plt.legend(loc = 'upper left')\n",
    "plt.show(1)\n",
    "\n",
    "int1 = interp1d(XA, t, kind = 'cubic')\n",
    "t_ans = int1(0.75)\n",
    "\n",
    "print(f'The time when conversion of A reaches 75% is {t_ans:0.2f} min')"
   ]
  }
 ],
 "metadata": {
  "colab": {
   "authorship_tag": "ABX9TyP0ZJPj0jWZ7tx7s+T6+2CS",
   "name": "P14.ipynb",
   "provenance": []
  },
  "kernelspec": {
   "display_name": "Python 3 (ipykernel)",
   "language": "python",
   "name": "python3"
  },
  "language_info": {
   "codemirror_mode": {
    "name": "ipython",
    "version": 3
   },
   "file_extension": ".py",
   "mimetype": "text/x-python",
   "name": "python",
   "nbconvert_exporter": "python",
   "pygments_lexer": "ipython3",
   "version": "3.11.5"
  }
 },
 "nbformat": 4,
 "nbformat_minor": 1
}