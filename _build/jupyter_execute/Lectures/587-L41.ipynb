{
 "cells": [
  {
   "cell_type": "markdown",
   "metadata": {},
   "source": [
    "# Lecture 41\n",
    "\n",
    "This lecture continues with Energy Balance example problems."
   ]
  },
  {
   "cell_type": "code",
   "execution_count": 1,
   "metadata": {},
   "outputs": [],
   "source": [
    "import matplotlib.pyplot as plt\n",
    "import numpy as np\n",
    "import scipy.optimize as opt\n",
    "from scipy.integrate import solve_ivp\n",
    "from scipy.interpolate import interp1d"
   ]
  },
  {
   "cell_type": "markdown",
   "metadata": {},
   "source": [
    "## Energy and Material Balances on Ideal Reactor Archetypes\n",
    "\n",
    "### Batch Reactor\n",
    "\n",
    "The material balance for species j in a well-mixed batch reactor is:\n",
    "\n",
    "$$\\frac{dN_j}{dt} = R_jV$$\n",
    "\n",
    "In cases where we have either an incompressible fluid or our reactor operates at constant pressure, the energy balance on a batch reactor is:\n",
    "\n",
    "$$\\sum_j N_j \\bar{C}_{p,j} \\frac{dT}{dt} = -\\sum_i \\Delta H_{i} r_i V + \\dot{Q}$$\n",
    "\n",
    "A few notation conventions:  the bar over a property here means it is an intensive molar property for a species and it has units of \"per mole\".  $\\dot{Q}$ is the rate of heat exhange with the surroundings.  It is given by:\n",
    "\n",
    "$$\\dot{Q} = UA(T_a - T)$$\n",
    "\n",
    "### CSTR\n",
    "\n",
    "The material balance for species j in a CSTR is:\n",
    "\n",
    "$$\\frac{dN_j}{dt} = F_{jf} - F_j + R_jV$$\n",
    "\n",
    "If we have an incompressible fluid or a reactor operating at constant pressure, the energy balance on a CSTR is:\n",
    "\n",
    "$$\\sum_j N_j \\bar{C}_{p,j} \\frac{dT}{dt} = -\\sum_i \\Delta H_{i} r_i V + \\sum_j F_{jf}(\\bar{H}_{jf} - \\bar{H}_j) + \\dot{Q}$$\n",
    "\n",
    "The rate of heat exchange is the same as in a batch reactor:\n",
    "\n",
    "$$\\dot{Q} = UA(T_a - T)$$\n",
    "\n",
    "### PFR\n",
    "\n",
    "The material balance for species j in a PFR is:\n",
    "\n",
    "$$\\frac{dF_j}{dV} = R_j$$\n",
    "\n",
    "If we have an ideal gas or a reactor operating without a pressure drop, the energy balance for a PFR is:\n",
    "\n",
    "$$\\sum_j F_j \\bar{C}_{p,j} \\frac{dT}{dV} = -\\sum_i \\Delta H_{i} r_i + \\dot{q}$$\n",
    "\n",
    "For a PFR, we express the rate of heat transfer per unit volume, and it has a symbol $\\dot{q}$:\n",
    "\n",
    "$$\\dot{q} = Ua(T_a - T)$$"
   ]
  },
  {
   "cell_type": "markdown",
   "metadata": {},
   "source": [
    "## Example Problem 01\n",
    "\n",
    "(Fogler, Example 11.3) \n",
    "\t\n",
    "Normal butane, *n*-$C_4H_{10}$, is isomerized to make isobutane, *i*-$C_4H_{10}$, in the liquid-phase using a plug-flow reactor.  Isobutane is a valuable product that is used in the manufacture of gasoline additives.  For example, isobutane can be further reacted to form iso-octane, a high octane component of gasoline.\n",
    "\n",
    "This reversible reaction follows an elementary rate law.  It is carried out adiabatically under high pressure using trace amounts of a liquid catalyst. The liquid enters the reactor at a temperature of 330K. In addition, we have determined that this reaction has a forward rate constant of 31.1 h$^{-1}$ at 360K. We further know the concentration-based equilibrium constant ($K_C$) for this reaction is 3.03 at 60$^\\circ$C.\n",
    "\n",
    "For this process, we are feeding a mixture of *n*-$C_4H_{10}$ and inert isopentane (*i*-$C_5H_{12}$)  into the reactor at a volumetric rate of 100,000 gallons per day.  This corresponds to a total molar flowrate of 163 kmol per hour.  The feed composition is 90 mol\\% *n*-$C_4H_{10}$ and 10 mol\\% *i*-$C_5H_{12}$.\n",
    "\n",
    "For convenience, we'll represent the reaction as:\n",
    "\n",
    "$$A \\leftrightharpoons B$$\n",
    "\n",
    "And use the symbol \"I\" to designate inert isopentane.\n",
    "\n",
    "We are additionally given the following information about this system:\n",
    "\n",
    "\\begin{align}\t\t\n",
    "    E_{A}  &= 65.7 \\ \\textrm{kJ} \\ \\textrm{mol}^{-1}\t\t\t\t \\\\\n",
    "    \\Delta H_0 &= -6900 \\ \\textrm{J} \\ \\textrm{mol}^{-1}             \\\\ \n",
    "    C_{PA} &= 141 \\ \\textrm{J} \\ \\textrm{mol}^{-1} \\ \\textrm{K}^{-1} \\\\\n",
    "    C_{PB} &= 141 \\ \\textrm{J} \\ \\textrm{mol}^{-1} \\ \\textrm{K}^{-1} \\\\\n",
    "    C_{PI} &= 161 \\ \\textrm{J} \\ \\textrm{mol}^{-1} \\ \\textrm{K}^{-1}\n",
    "\\end{align}\n",
    "\n",
    "Here, the heat of reaction ($\\Delta H_0$) is measured at 333K.\n",
    "\n",
    "**Plot the Equilibrium conversion as a function of temperature for this reaction**"
   ]
  },
  {
   "cell_type": "markdown",
   "metadata": {},
   "source": [
    "### Solution to Example Problem 01\n",
    "\n",
    "We are given a concentration based equilibrium constant here.  We know that the following is true at equilibrium:\n",
    "\n",
    "$$K_C = \\prod_j {C_j}^{\\nu_j}$$\n",
    "\n",
    "For this simple stoichiometry, that expression becomes:\n",
    "\n",
    "$$K_C = \\frac{C_B}{C_A}$$\n",
    "\n",
    "We can express these concentrations in terms of molar and volumetric flowrates:\n",
    "\n",
    "$$K_C = \\frac{F_B/Q}{F_A/Q}$$\n",
    "\n",
    "And we see the volumetric flowrate will cancel because this is 1:1 stoichiometry.  Expressing molar flowrates of A and B in terms of fractional conversion (mole table):\n",
    "\n",
    "$$K_C = \\frac{F_{Bf} - F_{Af}X_A}{F_{Af}(1 - X_A)}$$\n",
    "\n",
    "In this particular example, $F_{Bf} = 0$, so:\n",
    "\n",
    "$$K_C = \\frac{F_{Af}X_A}{F_{Af}(1 - X_A)}$$\n",
    "\n",
    "And we get a convenient cancellation of the feed molar flowrate of A to give:\n",
    "\n",
    "$$K_C = \\frac{X_A}{1 - X_A}$$\n",
    "\n",
    "Which we can solve explicitly for $X_A$:\n",
    "\n",
    "$$X_A = \\frac{K_C}{1 + K_C}$$\n",
    "\n",
    "The only trick here is that this expression can't be solved until we specify a temperature.  We know that $K_C = f(T)$, but we're only given $K_C$ at 333K.  In order to make the plot requested, we need a model to describe the temperature-dependence of $K_C$.  The van't Hoff equation is a good starting point:\n",
    "\n",
    "$$\\frac{d\\ln{K}}{dT} = \\frac{\\Delta H}{RT^2}$$\n",
    "\n",
    "This is usually going to give us a separable ODE, but we need to figure out if $\\Delta H$ is a function of temperature or not prior to integration.  We know that the heat of reaction can be given as a function of temperature from the following:\n",
    "\n",
    "$$\\Delta H(T) = \\Delta H^\\circ + \\int_{T_0}^{T} \\Delta C_pdT$$\n",
    "\n",
    "We are given enough information to evaluate this.  From the problem statment:\n",
    "\n",
    "$$\\Delta H^\\circ = -6900 \\ \\textrm{J} \\ \\textrm{mol}^{-1}$$\n",
    "\n",
    "From stoichiometry, we find:\n",
    "\n",
    "$$\\Delta C_p = C_{p,B} - C_{p,A}$$\n",
    "\n",
    "In this example, $C_{p,B} = C_{p,A} = 141$ J/mol/K, so $\\Delta C_p = 0$.  Note we do not consider the inert isopentane in calculating the $\\Delta C_p$ because does not participate in the reaction (mathematically, it has a stoichiometric coefficient of 0). Therefore, $\\Delta H \\neq f(T)$:\n",
    "\n",
    "$$\\Delta H = \\Delta H^\\circ = -6900 \\ \\textrm{J} \\ \\textrm{mol}^{-1}$$\n",
    "\n",
    "We substitute this into the van't Hoff expression:\n",
    "\n",
    "$$\\frac{d\\ln{K}}{dT} = \\frac{\\Delta H^\\circ}{RT^2}$$\n",
    "\n",
    "Which is separable and can be integrated:\n",
    "\n",
    "$$\\int_{\\ln{K_0}}^{\\ln{K}}d\\ln{K} = \\int_{T_0}^{T}\\frac{\\Delta H^\\circ}{RT^2}dT$$\n",
    "\n",
    "Doing so, we get the usual form of the integrated van't Hoff expression for cases where $\\Delta H \\neq f(T)$:\n",
    "\n",
    "$$K = K_0\\exp\\left[-\\frac{\\Delta H^\\circ}{R}\\left(\\frac{1}{T} - \\frac{1}{T_0}\\right)\\right]$$\n",
    "\n",
    "With that, we have everything we need to plot $X_A$ vs $T$.  See below."
   ]
  },
  {
   "cell_type": "code",
   "execution_count": 2,
   "metadata": {},
   "outputs": [
    {
     "data": {
      "image/png": "[encoded data removed]",
      "text/plain": [
       "<Figure size 360x360 with 2 Axes>"
      ]
     },
     "metadata": {
      "filenames": {
       "image/png": "C:\\Users\\jqbond\\Documents\\GitHub\\WebContent\\2022CEN587\\_build\\jupyter_execute\\Lectures\\587-L41_5_0.png"
      },
      "needs_background": "light"
     },
     "output_type": "display_data"
    }
   ],
   "source": [
    "KC0 = 3.03\n",
    "T0  = 333 #K\n",
    "DH  = -6990 #J/mol\n",
    "R   = 8.314 #J/mol/K\n",
    "\n",
    "KC = lambda T: KC0*np.exp(-DH/R*(1/T - 1/T0))\n",
    "XAEQ = lambda T: KC(T)/(1 + KC(T))\n",
    "T = np.linspace(250, 650, 100)\n",
    "\n",
    "# plt.figure(1, figsize = (5, 5))\n",
    "# plt.plot(T, XA(T))\n",
    "# plt.xlabel('T (K)', fontsize = 12)\n",
    "# plt.ylabel('XA', fontsize = 12)\n",
    "# plt.xlim(min(T), max(T))\n",
    "# plt.ylim(0.0, 1.0)\n",
    "# plt.title('Equilibrium Conversion of A')\n",
    "# plt.show()\n",
    "\n",
    "##Create plot with 2 yaxes to plot Conversion and KC vs. T\n",
    "fig1, ax1 = plt.subplots(figsize = (5, 5))\n",
    "ax2  = ax1.twinx()\n",
    "ax1.plot(T, XAEQ(T), color = 'black', linestyle = 'dashed', label = 'Equilibrium XA')\n",
    "ax2.plot(T, KC(T), color = 'red', label = 'KC')\n",
    "ax1.set_xlim(min(T), max(T))\n",
    "ax1.set_ylim(0, 1)\n",
    "ax2.set_ylim(0, 10)\n",
    "ax1.set_xlabel('T (K)', fontsize = 12)\n",
    "ax1.set_ylabel('XA', fontsize = 12)\n",
    "ax2.set_ylabel('KC', fontsize = 12)\n",
    "ax1.legend(loc = 'upper left')\n",
    "ax2.legend(loc = 'lower center')\n",
    "plt.show()"
   ]
  },
  {
   "cell_type": "markdown",
   "metadata": {},
   "source": [
    "## Example Problem 02\n",
    "\n",
    "For the reaction described in Problem 01, calculate the PFR volume necessary to achieve 40\\% conversion of the feed."
   ]
  },
  {
   "cell_type": "markdown",
   "metadata": {},
   "source": [
    "### Solution to Example Problem 02\n",
    "\n",
    "We begin as usual by writing a material balance on A in the PFR:\n",
    "\n",
    "$$\\frac{dF_A}{dV} = R_A$$\n",
    "\n",
    "Where:\n",
    "\n",
    "$$R_A = -r$$\n",
    "\n",
    "And\n",
    "\n",
    "$$r = k_fC_A - k_rC_B$$\n",
    "\n",
    "We will assume constant density for this process since the density of n-butane and isobutane are very similar.  Therefore:\n",
    "\n",
    "$$Q = Q_f$$\n",
    "\n",
    "And:\n",
    "\n",
    "\\begin{align}\n",
    "    C_A = F_A/Q \\\\\n",
    "    C_B = F_B/Q\n",
    "\\end{align}\n",
    "\n",
    "The rate constants are temperature dependent.  We are given a forward rate constant at a reference temperature of 360K, which we note is different from the reference temperature for the equilibrium constant, of 333K.  We define the forward rate constant using a van't Hoff type expression:\n",
    "\n",
    "$$k_f = k_{f,0}\\exp\\left[-\\frac{E_A}{R}\\left(\\frac{1}{T} - \\frac{1}{T_{k,0}}\\right)\\right]$$\n",
    "\n",
    "We proved above the the heat of reaction here is temperature independent, so we define the equilibrium constant (KC) using a van't Hoff expression as we did in Part a:\n",
    "\n",
    "$$K_C = K_{C,0}\\exp\\left[-\\frac{\\Delta H^\\circ}{R}\\left(\\frac{1}{T} - \\frac{1}{T_{K,0}}\\right)\\right]$$\n",
    "\n",
    "And we define the reverse rate constant in terms of the two above:\n",
    "\n",
    "$$k_r = \\frac{k_f}{K_C}$$\n",
    "\n",
    "Working through these definitions, it is clear that we need to write a balance on species B so that its concentration is defined during solution of the ODE system:\n",
    "\n",
    "$$\\frac{dF_B}{dV} = R_B = r$$\n",
    "\n",
    "We also need an energy balance so that we solve for the change in temperature across the PFR volume.  For a PFR, the energy balance is:\n",
    "\n",
    "$$\\frac{dT}{dV} = \\frac{-\\sum_i \\Delta H_i r_i + \\dot{q}}{\\sum_j F_j \\bar{C}_{p,j}}$$\n",
    "\n",
    "We can simplify this by recognizing that the reactor is adiabatic and that it only involves one reaction:\n",
    "\n",
    "$$\\frac{dT}{dV} = \\frac{\\Delta H r}{\\sum_j F_j \\bar{C}_{p,j}}$$\n",
    "\n",
    "Where we again note that $\\Delta H$ is temperature independent and that r is defined above.  The final term to fill out is the summation of flowrates.  Here, we need to consider all species flowing through the reactor.  This includes the inert isopentane.\n",
    "\n",
    "$$\\sum_j F_j \\bar{C}_{p,j} = F_A\\bar{C}_{p,A} + F_B\\bar{C}_{p,B} + F_I\\bar{C}_{p,I}$$\n",
    "\n",
    "We do not need a complicated balance on I in this system; it does not participate in the reaction, so it's flowrate is equal to its feed flowrate.  With that, we have enough to solve the problem."
   ]
  },
  {
   "cell_type": "code",
   "execution_count": 3,
   "metadata": {},
   "outputs": [],
   "source": [
    "Tf  = 330 #K\n",
    "Tk0 = 360 #K\n",
    "TK0 = 333 #K\n",
    "kf0 = 31.1 #1/h\n",
    "KC0 = 3.03 \n",
    "Q   = 100000/24 #gal/h\n",
    "FTf = 163000 #mol/h\n",
    "xAf = 0.9\n",
    "xBf = 0.0\n",
    "xIf = 0.1\n",
    "EA  = 65.7e3 #J/mol\n",
    "DH  = -6900 #J/mol\n",
    "CPA = 141   #J/mol/K\n",
    "CPB = 141   #J/mol/K\n",
    "CPI = 161   #J/mol/K\n",
    "R   = 8.314 #J/mol/K\n",
    "\n",
    "FAf = xAf*FTf\n",
    "FBf = xBf*FTf\n",
    "FIf = xIf*FTf"
   ]
  },
  {
   "cell_type": "code",
   "execution_count": 4,
   "metadata": {},
   "outputs": [],
   "source": [
    "def EB02b(V, var):\n",
    "    FA = var[0] #mol/h\n",
    "    FB = var[1] #mol/h\n",
    "    T  = var[2] #K\n",
    "    \n",
    "    CA = FA/Q #mol/gal\n",
    "    CB = FB/Q #mol/gal\n",
    "    kf = kf0*np.exp(-EA/R*(1/T - 1/Tk0)) #1/h\n",
    "    KC = KC0*np.exp(-DH/R*(1/T - 1/TK0))\n",
    "    kr = kf/KC #1/h\n",
    "    \n",
    "    r  = kf*CA - kr*CB #mol/gal/h\n",
    "    \n",
    "    RA = -r #mol/gal/h\n",
    "    RB =  r #mol/gal/h\n",
    "    \n",
    "    D1 = RA #mol/gal/h\n",
    "    D2 = RB #mol/gal/h\n",
    "    D3 = (-DH*r)/(FA*CPA + FB*CPB + FIf*CPI) #K/gal\n",
    "    return [D1, D2, D3]"
   ]
  },
  {
   "cell_type": "code",
   "execution_count": 5,
   "metadata": {},
   "outputs": [
    {
     "name": "stdout",
     "output_type": "stream",
     "text": [
      "In an adiabatic PFR, we need a  304 gal reactor to achieve 40% conversion of A\n"
     ]
    },
    {
     "data": {
      "image/png": "[encoded data removed]",
      "text/plain": [
       "<Figure size 360x360 with 2 Axes>"
      ]
     },
     "metadata": {
      "filenames": {
       "image/png": "C:\\Users\\jqbond\\Documents\\GitHub\\WebContent\\2022CEN587\\_build\\jupyter_execute\\Lectures\\587-L41_10_1.png"
      },
      "needs_background": "light"
     },
     "output_type": "display_data"
    }
   ],
   "source": [
    "var0 = [FAf, FBf, Tf]\n",
    "vspan = (0.0, 1000.0) #gal\n",
    "ans2b = solve_ivp(EB02b, vspan, var0, atol = 1e-10, rtol = 1e-10)\n",
    "V     = ans2b.t #gal\n",
    "FA    = ans2b.y[0, :] #mol/h\n",
    "T     = ans2b.y[2, :] #K\n",
    "XA    = (FAf - FA)/FAf\n",
    "itpb  = interp1d(XA, V)\n",
    "solb  = itpb(0.4)\n",
    "\n",
    "print(f'In an adiabatic PFR, we need a {solb:4.0f} gal reactor to achieve 40% conversion of A')\n",
    "\n",
    "# plt.figure(1, figsize = (5, 5))\n",
    "# plt.plot(V, XA)\n",
    "# plt.xlabel('V (gal)', fontsize = 12)\n",
    "# plt.ylabel('XA', fontsize = 12)\n",
    "# plt.xlim(0, max(vspan))\n",
    "# plt.ylim(0.0, 1.0)\n",
    "# plt.title('Conversion of A in a PFR')\n",
    "# plt.show()\n",
    "\n",
    "# plt.figure(2, figsize = (5, 5))\n",
    "# plt.plot(V, T)\n",
    "# plt.xlabel('V (gal)', fontsize = 12)\n",
    "# plt.ylabel('T', fontsize = 12)\n",
    "# plt.xlim(0, max(vspan))\n",
    "# plt.ylim(300, 400)\n",
    "# plt.title('Temperature Profile in a PFR')\n",
    "# plt.show()\n",
    "\n",
    "##Create plot with 2 yaxes to plot XA and T vs. V\n",
    "fig1, ax1 = plt.subplots(figsize = (5, 5))\n",
    "ax2  = ax1.twinx()\n",
    "ax1.plot(V, XA, color = 'blue', label = 'XA')\n",
    "ax1.plot(V, XAEQ(T), color = 'black', linestyle = 'dashed', label = 'XA_EQ')\n",
    "ax2.plot(V, T, color = 'red', label = 'T (K)')\n",
    "ax1.set_xlim(0, max(V))\n",
    "ax1.set_ylim(0, 1)\n",
    "ax2.set_ylim(300, 400)\n",
    "ax1.set_xlabel('V (gal)', fontsize = 12)\n",
    "ax1.set_ylabel('XA', fontsize = 12)\n",
    "ax2.set_ylabel('T', fontsize = 12)\n",
    "ax1.legend(loc = 'upper right')\n",
    "ax2.legend(loc = 'lower right')\n",
    "plt.show()"
   ]
  },
  {
   "cell_type": "markdown",
   "metadata": {},
   "source": [
    "## Example Problem 03\n",
    "\n",
    "For the system described in Problem 01, calculate the CSTR volume necessary to achieve 40\\% conversion of the feed."
   ]
  },
  {
   "cell_type": "markdown",
   "metadata": {},
   "source": [
    "### Solution to Example Problem 03\n",
    "\n",
    "This is conceptually similar to part b, we're just writing balances on the CSTR instead. We know that a CSTR at steady state will result in a set of algebraic equations given by material and energy balances. When we consider non-isothermal CSTR performance, we usually get a lot of nonlinearity in these equations, so I generally try to reduce the system of equations to the smallest possible set.\n",
    "\n",
    "Here, we'll take advantage of the fact that we know the desired exit conversion is 40%.  Therefore, we can immediately solve for the exit molar flowrates of A and B:\n",
    "\n",
    "\\begin{align}\n",
    "    F_A &= F_{A,f}(1 - X_A) = 88020 \\ \\textrm{mol} \\ \\textrm{h}^{-1}\\\\\n",
    "    F_B &= F_{A,f}X_A = 58680 \\ \\textrm{mol} \\ \\textrm{h}^{-1}\n",
    "\\end{align}\n",
    "\n",
    "With that, we can write a single balance on A:\n",
    "\n",
    "$$0 = F_{A,f} - F_A + R_AV$$\n",
    "\n",
    "Where:\n",
    "\n",
    "$$R_A = -r$$\n",
    "\n",
    "and:\n",
    "\n",
    "$$r = k_fC_A - k_rC_B$$\n",
    "\n",
    "Concentrations are defined as usual:\n",
    "\n",
    "$$C_j = \\frac{F_j}{Q}$$\n",
    "\n",
    "And the temperature is going to change across the CSTR since this is an adiabatic process.  Therefore, we need to model the rate constants as functions of temperature, and we do so using the van't Hoff expressions we wrote for the PFR:\n",
    "\n",
    "$$k_f = k_{f,0}\\exp\\left[-\\frac{E_A}{R}\\left(\\frac{1}{T} - \\frac{1}{T_{k,0}}\\right)\\right]$$\n",
    "\n",
    "and:\n",
    "\n",
    "$$K_C = K_{C,0}\\exp\\left[-\\frac{\\Delta H^\\circ}{R}\\left(\\frac{1}{T} - \\frac{1}{T_{K,0}}\\right)\\right]$$\n",
    "\n",
    "The reverse rate constant is calculated from the above two:\n",
    "\n",
    "$$k_r = \\frac{k_f}{K_C}$$\n",
    "\n",
    "To solve for the exit temperature from the CSTR, we need to write an energy balance.  At steady state, the CSTR balance is:\n",
    "\n",
    "$$0 = -\\sum_i \\Delta H_i r_i V + \\sum_j F_{j,f}(H_{j,f} - H_j) + \\dot{Q}$$\n",
    "\n",
    "Simplifying for a single reaction and an adiabatic process:\n",
    "\n",
    "$$0 = -\\Delta H r V + \\sum_j F_{j,f}(H_{j,f} - H_j)$$\n",
    "\n",
    "We've already proven that the heat of reaction is constant for this example, so:\n",
    "\n",
    "$$\\Delta H = \\Delta H^\\circ$$\n",
    "\n",
    "The rate of reaction is described above.  The summation term requires a bit of expansion. Note that it only considers inlet flowrates.\n",
    "\n",
    "$$\\sum_j F_{j,f}(H_{j,f} - H_j) = F_{A,f}(H_{A,f} - H_A) + F_{B,f}(H_{B,f} - H_B) + F_{I,f}(H_{I,f} - H_I)$$ \n",
    "\n",
    "We are not given enthalpies for any of these species, but we are given heat capacities.  Generally speaking:\n",
    "\n",
    "$$H_j(T) = H_j^\\circ + \\int_{T_0}^{T} C_{p,j} dT$$\n",
    "\n",
    "For the case of constant heat capacities, which we have here:\n",
    "\n",
    "$$H_j(T) = H_j^\\circ + C_{p,j}(T - T_0)$$\n",
    "\n",
    "We are interested in the molar enthalpies of species $j$ at feed conditions ($H_{j,f}$) and at exit conditions ($H_j$). The feed enthalpy can be described as:\n",
    "\n",
    "$$H_{j,f} = H_j^\\circ + C_{p,j}(T_f - T_0)$$\n",
    "\n",
    "and the exit enthalpy can be described as:\n",
    "\n",
    "$$H_{j} = H_j^\\circ + C_{p,j}(T - T_0)$$\n",
    "\n",
    "We do not know the reference enthalpy for species j, nor the reference temperature where it is measured; however, because we are only interested in the difference in enthalpy, we can cancel these terms.  Specifically:\n",
    "\n",
    "$$H_{j,f} - H_j = H_j^\\circ + C_{p,j}(T_f - T_0) - H_j^\\circ - C_{p,j}(T - T_0)$$\n",
    "\n",
    "Distributing heat capacities:\n",
    "\n",
    "$$H_{j,f} - H_j = H_j^\\circ + C_{p,j}T_f - C_{p,j}T_0 - H_j^\\circ - C_{p,j}T + C_{p,j}T_0$$\n",
    "\n",
    "You see a cancellation of unknown terms to get:\n",
    "\n",
    "$$H_{j,f} - H_j = C_{p,j}(T_f - T)$$\n",
    "\n",
    "So we can replace the summation above with:\n",
    "\n",
    "$$\\sum_j F_{j,f}(H_{j,f} - H_j) = F_{A,f}C_{p,A}(T_f - T) +  F_{B,f}C_{p,B}(T_f - T) +  F_{I,f}C_{p,I}(T_f - T)$$\n",
    "\n",
    "With this, we have to solve two equations (EB and MB on A) in two unknowns.  Everything on the right hand side of the EB and MB are expressed in terms of constants and our two unknowns (T, V)."
   ]
  },
  {
   "cell_type": "code",
   "execution_count": 6,
   "metadata": {},
   "outputs": [],
   "source": [
    "XAout = 0.4\n",
    "FAout = FAf*(1 - XAout)\n",
    "FBout = FAf*XAout"
   ]
  },
  {
   "cell_type": "code",
   "execution_count": 7,
   "metadata": {},
   "outputs": [],
   "source": [
    "def EB02c(var):\n",
    "    V = var[0] #gal\n",
    "    T = var[1] #K\n",
    "    \n",
    "    CA = FAout/Q #mol/gal\n",
    "    CB = FBout/Q #mol/gal\n",
    "    \n",
    "    kf = kf0*np.exp(-EA/R*(1/T - 1/Tk0)) #1/h\n",
    "    KC = KC0*np.exp(-DH/R*(1/T - 1/TK0)) \n",
    "    kr = kf/KC #1/h\n",
    "    \n",
    "    r  = kf*CA - kr*CB #mol/gal/h\n",
    "    \n",
    "    RA = -r #mol/gal/h\n",
    "    \n",
    "    F1 = FAf - FAout + RA*V #mol/h\n",
    "    F2 = -DH*r*V + FAf*CPA*(Tf - T) + FBf*CPB*(Tf - T) + FIf*CPI*(Tf - T) #J/h\n",
    "    return [F1, F2]"
   ]
  },
  {
   "cell_type": "code",
   "execution_count": 8,
   "metadata": {},
   "outputs": [
    {
     "name": "stdout",
     "output_type": "stream",
     "text": [
      "The CSTR operates at 347K and requires a volume of 262 gallons to achieve 40% conversion\n"
     ]
    }
   ],
   "source": [
    "var0 = [250, 350]\n",
    "solc = opt.root(EB02c, var0)\n",
    "V, T = solc.x\n",
    "print(f'The CSTR operates at {T:3.0f}K and requires a volume of {V:3.0f} gallons to achieve 40% conversion')"
   ]
  },
  {
   "cell_type": "markdown",
   "metadata": {},
   "source": [
    "## Example Problem 04\n",
    "\n",
    "Interpret the reactor sizing results\n",
    "\n",
    "### Solution to Example Problem 04"
   ]
  },
  {
   "cell_type": "code",
   "execution_count": 9,
   "metadata": {},
   "outputs": [
    {
     "data": {
      "image/png": "[encoded data removed]",
      "text/plain": [
       "<Figure size 360x360 with 1 Axes>"
      ]
     },
     "metadata": {
      "filenames": {
       "image/png": "C:\\Users\\jqbond\\Documents\\GitHub\\WebContent\\2022CEN587\\_build\\jupyter_execute\\Lectures\\587-L41_17_0.png"
      },
      "needs_background": "light"
     },
     "output_type": "display_data"
    },
    {
     "data": {
      "image/png": "[encoded data removed]",
      "text/plain": [
       "<Figure size 360x360 with 1 Axes>"
      ]
     },
     "metadata": {
      "filenames": {
       "image/png": "C:\\Users\\jqbond\\Documents\\GitHub\\WebContent\\2022CEN587\\_build\\jupyter_execute\\Lectures\\587-L41_17_1.png"
      },
      "needs_background": "light"
     },
     "output_type": "display_data"
    },
    {
     "data": {
      "image/png": "[encoded data removed]",
      "text/plain": [
       "<Figure size 360x360 with 1 Axes>"
      ]
     },
     "metadata": {
      "filenames": {
       "image/png": "C:\\Users\\jqbond\\Documents\\GitHub\\WebContent\\2022CEN587\\_build\\jupyter_execute\\Lectures\\587-L41_17_2.png"
      },
      "needs_background": "light"
     },
     "output_type": "display_data"
    },
    {
     "data": {
      "image/png": "[encoded data removed]",
      "text/plain": [
       "<Figure size 432x288 with 1 Axes>"
      ]
     },
     "metadata": {
      "filenames": {
       "image/png": "C:\\Users\\jqbond\\Documents\\GitHub\\WebContent\\2022CEN587\\_build\\jupyter_execute\\Lectures\\587-L41_17_3.png"
      },
      "needs_background": "light"
     },
     "output_type": "display_data"
    }
   ],
   "source": [
    "#Processing data from the PFR for a bit more insight\n",
    "\n",
    "kffun = lambda T: kf0*np.exp(-EA/R*(1/T - 1/Tk0))\n",
    "KCfun = lambda T: KC0*np.exp(-DH/R*(1/T - 1/TK0))\n",
    "XAfun = lambda T: KCfun(T)/(1 + KCfun(T))\n",
    "\n",
    "V  = ans2b.t\n",
    "FA = ans2b.y[0,:]\n",
    "FB = ans2b.y[1,:]\n",
    "T  = ans2b.y[2,:]\n",
    "CA = FA/Q\n",
    "CB = FB/Q\n",
    "kf = kffun(T)\n",
    "KC = KCfun(T)\n",
    "kr = kf/KC\n",
    "r  = kf*CA - kr*CB\n",
    "Xe = KC/(1 + KC)\n",
    "\n",
    "plt.figure(1, figsize = (5, 5))\n",
    "plt.plot(V, T, color = 'red')\n",
    "plt.xlabel('V (gal)')\n",
    "plt.ylabel('T (K)')\n",
    "plt.xlim(0, max(vspan))\n",
    "plt.ylim(300, 400)\n",
    "plt.title('Temperature in the PFR')\n",
    "plt.show()\n",
    "\n",
    "plt.figure(2, figsize = (5, 5))\n",
    "plt.plot(V, r)\n",
    "plt.xlabel('V (gal)')\n",
    "plt.ylabel('rate (mol/gal/h)')\n",
    "plt.xlim(0, max(vspan))\n",
    "plt.ylim(0, 250)\n",
    "plt.title('Reaction rate in the PFR')\n",
    "plt.show()\n",
    "\n",
    "plt.figure(3, figsize = (5, 5))\n",
    "plt.plot(XA, r)\n",
    "plt.xlabel('XA')\n",
    "plt.ylabel('rate (mol/gal/h)')\n",
    "plt.xlim(0, 1.0)\n",
    "plt.ylim(0, 250)\n",
    "plt.title('Reaction rate vs. conversion in the PFR')\n",
    "plt.show()\n",
    "\n",
    "index = XA < 0.6\n",
    "\n",
    "plt.figure(5)\n",
    "plt.plot(XA[index], FAf/r[index])\n",
    "plt.xlabel('XA')\n",
    "plt.ylabel('FAf/r')\n",
    "plt.xlim(0, 1.0)\n",
    "plt.ylim(0.0, 1000)\n",
    "plt.title('Levenspiel Plot for this Reaction')\n",
    "plt.show()"
   ]
  }
 ],
 "metadata": {
  "colab": {
   "authorship_tag": "ABX9TyP0ZJPj0jWZ7tx7s+T6+2CS",
   "name": "P14.ipynb",
   "provenance": []
  },
  "kernelspec": {
   "display_name": "Python 3 (ipykernel)",
   "language": "python",
   "name": "python3"
  },
  "language_info": {
   "codemirror_mode": {
    "name": "ipython",
    "version": 3
   },
   "file_extension": ".py",
   "mimetype": "text/x-python",
   "name": "python",
   "nbconvert_exporter": "python",
   "pygments_lexer": "ipython3",
   "version": "3.9.13"
  }
 },
 "nbformat": 4,
 "nbformat_minor": 1
}