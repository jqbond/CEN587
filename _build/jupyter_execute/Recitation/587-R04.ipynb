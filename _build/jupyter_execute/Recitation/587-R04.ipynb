{
 "cells": [
  {
   "cell_type": "markdown",
   "metadata": {
    "id": "fDVAkCVO_xOp"
   },
   "source": [
    "# Solving ODEs\n",
    "\n",
    "These exercises cover numerical solution of ordinary differential equations using packages available in scipy.\n",
    "\n",
    "## Topics Covered\n",
    "\n",
    "1. Scipy package; `scipy.integrate` \n",
    "2. Solution of initial value problems for a single ODE using numerical ODE solvers with `solve_ivp`.\n",
    "3. Solution of coupled systems of ODEs using numerical ODE solvers `solve_ivp`.\n",
    "4. Solution of definite integrals using `quadrature`\n",
    "5. Interpolation (1D) using `interp1d`\n",
    "6. Combining numerical methods, e.g., `optimize` and `quadrature` or `solve_ivp`\n",
    "\n",
    "### Code for Importing packages for today\n",
    "\n",
    "```Python\n",
    "import numpy as np\n",
    "import matplotlib.pyplot as plt\n",
    "import scipy.optimize as opt\n",
    "from scipy.integrate import solve_ivp, quadrature\n",
    "from scipy.interpolate import interp1d\n",
    "```"
   ]
  },
  {
   "cell_type": "code",
   "execution_count": 1,
   "metadata": {
    "executionInfo": {
     "elapsed": 200,
     "status": "ok",
     "timestamp": 1664900578549,
     "user": {
      "displayName": "Jesse Bond",
      "userId": "02368932895588355069"
     },
     "user_tz": 240
    },
    "id": "VIsg9lEL_xOt"
   },
   "outputs": [],
   "source": [
    "import numpy as np\n",
    "import matplotlib.pyplot as plt\n",
    "import scipy.optimize as opt\n",
    "from scipy.integrate import solve_ivp, quadrature\n",
    "from scipy.interpolate import interp1d"
   ]
  },
  {
   "cell_type": "markdown",
   "metadata": {
    "id": "FeKp_hna_xOu"
   },
   "source": [
    "## Problem 1\n",
    "\n",
    "The following differential equation describes how the variable X changes as a function of time:\n",
    "\n",
    "$$\\frac{dx}{dt} = k\\left(1 - x\\right)^2$$\n",
    "\n",
    "The initial value of x is zero.\n",
    "\n",
    "For this system, k = 0.253 min$^{-1}$. Calculate the value of x after 3 minutes."
   ]
  },
  {
   "cell_type": "markdown",
   "metadata": {
    "id": "DW7dzTZa_xOv"
   },
   "source": [
    "### Solution to Problem 01\n",
    "\n",
    "This is a relatively straightfoward separable differential equation.  If we separate variables:\n",
    "\n",
    "$$\\frac{1}{(1-x)^2}dx = kdt$$\n",
    "\n",
    "We can integrate from lower limits to upper limits:\n",
    "\n",
    "$$\\int_0^x\\frac{1}{(1-x^\\prime)^2}dx^\\prime = \\int_0^tkdt^\\prime$$\n",
    "\n",
    "We can solve this for x as a function of t:\n",
    "\n",
    "$$x(t) = 1 - \\frac{1}{1+kt}$$\n",
    "\n",
    "We won't use it yet, but note we can also solve this to get t as a function of x:\n",
    "\n",
    "$$t(x) = \\frac{1}{k}\\left(\\frac{1}{1 - x} - 1\\right)$$\n",
    "\n",
    "### Code for Analytical solution\n",
    "```Python\n",
    "#Analytical Solution\n",
    "k  = 0.253\n",
    "dx = lambda x: k*(1-x)**2\n",
    "x  = lambda t: (1 - 1/(1 + k*t))\n",
    "print(dx(3), '' , x(3))\n",
    "```"
   ]
  },
  {
   "cell_type": "code",
   "execution_count": 2,
   "metadata": {
    "colab": {
     "base_uri": "https://localhost:8080/"
    },
    "executionInfo": {
     "elapsed": 647,
     "status": "ok",
     "timestamp": 1664900579194,
     "user": {
      "displayName": "Jesse Bond",
      "userId": "02368932895588355069"
     },
     "user_tz": 240
    },
    "id": "zLwMXYmO_xOv",
    "outputId": "64928f3f-7a98-4f9f-efb1-24574ba947de"
   },
   "outputs": [
    {
     "name": "stdout",
     "output_type": "stream",
     "text": [
      "1.012  0.4314951677089255\n"
     ]
    }
   ],
   "source": [
    "#Analytical Solution\n",
    "k  = 0.253\n",
    "dx = lambda x: k*(1-x)**2\n",
    "x  = lambda t: (1 - 1/(1 + k*t))\n",
    "dx(3)\n",
    "x(3)\n",
    "print(dx(3), '' , x(3))"
   ]
  },
  {
   "cell_type": "markdown",
   "metadata": {
    "id": "6C-tTqnb_xOw"
   },
   "source": [
    "### Graphing the analytical solution\n",
    "\n",
    "If we have an analytical solution for x(t), it's always nice to plot it so we can visualize how it behaves.\n",
    "\n",
    "#### Code for graphing the analytical solution\n",
    "\n",
    "```Python\n",
    "tplot = np.linspace(0,3,100)\n",
    "xplot = x(tplot)\n",
    "plt.figure(1, figsize = (5, 5))\n",
    "plt.plot(tplot, xplot, label = 'Analytical')\n",
    "plt.xlabel('time', fontsize = 14)\n",
    "plt.ylabel('X', fontsize = 14)\n",
    "plt.xlim(0,3)\n",
    "plt.ylim(0,1)\n",
    "plt.legend(loc = 'upper left')\n",
    "plt.show()\n",
    "```"
   ]
  },
  {
   "cell_type": "code",
   "execution_count": 3,
   "metadata": {
    "colab": {
     "base_uri": "https://localhost:8080/",
     "height": 342
    },
    "executionInfo": {
     "elapsed": 356,
     "status": "ok",
     "timestamp": 1664900602108,
     "user": {
      "displayName": "Jesse Bond",
      "userId": "02368932895588355069"
     },
     "user_tz": 240
    },
    "id": "B6pUwbcq_xOx",
    "outputId": "605ef240-2bf8-4432-d67a-d832960cdde9"
   },
   "outputs": [
    {
     "data": {
      "image/png": "[encoded data removed]",
      "text/plain": [
       "<Figure size 360x360 with 1 Axes>"
      ]
     },
     "metadata": {
      "filenames": {
       "image/png": "C:\\Users\\jqbond\\Documents\\GitHub\\WebContent\\2022CEN587\\_build\\jupyter_execute\\Recitation\\587-R04_6_0.png"
      },
      "needs_background": "light"
     },
     "output_type": "display_data"
    }
   ],
   "source": [
    "tplot = np.linspace(0,3,100)\n",
    "xplot = x(tplot)\n",
    "plt.figure(1, figsize = (5, 5))\n",
    "plt.plot(tplot, xplot, label = 'Analytical')\n",
    "plt.xlabel('time', fontsize = 14)\n",
    "plt.ylabel('X', fontsize = 14)\n",
    "plt.xlim(0,3)\n",
    "plt.ylim(0,1)\n",
    "plt.legend(loc = 'upper left')\n",
    "plt.show()"
   ]
  },
  {
   "cell_type": "markdown",
   "metadata": {
    "id": "A3eHt1EM_xOx"
   },
   "source": [
    "### Numerical solution to Problem 01\n",
    "\n",
    "The reason we picked an easy problem that we could solve by hand is so that we could compare numerical methods to it.  In class, we talked about an Euler step, which basically assumes that you have a constant derivative over a small step in time, $h$.\n",
    "\n",
    "$$x_{i+1} = x_i + \\frac{dx}{dt}h$$\n",
    "\n",
    "We showed how this approximation of a constant derivative is actually pretty bad for any non-linear system, so with an Euler step, we find we have to make many, many very small steps to get a good approximation to a nonlinear function.\n",
    "\n",
    "#### Homebrew Code for Euler Method\n",
    "\n",
    "```python\n",
    "#Using an Euler Method\n",
    "nsteps = 5\n",
    "tmax   = 3\n",
    "h      = tmax/nsteps\n",
    "tEU    = np.zeros(nsteps+1) #I'm creating the numpy array where I'll store all values of time.\n",
    "xEU    = np.zeros(nsteps+1) #Likewise, I want to store all values of x for plotting.\n",
    "\n",
    "#We'll add updated values to t and x on each pass through the loop\n",
    "for i in range(0, nsteps):\n",
    "    xEU[i+1] = xEU[i] + h*dx(xEU[i])\n",
    "    tEU[i+1] = tEU[i] + h\n",
    "\n",
    "print(f'At t = {tmax} with {nsteps} steps and a step size of {h:0.3f}:\\n the Euler method predicts that x = {xEU[-1]:0.3f}, and the true value is {x(tmax):0.3f}')    \n",
    "plt.figure(1, figsize = (5, 5))\n",
    "plt.plot(tplot, xplot, label = 'Analytical Solution')\n",
    "plt.scatter(tEU, xEU, color = 'red', marker = 's', label = 'Euler Step')\n",
    "plt.xlabel('time', fontsize = 14)\n",
    "plt.ylabel('X', fontsize = 14)\n",
    "plt.xlim(0,3)\n",
    "plt.ylim(0,1)\n",
    "plt.legend(loc = 'upper left')\n",
    "plt.show()\n",
    "```"
   ]
  },
  {
   "cell_type": "code",
   "execution_count": 4,
   "metadata": {
    "colab": {
     "base_uri": "https://localhost:8080/",
     "height": 377
    },
    "executionInfo": {
     "elapsed": 172,
     "status": "ok",
     "timestamp": 1664900607550,
     "user": {
      "displayName": "Jesse Bond",
      "userId": "02368932895588355069"
     },
     "user_tz": 240
    },
    "id": "BkaJWF_O_xOy",
    "outputId": "974b5372-6615-4ea0-b363-41c77b5940b5"
   },
   "outputs": [
    {
     "name": "stdout",
     "output_type": "stream",
     "text": [
      "At t = 3 with 5 steps and a step size of 0.600:\n",
      " the Euler method predicts that x = 0.462, and the true value is 0.431\n"
     ]
    },
    {
     "data": {
      "image/png": "[encoded data removed]",
      "text/plain": [
       "<Figure size 360x360 with 1 Axes>"
      ]
     },
     "metadata": {
      "filenames": {
       "image/png": "C:\\Users\\jqbond\\Documents\\GitHub\\WebContent\\2022CEN587\\_build\\jupyter_execute\\Recitation\\587-R04_8_1.png"
      },
      "needs_background": "light"
     },
     "output_type": "display_data"
    }
   ],
   "source": [
    "#Using an Euler Method\n",
    "nsteps = 5\n",
    "tmax   = 3\n",
    "h      = tmax/nsteps\n",
    "tEU    = np.zeros(nsteps+1) #I'm creating the numpy array where I'll store all values of time.\n",
    "xEU    = np.zeros(nsteps+1) #Likewise, I want to store all values of x for plotting.\n",
    "\n",
    "#We'll add updated values to t and x on each pass through the loop\n",
    "for i in range(0, nsteps):\n",
    "    xEU[i+1] = xEU[i] + h*dx(xEU[i])\n",
    "    tEU[i+1] = tEU[i] + h\n",
    "\n",
    "print(f'At t = {tmax} with {nsteps} steps and a step size of {h:0.3f}:\\n the Euler method predicts that x = {xEU[-1]:0.3f}, and the true value is {x(tmax):0.3f}')    \n",
    "plt.figure(1, figsize = (5, 5))\n",
    "plt.plot(tplot, xplot, label = 'Analytical Solution')\n",
    "plt.scatter(tEU, xEU, color = 'red', marker = 's', label = 'Euler Step')\n",
    "plt.xlabel('time', fontsize = 14)\n",
    "plt.ylabel('X', fontsize = 14)\n",
    "plt.xlim(0,3)\n",
    "plt.ylim(0,1)\n",
    "plt.legend(loc = 'upper left')\n",
    "plt.show()"
   ]
  },
  {
   "cell_type": "markdown",
   "metadata": {
    "id": "Gqb6beLx_xOy"
   },
   "source": [
    "### Higher Order Methods for solving ODEs\n",
    "\n",
    "We also introduced higher order methods, like an explicit Runge-Kutta iteration, which improves dramatically on the accuracy of an Euler method.  It is more complex to write the code, but it is the same basic concept: we use the current value of the derivative of a function to estimate how that function will change with a change in the independent variable (t here).  This allows us to approximate where the function (x) will be at some point in the future (t).\n",
    "\n",
    "The script below will do this with a basic for loop.\n",
    "\n",
    "#### Code for Homebrew Runge Kutta Method\n",
    "\n",
    "```python\n",
    "nsteps = 5\n",
    "tmax   = 3\n",
    "h      = tmax/nsteps\n",
    "xRK    = np.zeros(nsteps+1) #RK values\n",
    "tRK    = np.zeros(nsteps+1)  #RK values\n",
    "tEU    = np.zeros(nsteps+1) #Euler values\n",
    "xEU    = np.zeros(nsteps+1) #Euler values\n",
    "\n",
    "#Euler method\n",
    "for i in range(0, nsteps):\n",
    "    xEU[i+1] = xEU[i] + h*dx(xEU[i])\n",
    "    tEU[i+1] = tEU[i] + h\n",
    "\n",
    "#RK Method\n",
    "for i in range(0, nsteps):\n",
    "    dxdt  = dx(xRK[i]) #compute derivative, dx/dt @ x[i], t[i]\n",
    "    k1    = dxdt       #RK parameter \"k1[i]\" is equal to derivative \"dxdt[i] \n",
    "    k2    = dx(xRK[i] + h/2*k1) #RK parameter \"k2[i]\" is a function of x and dxdt\n",
    "    k3    = dx(xRK[i] + h/2*k2) #RK parameter \"k3[i]\" is a function of x and dxdt\n",
    "    k4    = dx(xRK[i] + h*k3)   #RK parameter \"k4[i]\" is a function of x and dxdt\n",
    "    \n",
    "    xRK[i+1] = xRK[i] + 1/6*h*(k1 + 2*k2 + 2*k3 + k4) #value of x after step is taken\n",
    "    tRK[i+1] = tRK[i] + h #step time forward by h\n",
    "    \n",
    "print(f'At t = 4 with {nsteps} steps and a step size of {h:0.8f}:\\n the RK method predits that x = {xRK[-1]:0.5f}, and the true value is {x(tmax):0.5f}')    \n",
    "plt.figure(1, figsize = (5, 5))\n",
    "plt.plot(tplot, xplot, label = 'Analytical Solution')\n",
    "plt.scatter(tEU, xEU, color = 'red', marker = 's', label = 'Euler Step')\n",
    "plt.scatter(tRK, xRK, label = 'Runge Kutta', marker = 'o', color = 'black')\n",
    "plt.xlabel('time', fontsize = 14)\n",
    "plt.ylabel('X', fontsize = 14)\n",
    "plt.xlim(0,3)\n",
    "plt.ylim(0,1)\n",
    "plt.legend(loc = 'upper left')\n",
    "plt.show()\n",
    "```"
   ]
  },
  {
   "cell_type": "code",
   "execution_count": 5,
   "metadata": {
    "colab": {
     "base_uri": "https://localhost:8080/",
     "height": 377
    },
    "executionInfo": {
     "elapsed": 341,
     "status": "ok",
     "timestamp": 1664900614057,
     "user": {
      "displayName": "Jesse Bond",
      "userId": "02368932895588355069"
     },
     "user_tz": 240
    },
    "id": "gNABzcSy_xOz",
    "outputId": "04b4827c-d617-481b-f9c4-6867548ffb9f"
   },
   "outputs": [
    {
     "name": "stdout",
     "output_type": "stream",
     "text": [
      "At t = 4 with 5 steps and a step size of 0.60000000:\n",
      " the RK method predits that x = 0.43149, and the true value is 0.43150\n"
     ]
    },
    {
     "data": {
      "image/png": "[encoded data removed]",
      "text/plain": [
       "<Figure size 360x360 with 1 Axes>"
      ]
     },
     "metadata": {
      "filenames": {
       "image/png": "C:\\Users\\jqbond\\Documents\\GitHub\\WebContent\\2022CEN587\\_build\\jupyter_execute\\Recitation\\587-R04_10_1.png"
      },
      "needs_background": "light"
     },
     "output_type": "display_data"
    }
   ],
   "source": [
    "nsteps = 5\n",
    "tmax   = 3\n",
    "h      = tmax/nsteps\n",
    "xRK    = np.zeros(nsteps+1) #RK values\n",
    "tRK    = np.zeros(nsteps+1)  #RK values\n",
    "tEU    = np.zeros(nsteps+1) #Euler values\n",
    "xEU    = np.zeros(nsteps+1) #Euler values\n",
    "\n",
    "#Euler method\n",
    "for i in range(0, nsteps):\n",
    "    xEU[i+1] = xEU[i] + h*dx(xEU[i])\n",
    "    tEU[i+1] = tEU[i] + h\n",
    "\n",
    "#RK Method\n",
    "for i in range(0, nsteps):\n",
    "    dxdt  = dx(xRK[i]) #compute derivative, dx/dt @ x[i], t[i]\n",
    "    k1    = dxdt       #RK parameter \"k1[i]\" is equal to derivative \"dxdt[i] \n",
    "    k2    = dx(xRK[i] + h/2*k1) #RK parameter \"k2[i]\" is a function of x and dxdt\n",
    "    k3    = dx(xRK[i] + h/2*k2) #RK parameter \"k3[i]\" is a function of x and dxdt\n",
    "    k4    = dx(xRK[i] + h*k3)   #RK parameter \"k4[i]\" is a function of x and dxdt\n",
    "\n",
    "    xRK[i+1] = xRK[i] + 1/6*h*(k1 + 2*k2 + 2*k3 + k4) #value of x after step is taken\n",
    "    tRK[i+1] = tRK[i] + h #step time forward by h\n",
    "\n",
    "print(f'At t = 4 with {nsteps} steps and a step size of {h:0.8f}:\\n the RK method predits that x = {xRK[-1]:0.5f}, and the true value is {x(tmax):0.5f}')    \n",
    "plt.figure(1, figsize = (5, 5))\n",
    "plt.plot(tplot, xplot, label = 'Analytical Solution')\n",
    "plt.scatter(tEU, xEU, color = 'red', marker = 's', label = 'Euler Step')\n",
    "plt.scatter(tRK, xRK, label = 'Runge Kutta', marker = 'o', color = 'black')\n",
    "plt.xlabel('time', fontsize = 14)\n",
    "plt.ylabel('X', fontsize = 14)\n",
    "plt.xlim(0,3)\n",
    "plt.ylim(0,1)\n",
    "plt.legend(loc = 'upper left')\n",
    "plt.show()"
   ]
  },
  {
   "cell_type": "markdown",
   "metadata": {
    "id": "_u3b49jE_xOz"
   },
   "source": [
    "### ODE Solvers in Python\n",
    "\n",
    "While writing numerical methods using loops is good from an educational standpoint, it is cumbersome and inefficient. There are options in Python's scipy package that do the above, but give us access to many additional options and solvers beyond Runge-Kutta that may be necessary for more difficult problems.  As an example, see below.  We can duplicate that whole RK loop using a few lines of code with `solve_ivp` from `scipy.integrate`.\n",
    "\n",
    "The main thing to keep in mind when using `solve_ivp` is that, similar to `opt.root`, it will operate on a function that we define.  That function has a few particular formatting and syntax requirements.  By default, the function that we create needs to:\n",
    "\n",
    "1. Be of the form $f(\\mathrm{independent variable, dependent variable})$, e.g., $f(t, x)$\n",
    "2. Have only one independent variable (e.g., t) and an array of dependent variables.\n",
    "3. Return the derivative of each dependent variable at the current state of the system.\n",
    "\n",
    "### Code for ODE solvers in Python\n",
    "\n",
    "```python\n",
    "#Using ODE solver from scipy.integrate.\n",
    "def DX(t, x): #function has to be in form f(independent variable, dependent variable)\n",
    "    return k*(1 - x)**2\n",
    "tspan = (0.0, 3.0) #2 element array like structure (list, tuple, np.array, etc)\n",
    "x0    = np.array([0.0])\n",
    "ans   = solve_ivp(DX, tspan, x0)\n",
    "print(ans)\n",
    "```"
   ]
  },
  {
   "cell_type": "code",
   "execution_count": 6,
   "metadata": {
    "executionInfo": {
     "elapsed": 180,
     "status": "ok",
     "timestamp": 1664900619373,
     "user": {
      "displayName": "Jesse Bond",
      "userId": "02368932895588355069"
     },
     "user_tz": 240
    },
    "id": "CbIPF8lf_xO0"
   },
   "outputs": [
    {
     "data": {
      "text/plain": [
       "float"
      ]
     },
     "execution_count": 6,
     "metadata": {},
     "output_type": "execute_result"
    }
   ],
   "source": [
    "def DX(t, x):\n",
    "  der = k*(1-x)**2\n",
    "  return der\n",
    "tspan = (0.0, 3.0)\n",
    "x0    = np.array([0.0])\n",
    "ans = solve_ivp(DX, tspan, x0)\n",
    "type(0.0)"
   ]
  },
  {
   "cell_type": "markdown",
   "metadata": {
    "id": "pZgErg8B_xO0"
   },
   "source": [
    "Notice that this is actually pretty similar to the way we use `opt.root`.  The particulars about how we format the function are a little different, but there are many common features, one of which is that `solve_ivp` returns a solution structure with a lot of information in it.\n",
    "\n",
    "The biggest things we'll want to check is whether the solution converged (.success or .message); the values of the independent variable (.t field); and the values of the dependent variable (.y field).\n",
    "\n",
    "We should take a look at the dimensions of the sol.t and sol.y fields.  This can cause some quirks when we try to use them.\n",
    "\n",
    "#### Reference Code\n",
    "\n",
    "```python\n",
    "print(ans)\n",
    "print(ans.message)\n",
    "print(ans.success)\n",
    "print(ans.t)\n",
    "print(ans.y)\n",
    "print(ans.t.shape)\n",
    "print(ans.y.shape)\n",
    "print(ans.t.ndim)\n",
    "print(ans.y.ndim)\n",
    "```\n"
   ]
  },
  {
   "cell_type": "code",
   "execution_count": 7,
   "metadata": {
    "colab": {
     "base_uri": "https://localhost:8080/"
    },
    "executionInfo": {
     "elapsed": 156,
     "status": "ok",
     "timestamp": 1664900622076,
     "user": {
      "displayName": "Jesse Bond",
      "userId": "02368932895588355069"
     },
     "user_tz": 240
    },
    "id": "SPQtD72v_xO0",
    "outputId": "aa21ca8c-afb5-4cac-80e3-0ed4471a3601"
   },
   "outputs": [
    {
     "name": "stdout",
     "output_type": "stream",
     "text": [
      "1\n"
     ]
    }
   ],
   "source": [
    "print(ans.t.ndim)"
   ]
  },
  {
   "cell_type": "markdown",
   "metadata": {
    "id": "zJdaDLYp_xO0"
   },
   "source": [
    "#### Extracting information from the solution structure\n",
    "\n",
    "If we want to know the value of our dependent variable (x) at a t = 3, well, we integrated this problem from 0 to 3, so the last value in our sol.y set is the one that we want.  We can extract it from that array and see that it agrees very closely with the analytical solution (notice issues with indexing due to 2D shape of sol.y).\n",
    "\n",
    "#### Reference Code\n",
    "\n",
    "```python\n",
    "ans.y\n",
    "ans.y[0]\n",
    "ans.y[0][7]\n",
    "ans.y[0,7]\n",
    "ans.y[0,-1]\n",
    "print(f'At t = 3, solve_IVP gives x = {ans.y[0,-1]:0.4f}, and the analytical solution is x = {x(3.0):0.4f}')\n",
    "```\n"
   ]
  },
  {
   "cell_type": "code",
   "execution_count": 8,
   "metadata": {
    "colab": {
     "base_uri": "https://localhost:8080/"
    },
    "executionInfo": {
     "elapsed": 5,
     "status": "ok",
     "timestamp": 1664900625042,
     "user": {
      "displayName": "Jesse Bond",
      "userId": "02368932895588355069"
     },
     "user_tz": 240
    },
    "id": "chy9T0fd_xO0",
    "outputId": "d52b4f32-0c21-492d-983f-d5f947b38ee5"
   },
   "outputs": [
    {
     "name": "stdout",
     "output_type": "stream",
     "text": [
      "At t = 3, solve_IVP gives x = 0.4314, and the analytical solution is x = 0.4315\n"
     ]
    }
   ],
   "source": [
    "print(f'At t = 3, solve_IVP gives x = {ans.y[0,-1]:0.4f}, and the analytical solution is x = {x(3.0):0.4f}')"
   ]
  },
  {
   "cell_type": "markdown",
   "metadata": {
    "id": "kVpeT05Z_xO0"
   },
   "source": [
    "#### Graphing the solution from Python's ODE solver\n",
    "\n",
    "Now that we have the problem solved, we can plot the data.  \n",
    "\n",
    "Some things to notice--first, it is very accurate compared to an Euler method, with very little effort and using only default options.  Second, this solver does not take uniform steps, nor do we get control over the steps it takes by default.  In general, these algorithms use adaptive step sizes which makes them very efficient. We are usually going to want the solver to pick the time steps for us.\n",
    "\n",
    "#### Reference Code\n",
    "\n",
    "```python\n",
    "tout = ans.t\n",
    "xout = ans.y[0]\n",
    "plt.figure(1, figsize = (5, 5))\n",
    "plt.plot(tplot, xplot, label = 'Analytical Solution')\n",
    "plt.scatter(tEU, xEU, color = 'red', marker = 's', label = 'Euler Step')\n",
    "plt.scatter(tRK, xRK, label = 'Runge Kutta', marker = 'o', color = 'black')\n",
    "plt.scatter(tout, xout, c = 'None', edgecolor = 'black', label = \"Solve_IVP\")\n",
    "plt.xlabel('time', fontsize = 14)\n",
    "plt.ylabel('X', fontsize = 14)\n",
    "plt.xlim(0,3)\n",
    "plt.ylim(0,1)\n",
    "plt.legend(loc = 'upper left')\n",
    "plt.show()\n",
    "```"
   ]
  },
  {
   "cell_type": "code",
   "execution_count": 9,
   "metadata": {
    "colab": {
     "base_uri": "https://localhost:8080/",
     "height": 342
    },
    "executionInfo": {
     "elapsed": 373,
     "status": "ok",
     "timestamp": 1664900628737,
     "user": {
      "displayName": "Jesse Bond",
      "userId": "02368932895588355069"
     },
     "user_tz": 240
    },
    "id": "V2F1LARk_xO1",
    "outputId": "7813611e-110a-4fc9-d5b1-9c44acc9def4"
   },
   "outputs": [
    {
     "data": {
      "image/png": "[encoded data removed]",
      "text/plain": [
       "<Figure size 360x360 with 1 Axes>"
      ]
     },
     "metadata": {
      "filenames": {
       "image/png": "C:\\Users\\jqbond\\Documents\\GitHub\\WebContent\\2022CEN587\\_build\\jupyter_execute\\Recitation\\587-R04_18_0.png"
      },
      "needs_background": "light"
     },
     "output_type": "display_data"
    }
   ],
   "source": [
    "tout = ans.t\n",
    "xout = ans.y[0]\n",
    "plt.figure(1, figsize = (5, 5))\n",
    "plt.plot(tplot, xplot, label = 'Analytical Solution')\n",
    "# plt.scatter(tEU, xEU, color = 'red', marker = 's', label = 'Euler Step')\n",
    "# plt.scatter(tRK, xRK, label = 'Runge Kutta', marker = 'o', color = 'black')\n",
    "plt.scatter(tout, xout, c = 'None', edgecolor = 'black', label = \"Solve_IVP\")\n",
    "plt.xlabel('time', fontsize = 14)\n",
    "plt.ylabel('X', fontsize = 14)\n",
    "plt.xlim(0,3)\n",
    "plt.ylim(0,1)\n",
    "plt.legend(loc = 'upper left')\n",
    "plt.show()"
   ]
  },
  {
   "cell_type": "markdown",
   "metadata": {
    "id": "0RaF4jkv_xO1"
   },
   "source": [
    "## A more common question in reactor design:\n",
    "\n",
    "Given:\n",
    "\n",
    "$$\\frac{dx}{dt} = k\\left(1 - x\\right)^2$$\n",
    "\n",
    "The initial value of x is zero.\n",
    "\n",
    "For this system, k = 0.253 min$^{-1}$. How long will it take for x to reach a value of 0.85?"
   ]
  },
  {
   "cell_type": "markdown",
   "metadata": {
    "id": "RM1mJc1G_xO1"
   },
   "source": [
    "#### Solution to the more common question in reactor design\n",
    "\n",
    "Above, we solved analytically for x(t); let's plot it over a large time span to see about where this happens.\n",
    "\n",
    "#### Reference Code\n",
    "\n",
    "```python\n",
    "tplot = np.linspace(0,30,100)\n",
    "xplot = x(tplot)\n",
    "plt.figure(1, figsize = (5, 5))\n",
    "plt.plot(tplot, xplot, label = 'Analytical')\n",
    "plt.hlines(0.85, tplot[0], tplot[-1], linestyle = 'dashed', color = 'black', linewidth = 0.75)\n",
    "plt.vlines(22.397891963109352, 0, 1, linestyle = 'dashed', color = 'red', linewidth = 0.75)\n",
    "plt.xlabel('time', fontsize = 14)\n",
    "plt.ylabel('X', fontsize = 14)\n",
    "plt.xlim(0,30)\n",
    "plt.ylim(0,1)\n",
    "plt.legend(loc = 'upper left')\n",
    "plt.show()\n",
    "```"
   ]
  },
  {
   "cell_type": "code",
   "execution_count": 10,
   "metadata": {
    "colab": {
     "base_uri": "https://localhost:8080/",
     "height": 342
    },
    "executionInfo": {
     "elapsed": 342,
     "status": "ok",
     "timestamp": 1664900634621,
     "user": {
      "displayName": "Jesse Bond",
      "userId": "02368932895588355069"
     },
     "user_tz": 240
    },
    "id": "hORWW3sr_xO1",
    "outputId": "ab560b4f-88fd-4658-c528-07157ab34f64"
   },
   "outputs": [
    {
     "data": {
      "image/png": "[encoded data removed]",
      "text/plain": [
       "<Figure size 360x360 with 1 Axes>"
      ]
     },
     "metadata": {
      "filenames": {
       "image/png": "C:\\Users\\jqbond\\Documents\\GitHub\\WebContent\\2022CEN587\\_build\\jupyter_execute\\Recitation\\587-R04_21_0.png"
      },
      "needs_background": "light"
     },
     "output_type": "display_data"
    }
   ],
   "source": [
    "tplot = np.linspace(0,30,100)\n",
    "xplot = x(tplot)\n",
    "plt.figure(1, figsize = (5, 5))\n",
    "plt.plot(tplot, xplot, label = 'Analytical')\n",
    "plt.hlines(0.85, tplot[0], tplot[-1], linestyle = 'dashed', color = 'black', linewidth = 0.75)\n",
    "plt.vlines(22.397891963109352, 0, 1, linestyle = 'dashed', color = 'red', linewidth = 0.75)\n",
    "plt.xlabel('time', fontsize = 14)\n",
    "plt.ylabel('X', fontsize = 14)\n",
    "plt.xlim(0,30)\n",
    "plt.ylim(0,1)\n",
    "plt.legend(loc = 'upper left')\n",
    "plt.show()"
   ]
  },
  {
   "cell_type": "markdown",
   "metadata": {
    "id": "oFOBUTAB_xO2"
   },
   "source": [
    "From the graph, we can see that somewhere around 25 minutes, the value of x is approximately 0.85.  We can do better than that though.  In many ways.\n",
    "\n",
    "### Analytical Solution\n",
    "\n",
    "First, for an easy problem like this, we recall that we solve for t as a function of x at the very start:\n",
    "\n",
    "$$t(x) = \\frac{1}{k}\\left(\\frac{1}{1 - x} - 1\\right)$$\n",
    "\n",
    "With that function in hand, we can plug in the value of x = 0.85 and find the time required analytically.\n",
    "\n",
    "#### Code for analytical solution\n",
    "\n",
    "```python\n",
    "#Solve explicitly for time from analytical solution\n",
    "t = lambda x: 1/k*(1/(1 - x) - 1)\n",
    "print(t(0.85))\n",
    "```"
   ]
  },
  {
   "cell_type": "code",
   "execution_count": 11,
   "metadata": {
    "colab": {
     "base_uri": "https://localhost:8080/"
    },
    "executionInfo": {
     "elapsed": 126,
     "status": "ok",
     "timestamp": 1664900638073,
     "user": {
      "displayName": "Jesse Bond",
      "userId": "02368932895588355069"
     },
     "user_tz": 240
    },
    "id": "dC71Plo8_xO2",
    "outputId": "a1f793dc-4cb5-4731-a057-a6130d133fd3"
   },
   "outputs": [
    {
     "name": "stdout",
     "output_type": "stream",
     "text": [
      "22.397891963109352\n"
     ]
    }
   ],
   "source": [
    "# Solve explicitly for time from analytical solution\n",
    "t = lambda x: 1/k*(1/(1 - x) - 1)\n",
    "print(t(0.85))"
   ]
  },
  {
   "cell_type": "markdown",
   "metadata": {
    "id": "WsRR93IN_xO2"
   },
   "source": [
    "### Using scipy.optimize to find the requested information\n",
    "\n",
    "In some cases though, we might have x(t) as a highly nonlinear function that is difficult to solve. We should recognize that we do have an analytical solution for x(t), specifically:\n",
    "\n",
    "$$x(t) = 1 - \\frac{1}{1+kt}$$\n",
    "\n",
    "We can actually use that with lambda syntax to make a simple objective function and solve it with opt.newton.  This is an extremely useful technique. \n",
    "\n",
    "#### Code for scipy.optimize solution\n",
    "\n",
    "```python\n",
    "#We have a univariate x(t) function already...construct an objective with it\n",
    "obj = lambda t: x(t) - 0.85\n",
    "ans_newton, info = opt.newton(obj, 20, full_output = True)\n",
    "ans_newton\n",
    "print(f'{ans_newton:0.4f}, {t(0.85):0.4f}')\n",
    "```"
   ]
  },
  {
   "cell_type": "code",
   "execution_count": 12,
   "metadata": {
    "colab": {
     "base_uri": "https://localhost:8080/"
    },
    "executionInfo": {
     "elapsed": 171,
     "status": "ok",
     "timestamp": 1664900641403,
     "user": {
      "displayName": "Jesse Bond",
      "userId": "02368932895588355069"
     },
     "user_tz": 240
    },
    "id": "5PPaZq7e_xO2",
    "outputId": "1f8b38b7-58eb-42d6-94cc-f4e01413c691"
   },
   "outputs": [
    {
     "name": "stdout",
     "output_type": "stream",
     "text": [
      "22.3979, 22.3979\n"
     ]
    }
   ],
   "source": [
    "# We have a univariate x(t) function already...construct an objective with it\n",
    "obj = lambda t: x(t) - 0.85\n",
    "ans_newton, info = opt.newton(obj, 20, full_output = True)\n",
    "ans_newton\n",
    "print(f'{ans_newton:0.4f}, {t(0.85):0.4f}')"
   ]
  },
  {
   "cell_type": "markdown",
   "metadata": {
    "id": "1aQPdY5j_xO2"
   },
   "source": [
    "### More general and complex examples\n",
    "\n",
    "More commonly, though, we'll have legitimately hard problems that we can't solve by hand, so the above won't be options.  In these cases, we'll have to use numerical methods, and again, we have a few options.  For example, here, I can recognize that finding the time where x = 0.85 just involves solving this differential equation:\n",
    "\n",
    "$$\\frac{1}{(1-x)^2}dx = kdt$$\n",
    "\n",
    "For limits of x = (0.0, 0.85) and limits on t of (0, t), where the upper limit is what we want to solve for.  I do that by solving the equation below, which just amounts to a definite integral.\n",
    "\n",
    "$$\\int_0^{0.85}\\frac{1}{k(1-x)^2}dx = \\int_0^tdt = t$$\n",
    "\n",
    "Or, rearranging:\n",
    "\n",
    "$$t = \\int_0^{0.85}\\frac{1}{k(1-x)^2}dx$$\n",
    "\n",
    "This is a very common type of problem in reactor design, and it is a good application for Gaussian Quadrature:\n",
    "\n",
    "#### Code for solving with Gaussian Quadrature\n",
    "\n",
    "```python\n",
    "#Recognize that we just need to solve a definite integral and use quadrature\n",
    "integrand = lambda x: 1/k/(1 - x)**2\n",
    "integral, err = quadrature(integrand, 0, 0.85)\n",
    "print(f'{integral:0.4f}, {t(0.85):0.4f}')\n",
    "```"
   ]
  },
  {
   "cell_type": "code",
   "execution_count": 13,
   "metadata": {
    "colab": {
     "base_uri": "https://localhost:8080/"
    },
    "executionInfo": {
     "elapsed": 123,
     "status": "ok",
     "timestamp": 1664900649698,
     "user": {
      "displayName": "Jesse Bond",
      "userId": "02368932895588355069"
     },
     "user_tz": 240
    },
    "id": "rXHBLZ-__xO2",
    "outputId": "3d50def0-eea5-4745-d8a5-b85a6d3033c6"
   },
   "outputs": [
    {
     "data": {
      "text/plain": [
       "22.39789194382836"
      ]
     },
     "execution_count": 13,
     "metadata": {},
     "output_type": "execute_result"
    }
   ],
   "source": [
    "integrand = lambda x: 1/k/(1 - x)**2\n",
    "integral, err = quadrature(integrand, 0, 0.85)\n",
    "integral"
   ]
  },
  {
   "cell_type": "markdown",
   "metadata": {
    "id": "FsJgwEHT_xO2"
   },
   "source": [
    "### Combining solve_ivp with opt.newton\n",
    "\n",
    "Unfortunately, sometimes even that isn't possible.  We usually only get a definite integral like this when we have simple reactors and simple reactions...this method won't work very well when we have to analyze complex systems involving multiple species and multiple reactions.  In those cases, we'll almost always have to use an iterative solver like `solve_ivp`.  Those can be a little trickier to use in this type of problem where you are looking for the value of the independent variable (t here) that gets you a certain value of dependent variable (x here).\n",
    "\n",
    "The problem is that with an iterative solver like this, we give it a span of independent variable values to iterate over, and we don't know if it will reach the desired value in that span.  Even if it does, it is hard to say where within the span it will hit that value, so it can be a little work to back the correct answer out when we have to use an iterative solver.  There are some sophisticated ways to handle this that we may cover later in the semester, but for now, we'll just look at the basics.\n",
    "\n",
    "Below, we re-solve our ODE using `solve_ivp` (Runge Kutta type method), except we want to make sure that our x-value reaches 0.85.  So we pick a span of t values that we think is large enough to go past this value.  I'll say (0, 30).\n",
    "\n",
    "Let's resolve the problem and see what we get.\n",
    "\n",
    "#### Reference Code\n",
    "\n",
    "```python\n",
    "def DX(t, x): #function has to be in form f(independent variable, dependent variable)\n",
    "    return k*(1 - x)**2\n",
    "\n",
    "tspan = (0.0, 30.0)\n",
    "x0    = [0.0]\n",
    "ans2  = solve_ivp(DX, tspan, x0)\n",
    "ans2\n",
    "```"
   ]
  },
  {
   "cell_type": "code",
   "execution_count": 14,
   "metadata": {
    "colab": {
     "base_uri": "https://localhost:8080/"
    },
    "executionInfo": {
     "elapsed": 9,
     "status": "ok",
     "timestamp": 1664900652181,
     "user": {
      "displayName": "Jesse Bond",
      "userId": "02368932895588355069"
     },
     "user_tz": 240
    },
    "id": "GmQWhHwS_xO3",
    "outputId": "de67d5d2-1b0c-40b7-fbd2-7050461ceb89"
   },
   "outputs": [
    {
     "data": {
      "text/plain": [
       "  message: 'The solver successfully reached the end of the integration interval.'\n",
       "     nfev: 68\n",
       "     njev: 0\n",
       "      nlu: 0\n",
       "      sol: None\n",
       "   status: 0\n",
       "  success: True\n",
       "        t: array([0.00000000e+00, 1.00000000e-04, 1.10000000e-03, 1.11000000e-02,\n",
       "       1.11100000e-01, 1.11110000e+00, 2.97828855e+00, 5.84479777e+00,\n",
       "       1.03546956e+01, 1.75337433e+01, 2.92130262e+01, 3.00000000e+01])\n",
       " t_events: None\n",
       "        y: array([[0.00000000e+00, 2.52993599e-05, 2.78222571e-04, 2.80043554e-03,\n",
       "        2.73398240e-02, 2.19418001e-01, 4.29606264e-01, 5.96345844e-01,\n",
       "        7.23381599e-01, 8.15569975e-01, 8.80254824e-01, 8.83043281e-01]])\n",
       " y_events: None"
      ]
     },
     "execution_count": 14,
     "metadata": {},
     "output_type": "execute_result"
    }
   ],
   "source": [
    "tspan = (0.0, 30.0)\n",
    "x0    = [0.0]\n",
    "ans2  = solve_ivp(DX, tspan, x0)\n",
    "ans2"
   ]
  },
  {
   "cell_type": "markdown",
   "metadata": {
    "id": "xx5Y-F0z_xO3"
   },
   "source": [
    "We'll overlay the result with our analytical solution and see how we did; we'll zoom in on the targeted values of x to try to see where the solution is.\n",
    "\n",
    "#### Reference Code\n",
    "\n",
    "```python\n",
    "tout2 = ans2.t\n",
    "xout2 = ans2.y[0]\n",
    "tplot = np.linspace(0,30,1000)\n",
    "xplot = x(tplot)\n",
    "plt.figure(1, figsize = (5, 5))\n",
    "plt.plot(tplot, xplot, label = 'Analytical')\n",
    "plt.scatter(tout2, xout2, c = 'None', edgecolor = 'black', label = \"Solve_IVP\")\n",
    "plt.xlabel('time', fontsize = 14)\n",
    "plt.ylabel('X', fontsize = 14)\n",
    "#plt.xlim(15,30)\n",
    "#plt.ylim(0.8,0.9)\n",
    "plt.legend(loc = 'upper left')\n",
    "plt.show()\n",
    "```"
   ]
  },
  {
   "cell_type": "code",
   "execution_count": 15,
   "metadata": {
    "colab": {
     "base_uri": "https://localhost:8080/",
     "height": 338
    },
    "executionInfo": {
     "elapsed": 306,
     "status": "ok",
     "timestamp": 1664900655332,
     "user": {
      "displayName": "Jesse Bond",
      "userId": "02368932895588355069"
     },
     "user_tz": 240
    },
    "id": "SKMjqe-g_xO3",
    "outputId": "8a71e18e-86da-4c42-9e45-2760b2ed892d"
   },
   "outputs": [
    {
     "data": {
      "image/png": "[encoded data removed]",
      "text/plain": [
       "<Figure size 360x360 with 1 Axes>"
      ]
     },
     "metadata": {
      "filenames": {
       "image/png": "C:\\Users\\jqbond\\Documents\\GitHub\\WebContent\\2022CEN587\\_build\\jupyter_execute\\Recitation\\587-R04_31_0.png"
      },
      "needs_background": "light"
     },
     "output_type": "display_data"
    }
   ],
   "source": [
    "tout2 = ans2.t\n",
    "xout2 = ans2.y[0]\n",
    "tplot = np.linspace(0,30,1000)\n",
    "xplot = x(tplot)\n",
    "plt.figure(1, figsize = (5, 5))\n",
    "#plt.plot(tplot, xplot, label = 'Analytical')\n",
    "plt.scatter(tout2, xout2, c = 'None', edgecolor = 'black', label = \"Solve_IVP\")\n",
    "plt.xlabel('time', fontsize = 14)\n",
    "plt.ylabel('X', fontsize = 14)\n",
    "#plt.xlim(15,30)\n",
    "#plt.ylim(0.8,0.9)\n",
    "plt.legend(loc = 'upper left')\n",
    "plt.show()"
   ]
  },
  {
   "cell_type": "markdown",
   "metadata": {
    "id": "Q-tp4Hwu_xO3"
   },
   "source": [
    "### Finding the solution by interpolation\n",
    "\n",
    "Here, that issue of not knowing exactly where to \"step\" with the independent variable comes into play.  We see that the solver basically jumped right over the desired value of x = 0.85.  We can estimate the value of t where x = 0.85 using interpolation.  This is in the scipy.interpolate package; here' we'll use 1D interpolation.\n",
    "\n",
    "it has the syntax:\n",
    "\n",
    "    interp1d(\"x values\", \"y values\", kind = 'type of interpolation')\n",
    "\n",
    "It returns an interpolating polynomial that you can then evaluate at any new x-value that is within the limits of the x_values you put into the constructor.\n",
    "\n",
    "#### Reference Code\n",
    "\n",
    "```python\n",
    "int1 = interp1d(xout2, tout2, kind = 'linear')\n",
    "int1(0.85)\n",
    "print(f'{int1([0.85])[0]:0.4f}, {t(0.85):0.4f}')\n",
    "```"
   ]
  },
  {
   "cell_type": "code",
   "execution_count": 16,
   "metadata": {
    "colab": {
     "base_uri": "https://localhost:8080/"
    },
    "executionInfo": {
     "elapsed": 122,
     "status": "ok",
     "timestamp": 1664900666912,
     "user": {
      "displayName": "Jesse Bond",
      "userId": "02368932895588355069"
     },
     "user_tz": 240
    },
    "id": "aTYUH7aj_xO4",
    "outputId": "6617246a-32a4-4885-f8dc-e79c05524d4b"
   },
   "outputs": [
    {
     "name": "stdout",
     "output_type": "stream",
     "text": [
      "23.7503, 22.3979\n"
     ]
    }
   ],
   "source": [
    "int1 = interp1d(xout2, tout2, kind = 'linear')\n",
    "int1(0.85)\n",
    "print(f'{int1(0.85):0.4f}, {t(0.85):0.4f}')"
   ]
  },
  {
   "cell_type": "markdown",
   "metadata": {
    "id": "GaGXflew_xO4"
   },
   "source": [
    "We see that it has some inaccuracy compared to our analytical solution!  This is because we are using a straight line to predict the value of a point in between two points on a curved line. \n",
    "\n",
    "#### Reference Code\n",
    "\n",
    "```python\n",
    "plt.figure(1, figsize = (5, 5))\n",
    "plt.plot(tplot, xplot, label = 'Analytical')\n",
    "plt.scatter(tout2, xout2, c = 'None', edgecolor = 'black', label = \"Solve_IVP\")\n",
    "plt.xlabel('time', fontsize = 14)\n",
    "plt.ylabel('X', fontsize = 14)\n",
    "plt.xlim(15,30)\n",
    "plt.ylim(0.8,0.9)\n",
    "plt.legend(loc = 'upper left')\n",
    "plt.show()\n",
    "```"
   ]
  },
  {
   "cell_type": "code",
   "execution_count": 17,
   "metadata": {
    "colab": {
     "base_uri": "https://localhost:8080/",
     "height": 342
    },
    "executionInfo": {
     "elapsed": 502,
     "status": "ok",
     "timestamp": 1664900675392,
     "user": {
      "displayName": "Jesse Bond",
      "userId": "02368932895588355069"
     },
     "user_tz": 240
    },
    "id": "7p4joZ9m_xO4",
    "outputId": "75ac1454-1dc8-4ae3-cbd2-66509d44423f"
   },
   "outputs": [
    {
     "data": {
      "image/png": "[encoded data removed]",
      "text/plain": [
       "<Figure size 360x360 with 1 Axes>"
      ]
     },
     "metadata": {
      "filenames": {
       "image/png": "C:\\Users\\jqbond\\Documents\\GitHub\\WebContent\\2022CEN587\\_build\\jupyter_execute\\Recitation\\587-R04_35_0.png"
      },
      "needs_background": "light"
     },
     "output_type": "display_data"
    }
   ],
   "source": [
    "plt.figure(1, figsize = (5, 5))\n",
    "plt.plot(tplot, xplot, label = 'Analytical')\n",
    "plt.scatter(tout2, xout2, c = 'None', edgecolor = 'black', label = \"Solve_IVP\")\n",
    "plt.xlabel('time', fontsize = 14)\n",
    "plt.ylabel('X', fontsize = 14)\n",
    "plt.xlim(15,30)\n",
    "plt.ylim(0.8,0.9)\n",
    "plt.legend(loc = 'upper left')\n",
    "plt.show()"
   ]
  },
  {
   "cell_type": "markdown",
   "metadata": {
    "id": "_0O5Gwn__xO4"
   },
   "source": [
    "### Cubic spline interpolation\n",
    "\n",
    "For nonlinear functions, like x(t), we can improve accuracy some by using a cubic spline:\n",
    "\n",
    "#### Reference Code\n",
    "\n",
    "```python\n",
    "int1 = interp1d(xout2, tout2, kind = 'cubic')\n",
    "print(f'{int1([0.85])[0]:0.4f}, {t(0.85):0.4f}')\n",
    "```"
   ]
  },
  {
   "cell_type": "code",
   "execution_count": 18,
   "metadata": {
    "colab": {
     "base_uri": "https://localhost:8080/"
    },
    "executionInfo": {
     "elapsed": 149,
     "status": "ok",
     "timestamp": 1664900682621,
     "user": {
      "displayName": "Jesse Bond",
      "userId": "02368932895588355069"
     },
     "user_tz": 240
    },
    "id": "YakgquTU_xO4",
    "outputId": "ea09fd3c-c52f-4be9-cd7b-aef50fc2080a"
   },
   "outputs": [
    {
     "name": "stdout",
     "output_type": "stream",
     "text": [
      "22.4355, 22.3979\n"
     ]
    }
   ],
   "source": [
    "int1 = interp1d(xout2, tout2, kind = 'cubic')\n",
    "print(f'{int1(0.85):0.4f}, {t(0.85):0.4f}')"
   ]
  },
  {
   "cell_type": "markdown",
   "metadata": {
    "id": "tkk85MTa_xO4"
   },
   "source": [
    "This does a better job, but it is still a rough approximation to the true solution. The reason is that the two points we are looking at are actually a bit far away from x = 0.85.\n",
    "\n",
    "#### Reference Code\n",
    "\n",
    "```python\n",
    "plt.figure(1, figsize = (5, 5))\n",
    "plt.plot(tplot, xplot, label = 'Analytical')\n",
    "plt.scatter(tout2, xout2, c = 'None', edgecolor = 'black', label = \"Solve_IVP\")\n",
    "plt.xlabel('time', fontsize = 14)\n",
    "plt.ylabel('X', fontsize = 14)\n",
    "plt.xlim(15,30)\n",
    "plt.ylim(0.8,0.9)\n",
    "plt.legend(loc = 'upper left')\n",
    "plt.show()\n",
    "```"
   ]
  },
  {
   "cell_type": "code",
   "execution_count": 19,
   "metadata": {
    "colab": {
     "base_uri": "https://localhost:8080/",
     "height": 342
    },
    "executionInfo": {
     "elapsed": 153,
     "status": "ok",
     "timestamp": 1664900686283,
     "user": {
      "displayName": "Jesse Bond",
      "userId": "02368932895588355069"
     },
     "user_tz": 240
    },
    "id": "6tlNHw4k_xO5",
    "outputId": "bdd52261-6cf8-49ac-ac9a-f00856f210e0"
   },
   "outputs": [
    {
     "data": {
      "image/png": "[encoded data removed]",
      "text/plain": [
       "<Figure size 360x360 with 1 Axes>"
      ]
     },
     "metadata": {
      "filenames": {
       "image/png": "C:\\Users\\jqbond\\Documents\\GitHub\\WebContent\\2022CEN587\\_build\\jupyter_execute\\Recitation\\587-R04_39_0.png"
      },
      "needs_background": "light"
     },
     "output_type": "display_data"
    }
   ],
   "source": [
    "plt.figure(1, figsize = (5, 5))\n",
    "plt.plot(tplot, xplot, label = 'Analytical')\n",
    "plt.scatter(tout2, xout2, c = 'None', edgecolor = 'black', label = \"Solve_IVP\")\n",
    "plt.xlabel('time', fontsize = 14)\n",
    "plt.ylabel('X', fontsize = 14)\n",
    "plt.xlim(0,30)\n",
    "plt.ylim(0.0,0.9)\n",
    "plt.legend(loc = 'upper left')\n",
    "plt.show()"
   ]
  },
  {
   "cell_type": "markdown",
   "metadata": {
    "id": "sju_CVm4_xO5"
   },
   "source": [
    "### Integration Tolerances\n",
    "\n",
    "We can improve the precision of the integration, which increases the number of points available for interpolation and allows us to use points closer to the true value.\n",
    "\n",
    "#### Reference Code\n",
    "\n",
    "```python\n",
    "tspan = (0.0, 30.0)\n",
    "x0    = [0.0]\n",
    "ans3  = solve_ivp(DX, tspan, x0, atol = 1e-10, rtol = 1e-10)\n",
    "tout3 = ans3.t\n",
    "xout3 = ans3.y[0]\n",
    "tplot = np.linspace(0,30,1000)\n",
    "xplot = x(tplot)\n",
    "plt.figure(1, figsize = (5, 5))\n",
    "plt.plot(tplot, xplot, label = 'Analytical')\n",
    "plt.scatter(tout3, xout3, c = 'None', edgecolor = 'black', label = \"Solve_IVP\")\n",
    "plt.xlabel('time', fontsize = 14)\n",
    "plt.ylabel('X', fontsize = 14)\n",
    "plt.xlim(15,30)\n",
    "plt.ylim(0.8,0.9)\n",
    "plt.legend(loc = 'upper left')\n",
    "plt.show()\n",
    "int1 = interp1d(xout3, tout3, kind = 'cubic')\n",
    "print(f'{int1([0.85])[0]:0.4f}, {t(0.85):0.4f}')\n",
    "```"
   ]
  },
  {
   "cell_type": "code",
   "execution_count": 20,
   "metadata": {
    "colab": {
     "base_uri": "https://localhost:8080/",
     "height": 359
    },
    "executionInfo": {
     "elapsed": 220,
     "status": "ok",
     "timestamp": 1664900704246,
     "user": {
      "displayName": "Jesse Bond",
      "userId": "02368932895588355069"
     },
     "user_tz": 240
    },
    "id": "3v6kN2Xi_xO5",
    "outputId": "4aeed2a7-9623-4adf-aada-c7ac150c811d"
   },
   "outputs": [
    {
     "data": {
      "image/png": "[encoded data removed]",
      "text/plain": [
       "<Figure size 360x360 with 1 Axes>"
      ]
     },
     "metadata": {
      "filenames": {
       "image/png": "C:\\Users\\jqbond\\Documents\\GitHub\\WebContent\\2022CEN587\\_build\\jupyter_execute\\Recitation\\587-R04_41_0.png"
      },
      "needs_background": "light"
     },
     "output_type": "display_data"
    },
    {
     "name": "stdout",
     "output_type": "stream",
     "text": [
      "22.3979, 22.3979\n"
     ]
    }
   ],
   "source": [
    "tspan = (0.0, 30.0)\n",
    "x0    = [0.0]\n",
    "ans3  = solve_ivp(DX, tspan, x0, atol = 1e-10, rtol = 1e-10)\n",
    "tout3 = ans3.t\n",
    "xout3 = ans3.y[0]\n",
    "tplot = np.linspace(0,30,1000)\n",
    "xplot = x(tplot)\n",
    "plt.figure(1, figsize = (5, 5))\n",
    "plt.plot(tplot, xplot, label = 'Analytical')\n",
    "plt.scatter(tout3, xout3, c = 'None', edgecolor = 'black', label = \"Solve_IVP\")\n",
    "plt.xlabel('time', fontsize = 14)\n",
    "plt.ylabel('X', fontsize = 14)\n",
    "plt.xlim(15,30)\n",
    "plt.ylim(0.8,0.9)\n",
    "plt.legend(loc = 'upper left')\n",
    "plt.show()\n",
    "int1 = interp1d(xout3, tout3, kind = 'cubic')\n",
    "print(f'{int1(0.85):0.4f}, {t(0.85):0.4f}')"
   ]
  },
  {
   "cell_type": "markdown",
   "metadata": {
    "id": "5UaB-ZJn_xO5"
   },
   "source": [
    "### Combining IVP with scipy.optimize\n",
    "\n",
    "My preferred solution is actually below.  It is very common that we want to evaluate differential equation solutions at points other than those chosen by the solver, and Python provides us a nice way to do that.\n",
    "\n",
    "Specifically, it will output an interpolating polynomial directly as part of our solution structure.  We do this by turning on the dense_output option. We'll look at how to use this interpolating polynomial, it's really useful!!\n",
    "\n",
    "#### Reference Code\n",
    "\n",
    "```python\n",
    "ans4 = solve_ivp(DX, (0, 30), [0], dense_output = True, rtol = 1e-10, atol = 1e-10)\n",
    "ans3\n",
    "ans4.sol(3)\n",
    "```"
   ]
  },
  {
   "cell_type": "code",
   "execution_count": 21,
   "metadata": {
    "colab": {
     "base_uri": "https://localhost:8080/"
    },
    "executionInfo": {
     "elapsed": 145,
     "status": "ok",
     "timestamp": 1664900709056,
     "user": {
      "displayName": "Jesse Bond",
      "userId": "02368932895588355069"
     },
     "user_tz": 240
    },
    "id": "314yR_rV_xO5",
    "outputId": "098d1c3b-5084-43c0-9235-0fc6dd52f38b"
   },
   "outputs": [
    {
     "data": {
      "text/plain": [
       "array([0.85057901])"
      ]
     },
     "execution_count": 21,
     "metadata": {},
     "output_type": "execute_result"
    }
   ],
   "source": [
    "ans4 = solve_ivp(DX, tspan, x0, dense_output = True, rtol = 1e-10, atol = 1e-10)\n",
    "ans4.sol(22.5)"
   ]
  },
  {
   "cell_type": "markdown",
   "metadata": {
    "id": "SfJL5Y0-_xO5"
   },
   "source": [
    "### Use the dense output to create an objective function\n",
    "\n",
    "One of my favorite ways to use the dense output is to create an objective function that we can solve to find where x = 0.85\n",
    "\n",
    "#### Code\n",
    "```python\n",
    "obj = lambda t: ans4.sol(t)[0] - 0.85\n",
    "ans5, info = opt.newton(obj, 20, full_output = True)\n",
    "print(f'{ans5:0.4f}, {t(0.85):0.4f}')\n",
    "```"
   ]
  },
  {
   "cell_type": "code",
   "execution_count": 22,
   "metadata": {
    "colab": {
     "base_uri": "https://localhost:8080/"
    },
    "executionInfo": {
     "elapsed": 298,
     "status": "ok",
     "timestamp": 1664900713036,
     "user": {
      "displayName": "Jesse Bond",
      "userId": "02368932895588355069"
     },
     "user_tz": 240
    },
    "id": "GQIUZxML_xO5",
    "outputId": "9bdaedb0-d4d8-4150-99bb-14f21426a1f9"
   },
   "outputs": [
    {
     "name": "stdout",
     "output_type": "stream",
     "text": [
      "22.3979, 22.3979\n"
     ]
    }
   ],
   "source": [
    "obj = lambda t: ans4.sol(t)[0] - 0.85\n",
    "ans5, info = opt.newton(obj, 20, full_output = True)\n",
    "print(f'{ans5:0.4f}, {t(0.85):0.4f}')"
   ]
  },
  {
   "cell_type": "markdown",
   "metadata": {
    "id": "FVY4IjCP_xO5"
   },
   "source": [
    "## Problem 2\n",
    "\n",
    "Solve the following system of ODEs; plot x and y on the domain from t = 0 to 5.\n",
    "\n",
    "\\begin{align}\n",
    "\\frac{dx}{dt} &= -x + y\\\\\n",
    "\\frac{dy}{dt} &=  x - y - 0.1y^2\\\\\n",
    "x(0) &= 10\\\\\n",
    "y(0) &= 20\n",
    "\\end{align}\n",
    "\n"
   ]
  },
  {
   "cell_type": "markdown",
   "metadata": {
    "id": "zD01vlGB_xO5"
   },
   "source": [
    "### Solution to Problem 02\n",
    "\n",
    "If you follow the approach above, and if you understood the difference between solving univariate equations with opt.newton compared to solving systems of equations with opt.root, this will be straightforward.\n",
    "\n",
    "I just have to recognize that the function we build here to pass to solve_ivp has to always have the structure:\n",
    "\n",
    "$$f(\\text{independent variable, dependent variable})$$\n",
    "\n",
    "In other words, `solve_ivp` will only really work directly on two arguments.  In this case, we have an independent variable (t) and two dependent variables (x,y).  As with `opt.root`, we have to stack those dependent variables inside of some type of list or array.\n",
    "\n",
    "Otherwise, the approach is identical. Check the solution outputs so that you understand how your values of the independent and dependent variables are stored in sol.y.\n",
    "\n",
    "#### Reference Code\n",
    "\n",
    "```python\n",
    "def P2(t, var):\n",
    "    x = var[0]\n",
    "    y = var[1]\n",
    "    d1 = -x + y\n",
    "    d2 =  x - y - 0.1*y**2\n",
    "    return np.array([d1, d2])\n",
    "tspan = (0, 5)\n",
    "var0  = [10, 20]\n",
    "P2sol = solve_ivp(P2, tspan, var0, rtol = 1e-6, atol = 1e-6)\n",
    "P2sol\n",
    "```"
   ]
  },
  {
   "cell_type": "code",
   "execution_count": 23,
   "metadata": {
    "colab": {
     "base_uri": "https://localhost:8080/"
    },
    "executionInfo": {
     "elapsed": 180,
     "status": "ok",
     "timestamp": 1663883941211,
     "user": {
      "displayName": "Jesse Bond",
      "userId": "02368932895588355069"
     },
     "user_tz": 240
    },
    "id": "K0vCuQa-_xO6",
    "outputId": "79bd1afe-6114-47c9-ad49-454ce60eb281"
   },
   "outputs": [
    {
     "data": {
      "text/plain": [
       "  message: 'The solver successfully reached the end of the integration interval.'\n",
       "     nfev: 170\n",
       "     njev: 0\n",
       "      nlu: 0\n",
       "      sol: None\n",
       "   status: 0\n",
       "  success: True\n",
       "        t: array([0.        , 0.01600333, 0.07348047, 0.13341476, 0.19961873,\n",
       "       0.27203071, 0.35093929, 0.43663085, 0.52946741, 0.62989276,\n",
       "       0.73846926, 0.85592268, 0.98318713, 1.12146609, 1.27232231,\n",
       "       1.43782191, 1.62078718, 1.82529416, 2.05782748, 2.33079378,\n",
       "       2.68162628, 3.03017147, 3.37871666, 3.72880688, 4.08540507,\n",
       "       4.45221308, 4.83094991, 5.        ])\n",
       " t_events: None\n",
       "        y: array([[10.        , 10.15256289, 10.59164198, 10.90355112, 11.11840061,\n",
       "        11.23763618, 11.26705888, 11.21418751, 11.08768196, 10.8966901 ,\n",
       "        10.65030235, 10.35709832, 10.02483566,  9.66025165,  9.26893873,\n",
       "         8.85524   ,  8.42208297,  7.97058303,  7.49892862,  6.99850385,\n",
       "         6.43079004,  5.93920905,  5.5085689 ,  5.12777362,  4.78497023,\n",
       "         4.47254698,  4.18623952,  4.06885595],\n",
       "       [20.        , 19.23190276, 16.92295808, 15.08222354, 13.51864663,\n",
       "        12.20579981, 11.10781282, 10.191839  ,  9.42753049,  8.78763558,\n",
       "         8.24802396,  7.7876295 ,  7.38834074,  7.03478211,  6.71402164,\n",
       "         6.41521841,  6.12919366,  5.84784313,  5.56309687,  5.26414736,\n",
       "         4.92263603,  4.62121196,  4.35094133,  4.10618608,  3.88068339,\n",
       "         3.67055279,  3.47387665,  3.39205468]])\n",
       " y_events: None"
      ]
     },
     "execution_count": 23,
     "metadata": {},
     "output_type": "execute_result"
    }
   ],
   "source": [
    "def P2(t, var):\n",
    "    x = var[0]\n",
    "    y = var[1]\n",
    "    d1 = -x + y\n",
    "    d2 =  x - y - 0.1*y**2\n",
    "    return np.array([d1, d2])\n",
    "  \n",
    "tspan = (0, 5)\n",
    "var0  = [10, 20]\n",
    "P2sol = solve_ivp(P2, tspan, var0, rtol = 1e-6, atol = 1e-6)\n",
    "P2sol"
   ]
  },
  {
   "cell_type": "markdown",
   "metadata": {
    "id": "dEoex5CD_xO6"
   },
   "source": [
    "### The Solution Structure for ODE systems\n",
    "\n",
    "Note again the shape of the independent variable in the solution structure (.t field) is a 1D structure, while the shape of the dependent variable (.y field) is a 2D array.  We have to take this into account when trying to use the information e.g., when plotting.\n",
    "\n",
    "#### Reference Code\n",
    "\n",
    "```python\n",
    "print(P2sol.t.shape)\n",
    "print(P2sol.y.shape)\n",
    "P2tout = P2sol.t\n",
    "P2xout = P2sol.y[0,:]\n",
    "P2yout = P2sol.y[1,:]\n",
    "print(P2xout.shape, P2yout.shape)\n",
    "print(P2xout)\n",
    "print(P2yout)\n",
    "```"
   ]
  },
  {
   "cell_type": "code",
   "execution_count": 24,
   "metadata": {
    "colab": {
     "base_uri": "https://localhost:8080/"
    },
    "executionInfo": {
     "elapsed": 147,
     "status": "ok",
     "timestamp": 1663884002929,
     "user": {
      "displayName": "Jesse Bond",
      "userId": "02368932895588355069"
     },
     "user_tz": 240
    },
    "id": "ZOojrvQd_xO6",
    "outputId": "b2412b93-5f32-4d78-8ff9-4704e78ef490"
   },
   "outputs": [
    {
     "name": "stdout",
     "output_type": "stream",
     "text": [
      "(28,)\n",
      "(2, 28)\n",
      "(28,) (28,)\n",
      "[10.         10.15256289 10.59164198 10.90355112 11.11840061 11.23763618\n",
      " 11.26705888 11.21418751 11.08768196 10.8966901  10.65030235 10.35709832\n",
      " 10.02483566  9.66025165  9.26893873  8.85524     8.42208297  7.97058303\n",
      "  7.49892862  6.99850385  6.43079004  5.93920905  5.5085689   5.12777362\n",
      "  4.78497023  4.47254698  4.18623952  4.06885595]\n",
      "[20.         19.23190276 16.92295808 15.08222354 13.51864663 12.20579981\n",
      " 11.10781282 10.191839    9.42753049  8.78763558  8.24802396  7.7876295\n",
      "  7.38834074  7.03478211  6.71402164  6.41521841  6.12919366  5.84784313\n",
      "  5.56309687  5.26414736  4.92263603  4.62121196  4.35094133  4.10618608\n",
      "  3.88068339  3.67055279  3.47387665  3.39205468]\n"
     ]
    }
   ],
   "source": [
    "print(P2sol.t.shape)\n",
    "print(P2sol.y.shape)\n",
    "P2tout = P2sol.t\n",
    "P2xout = P2sol.y[0,:]\n",
    "P2yout = P2sol.y[1,:]\n",
    "print(P2xout.shape, P2yout.shape)\n",
    "print(P2xout)\n",
    "print(P2yout)"
   ]
  },
  {
   "cell_type": "markdown",
   "metadata": {
    "id": "365XsBGg_xO6"
   },
   "source": [
    "### Visualizing the Solution to the ODE System\n",
    "\n",
    "And we can plot for visualization.\n",
    "\n",
    "#### Reference Code\n",
    "\n",
    "```python\n",
    "plt.figure(1, figsize = (5, 5))\n",
    "plt.plot(P2tout, P2xout, label = 'x')\n",
    "plt.plot(P2tout, P2yout, label = 'y')\n",
    "plt.xlabel('t', fontsize = 14)\n",
    "plt.ylabel('x, y', fontsize = 14)\n",
    "plt.xticks(fontsize = 11)\n",
    "plt.yticks(fontsize = 11)\n",
    "plt.xlim(0, 5)\n",
    "plt.ylim(0, 20)\n",
    "plt.legend()\n",
    "plt.show()\n",
    "```\n",
    "    "
   ]
  },
  {
   "cell_type": "code",
   "execution_count": 25,
   "metadata": {
    "colab": {
     "base_uri": "https://localhost:8080/",
     "height": 342
    },
    "executionInfo": {
     "elapsed": 335,
     "status": "ok",
     "timestamp": 1663884029323,
     "user": {
      "displayName": "Jesse Bond",
      "userId": "02368932895588355069"
     },
     "user_tz": 240
    },
    "id": "vbMVCy_1_xO6",
    "outputId": "f5952004-7cf0-42d8-862d-540c4abb6f3f"
   },
   "outputs": [
    {
     "data": {
      "image/png": "[encoded data removed]",
      "text/plain": [
       "<Figure size 360x360 with 1 Axes>"
      ]
     },
     "metadata": {
      "filenames": {
       "image/png": "C:\\Users\\jqbond\\Documents\\GitHub\\WebContent\\2022CEN587\\_build\\jupyter_execute\\Recitation\\587-R04_52_0.png"
      },
      "needs_background": "light"
     },
     "output_type": "display_data"
    }
   ],
   "source": [
    "plt.figure(1, figsize = (5, 5))\n",
    "plt.plot(P2tout, P2xout, label = 'x')\n",
    "plt.plot(P2tout, P2yout, label = 'y')\n",
    "plt.xlabel('t', fontsize = 14)\n",
    "plt.ylabel('x, y', fontsize = 14)\n",
    "plt.xticks(fontsize = 11)\n",
    "plt.yticks(fontsize = 11)\n",
    "plt.xlim(0, 5)\n",
    "plt.ylim(0, 20)\n",
    "plt.legend()\n",
    "plt.show()"
   ]
  }
 ],
 "metadata": {
  "colab": {
   "collapsed_sections": [],
   "provenance": []
  },
  "kernelspec": {
   "display_name": "Python 3 (ipykernel)",
   "language": "python",
   "name": "python3"
  },
  "language_info": {
   "codemirror_mode": {
    "name": "ipython",
    "version": 3
   },
   "file_extension": ".py",
   "mimetype": "text/x-python",
   "name": "python",
   "nbconvert_exporter": "python",
   "pygments_lexer": "ipython3",
   "version": "3.9.13"
  }
 },
 "nbformat": 4,
 "nbformat_minor": 1
}