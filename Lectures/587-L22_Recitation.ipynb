{
 "cells": [
  {
   "cell_type": "markdown",
   "metadata": {},
   "source": [
    "# Material Balances XIII\n",
    "\n",
    "This lecture introduces reactor design for systems involving multiple reactions."
   ]
  },
  {
   "cell_type": "code",
   "execution_count": null,
   "metadata": {},
   "outputs": [],
   "source": []
  },
  {
   "cell_type": "markdown",
   "metadata": {},
   "source": [
    "## Example Problem 01\n",
    "\n",
    "**Rawlings, Example 4.5**:\n",
    "\n",
    "You are carrying out Benzene Pyrolysis in a Plug Flow Reactor operating at 1033K and 1.0 atm.  The two reactions occurring in this system are $(1)$ benzene coupling to form diphenyl and hydrogen followed by $(2)$ a secondary reaction between benzene and diphenyl to form triphenyl and hydrogen:\n",
    "\n",
    "\\begin{align*}\n",
    "&2B \\longleftrightarrow D + H_2\\\\\n",
    "&B + D \\longleftrightarrow T + H_2\n",
    "\\end{align*}\n",
    "\n",
    "Both reactions are reversible and ***follow elementary rate laws***.  Rate constants and equilibrium concentration ratios ($K_C$) are given below.\n",
    "\n",
    "\\begin{align*}\n",
    "&k_1 = 7.0 \\ \\times 10^5 \\ \\textrm{L} \\ \\textrm{mol}^{-1} \\ \\textrm{h}^{-1}\\\\\n",
    "&k_2 = 4.0 \\ \\times 10^5 \\ \\textrm{L} \\ \\textrm{mol}^{-1} \\ \\textrm{h}^{-1}\\\\\n",
    "&K_{C_1} = 0.31\\\\\n",
    "&K_{C_2} = 0.48\n",
    "\\end{align*}\n",
    "\n",
    "1. If pure benzene is fed into the reactor at 60,000 moles per hour, find the PFR volume required to achieve 50\\% conversion of Benzene.\n",
    "2. Plot the mole fraction of each species as a function of PFR volume.\n",
    "\n",
    "**Answer**: 403.3 L"
   ]
  },
  {
   "cell_type": "code",
   "execution_count": null,
   "metadata": {},
   "outputs": [],
   "source": []
  },
  {
   "cell_type": "markdown",
   "metadata": {},
   "source": [
    "## Example Problem 02\n",
    "\n",
    "**Rawlings, Example 4.5 in a CSTR**:\n",
    "\n",
    "You are carrying out Benzene Pyrolysis in a CSTR operating at 1033K and 1.0 atm.  The two reactions occurring in this system are benzene coupling to form diphenyl and hydrogen followed by a secondary reaction between benzene and diphenyl to form triphenyl and hydrogen:\n",
    "\n",
    "\\begin{align*}\n",
    "&2B \\longleftrightarrow D + H_2\\\\\n",
    "&B + D \\longleftrightarrow T + H_2\n",
    "\\end{align*}\n",
    "\n",
    "Both reactions are reversible and follow elementary rate laws.  Rate constants and equilibrium concentration ratios ($K_C$) are given below.\n",
    "\n",
    "\\begin{align*}\n",
    "&k_1 = 7.0 \\ \\times 10^5 \\ \\textrm{L} \\ \\textrm{mol}^{-1} \\ \\textrm{h}^{-1}\\\\\n",
    "&k_2 = 4.0 \\ \\times 10^5 \\ \\textrm{L} \\ \\textrm{mol}^{-1} \\ \\textrm{h}^{-1}\\\\\n",
    "&K_{C_1} = 0.31\\\\\n",
    "&K_{C_2} = 0.48\n",
    "\\end{align*}\n",
    "\n",
    "1. If pure benzene is fed into the reactor at 60,000 moles per hour, find the CSTR volume required to achieve 50\\% conversion of Benzene.\n",
    "2. For extra awesome, plot the mole fraction of each species as a function of CSTR volume. Note that this is more difficult than doing so in the PFR example.\n",
    "\n",
    "**Answer**: 1315.6 L"
   ]
  },
  {
   "cell_type": "code",
   "execution_count": null,
   "metadata": {},
   "outputs": [],
   "source": []
  },
  {
   "cell_type": "markdown",
   "metadata": {},
   "source": [
    "## Example Problem 03\n",
    "\n",
    "In both reactors, what happens to the system composition as reactor volume approaches infinity? Are these compositions consistent with your expectations based on the data provided?"
   ]
  },
  {
   "cell_type": "code",
   "execution_count": null,
   "metadata": {},
   "outputs": [],
   "source": []
  }
 ],
 "metadata": {
  "colab": {
   "authorship_tag": "ABX9TyP0ZJPj0jWZ7tx7s+T6+2CS",
   "name": "P14.ipynb",
   "provenance": []
  },
  "kernelspec": {
   "display_name": "Python 3 (ipykernel)",
   "language": "python",
   "name": "python3"
  },
  "language_info": {
   "codemirror_mode": {
    "name": "ipython",
    "version": 3
   },
   "file_extension": ".py",
   "mimetype": "text/x-python",
   "name": "python",
   "nbconvert_exporter": "python",
   "pygments_lexer": "ipython3",
   "version": "3.13.5"
  }
 },
 "nbformat": 4,
 "nbformat_minor": 4
}
