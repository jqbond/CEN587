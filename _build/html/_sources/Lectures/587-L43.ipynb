{
 "cells": [
  {
   "cell_type": "markdown",
   "metadata": {},
   "source": [
    "# Lecture 43\n",
    "\n",
    "This lecture continues with Energy Balance example problems; it introduces the concept of steady state multiplicity in CSTRs."
   ]
  },
  {
   "cell_type": "code",
   "execution_count": 1,
   "metadata": {},
   "outputs": [],
   "source": [
    "import matplotlib.pyplot as plt\n",
    "import numpy as np\n",
    "import scipy.optimize as opt\n",
    "from scipy.integrate import solve_ivp\n",
    "from scipy.interpolate import interp1d"
   ]
  },
  {
   "cell_type": "markdown",
   "metadata": {},
   "source": [
    "## Energy Balances on Ideal Reactors\n",
    "\n",
    "### Batch Reactor\n",
    "\n",
    "The material balance for species j in a well-mixed batch reactor is:\n",
    "\n",
    "$$\\frac{dN_j}{dt} = R_jV$$\n",
    "\n",
    "In cases where we have either an incompressible fluid or our reactor operates at constant pressure, the energy balance on a batch reactor is:\n",
    "\n",
    "$$\\sum_j N_j \\bar{C}_{p,j} \\frac{dT}{dt} = -\\sum_i \\Delta H_{i} r_i V + \\dot{Q}$$\n",
    "\n",
    "A few notation conventions:  the bar over a property here means it is an intensive molar property for a species and it has units of \"per mole\".  $\\dot{Q}$ is the rate of heat exhange with the surroundings.  It is given by:\n",
    "\n",
    "$$\\dot{Q} = UA(T_a - T)$$\n",
    "\n",
    "### CSTR\n",
    "\n",
    "The material balance for species j in a CSTR is:\n",
    "\n",
    "$$\\frac{dN_j}{dt} = F_{jf} - F_j + R_jV$$\n",
    "\n",
    "If we have an incompressible fluid or a reactor operating at constant pressure, the energy balance on a CSTR is:\n",
    "\n",
    "$$\\sum_j N_j \\bar{C}_{p,j} \\frac{dT}{dt} = -\\sum_i \\Delta H_{i} r_i V + \\sum_j F_{jf}(\\bar{H}_{jf} - \\bar{H}_j) + \\dot{Q}$$\n",
    "\n",
    "The rate of heat exchange is the same as in a batch reactor:\n",
    "\n",
    "$$\\dot{Q} = UA(T_a - T)$$\n",
    "\n",
    "### PFR\n",
    "\n",
    "The material balance for species j in a PFR is:\n",
    "\n",
    "$$\\frac{dF_j}{dV} = R_j$$\n",
    "\n",
    "If we have an ideal gas or a reactor operating without a pressure drop, the energy balance for a PFR is:\n",
    "\n",
    "$$\\sum_j F_j \\bar{C}_{p,j} \\frac{dT}{dV} = -\\sum_i \\Delta H_{i} r_i + \\dot{q}$$\n",
    "\n",
    "For a PFR, we express the rate of heat transfer per unit volume, and it has a symbol $\\dot{q}$:\n",
    "\n",
    "$$\\dot{q} = Ua(T_a - T)$$"
   ]
  },
  {
   "cell_type": "markdown",
   "metadata": {},
   "source": [
    "## Example Problem 01\n",
    "\n",
    "(Fogler, Example 12.3) \n",
    "\t\n",
    "This example considers adibatic operation of a CSTR with process constraints.  It is also a great example of a \"word problem\" with units given in real world engineering dimensions (for the US).\n",
    "\n",
    "Propylene glycol ($C_3H_8O_2$ is produced by the hydrolysis of propylene oxide ($C_3H_6O$) in aqueous solutions with a dilute sulfuric acid catalyst ($H_2SO_4$):\n",
    "\n",
    "$$C_3H_6O + H_2O \\longrightarrow C_3H_8O_2$$\n",
    "\n",
    "But we'll use the shorthand:\n",
    "\n",
    "$$A + B \\longrightarrow C$$\n",
    "\n",
    "Over 900 million pounds of propylene glycol were produced in 2010, and the selling price was approximately \\$0.80 per pound.  Propylene glycol makes up about 25\\% of the major derivatives of propylene oxide.  When catalyzed by sulfuric acid, the reaction takes place readily at room temperature (T = 298K).\n",
    "\n",
    "You are the engineer in charge of an adiabatic CSTR producing propylene glycol by this method.  Unfortunately, the reactor is beginning to leak, and you must replace it. (You told your boss several times that sulfuric acid was corrosive and that mild steel was a poor material for construction. They wouldn't listen.) There is a nice-looking, shiny overflow CSTR of 300-gal capacity standing idle.  It is glass-lined, and you would like to use it.\n",
    "\n",
    "We are going to work this problem in lb-mass, s, ft$^3$, and lb-moles rather than g, mol, and m$^3$ to give the reader more practice in working in both English and Metric systems.  Many plants still use the English system of units.\n",
    "\n",
    "You are feeding 2500 lb$_m$/h (43.04 lb-mol/h) of propylene oxide (A) to the reactor.  The feed stream consists of (1) an equivolumetric mixture of propylene oxide (46.62 ft$^3$/h) and methanol (46.62 ft$^3$/h), and (2) water containing 0.1 wt% $H_2SO_4$. The volumetric flow rate of water into the CSTR is 233.1 ft$^3$/h, which is 2.5 times the methanol-propylene oxide volumetric flowrate.  The corresponding molar feed rates of methanol and water are 71.87 lb-mol/h and 802.8 lb-mol/h, respectively.  The water-propylene oxide-methanol mixgure undergoes a slight decrease in volume upon mixing (approximately 3\\%), but you can neglect this decrease in your calculations.  The temperature of both feed streams is 58$^\\circ$F prior to mixing, but there is an immediate 17$^\\circ$F temperautre rise upon mixing the two streames due to the heat of mixing. The entering temperature of the combined feed to the reactor is thus 75$^\\circ$F.\n",
    "\n",
    "Furusawa et al. state that under conditions similar to those at which you are operating, the reaction is first order in propylene oxide concentration, and apparent zero-order in excess water, with the rate constnat:\n",
    "\n",
    "$$k = A\\exp\\left(-\\frac{E_A}{RT}\\right)$$\n",
    "\n",
    "Where $E_A = 32,400$ BTU/lb-mol and $A = 16.96\\times 10^{12}$ h$^{-1}$.\n",
    "\n",
    "There is an important constraint on your operation: propylene oxide is a low boiling point substance.  With the mixture you are using, you cannot exceed an operating temperature of 125$^\\circ$F, or you will lose too much propylene oxide by vaporization through the vent system.\n",
    "\n",
    "Can you use the idle CSTR as a replacement for the leaking one if you operate it adiabatically?  If so, what will be the conversion of propylene oxide (A) to propylene glycol (C)?\n",
    "\n",
    "Additional useful data about this system are compiled below.\n",
    "\n",
    "\\begin{align}\t\t\n",
    "    \\Delta H^\\circ &= -36,000 \\ \\textrm{BTU} \\ \\textrm{lb-mol}^{-1}  \t\t               \\\\ \n",
    "    C_{PA} &= 35 \\ \\textrm{BTU} \\ \\textrm{lb-mol}^{-1} \\ ^\\circ\\textrm{R}^{-1}                \\\\\n",
    "    C_{PB} &= 18 \\ \\textrm{BTU} \\ \\textrm{lb-mol}^{-1} \\ ^\\circ\\textrm{R}^{-1}                \\\\\n",
    "    C_{PC} &= 46 \\ \\textrm{BTU} \\ \\textrm{lb-mol}^{-1} \\ ^\\circ\\textrm{R}^{-1}               \\\\\n",
    "    C_{PM} &= 19.5 \\ \\textrm{BTU} \\ \\textrm{lb-mol}^{-1} \\ ^\\circ\\textrm{R}^{-1}               \\\\\n",
    "\\end{align}\n",
    "\n",
    "**Note:** The reported heat of reaction, $\\Delta H^\\circ = -36,000 \\ \\textrm{BTU} \\ \\textrm{lb-mol}^{-1}$ was measured at 528 Rankine."
   ]
  },
  {
   "cell_type": "markdown",
   "metadata": {},
   "source": [
    "### Solution to Example Problem 01\n",
    "\n",
    "We start this problem off as usual for most any reactor, by writing material balances.  We also have to allow for non-isothermal operation (a change in temperature from feed to exit), so we will write an energy balance on the CSTR.  The most general and straightforward approach is to just write balances on all species plus one energy balance.\n",
    "\n",
    "\\begin{align}\n",
    "    0 &= F_{Af} - F_A + R_AV \\\\\n",
    "    0 &= F_{Bf} - F_B + R_BV \\\\\n",
    "    0 &= F_{Cf} - F_C + R_CV \\\\\n",
    "    0 &= F_{Mf} - F_M \\\\\n",
    "    0 &= -\\sum_i \\Delta H_i r_i V + \\sum_j F_{jf}(H_{jf} - H_j) + \\dot{Q}\\\\\n",
    "\\end{align}\n",
    "\n",
    "Note that a balance on Methanol is not really necessary since it is clear that it isn't reacting and that $F_M = F_{Mf}$, but I'm including it so that we remember the methanol is there.  It is very important for the energy balance.\n",
    "\n",
    "We would define production rates as usual:\n",
    "\n",
    "\\begin{align}\n",
    "    R_A &= -r \\\\\n",
    "    R_B &= -r \\\\\n",
    "    R_C &= r\n",
    "\\end{align}\n",
    "\n",
    "The reaction rate is specified as zero order in water (B) and first order in propylene oxide (A), so:\n",
    "\n",
    "$$r = kC_A$$\n",
    "\n",
    "And the rate constant is given by an Arrhenius expression, with parameters given in the problem statement:\n",
    "\n",
    "$$k = A\\exp\\left(-\\frac{E_A}{RT}\\right)$$\n",
    "\n",
    "Focusing on the energy balance, we have one reaction, so:\n",
    "\n",
    "$$\\sum_i \\Delta H_i r_i V = \\Delta HrV$$\n",
    "\n",
    "And we have to allow that $\\Delta H$ is usuall a function of temperature.  We do so using the $\\Delta C_p$ for this reaction:\n",
    "\n",
    "$$\\Delta H(T) = \\Delta H^\\circ + \\int_{T_0}^{T} \\Delta C_p dT$$\n",
    "\n",
    "Here, we have:\n",
    "\n",
    "$$\\Delta C_p = C_{p,C} - C_{p,A} - C_{p,B}$$\n",
    "\n",
    "Substituting numbers, we can determine if it is zero or not:\n",
    "\n",
    "$$\\Delta C_p = \\left[46 - 18 - 35\\right] \\ \\textrm{BTU} \\ \\textrm{lb-mol}^{-1} \\ \\textrm{K}^{-1}$$\n",
    "\n",
    "Which is non-zero:\n",
    "\n",
    "$$\\Delta C_p = -7 \\ \\textrm{BTU} \\ \\textrm{lb-mol}^{-1} \\ \\textrm{K}^{-1}$$\n",
    "\n",
    "This means that our heat of reaction is temperature dependent; since the $\\Delta C_p$ term is constant, we get a pretty easy expression:\n",
    "\n",
    "$$\\Delta H = \\Delta H^\\circ + \\Delta C_p(T - T_0)$$ \n",
    "\n",
    "Finally, referencing lecture F22-587-L41, we know that:\n",
    "\n",
    "$$\\sum_j F_{jf}(H_{jf} - H_j) = \\sum_j F_{jf}C_{p,j}(T_{f} - T)$$\n",
    "\n",
    "At this point, we've specified every equation in terms of constants and our unknowns: $F_A$, $F_B$, $F_C$, $T$. The problem can be solved."
   ]
  },
  {
   "cell_type": "code",
   "execution_count": 2,
   "metadata": {},
   "outputs": [
    {
     "name": "stdout",
     "output_type": "stream",
     "text": [
      "The solution converged.\n",
      "function values are [-6.86881663e-11 -6.87379043e-11  6.86881663e-11  2.53050530e-06]\n",
      "The CSTR will operate at 611R (or 151F) and achieve a conversion of 0.842\n"
     ]
    }
   ],
   "source": [
    "def P01(var):\n",
    "    #Problem statement parameters\n",
    "    FAf = 43.04 #lb-mol/h P.O.\n",
    "    FBf = 802.8 #lb-mol/h Water\n",
    "    FCf = 0.0   #         P.G\n",
    "    FMf = 71.87 #lb-mol/H methanol\n",
    "    Tf  = 75 + 459.67 #feed temperature in Rankine\n",
    "    T0  = 528      #reference T for DH calculations.\n",
    "    DH0 = -36000   #BTU/lb-mol\n",
    "    \n",
    "    QMf = 46.62    #ft3/h, volumetric feed of methanol\n",
    "    QAf = 46.62    #ft3/h, volumetric feed of P.O.\n",
    "    QBf = 233.1    #ft3/h, volumetric feed of water\n",
    "    QCf = 0.0      \n",
    "    Qf  = QMf + QAf + QBf #ft3/h\n",
    "    \n",
    "    V   = 300/7.481 #ft3\n",
    "    tau = V/Qf   #h\n",
    "    \n",
    "    CPA = 35.0 #BTU/lb-mol/Rankine\n",
    "    CPB = 18.0 #BTU/lb-mol/Rankine\n",
    "    CPC = 45.0 #BTU/lb-mol/Rankine\n",
    "    CPM = 19.5 #BTU/lb-mol/Rankine\n",
    "    \n",
    "    A   = 16.96e12 #1/h\n",
    "    EA  = 32400    #BTU/lb-mol\n",
    "    R   = 1.986    #BTU/lb-mol/Rankine\n",
    " \n",
    "    DCP = CPC - CPB - CPA\n",
    "   \n",
    "    #Now calculate quantities at reactor internal/exit conditions\n",
    "    FA = var[0]\n",
    "    FB = var[1]\n",
    "    FC = var[2]\n",
    "    T  = var[3]\n",
    "    \n",
    "    CA = FA/Qf\n",
    "    \n",
    "    DH = DH0 + DCP*(T - T0)\n",
    "    k  = A*np.exp(-EA/R/T)\n",
    "    r  = k*CA\n",
    "\n",
    "    RA = -r\n",
    "    RB = -r\n",
    "    RC =  r\n",
    "    EB = -DH*r*V + FAf*CPA*(Tf - T) + FBf*CPB*(Tf - T) + FCf*CPC*(Tf - T) + FMf*CPM*(Tf - T)\n",
    "    \n",
    "    F1 = FAf - FA + RA*V\n",
    "    F2 = FBf - FB + RB*V\n",
    "    F3 = FCf - FC + RC*V\n",
    "    F4 = EB\n",
    "    \n",
    "    return [F1, F2, F3, F4]\n",
    "\n",
    "var0 = [1, 1, 1, 611]\n",
    "ans4a = opt.root(P01, var0)\n",
    "print(ans4a.message)\n",
    "print(f'function values are {ans4a.fun}')\n",
    "\n",
    "FAf   = 43.04 #lbmol/h A\n",
    "FA    = ans4a.x[0]\n",
    "T     = ans4a.x[3]\n",
    "XA    = (FAf - FA)/FAf\n",
    "\n",
    "print(f'The CSTR will operate at {T:3.0f}R (or {T-460:3.0f}F) and achieve a conversion of {XA:3.3f}')"
   ]
  },
  {
   "cell_type": "markdown",
   "metadata": {},
   "source": [
    "### An Alternative (and Very Useful!) Solution\n",
    "\n",
    "#### Focus on the Material Balance in Isolation\n",
    "\n",
    "If we write a material balance on A:\n",
    "\n",
    "$$0 = F_{Af} - F_A + R_AV$$\n",
    "\n",
    "And we substitute the rate expression into our production rate:\n",
    "\n",
    "$$0 = F_{Af} - F_A - kC_AV$$\n",
    "\n",
    "We express $C_A$ in terms of flowrates:\n",
    "\n",
    "$$0 = F_{Af} - F_A - k\\frac{F_A}{Q_f}V$$\n",
    "\n",
    "And we express flowrates in terms of conversion of A:\n",
    "\n",
    "$$0 = F_{Af} - (F_{Af} - F_{Af}X_A) - k\\frac{F_{Af} - F_{Af}X_A}{Q_f}V$$\n",
    "\n",
    "This simplifies to:\n",
    "\n",
    "$$0 = F_{Af}X_A - k\\frac{F_{Af}(1 - X_A)}{Q_f}V$$\n",
    "\n",
    "We can factor and cancel the flowrate of A:\n",
    "\n",
    "$$0 = X_A - k\\frac{(1 - X_A)}{Q_f}V$$\n",
    "\n",
    "And we see a $V/Q_f$, which is a space time:\n",
    "\n",
    "$$0 = X_A - k\\tau(1 - X_A)$$\n",
    "\n",
    "We can solve this for conversion as a function of $k$:\n",
    "\n",
    "$$(X_A)_{MB} = \\frac{k\\tau}{1 + k\\tau}$$\n",
    "\n",
    "Of course, we don't know T until we solve for the steady state temperature by coupling this equation with the energy balance...however:\n",
    "\n",
    "<div class = \"alert alert-block alert-info\">\n",
    "    We know the rate constant is given by the Arrhenius expression, so the above expression allows us to calculate the fractional conversion of A predicted by the material balance as a function of temperature.\n",
    "    </div>\n",
    "\n",
    "#### Now Consider The Energy Balance\n",
    "\n",
    "For a CSTR at steady state, the energy balance is:\n",
    "\n",
    "$$0 = -\\sum_i \\Delta H_i r_i V + \\sum_j F_{jf}(H_{jf} - H_j) + \\dot{Q}$$\n",
    "\n",
    "Simplifying for this particular reaction with adiabatic operation:\n",
    "\n",
    "$$0 = -\\Delta H r V + \\sum_j F_{jf}C_{p,j}(T_{f} - T)$$\n",
    "\n",
    "If we go back to our material balance:\n",
    "\n",
    "$$0 = F_{Af} - F_A - rV$$\n",
    "\n",
    "And we express it in terms of conversion of A:\n",
    "\n",
    "$$0 = F_{Af}X_A - rV$$\n",
    "\n",
    "We find:\n",
    "\n",
    "$rV = F_{Af}X_A$\n",
    "\n",
    "We substiute this into the energy balance:\n",
    "\n",
    "$$0 = -\\Delta H F_{Af}X_A + \\sum_j F_{jf}C_{p,j}(T_{f} - T)$$\n",
    "\n",
    "Which allows us to solve the the conversion of A predicted as a function of temperature by the energy balance:\n",
    "\n",
    "$$\\left(X_A\\right)_{EB} = \\frac{\\sum_j F_{jf}C_{p,j}(T_{f} - T)}{\\Delta H F_{Af}}$$\n",
    "\n",
    "This is the analog of the one developed above from the Material Balance in isolation for $(X_A)_{MB}$ as a function of temperature.  Again, we don't know the temperature per se, but we can now graph the values of $(X_A)_{EB}$ and $(X_A)_{MB}$ as functions of temperature.  The point where the intersect is the solution to the problem.\n"
   ]
  },
  {
   "cell_type": "code",
   "execution_count": 3,
   "metadata": {},
   "outputs": [
    {
     "data": {
      "image/png": "[encoded data removed]",
      "text/plain": [
       "<Figure size 360x360 with 1 Axes>"
      ]
     },
     "metadata": {
      "needs_background": "light"
     },
     "output_type": "display_data"
    }
   ],
   "source": [
    "#Problem statement parameters\n",
    "FAf = 43.04 #lb-mol/h P.O.\n",
    "FBf = 802.8 #lb-mol/h Water\n",
    "FCf = 0.0   #         P.G\n",
    "FMf = 71.87 #lb-mol/H methanol\n",
    "Tf  = 75 + 459.67 #feed temperature in Rankine\n",
    "T0  = 528      #reference T for DH calculations.\n",
    "DH0 = -36000   #BTU/lb-mol\n",
    "\n",
    "QMf = 46.62    #ft3/h, volumetric feed of methanol\n",
    "QAf = 46.62    #ft3/h, volumetric feed of P.O.\n",
    "QBf = 233.1    #ft3/h, volumetric feed of water\n",
    "QCf = 0.0      \n",
    "Qf  = QMf + QAf + QBf #ft3/h\n",
    "\n",
    "V   = 300/7.481 #ft3\n",
    "tau = V/Qf   #h\n",
    "\n",
    "CPA = 35.0 #BTU/lb-mol/Rankine\n",
    "CPB = 18.0 #BTU/lb-mol/Rankine\n",
    "CPC = 45.0 #BTU/lb-mol/Rankine\n",
    "CPM = 19.5 #BTU/lb-mol/Rankine\n",
    "\n",
    "A   = 16.96e12 #1/h\n",
    "EA  = 32400    #BTU/lb-mol\n",
    "R   = 1.986    #BTU/lb-mol/Rankine\n",
    "\n",
    "DCP = CPC - CPB - CPA\n",
    "\n",
    "\n",
    "DH   = lambda T: DH0 + DCP*(T - T0)\n",
    "k    = lambda T: A*np.exp(-EA/R/T)\n",
    "XAMB = lambda T: k(T)*tau/(1 + k(T)*tau)\n",
    "XAEB = lambda T: (FAf*CPA + FBf*CPB + FCf*CPC + FMf*CPM)*(Tf - T)/DH(T)/FAf \n",
    "Tset = np.linspace(500, 650, 100)\n",
    "\n",
    "plt.figure(1, figsize = (5, 5))\n",
    "plt.plot(Tset, XAMB(Tset), color = 'blue', label = 'XAMB')\n",
    "plt.plot(Tset, XAEB(Tset), color = 'red', label = 'XAEB')\n",
    "plt.xlim(500, 650)\n",
    "plt.ylim(-0.5, 1.5)\n",
    "plt.xlabel('T (K)', fontsize = 12)\n",
    "plt.ylabel('XA', fontsize = 12)\n",
    "plt.legend()\n",
    "plt.show()"
   ]
  },
  {
   "cell_type": "markdown",
   "metadata": {},
   "source": [
    "#### Finding the Intersection\n",
    "\n",
    "We can write a simple objective function that finds the temperature where the two curves intersect.  It can be solved with any nonlinear equation solver, but I chose `opt.newton()` since it is a univariate problem and the objective function is relatively well-behaved."
   ]
  },
  {
   "cell_type": "code",
   "execution_count": 4,
   "metadata": {},
   "outputs": [
    {
     "data": {
      "image/png": "[encoded data removed]",
      "text/plain": [
       "<Figure size 360x360 with 1 Axes>"
      ]
     },
     "metadata": {
      "needs_background": "light"
     },
     "output_type": "display_data"
    },
    {
     "name": "stdout",
     "output_type": "stream",
     "text": [
      "The CSTR operates at 611R (151F) and a conversion of 0.842\n"
     ]
    }
   ],
   "source": [
    "obj01 = lambda T: XAMB(T) - XAEB(T)\n",
    "\n",
    "plt.figure(1, figsize = (5, 5))\n",
    "plt.plot(Tset, obj01(Tset), color = 'blue', label = 'Objective Function')\n",
    "plt.hlines(0, min(Tset), max(Tset), color = 'black', linestyle = 'dashed', linewidth = 0.75, label = 'y = 0')\n",
    "plt.xlim(500, 650)\n",
    "plt.ylim(-0.5, 0.5)\n",
    "plt.xlabel('T (K)', fontsize = 12)\n",
    "plt.ylabel('XAMB - XAEB', fontsize = 12)\n",
    "plt.legend()\n",
    "plt.show()\n",
    "\n",
    "T4b = opt.newton(obj01, 611)\n",
    "\n",
    "print(f'The CSTR operates at {T4b:3.0f}R ({T4b-460:2.0f}F) and a conversion of {XAMB(T4b):3.3f}')"
   ]
  },
  {
   "cell_type": "markdown",
   "metadata": {},
   "source": [
    "## Example Problem 02\n",
    "\n",
    "(Fogler Example 12.4)\n",
    "\n",
    "Fantastic! Fred has located a cooling coil in equipment storage. You can use it for the propylene oxide hydrolysis system discussed in **Example Problem 01** (Fogler Example 12.3).\n",
    "\n",
    "The cooling coil has 40 ft$^2$ of cooling surface, and the cooling water flow rate inside the coil is sufficiently large that a constant coolant temperature of 85$^\\circ$F can be maintained.  A typical overall heat-transfer coefficient for such a coil is 100 BTU/h/ft$^2$/$^\\circ$F.  Will the reactor satisfy the previous constraint of 125$^\\circ$F maximum temperature if the cooling coil is used?"
   ]
  },
  {
   "cell_type": "markdown",
   "metadata": {},
   "source": [
    "### Solution to Example Problem 03\n",
    "\n",
    "This is almost identical to the first problem, except now our energy balance is not adiabatic, so we include the $\\dot{Q}$ term:\n",
    "\n",
    "$$\\dot{Q} = UA(T_a - T)$$\n",
    "\n",
    "Noting that $U$ and $A$ are constants given in the problem statement and that, for the conditions specified here, we can assume that the coolant temperature is constant at $85^\\circ F$."
   ]
  },
  {
   "cell_type": "code",
   "execution_count": 5,
   "metadata": {},
   "outputs": [
    {
     "name": "stdout",
     "output_type": "stream",
     "text": [
      "The solution converged.\n",
      "function values are [ 9.62755209e-10  9.62772972e-10 -9.62753433e-10 -3.48963222e-05]\n",
      "The CSTR will operate at 558R (98F) and achieve a conversion of 0.299\n"
     ]
    }
   ],
   "source": [
    "def P02(var):\n",
    "    #Problem statement parameters\n",
    "    FAf = 43.04    #lb-mol/h P.O.\n",
    "    FBf = 802.8    #lb-mol/h Water\n",
    "    FCf = 0.0      #         P.G\n",
    "    FMf = 71.87    #lb-mol/H methanol\n",
    "    Tf  = 75 + 459.67 #feed temperature in Rankine\n",
    "    T0  = 528      #reference T for DH calculations.\n",
    "    DH0 = -36000   #BTU/lb-mol\n",
    "    UA  = 100*40   #BTU/h/Rankine\n",
    "    Ta  = 85 + 459.67 #Rankine\n",
    "    \n",
    "    QMf = 46.62    #ft3/h, volumetric feed of methanol\n",
    "    QAf = 46.62    #ft3/h, volumetric feed of P.O.\n",
    "    QBf = 233.1    #ft3/h, volumetric feed of water\n",
    "    QCf = 0.0      \n",
    "    Qf  = QMf + QAf + QBf #ft3/h\n",
    "    \n",
    "    V   = 300/7.481 #ft3\n",
    "    tau = V/Qf   #h\n",
    "    \n",
    "    CPA = 35.0 #BTU/lb-mol/Rankine\n",
    "    CPB = 18.0 #BTU/lb-mol/Rankine\n",
    "    CPC = 45.0 #BTU/lb-mol/Rankine\n",
    "    CPM = 19.5 #BTU/lb-mol/Rankine\n",
    "    \n",
    "    A   = 16.96e12 #1/h\n",
    "    EA  = 32400    #BTU/lb-mol\n",
    "    R   = 1.986    #BTU/lb-mol/Rankine\n",
    " \n",
    "    DCP = CPC - CPB - CPA\n",
    "   \n",
    "    #Now calculate quantities at reactor internal/exit conditions\n",
    "    FA = var[0]\n",
    "    FB = var[1]\n",
    "    FC = var[2]\n",
    "    T  = var[3]\n",
    "    \n",
    "    CA = FA/Qf\n",
    "    \n",
    "    Qd = UA*(Ta - T)\n",
    "    DH = DH0 + DCP*(T - T0)\n",
    "    k  = A*np.exp(-EA/R/T)\n",
    "    r  = k*CA\n",
    "\n",
    "    RA = -r\n",
    "    RB = -r\n",
    "    RC =  r\n",
    "    EB = -DH*r*V + FAf*CPA*(Tf - T) + FBf*CPB*(Tf - T) + FCf*CPC*(Tf - T) + FMf*CPM*(Tf - T) + Qd\n",
    "    \n",
    "    F1 = FAf - FA + RA*V\n",
    "    F2 = FBf - FB + RB*V\n",
    "    F3 = FCf - FC + RC*V\n",
    "    F4 = EB\n",
    "    \n",
    "    return [F1, F2, F3, F4]\n",
    "\n",
    "var0 = [1, 1, 1, 600]\n",
    "ans4c = opt.root(P02, var0)\n",
    "print(ans4c.message)\n",
    "print(f'function values are {ans4c.fun}')\n",
    "\n",
    "FAf   = 43.04 #lbmol/h A\n",
    "FA    = ans4c.x[0]\n",
    "T     = ans4c.x[3]\n",
    "XA    = (FAf - FA)/FAf\n",
    "\n",
    "print(f'The CSTR will operate at {T:3.0f}R ({T-460:2.0f}F) and achieve a conversion of {XA:3.3f}')"
   ]
  },
  {
   "cell_type": "markdown",
   "metadata": {},
   "source": [
    "### Applying the Alternative Solution Strategy to Example 02\n",
    "\n",
    "Again, we can develop expressions for the fractional conversion predicted as a function of temperature from the material balance:\n",
    "\n",
    "$$(X_A)_{MB} = \\frac{k\\tau}{1 + k\\tau}$$\n",
    "\n",
    "Note that it has not changed from Example Problem 01 because the Material Balance is fundamentally the same whether the reactor is isothermal, adiabatic, or non-adiabatic/non-isothermal.\n",
    "\n",
    "We can also revisit the Energy Balance:\n",
    "\n",
    "For a CSTR at steady state, the energy balance is:\n",
    "\n",
    "$$0 = -\\sum_i \\Delta H_i r_i V + \\sum_j F_{jf}(H_{jf} - H_j) + \\dot{Q}$$\n",
    "\n",
    "The only difference here is that we cannot set $\\dot{Q} = 0$:\n",
    "\n",
    "$$0 = -\\Delta H r V + \\sum_j F_{jf}C_{p,j}(T_{f} - T) + $\\dot{Q}$$\n",
    "\n",
    "And again we know that:\n",
    "\n",
    "$$\\dot{Q} = UA(T_a - T)$$\n",
    "\n",
    "If we go back to our material balance:\n",
    "\n",
    "$$0 = F_{Af} - F_A - rV$$\n",
    "\n",
    "And we express it in terms of conversion of A:\n",
    "\n",
    "$$0 = F_{Af}X_A - rV$$\n",
    "\n",
    "We find:\n",
    "\n",
    "$rV = F_{Af}X_A$\n",
    "\n",
    "We substiute this into the energy balance:\n",
    "\n",
    "$$0 = -\\Delta H F_{Af}X_A + \\sum_j F_{jf}C_{p,j}(T_{f} - T) + \\dot{Q}$$\n",
    "\n",
    "Which allows us to solve the the conversion of A predicted as a function of temperature by the energy balance for non-adiabatic operation:\n",
    "\n",
    "$$\\left(X_A\\right)_{EB} = \\frac{\\sum_j F_{jf}C_{p,j}(T_{f} - T) + \\dot{Q}}{\\Delta H F_{Af}}$$\n",
    "\n",
    "Now we just plot both conversion vs. T curves as a function of temperature and look for intersections."
   ]
  },
  {
   "cell_type": "code",
   "execution_count": 6,
   "metadata": {},
   "outputs": [
    {
     "data": {
      "image/png": "[encoded data removed]",
      "text/plain": [
       "<Figure size 360x360 with 1 Axes>"
      ]
     },
     "metadata": {
      "needs_background": "light"
     },
     "output_type": "display_data"
    }
   ],
   "source": [
    "#Problem statement parameters\n",
    "FAf = 43.04 #lb-mol/h P.O.\n",
    "FBf = 802.8 #lb-mol/h Water\n",
    "FCf = 0.0   #         P.G\n",
    "FMf = 71.87 #lb-mol/H methanol\n",
    "Tf  = 75 + 459.67 #feed temperature in Rankine\n",
    "T0  = 528      #reference T for DH calculations.\n",
    "DH0 = -36000   #BTU/lb-mol\n",
    "UA  = 100*40   #BTU/h/Rankine\n",
    "Ta  = 85 + 459.67 #Rankine\n",
    "\n",
    "QMf = 46.62    #ft3/h, volumetric feed of methanol\n",
    "QAf = 46.62    #ft3/h, volumetric feed of P.O.\n",
    "QBf = 233.1    #ft3/h, volumetric feed of water\n",
    "QCf = 0.0      \n",
    "Qf  = QMf + QAf + QBf #ft3/h\n",
    "\n",
    "V   = 300/7.481 #ft3\n",
    "tau = V/Qf   #h\n",
    "\n",
    "CPA = 35.0 #BTU/lb-mol/Rankine\n",
    "CPB = 18.0 #BTU/lb-mol/Rankine\n",
    "CPC = 45.0 #BTU/lb-mol/Rankine\n",
    "CPM = 19.5 #BTU/lb-mol/Rankine\n",
    "\n",
    "A   = 16.96e12 #1/h\n",
    "EA  = 32400    #BTU/lb-mol\n",
    "R   = 1.986    #BTU/lb-mol/Rankine\n",
    "\n",
    "DCP = CPC - CPB - CPA\n",
    "\n",
    "Qd   = lambda T: UA*(Ta - T)\n",
    "DH   = lambda T: DH0 + DCP*(T - T0)\n",
    "k    = lambda T: A*np.exp(-EA/R/T)\n",
    "XAMB = lambda T: k(T)*tau/(1 + k(T)*tau)\n",
    "XAEB = lambda T: (Qd(T) + (FAf*CPA + FBf*CPB + FCf*CPC + FMf*CPM)*(Tf - T))/DH(T)/FAf \n",
    "\n",
    "Tset = np.linspace(500, 650, 100)\n",
    "\n",
    "plt.figure(1, figsize = (5, 5))\n",
    "plt.plot(Tset, XAMB(Tset), color = 'blue', label = 'XAMB')\n",
    "plt.plot(Tset, XAEB(Tset), color = 'red', label = 'XAEB')\n",
    "plt.xlim(500, 650)\n",
    "plt.ylim(-0.5, 1.5)\n",
    "plt.xlabel('T (K)', fontsize = 12)\n",
    "plt.ylabel('XA', fontsize = 12)\n",
    "plt.legend()\n",
    "plt.show()"
   ]
  },
  {
   "cell_type": "markdown",
   "metadata": {},
   "source": [
    "We can again write a simple objective function that finds the point of intersection, i.e., where $XA_{MB} = XA_{EB}$"
   ]
  },
  {
   "cell_type": "code",
   "execution_count": 7,
   "metadata": {},
   "outputs": [
    {
     "data": {
      "image/png": "[encoded data removed]",
      "text/plain": [
       "<Figure size 360x360 with 1 Axes>"
      ]
     },
     "metadata": {
      "needs_background": "light"
     },
     "output_type": "display_data"
    },
    {
     "name": "stdout",
     "output_type": "stream",
     "text": [
      "The CSTR operates at 558R (98F) and a conversion of 0.299\n"
     ]
    }
   ],
   "source": [
    "obj02 = lambda T: XAMB(T) - XAEB(T)\n",
    "\n",
    "plt.figure(1, figsize = (5, 5))\n",
    "plt.plot(Tset, obj02(Tset), color = 'blue', label = 'Objective Function')\n",
    "plt.hlines(0, min(Tset), max(Tset), color = 'black', linestyle = 'dashed', linewidth = 0.75, label = 'y = 0')\n",
    "plt.xlim(500, 650)\n",
    "plt.ylim(-0.5, 0.5)\n",
    "plt.xlabel('T (K)', fontsize = 12)\n",
    "plt.ylabel('XAMB - XAEB', fontsize = 12)\n",
    "plt.legend()\n",
    "plt.show()\n",
    "\n",
    "T4d, info = opt.newton(obj02, 560, full_output = True)\n",
    "\n",
    "print(f'The CSTR operates at {T4d:3.0f}R ({T4d-460:2.0f}F) and a conversion of {XAMB(T4d):3.3f}')"
   ]
  },
  {
   "cell_type": "markdown",
   "metadata": {},
   "source": [
    "### Example Problem 03: Steady State Multiplicity\n",
    "\n",
    "Let's just change the problem parameters a little and see what happens.  First, we'll make the reaction just a bit more exothermic, setting the reference heat of reaction to:\n",
    "\n",
    "$$\\Delta H^\\circ = -108,000 \\ \\textrm{BTU} \\ \\textrm{lb-mol}^{-1} \\ ^\\circ\\textrm{R}$$"
   ]
  },
  {
   "cell_type": "code",
   "execution_count": 8,
   "metadata": {},
   "outputs": [
    {
     "data": {
      "image/png": "[encoded data removed]",
      "text/plain": [
       "<Figure size 360x360 with 1 Axes>"
      ]
     },
     "metadata": {
      "needs_background": "light"
     },
     "output_type": "display_data"
    }
   ],
   "source": [
    "#Problem statement parameters\n",
    "FAf = 43.04 #lb-mol/h P.O.\n",
    "FBf = 802.8 #lb-mol/h Water\n",
    "FCf = 0.0   #         P.G\n",
    "FMf = 71.87 #lb-mol/H methanol\n",
    "Tf  = 75 + 459.67 #feed temperature in Rankine\n",
    "T0  = 528      #reference T for DH calculations.\n",
    "DH0 = -108000   #BTU/lb-mol\n",
    "UA  = 100*40   #BTU/h/Rankine\n",
    "Ta  = 85 + 459.67 #Rankine\n",
    "\n",
    "QMf = 46.62    #ft3/h, volumetric feed of methanol\n",
    "QAf = 46.62    #ft3/h, volumetric feed of P.O.\n",
    "QBf = 233.1    #ft3/h, volumetric feed of water\n",
    "QCf = 0.0      \n",
    "Qf  = QMf + QAf + QBf #ft3/h\n",
    "\n",
    "V   = 300/7.481 #ft3\n",
    "tau = V/Qf   #h\n",
    "\n",
    "CPA = 35.0 #BTU/lb-mol/Rankine\n",
    "CPB = 18.0 #BTU/lb-mol/Rankine\n",
    "CPC = 45.0 #BTU/lb-mol/Rankine\n",
    "CPM = 19.5 #BTU/lb-mol/Rankine\n",
    "\n",
    "A   = 16.96e12 #1/h\n",
    "EA  = 32400    #BTU/lb-mol\n",
    "R   = 1.986    #BTU/lb-mol/Rankine\n",
    "\n",
    "DCP = CPC - CPB - CPA\n",
    "\n",
    "Qd   = lambda T: UA*(Ta - T)\n",
    "DH   = lambda T: DH0 + DCP*(T - T0)\n",
    "k    = lambda T: A*np.exp(-EA/R/T)\n",
    "XAMB = lambda T: k(T)*tau/(1 + k(T)*tau)\n",
    "XAEB = lambda T: (Qd(T) + (FAf*CPA + FBf*CPB + FCf*CPC + FMf*CPM)*(Tf - T))/DH(T)/FAf \n",
    "\n",
    "Tset = np.linspace(400, 800, 100)\n",
    "\n",
    "plt.figure(1, figsize = (5, 5))\n",
    "plt.plot(Tset, XAMB(Tset), color = 'blue', label = 'XAMB')\n",
    "plt.plot(Tset, XAEB(Tset), color = 'red', label = 'XAEB')\n",
    "plt.xlim(min(Tset), max(Tset))\n",
    "plt.ylim(-1.0, 1.5)\n",
    "plt.xlabel('T (K)', fontsize = 12)\n",
    "plt.ylabel('XA', fontsize = 12)\n",
    "plt.legend()\n",
    "plt.show()"
   ]
  },
  {
   "cell_type": "markdown",
   "metadata": {},
   "source": [
    "We find a single steady state solution:"
   ]
  },
  {
   "cell_type": "code",
   "execution_count": 9,
   "metadata": {},
   "outputs": [
    {
     "name": "stdout",
     "output_type": "stream",
     "text": [
      "The CSTR operates at 758R and a conversion of 0.999\n"
     ]
    }
   ],
   "source": [
    "obj03 = lambda T: XAMB(T) - XAEB(T)\n",
    "T4d = opt.newton(obj03, 611)\n",
    "\n",
    "print(f'The CSTR operates at {T4d:3.0f}R and a conversion of {XAMB(T4d):3.3f}')"
   ]
  },
  {
   "cell_type": "markdown",
   "metadata": {},
   "source": [
    "Now we'll run this in a smaller reactor (10 gallons):"
   ]
  },
  {
   "cell_type": "code",
   "execution_count": 10,
   "metadata": {},
   "outputs": [
    {
     "data": {
      "image/png": "[encoded data removed]",
      "text/plain": [
       "<Figure size 360x360 with 1 Axes>"
      ]
     },
     "metadata": {
      "needs_background": "light"
     },
     "output_type": "display_data"
    }
   ],
   "source": [
    "#Problem statement parameters\n",
    "FAf = 43.04 #lb-mol/h P.O.\n",
    "FBf = 802.8 #lb-mol/h Water\n",
    "FCf = 0.0   #         P.G\n",
    "FMf = 71.87 #lb-mol/H methanol\n",
    "Tf  = 75 + 459.67 #feed temperature in Rankine\n",
    "T0  = 528      #reference T for DH calculations.\n",
    "DH0 = -108000   #BTU/lb-mol\n",
    "UA  = 100*40   #BTU/h/Rankine\n",
    "Ta  = 85 + 459.67 #Rankine\n",
    "\n",
    "QMf = 46.62    #ft3/h, volumetric feed of methanol\n",
    "QAf = 46.62    #ft3/h, volumetric feed of P.O.\n",
    "QBf = 233.1    #ft3/h, volumetric feed of water\n",
    "QCf = 0.0      \n",
    "Qf  = QMf + QAf + QBf #ft3/h\n",
    "\n",
    "V   = 10/7.481 #ft3\n",
    "tau = V/Qf   #h\n",
    "\n",
    "CPA = 35.0 #BTU/lb-mol/Rankine\n",
    "CPB = 18.0 #BTU/lb-mol/Rankine\n",
    "CPC = 45.0 #BTU/lb-mol/Rankine\n",
    "CPM = 19.5 #BTU/lb-mol/Rankine\n",
    "\n",
    "A   = 16.96e12 #1/h\n",
    "EA  = 32400    #BTU/lb-mol\n",
    "R   = 1.986    #BTU/lb-mol/Rankine\n",
    "\n",
    "DCP = CPC - CPB - CPA\n",
    "\n",
    "Qd   = lambda T: UA*(Ta - T)\n",
    "DH   = lambda T: DH0 + DCP*(T - T0)\n",
    "k    = lambda T: A*np.exp(-EA/R/T)\n",
    "XAMB = lambda T: k(T)*tau/(1 + k(T)*tau)\n",
    "XAEB = lambda T: (Qd(T) + (FAf*CPA + FBf*CPB + FCf*CPC + FMf*CPM)*(Tf - T))/DH(T)/FAf \n",
    "\n",
    "Tset = np.linspace(400, 800, 100)\n",
    "\n",
    "plt.figure(1, figsize = (5, 5))\n",
    "plt.plot(Tset, XAMB(Tset), color = 'blue', label = 'XAMB')\n",
    "plt.plot(Tset, XAEB(Tset), color = 'red', label = 'XAEB')\n",
    "plt.xlim(min(Tset), max(Tset))\n",
    "plt.ylim(-1.0, 1.5)\n",
    "plt.xlabel('T (K)', fontsize = 12)\n",
    "plt.ylabel('XA', fontsize = 12)\n",
    "plt.legend()\n",
    "plt.show()"
   ]
  },
  {
   "cell_type": "markdown",
   "metadata": {},
   "source": [
    "We see three possible steady state solutions.  To find them, we would just supply a few different initial guesses and loop our objective function solution over them."
   ]
  },
  {
   "cell_type": "code",
   "execution_count": 11,
   "metadata": {},
   "outputs": [
    {
     "name": "stdout",
     "output_type": "stream",
     "text": [
      "Steady state number 1 is a conversion of 0.005 at 538R\n",
      "Steady state number 2 is a conversion of 0.573 at 661R\n",
      "Steady state number 3 is a conversion of 0.955 at 744R\n"
     ]
    }
   ],
   "source": [
    "guess = [530, 660, 740]\n",
    "obj   = lambda T: XAMB(T) - XAEB(T)\n",
    "T_SS  = np.zeros(3,)\n",
    "\n",
    "for index, T0 in enumerate(guess):\n",
    "    T_SS[index] = opt.newton(obj, T0)\n",
    "\n",
    "XA = XAMB(T_SS)\n",
    "\n",
    "for i in range(0,3):\n",
    "    print(f'Steady state number {i+1} is a conversion of {XA[i]:3.3f} at {T_SS[i]:3.0f}R')"
   ]
  }
 ],
 "metadata": {
  "colab": {
   "authorship_tag": "ABX9TyP0ZJPj0jWZ7tx7s+T6+2CS",
   "name": "P14.ipynb",
   "provenance": []
  },
  "kernelspec": {
   "display_name": "Python 3 (ipykernel)",
   "language": "python",
   "name": "python3"
  },
  "language_info": {
   "codemirror_mode": {
    "name": "ipython",
    "version": 3
   },
   "file_extension": ".py",
   "mimetype": "text/x-python",
   "name": "python",
   "nbconvert_exporter": "python",
   "pygments_lexer": "ipython3",
   "version": "3.9.13"
  }
 },
 "nbformat": 4,
 "nbformat_minor": 1
}
