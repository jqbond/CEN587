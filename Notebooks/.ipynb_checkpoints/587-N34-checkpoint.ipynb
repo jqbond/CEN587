{
 "cells": [
  {
   "cell_type": "markdown",
   "metadata": {},
   "source": [
    "# Material Balances XVII\n",
    "\n",
    "[What is Bond listening to right now?](https://www.youtube.com/watch?v=R7czltUZ1TU&list=RDR7czltUZ1TU&start_radio=1)\n",
    "\n",
    "This Notebook begins consideration of reactor designs involving separation in recycle."
   ]
  },
  {
   "cell_type": "code",
   "execution_count": 1,
   "metadata": {
    "executionInfo": {
     "elapsed": 126,
     "status": "ok",
     "timestamp": 1633700692097,
     "user": {
      "displayName": "Bowei Liu",
      "photoUrl": "https://lh3.googleusercontent.com/a/default-user=s64",
      "userId": "09481582047933696573"
     },
     "user_tz": 240
    },
    "id": "h9UTaC1vBEif"
   },
   "outputs": [],
   "source": [
    "import numpy as np\n",
    "import matplotlib.pyplot as plt\n",
    "import scipy.optimize as opt\n",
    "from scipy.integrate import solve_ivp\n",
    "from scipy.interpolate import interp1d"
   ]
  },
  {
   "cell_type": "markdown",
   "metadata": {},
   "source": [
    "(example-problem-01)=\n",
    "## Example Problem 01: Propane dehydrogenation with separation and recycle\n",
    "\n",
    "You are designing a flow reactor in order to perform gas-phase propane dehydrogenation.  The purpose of this reaction is \"on purpose\" generation of propylene, which has historically been produced as a side product of ethylene synthesis via naphtha cracking. One of the consequences of the shale gas boom is that it greatly expanded the supply of ethane (and thus decrease the cost of ethane).  Accordingly, the majority of our ethylene production has shifted to ethane pyrolysis, which does not produce significant quantities of propylene.  Hence your interest in an on-purpose synthesis of propylene!\n",
    "\t\t\t\n",
    "$$C_3H_8 \\longleftrightarrow C_3H_6 + H_2$$\n",
    "\n",
    "The reaction has an elementary rate law, and it is performed at $T = 500\\mathrm{K}$ and $P = 8.2 \\ \\mathrm{atm}$. At this temperature, the forward rate constant and the concentration-based equilibrium constant, $K_C$, are:\n",
    "\n",
    "\\begin{align*}\n",
    "    k_f &= 0.7  \\ \\textrm{min}^{-1} \\\\\n",
    "    K_C &= 0.05 \\ \\textrm{mol} \\ \\textrm{L}^{-1}\t\t\t\t\n",
    "\\end{align*}\t\t\t\n",
    "\n",
    "In [Notebook 33](https://jqbond.github.io/CEN587/Notebooks/587-N33.html#example-problem-02), we found that it is not possible to reach 95% conversion of propane under the specified conditions $(T = 500\\mathrm{K} \\ \\mathrm{and} \\ P = 8.2 \\ \\mathrm{atm})$. Equilibrium limitations restrict the maximum propane conversion to $X_A \\approx 0.45$. We attempted to handle this by pressure reduction and dilution, and we foiund that it is necessary to reduce pressure to $P = 1 \\mathrm{atm}$ and add a diluent at $F_{If} = 100 \\ \\mathrm{mol \\ min^{-1}}$ in order to exceed $X_A = 0.95$. This *does* solve the equilibrium constraint, but the extreme dilution means that rates of dehydrogenation are very low, and we only achieve the target conversion as the PFR volume approaches 30,000L. \n",
    "\n",
    "In this example problem, we will try a different approach for mitigating the equilibrium constraint. We will design a separation-and-recycle process. The basic idea is that we will operate the dehydrogenation reactor (a PFR) at a relatively low single pass conversion. We will then separate the propylene out and recycle a fraction of the unreacted propane back to the reactor influent. In this way, we will achieve a higher overall conversion at the process level even though the reactor continues to operate at a low single pass conversion that cannot exceed the equilibrium limit for these conditions $(X_A \\approx 0.45)$. \n",
    "\n",
    "Since this is our first attempt at a recycle process, we envision a relatively simple PFD (see figure below). Conceptually, we will design the system so that the fresh propane feed into the process is combined with unconverted, recycled propane from the reactor in a mixer. This combined propane feed goes into a PFR, where it is partially converted to $H_2$ and $C_3H_6$. the effluent from the reactor goes into a separator. For simplicity, we will assume propane is perfectly separated from $H_2$ and $C_3H_6$ inside of the separator -- otherwise, we need to consider separator design, which is outside of our scope in this course and would be covered in a unit operations course. Finally, the unreacted propane enters a splitter, and a fraction of it $(\\alpha)$ is recycled back to the mixer. The remaining quantity of propane is purged and exits the process. This is illustrated below:\n",
    "\n",
    "```{figure} ../Images/PFRRecycle.jpg\n",
    "---\n",
    "height: 400px\n",
    "name: PFRRecycle\n",
    "---\n",
    "Separation with recycle for propane dehydrogenation\n",
    "```\n",
    "\n",
    "Rate and equilibrium constants remain the same as those in [Notebook 33](https://jqbond.github.io/CEN587/Notebooks/587-N33.html#example-problem-02) because we haven't changed the temperature. The propane feed to the entire process, $F_{A0}$, remains 10 moles per minute. The PFR will operate at 8.2 atm.\n",
    "\n",
    "\\begin{align*}\n",
    "    k_f  &= 0.7  \\ \\textrm{min}^{-1} \\\\\n",
    "    K_C &= 0.05 \\ \\textrm{mol} \\ \\textrm{L}^{-1}\\\\\t\n",
    "\\end{align*}\t\t\t\n",
    "\n",
    "1. Find the minimum recycle ratio required to achieve an overall conversion of $X_A = 0.95$ in the process described above\n",
    "2. For this recycle ratio, calculate the PFR volume required to achieve this overall, process-level conversion of $X_A = 0.95$"
   ]
  },
  {
   "cell_type": "markdown",
   "metadata": {},
   "source": [
    "### Solution to Example Problem 01\n",
    "\n",
    "We'll start by writing balances on species A (propane) for the process and/or various unit operations and see where that gets us...there are many potential strategies, and in the end, we really just need to make sure that we write a balance on each unit. For this problem, I find it easiest to start with a balance on the overall process and on the splitter. Because of the way that I've written the problem, analytical solution is possible, and (for me) it is easiest to proceed this way.\n",
    "\n",
    "#### Analysis of the overall process\n",
    "\n",
    "If we draw a black box around the whole process, we know that it must achieve 95% conversion of the propane fed into the process at a flowrate of 10 mol/min. We can therefore define the exit flowrate of propane in terms of the inlet flowrate and the overall conversion\n",
    "\n",
    "$$F_{A4} = F_{A0}\\left(1 - X_{A_{ov}}\\right)$$\n",
    "\n",
    "```{note}\n",
    "Because of the specifications made in this problem (we have specified the overall conversion), we can immediately calculate $F_{A4} = 0.5 \\ \\mathrm{mol \\ min^{-1}}$, which makes determining flowrates into and out of each unit operation smooth and sequential. Recycle problems are not always this straightforward.\n",
    "```\n",
    "\n",
    "#### Analysis of the Splitter\n",
    "\n",
    "A balance on the splitter gives:\n",
    "\n",
    "$$0 = F_{A3} - F_{A4} - F_{A5}$$\n",
    "\n",
    "We can express the recycle flowrate as a fraction of the flow into the splitter, i.e., \n",
    "\n",
    "$$F_{A5} = \\alpha F_{A3}$$\n",
    "\n",
    "Substituting this into the splitter balance, we find:\n",
    "\n",
    "$$0 = F_{A3} - F_{A4} - \\alpha F_{A3}$$\n",
    "\n",
    "We can solve for $F_{A3}$ to find:\n",
    "\n",
    "$$F_{A3} = \\frac{1}{1 - \\alpha}F_{A4}$$\n",
    "\n",
    "And we can substitute this back into the definition for $F_{A5}$:\n",
    "\n",
    "$$F_{A5} = \\frac{\\alpha}{1 - \\alpha} F_{A4}$$\n",
    "\n",
    "```{note}\n",
    "We now have pretty clear definitions for $F_{A3}$ and $F_{A5}$. Upon inspection of these definitions, it should become clear that, because we know that $F_{A4} = 0.5 \\ \\mathrm{mol \\ min^{-1}}$ for this process, we can calculate both $F_{A3}$ and $F_{A5}$ as soon as we specify the value of the recycle ratio, $\\alpha$. One can then imagine an iterative operation wherein we pass trial values of $\\alpha$ to these functions and calculate the resultant values for $F_{A3}$ and $F_{A5}$. \n",
    "```\n",
    "\n",
    "#### Analysis of the separator\n",
    "\n",
    "A balance on the separator is straightforward and tells us that:\n",
    "\n",
    "$$F_{A2} = F_{A3}$$\n",
    "\n",
    "```{note}\n",
    "Following the insight above, we know that once we specify $\\alpha$, $F_{A3}$ is determined. This means that specification of $\\alpha$ also determines $F_{A2}$.\n",
    "```\n",
    "\n",
    "#### Analysis of the mixer\n",
    "\n",
    "A balance on the mixer gives us the combined feed rate into the reactor, $F_{A1}$\n",
    "\n",
    "$$F_{A1} = F_{A0} + F_{A5}$$\n",
    "\n",
    "```{note}\n",
    "We already know $F_{A0}$ -- this is the feed rate of fresh propane into the process. Reflecting on the above insights, we know that specifying $\\alpha$ determines $F_{A5}$, so it also determines $F_{A1}$\n",
    "```\n",
    "\n",
    "#### Analysis of the reactor \n",
    "\n",
    "If we look at the reactor, we can define a single pass fractional conversion in terms of $F_{A1}$ and $F_{A2}$, both of which are determiend once we specify a trial value for $\\alpha$.\n",
    "\n",
    "$$X_{SP} = \\frac{F_{A1} - F_{A2}}{F_{A1}}$$\n",
    "\n",
    "We have not specified $\\alpha$ yet, so we still have a degree of freedom in the system and we cannot solve all of these equations. Before proceeding, review the equations and notes above, and convince yourself that, once we specify the recycle ratio, $\\alpha$, all flowrates in this process are fully determined, and we can solve for the single pass conversion through the PFR. \n",
    "\n",
    "In the code cell below, we will create a function that takes the recycle ratio as an argument and returns all of the process flowrates as well as the single pass and overall conversion.\n",
    "\n",
    "One approach to determine the recycle ratio required to achieve an overall conversion of $X_A = 0.95$ is to iteratively test values for the recycle ratio until we find one that will allow for a permissible single pass conversion in the PFR. By this, we mean a single pass conversion that is below the equilibrium limit, which we know is $X_A \\approx 0.45$ for a pure propane feed, $T = 500K$ and $P = 8.2 \\ \\mathrm{atm}$. so we just have to find a recycle ratio that will allow us to operate with a PFR below 44% conversion.\n",
    "\n",
    "```{note}\n",
    "The nature of the specifications make this problem pretty straightforward, and we find that we can solve it using simple methods -- paper, pencil, and calculator would be fine! There are other ways that we might have specified the problem, and they can make the analysis much more complex and force us to use relatively advanced numerical solutions. We will cover more of these in [Notebook 35](https://jqbond.github.io/CEN587/Notebooks/587-N35.html).\n",
    "```"
   ]
  },
  {
   "cell_type": "code",
   "execution_count": 7,
   "metadata": {},
   "outputs": [
    {
     "name": "stdout",
     "output_type": "stream",
     "text": [
      "0.95\n"
     ]
    }
   ],
   "source": [
    "###########################################################################\n",
    "# Global constants for P01                                                #\n",
    "###########################################################################\n",
    "\n",
    "kf  = 0.7  #1/min\n",
    "KC  = 0.05 #mol/L\n",
    "kr  = kf/KC #L/mol/min\n",
    "T   = 500 #K\n",
    "P   = 8.2 #atm\n",
    "R   = 0.08206 #L*atm/mol/K\n",
    "FA0 = 10.0 #mol/min\n",
    "FB0 = 0.0\n",
    "FC0 = 0.0\n",
    "XEQ = 0.447\n",
    "XAP = 0.950\n",
    "\n",
    "##########################################################################\n",
    "# Define a function to calculate flowrates and conversions for a given α #\n",
    "##########################################################################\n",
    "\n",
    "def recycle(α):\n",
    "    FA4 = FA0*(1 - XAP)\n",
    "    FA3 = FA4/(1 - α)\n",
    "    FA2 = FA3\n",
    "    FA5 = α*FA3\n",
    "    FA1 = FA0 + FA5\n",
    "    XSP = (FA1 - FA2)/FA1\n",
    "    XOV = (FA0 - FA4)/FA0\n",
    "    return [α, FA0, FA1, FA2, FA3, FA4, FA5, XSP, XOV]\n",
    "\n",
    "print(recycle(0)[-2])"
   ]
  },
  {
   "cell_type": "code",
   "execution_count": 9,
   "metadata": {},
   "outputs": [
    {
     "data": {
      "image/png": "[encoded data removed]",
      "text/plain": [
       "<Figure size 500x500 with 1 Axes>"
      ]
     },
     "metadata": {},
     "output_type": "display_data"
    }
   ],
   "source": [
    "##########################################################################\n",
    "# Execute the recycle function for many values of α; store XSP for each  #\n",
    "##########################################################################\n",
    "\n",
    "aset = np.linspace(0, 0.99, 100)\n",
    "xset = np.zeros(len(aset),)\n",
    "for i, a in enumerate(aset):\n",
    "    xset[i] = recycle(a)[7]\n",
    "\n",
    "##########################################################################\n",
    "# Graph XSP vs α                                                         #\n",
    "##########################################################################\n",
    "plt.figure(figsize = (5, 5))\n",
    "plt.plot(aset, xset, label = 'Single Pass Conversion')\n",
    "plt.hlines(0.447, 0, 1, linestyle = 'dashed', color = 'black', linewidth = 0.75, label = 'Equilibrium Limit')\n",
    "plt.xlim(0.0, 1)\n",
    "plt.xticks(fontsize = 11)\n",
    "plt.xlabel('α', fontsize = 14)\n",
    "plt.yticks(fontsize = 11)\n",
    "plt.ylabel('XSP', fontsize = 14)\n",
    "plt.legend(loc = 'lower left')\n",
    "plt.show()"
   ]
  },
  {
   "cell_type": "code",
   "execution_count": null,
   "metadata": {},
   "outputs": [],
   "source": [
    "\n",
    "##########################################################################\n",
    "# Locate α where XSP < 0.447 by trial and error                          #\n",
    "##########################################################################\n",
    "\n",
    "αtrial = 0.96\n",
    "α, FA0, FA1, FA2, FA3, FA4, FA5, XSP, XOV = recycle(αtrial)\n",
    "values = [α, FA0, FA1, FA2, FA3, FA4, FA5, XSP, XOV]\n",
    "labels = ['α', 'FA0', 'FA1', 'FA2', 'FA3', 'FA4', 'FA5', 'XSP', 'XOV']\n",
    "\n",
    "for label, value in zip(labels, values):\n",
    "    if label == 'XSP' or label == 'XOV' or label == 'α':\n",
    "        print(f'{label:3s} = {value:5.2f}')\n",
    "    else:\n",
    "        print(f'{label:3s} = {value:5.2f} mol/min')\n",
    "print(f'\\n if α = {αtrial:4.3f}, we need a single pass conversion of XSP = {XSP:4.3f} to achieve an overall conversion of XOV = {XOV:4.3f}')"
   ]
  },
  {
   "cell_type": "code",
   "execution_count": 10,
   "metadata": {},
   "outputs": [
    {
     "name": "stdout",
     "output_type": "stream",
     "text": [
      "α   =  0.96\n",
      "FA0 = 10.00 mol/min\n",
      "FA1 = 22.00 mol/min\n",
      "FA2 = 12.50 mol/min\n",
      "FA3 = 12.50 mol/min\n",
      "FA4 =  0.50 mol/min\n",
      "FA5 = 12.00 mol/min\n",
      "XSP =  0.43\n",
      "XOV =  0.95\n",
      "\n",
      " if α = 0.957, we need a single pass conversion of XSP = 0.447 to achieve an overall conversion of XOV = 0.950\n"
     ]
    }
   ],
   "source": [
    "\n",
    "#########################################################################\n",
    "# Define an objective function f(α) = XSP - XAEQ                        #\n",
    "# solve for value of α where XAP = XEQ\n",
    "#########################################################################\n",
    "\n",
    "obj01 = lambda α: recycle(α)[-2] - XEQ\n",
    "ans01 = opt.newton(obj01, 0.9)\n",
    "αreq  = ans01\n",
    "\n",
    "α, FA0, FA1, FA2, FA3, FA4, FA5, XSP, XOV = recycle(αreq)\n",
    "labels = ['α', 'FA0', 'FA1', 'FA2', 'FA3', 'FA4', 'FA5', 'XSP', 'XOV']\n",
    "\n",
    "for label, value in zip(labels, values):\n",
    "    if label == 'XSP' or label == 'XOV' or label == 'α':\n",
    "        print(f'{label:3s} = {value:5.2f}')\n",
    "    else:\n",
    "        print(f'{label:3s} = {value:5.2f} mol/min')\n",
    "print(f'\\n if α = {αreq:4.3f}, we need a single pass conversion of XSP = {XSP:4.3f} to achieve an overall conversion of XOV = {XOV:4.3f}')"
   ]
  },
  {
   "cell_type": "markdown",
   "metadata": {},
   "source": [
    "#### Solve the Material Balance for a lower target single pass conversion\n",
    "\n",
    "Once we have determined a value for recycle ratio that will allow the PFR to operate below $X_A \\approx 0.447$ (the equilibrium limit), we can determine the flows into and out of the PFR and and determine necessary reactor size for a given single pass conversion. Let's pick a recycle ratio of $α = 0.96$. We know this a recycle ratio of 0.957 will allow the PFR to operate exactly at the equilibrium limit and still achieve an overall conversion of $X_A = 0.95$. The challenge with doing this is that reaching equilibrium is essentially the same as reaching 100% conversion -- it requires an infinitely large reactor because the rate of reaction goes to zero as the system approaches equilibrium (or complete conversion). If we choose a slightly higher recycle ratio of $α = 0.96$, we can run the PFR slightly below the equilibrium limit, which is feasible. Running at higher recycle ratios will allow us to operate the PFR at lower single pass conversion; however, the tradeoff is that we will be recycling an processing larger volumes of fluid. "
   ]
  },
  {
   "cell_type": "code",
   "execution_count": 64,
   "metadata": {},
   "outputs": [
    {
     "data": {
      "image/png": "[encoded data removed]",
      "text/plain": [
       "<Figure size 500x500 with 1 Axes>"
      ]
     },
     "metadata": {},
     "output_type": "display_data"
    },
    {
     "name": "stdout",
     "output_type": "stream",
     "text": [
      "The Volume required for a PFR single pass conversion of XA = 0.432 is 242L\n"
     ]
    }
   ],
   "source": [
    "###################################################################\n",
    "# Define the ODE system as f(V, [FA, FB, FC])                     #\n",
    "# function will return [dFAdV, dFBdV, dFCdV]                      #\n",
    "###################################################################\n",
    "\n",
    "def P02(V, var):\n",
    "    FA, FB, FC = var\n",
    "\n",
    "    FT = FA + FB + FC\n",
    "    \n",
    "    Q  = FT*R*T/P\n",
    "    \n",
    "    CA = FA/Q\n",
    "    CB = FB/Q\n",
    "    CC = FC/Q\n",
    "    \n",
    "    r  = kf*CA - kr*CB*CC\n",
    "    \n",
    "    RA = -r\n",
    "    RB =  r\n",
    "    RC =  r\n",
    "    \n",
    "    dA = RA\n",
    "    dB = RB\n",
    "    dC = RC\n",
    "    \n",
    "    return [dA, dB, dC]\n",
    "\n",
    "####################################################################\n",
    "# Calculate all flowrates for desired recycle ratio                #\n",
    "####################################################################\n",
    "\n",
    "α = 0.96\n",
    "α, FA0, FA1, FA2, FA3, FA4, FA5, XSP, XOV = recycle(α)\n",
    "\n",
    "####################################################################\n",
    "# Define the integration span and initial state of each variable   #\n",
    "####################################################################\n",
    "\n",
    "Vspan = (0.0, 300.0)\n",
    "var0  = (FA1, 0.0, 0.0)\n",
    "\n",
    "####################################################################\n",
    "# Integrate the ODE system using solve_ivp()                       #\n",
    "####################################################################\n",
    "\n",
    "ans02  = solve_ivp(P02, Vspan, var0, atol = 1e-8, rtol =  1e-8)\n",
    "\n",
    "####################################################################\n",
    "# Extract important data from the solution structure               #\n",
    "####################################################################\n",
    "\n",
    "V     = ans02.t\n",
    "FA    = ans02.y[0]\n",
    "FB    = ans02.y[1]\n",
    "FC    = ans02.y[2]\n",
    "\n",
    "####################################################################\n",
    "# Calculate fractional conversions                                 #\n",
    "####################################################################\n",
    "\n",
    "XA    = (FA1 - FA)/FA1\n",
    "\n",
    "#################################################################################################\n",
    "# Graph XA vs. Volume -- why does XA stop increasing even though the reactor is getting larger? #\n",
    "#################################################################################################\n",
    "\n",
    "plt.figure(figsize = (5, 5))\n",
    "plt.plot(V, XA)\n",
    "plt.xlim(0.0, max(Vspan))\n",
    "plt.xticks(fontsize = 11)\n",
    "plt.xlabel('Volume (L)', fontsize = 14)\n",
    "plt.ylim(0.0, 1.0)\n",
    "plt.yticks(fontsize = 11)\n",
    "plt.ylabel('Conversion of A', fontsize = 14)\n",
    "plt.show()\n",
    "\n",
    "####################################################################\n",
    "# Construct interpolating polynomial approximation for V(XA)       #\n",
    "# Attempt to find V(XSP)                                           #\n",
    "####################################################################\n",
    "\n",
    "itp1 = interp1d(XA, V)\n",
    "print(f'The Volume required for a PFR single pass conversion of XA = {XSP:0.3f} is {itp1(XSP):0.0f}L')"
   ]
  }
 ],
 "metadata": {
  "colab": {
   "authorship_tag": "ABX9TyP0ZJPj0jWZ7tx7s+T6+2CS",
   "name": "P14.ipynb",
   "provenance": []
  },
  "kernelspec": {
   "display_name": "Python 3 (ipykernel)",
   "language": "python",
   "name": "python3"
  },
  "language_info": {
   "codemirror_mode": {
    "name": "ipython",
    "version": 3
   },
   "file_extension": ".py",
   "mimetype": "text/x-python",
   "name": "python",
   "nbconvert_exporter": "python",
   "pygments_lexer": "ipython3",
   "version": "3.12.7"
  }
 },
 "nbformat": 4,
 "nbformat_minor": 4
}
