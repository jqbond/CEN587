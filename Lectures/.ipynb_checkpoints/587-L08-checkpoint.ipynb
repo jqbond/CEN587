{
 "cells": [
  {
   "cell_type": "markdown",
   "metadata": {},
   "source": [
    "# Chemical Equilibrium V\n",
    "\n",
    "This lecture introduces solutions for multi-reaction equilibria."
   ]
  },
  {
   "cell_type": "code",
   "execution_count": 1,
   "metadata": {},
   "outputs": [],
   "source": [
    "import numpy as np\n",
    "import scipy.optimize as opt \n",
    "import matplotlib.pyplot as plt"
   ]
  },
  {
   "cell_type": "markdown",
   "metadata": {},
   "source": [
    "## Example 1\n",
    "\n",
    "The two reactions below represent possible products that can form in the alkylation of isobutane with 1-butene.  This is actually a really important industrial process for converting relatively low-value butane into high octane gasoline additives (triptane, also called isooctane).\n",
    "\n",
    "\\begin{align}\n",
    "    (1) \\qquad \\text{isobutane (g)} + \\text{1-butene (g)} &\\leftrightarrow \\text{2,2,3-trimethylpentane (g)} \\\\\n",
    "    (2) \\qquad \\text{isobutane (g)} + \\text{1-butene (g)} &\\leftrightarrow \\text{2,2,4-trimethylpentane (g)} \\\\\n",
    "\\end{align}\n",
    "\n",
    "It is common in reactor design that we represent reaction systems with generic notation to simplify labelling.  We will represent these reactions more succinctly as:\n",
    "\n",
    "\\begin{align}\n",
    "    (1) \\qquad \\text{A (g)} + \\text{B (g)} &\\leftrightarrow \\text{C (g)} \\\\ \n",
    "    (2) \\qquad \\text{A (g)} + \\text{B (g)} &\\leftrightarrow \\text{D (g)} \\\\\n",
    "\\end{align}\n",
    "\n",
    "Both reactions are occurring in a system in which temperature is constant at 400K, and pressure is constant at 1875.16 Torr. The system is initially charged with an equimolar quantity of isobutane (A) and 1-butene (B).  Under these conditions, you may assume that all species are in the gas phase, and that all gases behave ideally. The following thermodynamic data is available for the two reactions as written at 1 bar and 400K:\n",
    "\n",
    "\\begin{align}\n",
    "    {\\Delta G}^\\circ_1 &= -3.72 \\,\\frac{\\textrm{kcal}}{\\textrm{mol}} \\\\\n",
    "    {\\Delta G}^\\circ_2 &= -4.49 \\,\\frac{\\textrm{kcal}}{\\textrm{mol}} \\\\\n",
    "\\end{align}\n",
    "\n",
    "Calculate the equilibrium composition of this mixture."
   ]
  },
  {
   "cell_type": "markdown",
   "metadata": {},
   "source": [
    "### Developing the Solution\n",
    "\n",
    "We are trying to determine the system composition at chemical equilibrium from thermodynamic data.  As usual, we do this by considering the following relationship:\t\t\n",
    "\n",
    "$$\\exp\\left(\\frac{-{\\Delta G}^\\circ_i}{RT}\\right) = K_i = \\prod_{j = 1}^{N_S}a_j^{\\nu_{i,j}} \\label{eq1}\\tag{1}$$\n",
    "\n",
    "You'll notice a very slight modification to this in that I've added an index, $i$, which corresponds to the reaction number (here, 1 or 2).  We developed this equation in consideration of a single reaction.  When we have multiple reactions, this equation will apply to each and every reaction independently.  So we basically end up writing a copy of that equation for every reaction that is happening in our system.  \n",
    "\n",
    "With that in mind, to determine the equilibrium composition of the mixture, we need to solve the following two equations simultaneously:\n",
    "\n",
    "\\begin{align}\n",
    "    \\exp\\left(\\frac{-{\\Delta G}^\\circ_1}{RT}\\right) &= K_1 = \\frac{a_C}{a_A a_B} \\label{eq2}\\tag{2}\\\\\n",
    "    \\\\\n",
    "    \\exp\\left(\\frac{-{\\Delta G}^\\circ_2}{RT}\\right) &= K_2 = \\frac{a_D}{a_A a_B} \\label{eq3}\\tag{3}\\\\\n",
    "\\end{align}\n",
    "    "
   ]
  },
  {
   "cell_type": "markdown",
   "metadata": {},
   "source": [
    "### Calculating thermodynamic equilibrium constants\n",
    "\n",
    "First, let's figure out the values of our equilibrium constants.  These need to be calculated from the standard state Gibbs free energy.  Since this is a gas phase reaction, we define these at:\n",
    "\n",
    "1. T = Reaction Temperature (Here, 400K)\n",
    "2. P = 1 bar \n",
    "3. Pure species \n",
    "\n",
    "If we look at the Gibbs free energy data given above, values are given at exactly these conditions, so we can calculate the appropriate equilibrium constants directly using:\n",
    "\n",
    "$$K_i = \\exp\\left(\\frac{-{\\Delta G}^\\circ_i}{RT}\\right) \\label{eq4}\\tag{4}$$"
   ]
  },
  {
   "cell_type": "code",
   "execution_count": 11,
   "metadata": {},
   "outputs": [
    {
     "name": "stdout",
     "output_type": "stream",
     "text": [
      "A T = 400K, K1 = 107.8 and K2 = 284.1\n"
     ]
    }
   ],
   "source": [
    "DG1 = -3.72      #kcal/mol\n",
    "DG2 = -4.49      #kcal/mol\n",
    "R   = 1.987e-3   #kcal/mol/K\n",
    "T   = 400        #K\n",
    "\n",
    "K1  = np.exp(-DG1/R/T)\n",
    "K2  = np.exp(-DG2/R/T)\n",
    "\n",
    "print(f'A T = {T:0.0f}K, K1 = {K1:4.1f} and K2 = {K2:4.1f}')"
   ]
  },
  {
   "cell_type": "markdown",
   "metadata": {},
   "source": [
    "### Now we work on the composition and pressure dependencies...\n",
    "\n",
    "Now that we know the values of the equilibrium constants, we now have to fill out the right hand side of these equations, i.e.:\n",
    "\n",
    "\\begin{align}\n",
    "    K_1 &= \\frac{a_C}{a_A a_B} \\label{eq5}\\tag{5}\\\\\n",
    "    \\\\\n",
    "    K_2 &= \\frac{a_D}{a_A a_B} \\label{eq6}\\tag{6}\\\\\n",
    "\\end{align}\n",
    "\n",
    "We do this exactly the same way as we have for the ammonia synthesis problem.  As usual, activities are defined as:\n",
    "\n",
    "$$a_j = \\frac{\\hat{f}_j}{f_j^\\circ} \\label{eq7}\\tag{7}$$\n",
    "\n",
    "Note that activities are *species* specific, so it doesn't matter that we have many reactions, we always define activities this way. The numerator is the fugacity of species $j$ under reaction conditions (T = 400K, P = 1875.16 Torr, $x_j$ = ?). The denominator is the fugacity of species $j$ in its reference state. Our reference state for gas-phase species is a pure species at 1 bar and the reaction temperature (T = 400K). Our convention for calculating fugacities of gases in a mixture uses the Lewis Randall rule.  With these things in mind, formally, we have:\n",
    "\n",
    "$$a_j = \\frac{y_j \\phi_j P}{y_j^\\circ \\phi_j^\\circ  P^\\circ} \\label{eq8}\\tag{8}$$\n",
    "\n",
    "Looking at the numerator, we are operating this reactor at 1875.16 Torr.  This is about 2.5 bar, so it is reasonable to say that the fugacity coefficient for species j under reaction conditions, $\\phi_j$ is 1. Looking at the denominator, the reference state is a pure species, so $y_j^\\circ = 1$.  Further, that pure species is at 1 bar, so $\\phi_j^\\circ = 1$\n",
    "\n",
    "This gives the usual result for low pressure gases:\n",
    "\n",
    "$$a_j = \\frac{y_j P}{P^\\circ} \\label{eq9}\\tag{9}$$\n",
    "\n",
    "Now we apply this equation to all of the species participating in the reaction.  Notice that I'm still retaining $P$ and $P^\\circ$ in my solution.  This helps me to keep it general, and to make sure that I take care to be dimensionally consistent.\n",
    "\n",
    "If we substitute these activity definitions into our two equations that we're trying to solve, we find:\n",
    "\n",
    "\\begin{align}\n",
    "    K_1 = \\frac{\\left(\\frac{y_C P}{P^\\circ}\\right)}{\\left(\\frac{y_A P}{P^\\circ}\\right) \\left(\\frac{y_B P}{P^\\circ}\\right)} \\label{eq10}\\tag{10}\\\\\n",
    "    \\\\\n",
    "    K_2 = \\frac{\\left(\\frac{y_D P}{P^\\circ}\\right)}{\\left(\\frac{y_A P}{P^\\circ}\\right) \\left(\\frac{y_B P}{P^\\circ}\\right)} \\label{eq11}\\tag{11}\\\\\n",
    "\\end{align}\n",
    "\n",
    "In other words, there are 2 equations and 4 unknowns here ($y_A$, $y_B$, $y_C$, $y_D$).  To solve this, we now express each mole fraction in terms of the number of moles of species as usual:\n",
    "\n",
    "$$y_j = \\frac{N_j}{\\sum N_j} \\label{eq12}\\tag{12}$$\n",
    "\n",
    "We express each of the molar quantities as functions of extents and organize the data in a mole table:\n",
    "\n",
    "|Species   |In   |Change                                 |End                                       |\n",
    "|:---------|:---:|:-------------------------------------:|:----------------------------------------:|\n",
    "| A        |NA0  |- 1$\\varepsilon_1$ - 1$\\varepsilon_2$  |NA0 - 1$\\varepsilon_1$ - 1$\\varepsilon_2$ | \n",
    "| B        |NB0  |- 1$\\varepsilon_1$ - 1$\\varepsilon_2$  |NB0 - 1$\\varepsilon_1$ - 1$\\varepsilon_2$ |\n",
    "| C        |NC0  |+ 1$\\varepsilon_1$ + 0$\\varepsilon_2$  |NC0 + 1$\\varepsilon_1$ + 0$\\varepsilon_2$ |\n",
    "| D        |ND0  |+ 0$\\varepsilon_1$ + 1$\\varepsilon_2$  |ND0 + 0$\\varepsilon_1$ + 1$\\varepsilon_2$ |\n",
    "| Total    |NT0  |- 1$\\varepsilon_1$ - 1$\\varepsilon_2$  |NT0 - 1$\\varepsilon_1$ - 1$\\varepsilon_2$ |\n",
    "\n",
    "\n",
    "Now that each of these molar quantities are defined as functions of $\\varepsilon_1$ and $\\varepsilon_2$, it is just a matter of substituting those into mole fractions, then into activities, then into the equilibrium equations...that gives us two equations:\n",
    "\n",
    "\\begin{align}\n",
    "    K_1 &= \\frac{a_C}{a_A a_B} \\label{eq13}\\tag{13}\\\\\n",
    "    \\\\\n",
    "    K_2 &= \\frac{a_D}{a_A a_B} \\label{eq14}\\tag{14}\\\\\n",
    "\\end{align}\n",
    "\n",
    "That are fully described in terms of two unknowns: $\\varepsilon_1$ and $\\varepsilon_2$.  We can solve this problem using any nonlinear equation solver we like.  Below, I do this by writing an objective function in Python and solving it with scipy.opimize.root.\n",
    "\n",
    "<div class = \"alert alert-block alert-info\">\n",
    "    <b>The only thing left to mention</b>: The problem states that the feed to the reactor is an equimolar quantity of A and B, so we'll set a basis of 1 mole of each species.\n",
    "    </div>"
   ]
  },
  {
   "cell_type": "code",
   "execution_count": 12,
   "metadata": {},
   "outputs": [],
   "source": [
    "def EQ1(var):\n",
    "    \n",
    "    ex1 = var[0]\n",
    "    ex2 = var[1]\n",
    "    \n",
    "    DG1 = -3.72      #kcal/mol\n",
    "    DG2 = -4.49      #kcal/mol\n",
    "    R   = 1.987e-3   #kcal/mol/K\n",
    "    T   = 400        #K\n",
    "    P   = 1875.16    #Torr\n",
    "    P   = P/750      #convert to bar\n",
    "    P0  = 1          #bar\n",
    "    NA0 = 1          #mole\n",
    "    NB0 = 1          #mole\n",
    "    NC0 = 0          #moles\n",
    "    ND0 = 0          #moles\n",
    "    \n",
    "    NA  = NA0 - ex1 - ex2\n",
    "    NB  = NB0 - ex1 - ex2\n",
    "    NC  = NC0 + ex1\n",
    "    ND  = ND0       + ex2\n",
    "    \n",
    "    NT  = NA + NB + NC + ND\n",
    "    \n",
    "    yA  = NA/NT\n",
    "    yB  = NB/NT\n",
    "    yC  = NC/NT\n",
    "    yD  = ND/NT\n",
    "\n",
    "    aA  = yA*P/P0\n",
    "    aB  = yB*P/P0\n",
    "    aC  = yC*P/P0\n",
    "    aD  = yD*P/P0\n",
    "    \n",
    "    K1A = aC/aA/aB\n",
    "    K2A = aD/aA/aB\n",
    "    \n",
    "    K1  = np.exp(-DG1/R/T)\n",
    "    K2  = np.exp(-DG2/R/T)\n",
    "    \n",
    "    LHS1 = K1 - K1A\n",
    "    LHS2 = K2 - K2A\n",
    "    \n",
    "    return [LHS1, LHS2]"
   ]
  },
  {
   "cell_type": "code",
   "execution_count": 13,
   "metadata": {},
   "outputs": [
    {
     "data": {
      "text/plain": [
       " message: The solution converged.\n",
       " success: True\n",
       "  status: 1\n",
       "     fun: [-4.675e-12 -3.695e-12]\n",
       "       x: [ 2.663e-01  7.017e-01]\n",
       "    nfev: 38\n",
       "    fjac: [[-1.115e-01  9.938e-01]\n",
       "           [-9.938e-01 -1.115e-01]]\n",
       "       r: [-1.047e+04 -1.051e+04 -9.500e+02]\n",
       "     qtf: [ 6.797e-09 -9.894e-09]"
      ]
     },
     "execution_count": 13,
     "metadata": {},
     "output_type": "execute_result"
    }
   ],
   "source": [
    "var0 = np.array([0.2, 0.6])\n",
    "ans  = opt.root(EQ1, var0)\n",
    "ans"
   ]
  },
  {
   "cell_type": "code",
   "execution_count": 14,
   "metadata": {},
   "outputs": [
    {
     "name": "stdout",
     "output_type": "stream",
     "text": [
      "The mole fractions of A, B, C, and D are 0.031, 0.031, 0.258, and 0.680\n"
     ]
    }
   ],
   "source": [
    "#Now a bit of post processing to get the requested compositions:\n",
    "e1  = ans.x[0]\n",
    "e2  = ans.x[1]\n",
    "\n",
    "NA0 = 1          #mole\n",
    "NB0 = 1          #mole\n",
    "NC0 = 0          #moles\n",
    "ND0 = 0          #moles\n",
    "\n",
    "NA  = NA0 - e1 - e2\n",
    "NB  = NB0 - e1 - e2\n",
    "NC  = NC0 + e1\n",
    "ND  = ND0      + e2\n",
    "\n",
    "NT  = NA + NB + NC + ND\n",
    "\n",
    "yA  = NA/NT\n",
    "yB  = NB/NT\n",
    "yC  = NC/NT\n",
    "yD  = ND/NT\n",
    "\n",
    "print(f'The mole fractions of A, B, C, and D are {yA:0.3f}, {yB:0.3f}, {yC:0.3f}, and {yD:0.3f}')"
   ]
  },
  {
   "cell_type": "markdown",
   "metadata": {},
   "source": [
    "## Example 2\n",
    "\n",
    "Calculate the equilbrium composition for the system in Equilibrium Example 6 at 1875.16 Torr and 327$^\\circ$C (600K); the following information will be useful.  All data obtained for pure gases at 1 bar and 400K.\n",
    "\n",
    "\\begin{align}\n",
    "    \\Delta H^\\circ_1  &= -20.1 \\,\\frac{\\textrm{kcal}}{\\textrm{mol}}\\\\\n",
    "    \\Delta H^\\circ_2  &= -21.0 \\,\\frac{\\textrm{kcal}}{\\textrm{mol}}\\\\\n",
    "    \\Delta Cp^\\circ_1 &= 8.20 \\times 10^{-4} \\,\\frac{\\textrm{kcal}}{\\textrm{mol K}}\\\\\n",
    "    \\Delta Cp^\\circ_2 &= 1.48 \\times 10^{-3} \\,\\frac{\\textrm{kcal}}{\\textrm{mol K}}\n",
    "\\end{align}"
   ]
  },
  {
   "cell_type": "markdown",
   "metadata": {},
   "source": [
    "### Developing the Solution\n",
    "\n",
    "We've made one small change to the problem:  The reaction temperature.  We know that this will impact the equilibrium constant for both reactions, but it is not yet clear how.  We are not given properties of individual species; however, we are given standard state changes of enthalpy and heat capacity for both reactions.  This is all we need to figure out how each $K$ will change with reaction temperature.\n",
    "\n",
    "### The van't Hoff Equation\n",
    "\n",
    "We don't have species enthalpies, entropies, and heat capacities like we had in the ammonia synthesis problem.  Instead, we're given heats of reaction and $\\Delta C_p$ values for each reaction.  In this case, we'll use the van't Hoff equation:\n",
    "\n",
    "$$\\frac{d \\ln{K}}{dT} = \\frac{\\Delta H}{RT^2} \\label{eq15}\\tag{15}$$\n",
    "\n",
    "This is a separable ODE:\n",
    "\n",
    "$$d \\ln{K} = \\frac{\\Delta H}{RT^2}dT \\label{eq16}\\tag{16}$$\n",
    "\n",
    "We integrate both sides:\n",
    "\n",
    "$$\\int_{\\ln{K_0}}^{\\ln{K}}d \\ln{K} = \\int_{T_0}^T\\frac{\\Delta H}{RT^2}dT \\label{eq17}\\tag{17}$$\n",
    "\n",
    "The left hand side is easy:\n",
    "\n",
    "$$\\int_{\\ln{K_0}}^{\\ln{K}}d \\ln{K} = \\ln\\left(\\frac{K}{K_0}\\right) \\label{eq18}\\tag{18}$$\n",
    "\n",
    "The right hand side requires a bit of work:\n",
    "\n",
    "$$\\int_{T_0}^T\\frac{\\Delta H(T)}{RT^2}dT \\label{eq19}\\tag{19}$$\n",
    "\n",
    "Specifically, the heat of reaction, $\\Delta H$, is usually a function of temperature, so we can't integrate with respect to temperature until we specify how $\\Delta H$ changes with Temperature.  We do this by recalling that, if we know the $\\Delta Cp$ for a reaction, then we can determine the enthalpy change of reaction at any temperature, $T$, as long as we know the heat of reaction at a reference temperature, $H_R$ at $T_R$. Specifically:\n",
    "\n",
    "$$\\Delta H(T) = \\Delta H_R + \\int_{T_R}^T \\Delta C_p dT \\label{eq20}\\tag{20}$$\n",
    "\n",
    "This can get messy for complex heat capacity expressions, but in our case, both of the $\\Delta C_p$ terms are constants, so, in this case:\n",
    "\n",
    "$$\\Delta H(T) = \\Delta H_R + \\Delta C_p (T - T_R) \\label{eq21}\\tag{21}$$\n",
    "\n",
    "That gets substituted back into the right hand side of the van't Hoff equation:\n",
    "\n",
    "$$\\int_{T_0}^T\\frac{\\Delta H(T)}{RT^2}dT = \\int_{T_0}^T\\frac{\\Delta H_R + \\Delta C_p (T - T_R)}{RT^2}dT \\label{eq22}\\tag{22}$$\n",
    "\n",
    "The result of that integral is:\n",
    "\n",
    "$$\\int_{T_0}^T\\frac{\\Delta H_R + \\Delta C_p (T - T_R)}{RT^2}dT = \\frac{-(\\Delta H_R - \\Delta C_p T_R)}{R} \\left(\\frac{1}{T} - \\frac{1}{T_0}\\right) + \\frac{\\Delta C_p}{R} \\ln\\left(\\frac{T}{T_0}\\right) \\label{eq23}\\tag{23}$$\n",
    "\n",
    "Therefore:\n",
    "\n",
    "$$\\ln\\left(\\frac{K}{K_0}\\right) = \\frac{-(\\Delta H_R - \\Delta C_p T_R)}{R} \\left(\\frac{1}{T} - \\frac{1}{T_0}\\right) + \\frac{\\Delta C_p}{R} \\ln\\left(\\frac{T}{T_0}\\right) \\label{eq24}\\tag{24}$$\n",
    "\n",
    "Or, more convenient:\n",
    "\n",
    "$$K = K_0\\exp\\left[\\frac{-(\\Delta H_R - \\Delta C_p T_R)}{R} \\left(\\frac{1}{T} - \\frac{1}{T_0}\\right) + \\frac{\\Delta C_p}{R} \\ln\\left(\\frac{T}{T_0}\\right)\\right] \\label{eq25}\\tag{25}$$\n",
    "\n",
    "Note that \"$K$\" is a function of temperature as we've written this.  In other words, once we plug a temperature in on the right hand side, we get the value of the equilibrium constant at that temperature.\n",
    "\n",
    "Frequently, in this course, we'll have problems where $\\Delta C_p \\approx 0$.  In those cases, the integrated form of the van't Hoff equation is much simpler:\n",
    "\n",
    "$$K = K_0\\exp\\left[\\frac{-\\Delta H_R}{R} \\left(\\frac{1}{T} - \\frac{1}{T_0}\\right)\\right] \\label{eq26}\\tag{26}$$\n",
    "\n",
    "\n",
    "<div class = \"alert alert-block alert-success\">\n",
    "    <b>Now</b>: consider what we are equipped with -- a function that calculates the equilibrium constant at any temperature.  This is exactly what we need to finish this problem!!!!\n",
    "    </div>\n",
    "\n",
    "For example, in the plot below, we see how the equilibrium constants for both reactions change with temperature."
   ]
  },
  {
   "cell_type": "code",
   "execution_count": 19,
   "metadata": {},
   "outputs": [
    {
     "data": {
      "text/plain": [
       "<matplotlib.legend.Legend at 0x1684c493f70>"
      ]
     },
     "execution_count": 19,
     "metadata": {},
     "output_type": "execute_result"
    },
    {
     "data": {
      "image/png": "[encoded data removed]",
      "text/plain": [
       "<Figure size 500x500 with 1 Axes>"
      ]
     },
     "metadata": {},
     "output_type": "display_data"
    }
   ],
   "source": [
    "DG1  = -3.72      #kcal/mol\n",
    "DG2  = -4.49      #kcal/mol\n",
    "DH1  = -20.1      #kcal/mol\n",
    "DH2  = -21.0      #kcal/mol\n",
    "DCP1 =  8.20e-4   #kcal/mol/K\n",
    "DCP2 = 1.48e-3    #kcal/mol/K\n",
    "R    = 1.987e-3   #kcal/mol/K\n",
    "T0   = 400        #K Ref temperature where we have K0 calculated.\n",
    "TR   = 400        #K Technically, ref temperature for DH can be different from T0, the ref. temp. for K0.\n",
    "T    = np.linspace(200, 800, 100) #K\n",
    "K10  = np.exp(-DG1/R/T0)\n",
    "K20  = np.exp(-DG2/R/T0)\n",
    "\n",
    "#The integrated form of the van't Hoff equation\n",
    "K1 = K10*np.exp(-(DH1 - DCP1*TR)/R*(1/T - 1/T0) + DCP1/R*np.log(T/T0))\n",
    "K2 = K20*np.exp(-(DH2 - DCP2*TR)/R*(1/T - 1/T0) + DCP2/R*np.log(T/T0))\n",
    "\n",
    "plt.figure(figsize = (5,5))\n",
    "plt.plot(T, K1, color = 'red', label = 'K1')\n",
    "plt.plot(T, K2, color = 'blue', label = 'K2')\n",
    "plt.hlines(1, 200, 800, color = 'black', linestyle = 'dashed', label = 'K = 1')\n",
    "plt.yscale('log')\n",
    "plt.ylabel('K')\n",
    "plt.ylim(10**-5, 10**15)\n",
    "plt.yticks(10**np.linspace(-5, 15, 9))\n",
    "plt.xlabel('T (K)')\n",
    "plt.xlim(T[0], T[-1])\n",
    "plt.legend()"
   ]
  },
  {
   "cell_type": "code",
   "execution_count": 20,
   "metadata": {},
   "outputs": [
    {
     "name": "stdout",
     "output_type": "stream",
     "text": [
      "At 600K, K1 = 2.424E-02 and K2 = 4.486E-02\n"
     ]
    }
   ],
   "source": [
    "print(f'At 600K, K1 = {K1[T == 600][0]:0.3E} and K2 = {K2[T == 600][0]:0.3E}')"
   ]
  },
  {
   "cell_type": "markdown",
   "metadata": {},
   "source": [
    "### Temperature Effects on Reaction Equilibrium\n",
    "\n",
    "We can similarly adapt our objective function so that it accounts for temperature effects:"
   ]
  },
  {
   "cell_type": "code",
   "execution_count": 21,
   "metadata": {},
   "outputs": [],
   "source": [
    "def EQ7(var):\n",
    "    \n",
    "    ex1 = var[0]\n",
    "    ex2 = var[1]\n",
    "    \n",
    "    DG1  = -3.72      #kcal/mol\n",
    "    DG2  = -4.49      #kcal/mol\n",
    "    DH1  = -20.1; #kcal/mol\n",
    "    DH2  = -21.0; #kcal/mol\n",
    "    DCP1 =  8.20e-4; #kcal/mol/K\n",
    "    DCP2 = 1.48e-3; #kcal/mol/K\n",
    "    R    = 1.987e-3   #kcal/mol/K\n",
    "    T0   = 400        #K, reference temp for K0\n",
    "    TR   = 400        #K, reference temp for DH\n",
    "    T    = 600        #K, actual reaction temperature\n",
    "    P    = 1875.16    #Torr\n",
    "    P    = P/750      #convert to bar\n",
    "    P0   = 1          #bar\n",
    "    NA0  = 1          #mole\n",
    "    NB0  = 1          #mole\n",
    "    NC0  = 0          #moles\n",
    "    ND0  = 0          #moles\n",
    "    \n",
    "    NA  = NA0 - ex1 - ex2\n",
    "    NB  = NB0 - ex1 - ex2\n",
    "    NC  = NC0 + ex1\n",
    "    ND  = ND0       + ex2\n",
    "    \n",
    "    NT  = NA + NB + NC + ND\n",
    "    \n",
    "    yA  = NA/NT\n",
    "    yB  = NB/NT\n",
    "    yC  = NC/NT\n",
    "    yD  = ND/NT\n",
    "\n",
    "    aA  = yA*P/P0\n",
    "    aB  = yB*P/P0\n",
    "    aC  = yC*P/P0\n",
    "    aD  = yD*P/P0\n",
    "    \n",
    "    K1A = aC/aA/aB\n",
    "    K2A = aD/aA/aB\n",
    "    \n",
    "    K10  = np.exp(-DG1/R/T0)\n",
    "    K20  = np.exp(-DG2/R/T0)\n",
    "\n",
    "    #The integrated form of the van't Hoff equation\n",
    "    K1 = K10*np.exp(-(DH1 - DCP1*TR)/R*(1/T - 1/T0) + DCP1/R*np.log(T/T0))\n",
    "    K2 = K20*np.exp(-(DH2 - DCP2*TR)/R*(1/T - 1/T0) + DCP2/R*np.log(T/T0))    \n",
    "\n",
    "    LHS1 = K1 - K1A\n",
    "    LHS2 = K2 - K2A\n",
    "    \n",
    "    return [LHS1, LHS2]"
   ]
  },
  {
   "cell_type": "markdown",
   "metadata": {},
   "source": [
    "After this, it is basically the same as above.  All we really did was change the numerical value of K1 and K2 from thermo...otherwise, it is identical to the solution for EQ6, we just make it easy to solve the equilibrium problem at any temperature here."
   ]
  },
  {
   "cell_type": "code",
   "execution_count": 22,
   "metadata": {},
   "outputs": [
    {
     "data": {
      "text/plain": [
       " message: The solution converged.\n",
       " success: True\n",
       "  status: 1\n",
       "     fun: [ 4.247e-15 -8.223e-15]\n",
       "       x: [ 2.687e-02  4.972e-02]\n",
       "    nfev: 19\n",
       "    fjac: [[-9.968e-01 -8.053e-02]\n",
       "           [ 8.053e-02 -9.968e-01]]\n",
       "       r: [ 9.440e-01  1.199e-01  9.660e-01]\n",
       "     qtf: [-5.838e-13 -2.418e-12]"
      ]
     },
     "execution_count": 22,
     "metadata": {},
     "output_type": "execute_result"
    }
   ],
   "source": [
    "var0 = np.array([0.2, 0.6])\n",
    "ans  = opt.root(EQ7, var0)\n",
    "ans"
   ]
  },
  {
   "cell_type": "code",
   "execution_count": 23,
   "metadata": {},
   "outputs": [
    {
     "name": "stdout",
     "output_type": "stream",
     "text": [
      "The mole fractions of A, B, C, and D are 0.480, 0.480, 0.014, and 0.026\n"
     ]
    }
   ],
   "source": [
    "#Now a bit of post processing to get the requested compositions:\n",
    "e1  = ans.x[0]\n",
    "e2  = ans.x[1]\n",
    "\n",
    "NA0 = 1          #mole\n",
    "NB0 = 1          #mole\n",
    "NC0 = 0          #moles\n",
    "ND0 = 0          #moles\n",
    "\n",
    "NA  = NA0 - e1 - e2\n",
    "NB  = NB0 - e1 - e2\n",
    "NC  = NC0 + e1\n",
    "ND  = ND0      + e2\n",
    "\n",
    "NT  = NA + NB + NC + ND\n",
    "\n",
    "yA  = NA/NT\n",
    "yB  = NB/NT\n",
    "yC  = NC/NT\n",
    "yD  = ND/NT\n",
    "\n",
    "print(f'The mole fractions of A, B, C, and D are {yA:0.3f}, {yB:0.3f}, {yC:0.3f}, and {yD:0.3f}')"
   ]
  }
 ],
 "metadata": {
  "kernelspec": {
   "display_name": "Python 3 (ipykernel)",
   "language": "python",
   "name": "python3"
  },
  "language_info": {
   "codemirror_mode": {
    "name": "ipython",
    "version": 3
   },
   "file_extension": ".py",
   "mimetype": "text/x-python",
   "name": "python",
   "nbconvert_exporter": "python",
   "pygments_lexer": "ipython3",
   "version": "3.10.9"
  }
 },
 "nbformat": 4,
 "nbformat_minor": 4
}
