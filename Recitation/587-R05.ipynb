{
 "cells": [
  {
   "cell_type": "markdown",
   "metadata": {},
   "source": [
    "# Chemical/Phase Equilibria\n",
    "\n",
    "This recitation presents a solution to Assignment 04 from the Unit 02 assignment.\n",
    "\n",
    "## Topics Covered\n",
    "\n",
    "1. Unit 02 - Assignment 04 (Chemical and Phase Equilibrium; for loops)"
   ]
  },
  {
   "cell_type": "code",
   "execution_count": 1,
   "metadata": {},
   "outputs": [],
   "source": [
    "import numpy as np\n",
    "import matplotlib.pyplot as plt\n",
    "import scipy.optimize as opt"
   ]
  },
  {
   "cell_type": "markdown",
   "metadata": {},
   "source": [
    "## Example Problem\n",
    "\n",
    "### Problem Statement, Rawlings and Ekerdt\n",
    "\n",
    "Consider the gas-phase reaction\n",
    "\n",
    "$$\\textrm{A + B} \\rightleftharpoons \\textrm{C}$$\n",
    "\n",
    "Product C has a fairly low vapor pressure, so we are concerned about the formation of a liquid phase in the reactor. The Clausius-Clapeyron equation gives the vapor pressure of component C in units of bar as a function of temperature.\n",
    "\n",
    "$$\\ln {P_C}^{\\circ} = c - \\frac {\\Delta H_{vap}}{RT}$$\n",
    "\n",
    "The reactor is initially filled with an equimolar mixture of A and B. The equilibrium constant at T = 298K is K = 9, the reaction is exothermic with $\\Delta H^{\\circ} = -11$ kcal/mol, and the system pressure is P = 1.5 bar. Components A and B are not very soluble in liquid C, so you can assume that if a liquid phase forms, it is pure species C (A and B do not condense). The heat of vaporization of component C is $\\Delta {H_{\\text{vap}}} = 6$ kcal/mol, and the value of the Clausius-Clapeyron contant is c = 9.53."
   ]
  },
  {
   "cell_type": "markdown",
   "metadata": {},
   "source": [
    "### Part 1\n",
    "\n",
    "Over what temperature range does the reactor contain a liquid phase?"
   ]
  },
  {
   "cell_type": "markdown",
   "metadata": {},
   "source": [
    "#### Solution Part 1a:\n",
    "\n",
    "Calculate the equilibrium partial pressures for all species at 298K and 1.5 bar."
   ]
  },
  {
   "cell_type": "code",
   "execution_count": 2,
   "metadata": {},
   "outputs": [],
   "source": [
    "def obj1a(ex):\n",
    "    NA0 = 1.0 #mole\n",
    "    NB0 = 1.0 #mole\n",
    "    NC0 = 0.0 #moles\n",
    "    T   = 298 #K\n",
    "    P   = 1.5 #bar\n",
    "    P0  = 1.0 #bar\n",
    "    \n",
    "    NA  = NA0 - ex #moles\n",
    "    NB  = NB0 - ex #moles\n",
    "    NC  = NC0 + ex #moles\n",
    "    NT  = NA + NB + NC\n",
    "    \n",
    "    yA  = NA/NT\n",
    "    yB  = NB/NT\n",
    "    yC  = NC/NT\n",
    "    \n",
    "    aA  = yA*P/P0\n",
    "    aB  = yB*P/P0\n",
    "    aC  = yC*P/P0\n",
    "    \n",
    "    KTHERMO = 9\n",
    "    KACTIVITY = aC/aA/aB\n",
    "    OBJECTIVE = KTHERMO - KACTIVITY\n",
    "    return OBJECTIVE"
   ]
  },
  {
   "cell_type": "code",
   "execution_count": 3,
   "metadata": {},
   "outputs": [
    {
     "name": "stdout",
     "output_type": "stream",
     "text": [
      "The pressures of A, B, and C are 0.312, 0.312, 0.876 in bar\n"
     ]
    }
   ],
   "source": [
    "ans, info = opt.newton(obj1a, 0.5, full_output = 'True')\n",
    "\n",
    "#Workup\n",
    "NA0 = 1.0 #mole\n",
    "NB0 = 1.0 #mole\n",
    "NC0 = 0.0 #moles\n",
    "P   = 1.5 #bar\n",
    "\n",
    "NA  = NA0 - ans #moles\n",
    "NB  = NB0 - ans #moles\n",
    "NC  = NC0 + ans #moles\n",
    "NT  = NA + NB + NC\n",
    "\n",
    "yA  = NA/NT\n",
    "yB  = NB/NT\n",
    "yC  = NC/NT\n",
    "\n",
    "pA  = yA*P\n",
    "pB  = yB*P\n",
    "pC  = yC*P\n",
    "\n",
    "print(f'The pressures of A, B, and C are {pA:0.3f}, {pB:0.3f}, {pC:0.3f} in bar')"
   ]
  },
  {
   "cell_type": "markdown",
   "metadata": {},
   "source": [
    "#### Solution Part 1b\n",
    "\n",
    "Calculate the equilibrium partial pressures for all species at 400K and 1.5 bar.\n",
    "\n",
    "```python\n",
    "def obj1b(ex):\n",
    "    NA0 = 1.0 #mole\n",
    "    NB0 = 1.0 #mole\n",
    "    NC0 = 0.0 #moles\n",
    "    T0  = 298 #K\n",
    "    T   = 400 #K\n",
    "    P   = 1.5 #bar\n",
    "    P0  = 1.0 #bar\n",
    "    DH0 = -11.0 #kcal/mol\n",
    "    R   = 1.987e-3 #kcal/mol/K\n",
    "    \n",
    "    NA  = NA0 - ex #moles\n",
    "    NB  = NB0 - ex #moles\n",
    "    NC  = NC0 + ex #moles\n",
    "    NT  = NA + NB + NC\n",
    "    \n",
    "    yA  = NA/NT\n",
    "    yB  = NB/NT\n",
    "    yC  = NC/NT\n",
    "    \n",
    "    aA  = yA*P/P0\n",
    "    aB  = yB*P/P0\n",
    "    aC  = yC*P/P0\n",
    "    \n",
    "    K0 = 9\n",
    "    KTHERMO   = K0*np.exp(-DH0/R*(1/T - 1/T0))\n",
    "    KACTIVITY = aC/aA/aB\n",
    "    OBJECTIVE = KTHERMO - KACTIVITY\n",
    "    return OBJECTIVE\n",
    "```\n",
    "\n",
    "**And the workup:**\n",
    "\n",
    "```python\n",
    "ans, info = opt.newton(obj1b, 0.5, full_output = 'True')\n",
    "\n",
    "#Workup\n",
    "NA0 = 1.0 #mole\n",
    "NB0 = 1.0 #mole\n",
    "NC0 = 0.0 #moles\n",
    "P   = 1.5 #bar\n",
    "\n",
    "NA  = NA0 - ans #moles\n",
    "NB  = NB0 - ans #moles\n",
    "NC  = NC0 + ans #moles\n",
    "NT  = NA + NB + NC\n",
    "\n",
    "yA  = NA/NT\n",
    "yB  = NB/NT\n",
    "yC  = NC/NT\n",
    "\n",
    "pA  = yA*P\n",
    "pB  = yB*P\n",
    "pC  = yC*P\n",
    "\n",
    "print(f'The pressures of A, B, and C are {pA:0.3f}, {pB:0.3f}, {pC:0.3f} in bar')\n",
    "```"
   ]
  },
  {
   "cell_type": "code",
   "execution_count": 4,
   "metadata": {},
   "outputs": [],
   "source": [
    "def obj1b(ex):\n",
    "    NA0 = 1.0 #mole\n",
    "    NB0 = 1.0 #mole\n",
    "    NC0 = 0.0 #moles\n",
    "    T0  = 298 #K\n",
    "    T   = 400 #K\n",
    "    P   = 1.5 #bar\n",
    "    P0  = 1.0 #bar\n",
    "    DH0 = -11.0 #kcal/mol\n",
    "    R   = 1.987e-3 #kcal/mol/K\n",
    "\n",
    "    NA  = NA0 - ex #moles\n",
    "    NB  = NB0 - ex #moles\n",
    "    NC  = NC0 + ex #moles\n",
    "    NT  = NA + NB + NC\n",
    "\n",
    "    yA  = NA/NT\n",
    "    yB  = NB/NT\n",
    "    yC  = NC/NT\n",
    "\n",
    "    aA  = yA*P/P0\n",
    "    aB  = yB*P/P0\n",
    "    aC  = yC*P/P0\n",
    "\n",
    "    K0 = 9\n",
    "    KTHERMO   = K0*np.exp(-DH0/R*(1/T - 1/T0))\n",
    "    KACTIVITY = aC/aA/aB\n",
    "    OBJECTIVE = KTHERMO - KACTIVITY\n",
    "    return OBJECTIVE"
   ]
  },
  {
   "cell_type": "code",
   "execution_count": 5,
   "metadata": {},
   "outputs": [
    {
     "name": "stdout",
     "output_type": "stream",
     "text": [
      "The pressures of A, B, and C are 0.729, 0.729, 0.042 in bar\n"
     ]
    }
   ],
   "source": [
    "ans, info = opt.newton(obj1b, 0.5, full_output = 'True')\n",
    "\n",
    "#Workup\n",
    "NA0 = 1.0 #mole\n",
    "NB0 = 1.0 #mole\n",
    "NC0 = 0.0 #moles\n",
    "P   = 1.5 #bar\n",
    "\n",
    "NA  = NA0 - ans #moles\n",
    "NB  = NB0 - ans #moles\n",
    "NC  = NC0 + ans #moles\n",
    "NT  = NA + NB + NC\n",
    "\n",
    "yA  = NA/NT\n",
    "yB  = NB/NT\n",
    "yC  = NC/NT\n",
    "\n",
    "pA  = yA*P\n",
    "pB  = yB*P\n",
    "pC  = yC*P\n",
    "\n",
    "print(f'The pressures of A, B, and C are {pA:0.3f}, {pB:0.3f}, {pC:0.3f} in bar')"
   ]
  },
  {
   "cell_type": "markdown",
   "metadata": {},
   "source": [
    "#### Solution Part 1c:\n",
    "\n",
    "Now make that general so we can easily adapt to solve for any temperature...\n",
    "\n",
    "```python\n",
    "def temp(ex, T):\n",
    "    NA0 = 1.0 #mole\n",
    "    NB0 = 1.0 #mole\n",
    "    NC0 = 0.0 #moles\n",
    "    T0  = 298 #K\n",
    "    #T   = 400 #K\n",
    "    P   = 1.5 #bar\n",
    "    P0  = 1.0 #bar\n",
    "    DH0 = -11.0 #kcal/mol\n",
    "    R   = 1.987e-3 #kcal/mol/K\n",
    "    \n",
    "    NA  = NA0 - ex #moles\n",
    "    NB  = NB0 - ex #moles\n",
    "    NC  = NC0 + ex #moles\n",
    "    NT  = NA + NB + NC\n",
    "    \n",
    "    yA  = NA/NT\n",
    "    yB  = NB/NT\n",
    "    yC  = NC/NT\n",
    "    \n",
    "    aA  = yA*P/P0\n",
    "    aB  = yB*P/P0\n",
    "    aC  = yC*P/P0\n",
    "    \n",
    "    K0 = 9\n",
    "    KTHERMO   = K0*np.exp(-DH0/R*(1/T - 1/T0))\n",
    "    KACTIVITY = aC/aA/aB\n",
    "    OBJECTIVE = KTHERMO - KACTIVITY\n",
    "    return OBJECTIVE\n",
    "```\n",
    "\n",
    "**Construct objective using lambda function; solve**\n",
    "\n",
    "```python\n",
    "Tval = 400 #K\n",
    "obj1c = lambda ex: temp(ex, Tval)\n",
    "ans, info = opt.newton(obj1c, 0.5, full_output = True)\n",
    "```"
   ]
  },
  {
   "cell_type": "code",
   "execution_count": 6,
   "metadata": {},
   "outputs": [],
   "source": [
    "def temp(ex, T):\n",
    "    NA0 = 1.0 #mole\n",
    "    NB0 = 1.0 #mole\n",
    "    NC0 = 0.0 #moles\n",
    "    T0  = 298 #K\n",
    "    #T   = 400 #K\n",
    "    P   = 1.5 #bar\n",
    "    P0  = 1.0 #bar\n",
    "    DH0 = -11.0 #kcal/mol\n",
    "    R   = 1.987e-3 #kcal/mol/K\n",
    "\n",
    "    NA  = NA0 - ex #moles\n",
    "    NB  = NB0 - ex #moles\n",
    "    NC  = NC0 + ex #moles\n",
    "    NT  = NA + NB + NC\n",
    "\n",
    "    yA  = NA/NT\n",
    "    yB  = NB/NT\n",
    "    yC  = NC/NT\n",
    "\n",
    "    aA  = yA*P/P0\n",
    "    aB  = yB*P/P0\n",
    "    aC  = yC*P/P0\n",
    "\n",
    "    K0 = 9\n",
    "    KTHERMO   = K0*np.exp(-DH0/R*(1/T - 1/T0))\n",
    "    KACTIVITY = aC/aA/aB\n",
    "    OBJECTIVE = KTHERMO - KACTIVITY\n",
    "    return OBJECTIVE"
   ]
  },
  {
   "cell_type": "code",
   "execution_count": 7,
   "metadata": {},
   "outputs": [],
   "source": [
    "Tval = 400 #K\n",
    "obj1c = lambda ex: temp(ex, Tval)\n",
    "ans, info = opt.newton(obj1c, 0.5, full_output = True)"
   ]
  },
  {
   "cell_type": "markdown",
   "metadata": {},
   "source": [
    "#### Solution Part 1d\n",
    "\n",
    "Now we're ready to solve the actual problem.  We'll start by solving for the equilibrium partial pressure of species C for a large set of temperatures.  We'll use a for loop to run opt.newton or opt.brent many times...\n",
    "\n",
    "```python\n",
    "Tset   = np.linspace(200, 400, 100)\n",
    "pCout1 = np.zeros(len(Tset))\n",
    "\n",
    "for i in range(0, len(Tset)):\n",
    "    Tval  = Tset[i]\n",
    "    obj1d = lambda ex: temp(ex, Tval)\n",
    "    ans, info = opt.newton(obj1d, 0.999, full_output = True)\n",
    "    if info.converged == False:\n",
    "        print('Solver failed to Converge')\n",
    "        break\n",
    "      \n",
    "    #Workup\n",
    "    NA0 = 1.0 #mole\n",
    "    NB0 = 1.0 #mole\n",
    "    NC0 = 0.0 #moles\n",
    "    P   = 1.5 #bar\n",
    "\n",
    "    NA  = NA0 - ans #moles\n",
    "    NB  = NB0 - ans #moles\n",
    "    NC  = NC0 + ans #moles\n",
    "    NT  = NA + NB + NC\n",
    "\n",
    "    yA  = NA/NT\n",
    "    yB  = NB/NT\n",
    "    yC  = NC/NT\n",
    "\n",
    "    pA  = yA*P\n",
    "    pB  = yB*P\n",
    "    pC  = yC*P\n",
    "    \n",
    "    pCout1[i] = pC\n",
    "```"
   ]
  },
  {
   "cell_type": "code",
   "execution_count": 27,
   "metadata": {},
   "outputs": [],
   "source": [
    "Tset   = np.linspace(200, 400, 100)\n",
    "pCout1 = np.zeros(len(Tset))\n",
    "\n",
    "for i in range(0, len(Tset)):\n",
    "    Tval  = Tset[i]\n",
    "    obj1d = lambda ex: temp(ex, Tval)\n",
    "    ans, info = opt.newton(obj1d, 0.999, full_output = True)\n",
    "    if info.converged == False:\n",
    "        print('Solver failed to Converge')\n",
    "        break\n",
    "\n",
    "    #Workup\n",
    "    NA0 = 1.0 #mole\n",
    "    NB0 = 1.0 #mole\n",
    "    NC0 = 0.0 #moles\n",
    "    P   = 1.5 #bar\n",
    "\n",
    "    NA  = NA0 - ans #moles\n",
    "    NB  = NB0 - ans #moles\n",
    "    NC  = NC0 + ans #moles\n",
    "    NT  = NA + NB + NC\n",
    "\n",
    "    yA  = NA/NT\n",
    "    yB  = NB/NT\n",
    "    yC  = NC/NT\n",
    "\n",
    "    pA  = yA*P\n",
    "    pB  = yB*P\n",
    "    pC  = yC*P\n",
    "\n",
    "    pCout1[i] = pC"
   ]
  },
  {
   "cell_type": "code",
   "execution_count": 28,
   "metadata": {},
   "outputs": [
    {
     "data": {
      "image/png": "[encoded data removed]",
      "text/plain": [
       "<Figure size 360x360 with 1 Axes>"
      ]
     },
     "metadata": {
      "needs_background": "light"
     },
     "output_type": "display_data"
    }
   ],
   "source": [
    "plt.figure(1, figsize = (5,5))\n",
    "plt.plot(Tset, pCout1, label = 'pC')\n",
    "plt.ylim(0, 1.6)\n",
    "plt.yticks(np.arange(0, 1.61, 0.4))\n",
    "plt.xlim(Tset[0], Tset[-1])\n",
    "plt.ylabel('Pressure (bar)', fontsize = 14)\n",
    "plt.xlabel('Temperature (K)', fontsize = 14)\n",
    "plt.legend()\n",
    "plt.show()"
   ]
  },
  {
   "cell_type": "markdown",
   "metadata": {},
   "source": [
    "#### Solution Part 1e\n",
    "\n",
    "Now let's compare that to the vapor pressure of species C, which we can evaluate directly from the Clausius-Clapeyron Equation.\n",
    "\n",
    "Product C has a fairly low vapor pressure, so we are concerned about the formation of a liquid phase in the reactor. The Clausius-Clapeyron equation gives the vapor pressure of component C in units of bar as a function of temperature.\n",
    "\n",
    "$$\\ln {P_C}^{\\circ} = c - \\frac {\\Delta H_{vap}}{RT}$$\n",
    "\n",
    "The reactor is initially filled with an equimolar mixture of A and B. The equilibrium constant at T = 298K is K = 9, the reaction is exothermic with $\\Delta H^{\\circ} = -11$ kcal/mol, and the system pressure is P = 1.5 bar. Components A and B are not very soluble in liquid C, so you can assume that if a liquid phase forms, it is pure species C (A and B do not condense). The heat of vaporization of component C is $\\Delta {H_{\\text{vap}}} = 6$ kcal/mol, and the value of the Clausius-Clapeyron contant is c = 9.53.\n",
    "\n",
    "```python\n",
    "def pCsat(T):\n",
    "    c = 9.53\n",
    "    DHvap = 6 #kcal/mol\n",
    "    R = 1.987e-3 #kcal/mol/K\n",
    "    return np.exp(c - DHvap/R/T)\n",
    "```"
   ]
  },
  {
   "cell_type": "code",
   "execution_count": 10,
   "metadata": {},
   "outputs": [],
   "source": [
    "def pCsat(T):\n",
    "    c = 9.53\n",
    "    DHvap = 6 #kcal/mol\n",
    "    R = 1.987e-3 #kcal/mol/K\n",
    "    return np.exp(c - DHvap/R/T)"
   ]
  },
  {
   "cell_type": "code",
   "execution_count": 29,
   "metadata": {},
   "outputs": [
    {
     "data": {
      "image/png": "[encoded data removed]",
      "text/plain": [
       "<Figure size 360x360 with 1 Axes>"
      ]
     },
     "metadata": {
      "needs_background": "light"
     },
     "output_type": "display_data"
    }
   ],
   "source": [
    "plt.figure(1, figsize = (5,5))\n",
    "plt.plot(Tset, pCout1, label = 'pC')\n",
    "plt.plot(Tset, pCsat(Tset), label = 'pCsat')\n",
    "plt.ylim(0, 8)\n",
    "plt.yticks(np.arange(0, 8.1, 1))\n",
    "plt.xlim(Tset[0], Tset[-1])\n",
    "plt.ylabel('Pressure (bar)', fontsize = 14)\n",
    "plt.xlabel('Temperature (K)', fontsize = 14)\n",
    "plt.fill_between(Tset, pCout1, pCsat(Tset), where = pCout1 >= pCsat(Tset), interpolate = True, color = 'red', alpha = 0.15, label = 'pC > pCsat: liquid present')\n",
    "plt.legend(loc = 'upper left')\n",
    "plt.show()"
   ]
  },
  {
   "cell_type": "markdown",
   "metadata": {},
   "source": [
    "#### Finding the transition temperature\n",
    "\n",
    "If you want to solve for the exact temperature where the two curves intersect, there are many ways you can probably do it.  Below, I show a modification to our objective function so that it takes two unknowns (ex and Temperature) in a vector argument (var).  You'll note that I added a second constraint equation to the equilibrium problem, which is that pC = pCsat.  This will solve for the intersection temperature in the figure above (and the extent at that temperature).\n",
    "\n",
    "```python\n",
    "def obj1e(var):\n",
    "    ex = var[0]\n",
    "    T  = var[1]\n",
    "    \n",
    "    NA0 = 1.0 #mole\n",
    "    NB0 = 1.0 #mole\n",
    "    NC0 = 0.0 #moles\n",
    "    T0  = 298 #K\n",
    "    #T   = 400 #K\n",
    "    P   = 1.5 #bar\n",
    "    P0  = 1.0 #bar\n",
    "    DH0 = -11.0 #kcal/mol\n",
    "    R   = 1.987e-3 #kcal/mol/K\n",
    "    \n",
    "    NA  = NA0 - ex #moles\n",
    "    NB  = NB0 - ex #moles\n",
    "    NC  = NC0 + ex #moles\n",
    "    NT  = NA + NB + NC\n",
    "    \n",
    "    yA  = NA/NT\n",
    "    yB  = NB/NT\n",
    "    yC  = NC/NT\n",
    "    \n",
    "    PC  = yC*P\n",
    "    \n",
    "    aA  = yA*P/P0\n",
    "    aB  = yB*P/P0\n",
    "    aC  = yC*P/P0\n",
    "    \n",
    "    K0 = 9\n",
    "    KTHERMO   = K0*np.exp(-DH0/R*(1/T - 1/T0))\n",
    "    KACTIVITY = aC/aA/aB\n",
    "    OBJECTIVE1 = KTHERMO - KACTIVITY\n",
    "    OBJECTIVE2 = PC - pCsat(T)\n",
    "    return [OBJECTIVE1, OBJECTIVE2]\n",
    "```"
   ]
  },
  {
   "cell_type": "code",
   "execution_count": 30,
   "metadata": {},
   "outputs": [],
   "source": [
    "def obj1e(var):\n",
    "    ex = var[0]\n",
    "    T  = var[1]\n",
    "\n",
    "    NA0 = 1.0 #mole\n",
    "    NB0 = 1.0 #mole\n",
    "    NC0 = 0.0 #moles\n",
    "    T0  = 298 #K\n",
    "    #T   = 400 #K\n",
    "    P   = 1.5 #bar\n",
    "    P0  = 1.0 #bar\n",
    "    DH0 = -11.0 #kcal/mol\n",
    "    R   = 1.987e-3 #kcal/mol/K\n",
    "\n",
    "    NA  = NA0 - ex #moles\n",
    "    NB  = NB0 - ex #moles\n",
    "    NC  = NC0 + ex #moles\n",
    "    NT  = NA + NB + NC\n",
    "\n",
    "    yA  = NA/NT\n",
    "    yB  = NB/NT\n",
    "    yC  = NC/NT\n",
    "\n",
    "    PC  = yC*P\n",
    "\n",
    "    aA  = yA*P/P0\n",
    "    aB  = yB*P/P0\n",
    "    aC  = yC*P/P0\n",
    "\n",
    "    K0 = 9\n",
    "    KTHERMO   = K0*np.exp(-DH0/R*(1/T - 1/T0))\n",
    "    KACTIVITY = aC/aA/aB\n",
    "    OBJECTIVE1 = KTHERMO - KACTIVITY\n",
    "    OBJECTIVE2 = PC - pCsat(T)\n",
    "    return [OBJECTIVE1, OBJECTIVE2]"
   ]
  },
  {
   "cell_type": "code",
   "execution_count": 31,
   "metadata": {},
   "outputs": [
    {
     "data": {
      "text/plain": [
       "    fjac: array([[-0.99541068,  0.09569527],\n",
       "       [-0.09569527, -0.99541068]])\n",
       "     fun: array([ 1.11639586e-10, -1.67610370e-12])\n",
       " message: 'The solution converged.'\n",
       "    nfev: 11\n",
       "     qtf: array([-6.02853354e-08, -4.88374628e-09])\n",
       "       r: array([14.3419963 ,  0.79060035,  0.09239627])\n",
       "  status: 1\n",
       " success: True\n",
       "       x: array([  0.66161408, 307.21390082])"
      ]
     },
     "execution_count": 31,
     "metadata": {},
     "output_type": "execute_result"
    }
   ],
   "source": [
    "opt.root(obj1e, [0.5, 300])"
   ]
  },
  {
   "cell_type": "markdown",
   "metadata": {},
   "source": [
    "Basically, above 307.2K, there is no liquid phase.  Below 307.2K, there is a liquid phase."
   ]
  },
  {
   "cell_type": "markdown",
   "metadata": {},
   "source": [
    "**Problem 2**\n",
    "\n",
    "If the reaction is endothermic with $\\Delta H^{\\circ} = 11$ kcal/mol, over what temperature range does the reactor contain a liquid phase?"
   ]
  },
  {
   "cell_type": "code",
   "execution_count": 44,
   "metadata": {},
   "outputs": [],
   "source": [
    "def temp2(ex, T):\n",
    "    NA0 = 1.0 #mole\n",
    "    NB0 = 1.0 #mole\n",
    "    NC0 = 0.0 #moles\n",
    "    T0  = 298 #K\n",
    "    #T   = 400 #K\n",
    "    P   = 1.5 #bar\n",
    "    P0  = 1.0 #bar\n",
    "    DH0 = 11.0 #kcal/mol\n",
    "    R   = 1.987e-3 #kcal/mol/K\n",
    "\n",
    "    NA  = NA0 - ex #moles\n",
    "    NB  = NB0 - ex #moles\n",
    "    NC  = NC0 + ex #moles\n",
    "    NT  = NA + NB + NC\n",
    "\n",
    "    yA  = NA/NT\n",
    "    yB  = NB/NT\n",
    "    yC  = NC/NT\n",
    "\n",
    "    aA  = yA*P/P0\n",
    "    aB  = yB*P/P0\n",
    "    aC  = yC*P/P0\n",
    "\n",
    "    K0 = 9\n",
    "    KTHERMO   = K0*np.exp(-DH0/R*(1/T - 1/T0))\n",
    "    KACTIVITY = aC/aA/aB\n",
    "    OBJECTIVE = KTHERMO - KACTIVITY\n",
    "    return OBJECTIVE"
   ]
  },
  {
   "cell_type": "code",
   "execution_count": 48,
   "metadata": {},
   "outputs": [],
   "source": [
    "Tset   = np.linspace(200, 400, 100)\n",
    "pCout2 = np.zeros(len(Tset))\n",
    "\n",
    "for i in range(0, len(Tset)):\n",
    "    Tval  = Tset[i]\n",
    "    obj2a = lambda ex: temp2(ex, Tval)\n",
    "    ans, info = opt.newton(obj2a, 0.999, full_output = True)\n",
    "    if info.converged == False:\n",
    "        print('Solver failed to Converge')\n",
    "        break\n",
    "\n",
    "    #Workup\n",
    "    NA0 = 1.0 #mole\n",
    "    NB0 = 1.0 #mole\n",
    "    NC0 = 0.0 #moles\n",
    "    P   = 1.5 #bar\n",
    "\n",
    "    NA  = NA0 - ans #moles\n",
    "    NB  = NB0 - ans #moles\n",
    "    NC  = NC0 + ans #moles\n",
    "    NT  = NA + NB + NC\n",
    "\n",
    "    yA  = NA/NT\n",
    "    yB  = NB/NT\n",
    "    yC  = NC/NT\n",
    "\n",
    "    pA  = yA*P\n",
    "    pB  = yB*P\n",
    "    pC  = yC*P\n",
    "\n",
    "    pCout2[i] = pC"
   ]
  },
  {
   "cell_type": "code",
   "execution_count": 49,
   "metadata": {},
   "outputs": [
    {
     "data": {
      "image/png": "[encoded data removed]",
      "text/plain": [
       "<Figure size 360x360 with 1 Axes>"
      ]
     },
     "metadata": {
      "needs_background": "light"
     },
     "output_type": "display_data"
    },
    {
     "data": {
      "image/png": "[encoded data removed]",
      "text/plain": [
       "<Figure size 360x360 with 1 Axes>"
      ]
     },
     "metadata": {
      "needs_background": "light"
     },
     "output_type": "display_data"
    }
   ],
   "source": [
    "plt.figure(1, figsize = (5,5))\n",
    "plt.plot(Tset, pCout2, label = 'pC')\n",
    "plt.plot(Tset, pCsat(Tset), label = 'pCsat')\n",
    "plt.ylim(0, 3)\n",
    "plt.yticks(np.arange(0, 3.1, 0.5))\n",
    "plt.xlim(Tset[0], Tset[-1])\n",
    "plt.ylabel('Pressure (bar)', fontsize = 14)\n",
    "plt.xlabel('Temperature (K)', fontsize = 14)\n",
    "plt.fill_between(Tset, pCout2, pCsat(Tset), where = pCout2 >= pCsat(Tset), interpolate = True, color = 'red', alpha = 0.15, label = 'pC > pCsat: liquid present')\n",
    "plt.legend(loc = 'upper left')\n",
    "plt.show()\n",
    "\n",
    "plt.figure(2, figsize = (5,5))\n",
    "plt.plot(Tset, pCout2, label = 'pC')\n",
    "plt.plot(Tset, pCsat(Tset), label = 'pCsat')\n",
    "plt.ylim(0, 0.25)\n",
    "plt.yticks(np.arange(0, 0.26, 0.05))\n",
    "plt.xlim(Tset[0], Tset[-1])\n",
    "plt.ylabel('Pressure (bar)', fontsize = 14)\n",
    "plt.xlabel('Temperature (K)', fontsize = 14)\n",
    "plt.fill_between(Tset, pCout2, pCsat(Tset), where = pCout2 >= pCsat(Tset), interpolate = True, color = 'red', alpha = 0.15, label = 'pC > pCsat: liquid present')\n",
    "plt.legend(loc = 'lower right')\n",
    "plt.show()"
   ]
  },
  {
   "cell_type": "code",
   "execution_count": 53,
   "metadata": {},
   "outputs": [],
   "source": [
    "def obj2b(var):\n",
    "    ex = var[0]\n",
    "    T  = var[1]\n",
    "\n",
    "    NA0 = 1.0 #mole\n",
    "    NB0 = 1.0 #mole\n",
    "    NC0 = 0.0 #moles\n",
    "    T0  = 298 #K\n",
    "    #T   = 400 #K\n",
    "    P   = 1.5 #bar\n",
    "    P0  = 1.0 #bar\n",
    "    DH0 = 11.0 #kcal/mol\n",
    "    R   = 1.987e-3 #kcal/mol/K\n",
    "\n",
    "    NA  = NA0 - ex #moles\n",
    "    NB  = NB0 - ex #moles\n",
    "    NC  = NC0 + ex #moles\n",
    "    NT  = NA + NB + NC\n",
    "\n",
    "    yA  = NA/NT\n",
    "    yB  = NB/NT\n",
    "    yC  = NC/NT\n",
    "\n",
    "    PC  = yC*P\n",
    "\n",
    "    aA  = yA*P/P0\n",
    "    aB  = yB*P/P0\n",
    "    aC  = yC*P/P0\n",
    "\n",
    "    K0 = 9\n",
    "    KTHERMO   = K0*np.exp(-DH0/R*(1/T - 1/T0))\n",
    "    KACTIVITY = aC/aA/aB\n",
    "    OBJECTIVE1 = KTHERMO - KACTIVITY\n",
    "    OBJECTIVE2 = PC - pCsat(T)\n",
    "    return [OBJECTIVE1, OBJECTIVE2]"
   ]
  },
  {
   "cell_type": "code",
   "execution_count": 54,
   "metadata": {},
   "outputs": [
    {
     "data": {
      "text/plain": [
       "    fjac: array([[-0.92096132,  0.38965402],\n",
       "       [-0.38965402, -0.92096132]])\n",
       "     fun: array([ 6.88048230e-12, -9.28743193e-13])\n",
       " message: 'The solution converged.'\n",
       "    nfev: 20\n",
       "     qtf: array([-4.78581906e-09, -1.25987421e-09])\n",
       "       r: array([ 2.18306257e+00, -8.58397519e-03, -1.14420384e-03])\n",
       "  status: 1\n",
       " success: True\n",
       "       x: array([5.25451872e-02, 2.37072654e+02])"
      ]
     },
     "execution_count": 54,
     "metadata": {},
     "output_type": "execute_result"
    }
   ],
   "source": [
    "opt.root(obj2b, [0.2, 230])"
   ]
  },
  {
   "cell_type": "markdown",
   "metadata": {},
   "source": [
    "There is a liquid phase present between 237.1K and 321.2K.  In this region, pC > pCsat, so there will be condensation."
   ]
  }
 ],
 "metadata": {
  "kernelspec": {
   "display_name": "Python 3 (ipykernel)",
   "language": "python",
   "name": "python3"
  },
  "language_info": {
   "codemirror_mode": {
    "name": "ipython",
    "version": 3
   },
   "file_extension": ".py",
   "mimetype": "text/x-python",
   "name": "python",
   "nbconvert_exporter": "python",
   "pygments_lexer": "ipython3",
   "version": "3.9.13"
  }
 },
 "nbformat": 4,
 "nbformat_minor": 4
}
