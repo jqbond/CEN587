{
 "cells": [
  {
   "cell_type": "markdown",
   "metadata": {},
   "source": [
    "# Passing Extra Parameters in Python\n",
    "\n",
    "[What is Bond listening to right now?](https://www.youtube.com/watch?v=RZq2oMQEw64&list=RDRZq2oMQEw64&start_radio=1)\n",
    "\n",
    "This notebook is intended to develop ancillary skills in Python, specifically passing extra parameters to equation solvers. The Notebooks to this point have covered basic root finding with univariate solvers in Python. We can handle considerably more complex problems in a much more efficient way if we can learn to pass parameters instead of hard coding parameters within the scope of a single problem solution. To cover this topic, we will revist ammonia synthesis at varying temperatures and pressures, which was covered in [Notebook 08](https://jqbond.github.io/CEN587/Notebooks/587-N08.html). We have already solved this problem, and now that we know the answer and have some expectations about the system, we will now use it as a platform to learn about passing extra parameters to equation solvers like `opt.newton()` or `opt.root()`. This notebook has some light review of equilibrium concepts, but it is primarily a Python exercise."
   ]
  },
  {
   "cell_type": "code",
   "execution_count": 8,
   "metadata": {},
   "outputs": [],
   "source": [
    "import numpy as np\n",
    "import scipy.optimize as opt \n",
    "import matplotlib.pyplot as plt"
   ]
  },
  {
   "cell_type": "markdown",
   "metadata": {},
   "source": [
    "## Ammonia Synthesis Under Industrial Conditions\n",
    "\n",
    "In [Notebook 08](https://jqbond.github.io/CEN587/Notebooks/587-N08.html), we discussed the importance of temperature in determining the equilibrium position for ammonia synthesis:\n",
    "\n",
    "$$N_2 (g) + 3H_2 (g) \\leftrightharpoons 2N\\!H_3 (g)$$\n",
    "\n",
    "This reaction is ***exothermic*** and leads to a substantial ***loss of entropy***. This means that it is (very) enthalpically favorable and (very) entropically unfavorable, and it will be very sensitive to changes in temperature.  We found that it is extremely favorable at room temperature ($X_{N_2} \\approx 0.97$ at $T = 298$K); unfortunately, the kinetics of this reaction are too slow at 298K for it to be industrially feasible. To achieve a workable reaction rate, we might have to run at something like $T = 873$K; unfortunately, we found that ammonia synthesis is very thermodynamically unfavorable at this temperature ($X_{N_2} \\approx 8.0 \\times 10^{-4}$ at $T = 873$K). This prompted us to increase pressure, but we found that we would need to operate at nearly 1000 bar to allow workable nitrogen conversions at equilibrium ($X_{N_2} \\approx 0.38$ at $T = 873$K and $P = 1000$bar).  Materials and operating cost prevent us from running ammonia synthesis at 1000 bar at full scale, so it is essential to decrease temperature in order to get a more favorable equilibrium position; however, this must be done without reducing the reaction rate. This is where the introduction of a catalyst is critical -- the Haber-Bosch process relies on a catalyst to achieve high reaction rates at moderate temperatures where the equilibrium position is still unfavorable, but not so unfavorable that we cannot work around it by increasing pressure to 100 - 200 bar ($X_{N_2} \\approx 0.51$ at $T = 673$K and $P = 200$ bar).  These pressures are high and expensive, but they are industrially feasible.\n",
    "\n",
    "Below, we recap the solution already presented in [Notebook 08](https://jqbond.github.io/CEN587/Notebooks/587-N08.html)."
   ]
  },
  {
   "cell_type": "markdown",
   "metadata": {},
   "source": [
    "## Example Problem 01\n",
    "\n",
    "What is the equilibrium conversion of $N_2$ during ammonia synthesis at 873K, 1 bar, and starting with a 3:1 ratio of $H_2$:$N_2$? \n",
    "\n",
    "### Solution to Example Problem 01\n",
    "\n",
    "We start by recalling the equation below, which relates the standard state change in Gibbs free energy (i.e., ***reaction thermodynamics***) to the equilibrium composition of the reacting system.\n",
    "\n",
    "$$\\exp\\left(\\frac{-\\Delta G^\\circ}{RT}\\right) = K = \\prod_{j = 1}^{N_S}a_j^{\\nu_j}$$\n",
    "\n",
    "#### Thermodynamic data and K\n",
    "\n",
    "We will start with the left side of the equation. Assuming that we can solve it, it allows us to calculate a numerical value of the equilibrium constant from thermodynamic data. \n",
    "\n",
    "$$K = \\exp\\left(\\frac{-\\Delta G^\\circ}{RT}\\right)$$\n",
    "\n",
    "To find $K$, we have to calculate the standard state Gibbs Free Energy of reaction, $\\Delta G^\\circ$.  For gas phase reactions like this one, the standard state is pure species at 1 bar and the reaction temperature.  For this example problem, we've ***increased*** the reaction temperature to 873K, so we need to calculate the Gibbs free energy change at 1 bar and 873K. Previously, we only had data at 298K, but we can correct for temperature effects using heat capacities.  They are included for each species in the table below.\n",
    "\n",
    "|Species      | ${H_j}^\\circ (\\mathrm{kJ \\ mol^{-1}})$| ${S_j}^\\circ (\\mathrm{J \\ mol^{-1} \\ K^{-1}})$ | ${C_{p_j}}^\\circ (\\mathrm{J \\ mol^{-1} \\ K^{-1}})$|\n",
    "|-------------|:-------------------------------------:|:----------------------------------------------:|:-------------------------------------------------:|\n",
    "| $N_2$ (g)   | 0                                     |191.60                                          |29.12                                              | \n",
    "| $H_2$ (g)   | 0                                     |130.68                                          |28.84                                              | \n",
    "| $N\\!H_3$ (g)| -45.9                                 |192.77                                          |35.64                                              |\n",
    "\n",
    "Now, we can us the data at $T_0 = 298K$ and the various heat capacities to calculate the enthalpy of each species at 873K using the following equation:\n",
    "\n",
    "$$H_j = H_{j,0} + \\int_{T_0}^{T} C_{p_j} dT$$\n",
    "\n",
    "For heat capacities that are not a function of temperature (here, we have constant heat capacities), we can solve the integral and the equation simplifies to:\n",
    "\n",
    "$$H_j = H_{j,0} + C_{p_j}(T - T_0)$$\n",
    "\n",
    "Similarly, we can calculate entropies at a temperature other than $T_0 = 298K$ using the following equation:\n",
    "\n",
    "$$S_j = S_{j,0} + \\int_{T_0}^{T} \\frac{C_{p_j}}{T} dT$$\n",
    "\n",
    "For constant heat capacities like we have in this problem, we can again solve the integral giving:\n",
    "\n",
    "$$S_j = S_{j,0} + C_{p_j}\\ln\\left(\\frac{T}{T_0}\\right)$$\n",
    "\n",
    "In the cell below, we build a function to calculate enthalpies and entropies at 873K based on our data at 298K and the heat capacities we have available. Just to keep the notation simple, I'll use $N$ = $N_2$, $H = H_2$, and $A$ = $N\\!H_3$. Within this function, we also calculate the Gibbs Free Energy of Reaction and the Equilibrium Constant at 873K. The function is pretty simple, and it returns only the equilibrium constant at a specified temperature argument."
   ]
  },
  {
   "cell_type": "code",
   "execution_count": 9,
   "metadata": {},
   "outputs": [
    {
     "name": "stdout",
     "output_type": "stream",
     "text": [
      "At T = 298K, the thermodynamic equilibrium constant for ammonia synthesis is K = 5.54E+05\n"
     ]
    }
   ],
   "source": [
    "#############################################################################\n",
    "# Creating a versatile function that calculates K at any T, i.e., K(T)      #\n",
    "#############################################################################\n",
    "\n",
    "def K(T):\n",
    "    T0 = 298   #K\n",
    "    R  = 8.314 #J/mol/K\n",
    "    \n",
    "    #Enthalpies at 298K, 1 bar\n",
    "    HN0 = 0\n",
    "    HH0 = 0\n",
    "    HA0 = -45.9*1000 #J/mol\n",
    "\n",
    "    #Entropies at 298K, 1 bar\n",
    "    SN0 = 191.60 #J/mol/K\n",
    "    SH0 = 130.68 #J/mol/K\n",
    "    SA0 = 192.77 #J/mol/K\n",
    "\n",
    "    #Heat capacities\n",
    "    CPN = 29.12 #J/mol/K\n",
    "    CPH = 28.84 #J/mol/K\n",
    "    CPA = 35.64 #J/mol/K\n",
    "\n",
    "    #Calculate thermodynamic state functions at T not equal to T0 = 298\n",
    "    HN = HN0 + CPN*(T - T0) #J/mol\n",
    "    HH = HH0 + CPH*(T - T0) #J/mol\n",
    "    HA = HA0 + CPA*(T - T0) #J/mol\n",
    "\n",
    "    SN = SN0 + CPN*np.log(T/T0) #J/mol/K\n",
    "    SH = SH0 + CPH*np.log(T/T0) #J/mol/K\n",
    "    SA = SA0 + CPA*np.log(T/T0) #J/mol/K\n",
    "\n",
    "    ΔH = 2*HA - HN - 3*HH #J/mol\n",
    "    ΔS = 2*SA - SN - 3*SH #J/mol/K\n",
    "    ΔG = ΔH - T*ΔS        #J/mol\n",
    "\n",
    "    K  = np.exp(-ΔG/R/T)     #Dimensionless\n",
    "    return K\n",
    "\n",
    "T1 = 298 #K\n",
    "print(f'At T = {T1:0.0f}K, the thermodynamic equilibrium constant for ammonia synthesis is K = {K(T1):0.2E}')"
   ]
  },
  {
   "cell_type": "markdown",
   "metadata": {},
   "source": [
    "#### K is also a function of thermodynamic activities!\n",
    "\n",
    "Now that we have the equilibrium constant at 873K, 1 bar, and for pure gas reference states, we can address the composition dependence by considering:\n",
    "\n",
    "$$K = \\prod_{j = 1}^{N_S}a_j^{\\nu_j}$$\n",
    "\n",
    "Next, we need to work through the right hand side of that expression and resolve the composition dependencies within the thermodynamic activities. We can apply this equation to the specific example of ammonia synthesis to find:\n",
    "\n",
    "$$K = \\frac{{a_{N\\!H_3}}^{2}}{{a_{N_2}}{a_{H_2}}^3}$$\n",
    "\n",
    "We recall our definitions for thermodynamic activities of gases in a mixture:\n",
    "\n",
    "$$a_j = \\frac{\\hat{f}_j}{f_j^\\circ}$$\n",
    "\n",
    "The numerator is the fugacity of species $j$ under reaction conditions ($T = 873K$, $P = 1 \\mathrm{bar}$, $x_j = ?$). The denominator is the fugacity of species $j$ in its reference state. Our reference state for gas-phase species is a pure species at 1 bar and the reaction temperature ($T = 873K$). Our convention for calculating fugacities of gases in a mixture uses the Lewis Randall rule. With these things in mind, formally, we have:\n",
    "\n",
    "$$a_j = \\frac{y_j \\phi_j P}{y_j^\\circ \\phi_j^\\circ  P^\\circ}$$\n",
    "\n",
    "Looking at the numerator, we are operating this reactor at 1 bar, so the fugacity coefficient for species j under reaction conditions, $\\phi_j$, is 1. Looking at the denominator, the reference state is a pure species, so $y_j^\\circ = 1$.  Further, that pure species is at 1 bar, so $\\phi_j^\\circ = 1$. This gives the usual result for low pressure gases:\n",
    "\n",
    "$$a_j = \\frac{y_j P}{P^\\circ}$$\n",
    "\n",
    "Now we apply this equation to all of the species participating in the reaction.  Notice that I'm still retaining $P$ and $P^\\circ$ in my solution:\n",
    "\n",
    "$$K = \\frac{\\left(\\frac{y_{N\\!H_3}P}{P^\\circ}\\right)^2}{\\left(\\frac{y_{N_2}P}{P^\\circ}\\right) \\left(\\frac{y_{H_2}P}{P^\\circ}\\right)^3}$$\n",
    "\n",
    "We see multiple pressures and reference pressures that will cancel, giving:\n",
    "\n",
    "$$K = \\frac{{y_{N\\!H_3}}^2}{y_{N_2}{y_{H_2}}^3} \\left(\\frac{P^\\circ}{P}\\right)^2$$\n",
    "\n",
    "Now we're at a point that we can't really go any further because we have 3 unknowns ($y_{N\\!H_3}$, $y_{N_2}$, and $y_{H_2}$) and only 1 equation.  As before, we address this by solving for the molar quantity of each species using an extent of reaction, stoichiometric coefficients, and the starting quantity of each species.\n",
    "\n",
    "#### Expressing Mole Fractions as functions of Extent\n",
    "\n",
    "In general, the mole fraction for a species in the gas phase is defined as:\n",
    "\n",
    "$$y_j = \\frac{N_j}{N_{\\textrm{total}}} = \\frac{N_j}{\\sum_j N_j}$$\n",
    "\n",
    "We also remember that we can express the moles of each species at any point in the reaction, $N_j$ in terms of the extent of reaction(s) that are occuring in that system.  \n",
    "\n",
    "$$N_j = N_{j,0} + \\nu_j \\varepsilon$$\n",
    "\n",
    "We want to apply this equation for all species in the reactor. We can also see that the total number of moles shows up in the definition of a mole fraction, so we need to track that quantity as well. It is usually a good idea to organize all of this information in a mole table -- no matter how many equilibrium problems I solve, I still always use this simple tool to organize information. We will again relabel the compounds using N ($N_2$), H ($H_2$), and A ($NH_3$).\n",
    "\n",
    "$$N (g) + 3H (g) \\leftrightharpoons 2A (g)$$\n",
    "\n",
    "|Species   |In        |Change           |End                     |\n",
    "|:---------|:--------:|:---------------:|:----------------------:|\n",
    "| $N_2$   |$N_{N0}$  |$-1\\varepsilon$  |$N_{N0} - 1\\varepsilon$ | \n",
    "| $H_2$   |$N_{H0}$  |$-3\\varepsilon$  |$N_{H0} - 3\\varepsilon$ |\n",
    "| $N\\!H_3$   |$N_{A0}$  |$+2\\varepsilon$  |$N_{A0} + 2\\varepsilon$ |\n",
    "| Total    |$N_{T0}$  |$-2\\varepsilon$  |$N_{T0} - 2\\varepsilon$ |\n",
    "\n",
    "\n",
    "We can make these substitutions into the definitions of mole fractions, ultimately finding:\n",
    "\n",
    "$$K = \\frac{\\left(N_{A,0} + 2\\varepsilon\\right)^2 \\left(N_{T,0} - 2\\varepsilon\\right)^2}{\\left(N_{N,0} - 1\\varepsilon\\right) \\left(N_{H,0} - 3\\varepsilon\\right)^3} \\left(\\frac{P^\\circ}{P}\\right)^2$$\n",
    "\n",
    "As covered previously, when writing a script to solve a problem, it is often preferable to write the equations in code and allow the script to perform the substitutions rather than doing them by hand and (1) risk making mistakes and (2) generate an objective function that has lost most connections with physically meaningful expressions and definitions.  We build this objective function below."
   ]
  },
  {
   "cell_type": "code",
   "execution_count": 10,
   "metadata": {},
   "outputs": [],
   "source": [
    "####################################################################################################################################\n",
    "# Define the basis; as done here, these are global variables stored in the workspace and accessible within all functions and loops #\n",
    "####################################################################################################################################\n",
    "\n",
    "NN0 = 1 #mole of Nitrogen at start\n",
    "NH0 = 3 #moles of Hydrogen at start\n",
    "NA0 = 0 #moles of Ammonia at start\n",
    "NT0 = NN0 + NH0 + NA0 #total moles at start\n",
    "\n",
    "# Define reference pressure; it is constant throughout all problems\n",
    "P0  = 1 #bar"
   ]
  },
  {
   "cell_type": "code",
   "execution_count": 11,
   "metadata": {},
   "outputs": [
    {
     "name": "stdout",
     "output_type": "stream",
     "text": [
      "      converged: True\n",
      "           flag: converged\n",
      " function_calls: 49\n",
      "     iterations: 48\n",
      "           root: 0.0007985377076979054\n",
      "         method: secant \n",
      "\n",
      "At T = 873K and P = 1.0bar, the equilibrium conversion of N2 is 7.99E-04, yN is 0.250, yH is 0.750, and yA is 3.99E-04\n"
     ]
    }
   ],
   "source": [
    "def obj1(ε):\n",
    "\n",
    "    #Specifications for this problem\n",
    "    T   = 873 #K\n",
    "    P   = 1.0 #bar\n",
    "       \n",
    "    NN  = NN0 - ε\n",
    "    NH  = NH0 - 3*ε\n",
    "    NA  = NA0 + 2*ε\n",
    "    NT  = NN + NH + NA\n",
    "    \n",
    "    yN  = NN/NT\n",
    "    yH  = NH/NT\n",
    "    yA  = NA/NT\n",
    "    \n",
    "    aN  = yN*P/P0\n",
    "    aH  = yH*P/P0\n",
    "    aA  = yA*P/P0\n",
    "    \n",
    "    KCOMP = aA**2/aN/aH**3\n",
    "    KTHERMO = K(T)       \n",
    "\n",
    "    return KCOMP - KTHERMO  #We want to find the value of extent where KCOMP - Kthermo = 0\n",
    "\n",
    "T = 873 #K\n",
    "P = 1 #bar\n",
    "ans, info = opt.newton(obj1, 0.99, full_output = True) #This solves for the equilibrium extent\n",
    "\n",
    "print(info, '\\n') #Let's make sure it converged...\n",
    "\n",
    "#Solve for conversion and mole fractions.\n",
    "NN = NN0 - ans\n",
    "NH = NH0 - 3*ans\n",
    "NA = NA0 + 2*ans\n",
    "NT = NN + NH + NA\n",
    "XN = (NN0 - NN)/NN0\n",
    "yN = NN/NT\n",
    "yH = NH/NT\n",
    "yA = NA/NT\n",
    "\n",
    "# print(f'The equilibrium conversion of N2 is {XN:0.2E}, yN is {yN:0.3f}, yH is {yH:0.3f}, and yA is {yA:0.2E}')\n",
    "print(f'At T = {T:0.0f}K and P = {P:0.1f}bar, the equilibrium conversion of N2 is {XN:0.2E}, yN is {yN:0.3f}, yH is {yH:0.3f}, and yA is {yA:0.2E}')"
   ]
  },
  {
   "cell_type": "markdown",
   "metadata": {},
   "source": [
    "## Passing T and P as extra arguments to `opt.newton()` or `opt.root()`\n",
    "\n",
    "Wouldn't it be nice if we could pass T and P as arguments to the objective function? That way, we wouldn't have to hard code their values for every different scenario or store them as global variables in the workspace, which can lead to mistakes when we define global variables multiple times within the same script. We can actually do this easily in Python using either the `args` keyword or using `lambda` functions.  We will cover both ways because they are both useful and either might be \"better\" depending on the problem you're trying to solve.\n",
    "\n",
    "To start, we'll write a more general function that contains our system of equations we're trying to solve.  It is almost identical to the form we usually use for `opt.newton()`, but in this case, we relax the requirement that that function only takes one argument (e.g., \"ex\"), and we give it 3 arguments instead:  `(ex, T, P)`. \n",
    "\n",
    "```{warning}\n",
    "The function below cannot be solved directly with `opt.newton()` because its default configuration only allows functions that accept a single argument.\n",
    "```"
   ]
  },
  {
   "cell_type": "code",
   "execution_count": 12,
   "metadata": {},
   "outputs": [],
   "source": [
    "def tempfun2(ε, T, P):\n",
    "\n",
    "    #Specifications for this problem\n",
    "    #Trxn = T -- we are passing this into the function as an argument.\n",
    "    #Prxn = P -- we are passing this into the function as an argument\n",
    "\n",
    "    # P0  = 1.0 #bar #These are constant parameters that are defined globally in workspace\n",
    "    # NN0 = 1.0 #moles\n",
    "    # NH0 = 3.0 #moles\n",
    "    # NA0 = 0.0 #moles\n",
    "    \n",
    "    #Mole Table, this captures extent of reaction\n",
    "    NN  = NN0 - ε\n",
    "    NH  = NH0 - 3*ε\n",
    "    NA  = NA0 + 2*ε\n",
    "    NT  = NN + NH + NA\n",
    "    \n",
    "    #Mole fractions -- note extent is built into definitions of NA, NB, NC, NT\n",
    "    yN  = NN/NT\n",
    "    yH  = NH/NT\n",
    "    yA  = NA/NT\n",
    "       \n",
    "    #Activity definitions -- extents embedded in yA, yB, yC; P and P0 also show up.\n",
    "    aN  = yN*P/P0\n",
    "    aH  = yH*P/P0\n",
    "    aA  = yA*P/P0\n",
    "    \n",
    "    #This is our ratio of thermodynamic activities at equiliribum, i.e., Kactivity = Product(a_j^nu_j)\n",
    "    KACTIVITY = aA**2/aN/aH**3\n",
    "    \n",
    "    #Calculate the equilibrium constant at T = Trxn\n",
    "    KTHERMO = K(T) \n",
    "       \n",
    "    return KACTIVITY - KTHERMO  #We want to find the value of extent where KCOMP - Kthermo = 0"
   ]
  },
  {
   "cell_type": "code",
   "execution_count": 13,
   "metadata": {},
   "outputs": [
    {
     "name": "stdout",
     "output_type": "stream",
     "text": [
      "5.333331818210124\n",
      "5.333331818210124\n"
     ]
    }
   ],
   "source": [
    "print(obj1(0.5))\n",
    "# print(tempfun2(0.5))\n",
    "print(tempfun2(0.5, 873, 1))\n",
    "# opt.newton(tempfun2, 0.01)"
   ]
  },
  {
   "cell_type": "markdown",
   "metadata": {},
   "source": [
    "### Passing extra parameters with lambda functions\n",
    "\n",
    "We can now solve this for any T and P pair by passing them as arguments to the objective function. This is a little more difficult to do than the original example because `opt.newton()` still only takes a single argument ($\\varepsilon$).  We can get around this in two ways.  The first we'll illustrate is to use an anonymous or `lambda` function to \"pass extra parameters.\"  This is a standard tool for doing this in most programming languages, and it is the best practice for this style of solution in Matlab and Julia."
   ]
  },
  {
   "cell_type": "code",
   "execution_count": 14,
   "metadata": {},
   "outputs": [
    {
     "name": "stdout",
     "output_type": "stream",
     "text": [
      "5.333331818210124\n",
      "5.333331818210124\n"
     ]
    }
   ],
   "source": [
    "Trxn = 873#673 #K\n",
    "Prxn = 1#200 #bar\n",
    "obj2 = lambda ε: tempfun2(ε, Trxn, Prxn) #Essentially converts tempfun(ex, T, P) to objective(ex)\n",
    "print(obj1(0.5))\n",
    "# print(tempfun2(0.5))\n",
    "print(obj2(0.5))"
   ]
  },
  {
   "cell_type": "code",
   "execution_count": 15,
   "metadata": {},
   "outputs": [
    {
     "name": "stdout",
     "output_type": "stream",
     "text": [
      "converged\n",
      "At T = 673K and P = 200 bar, conversion of N2 is 0.512, yN is 0.164, yH is 0.492, and yA is 0.344.\n"
     ]
    }
   ],
   "source": [
    "Trxn = 673 #K\n",
    "Prxn = 200 #bar\n",
    "obj2 = lambda ε: tempfun2(ε, Trxn, Prxn)\n",
    "ans, info = opt.newton(obj2, 0.99, full_output = True) #This solves for the equilibrium extent\n",
    "\n",
    "print(info.flag) #Let's make sure it converged...\n",
    "\n",
    "#Solve for conversion and mole fractions.\n",
    "NN = NN0 - ans\n",
    "NH = NH0 - 3*ans\n",
    "NA = NA0 + 2*ans\n",
    "NT = NN + NH + NA\n",
    "XN = (NN0 - NN)/NN0\n",
    "yN = NN/NT\n",
    "yH = NH/NT\n",
    "yA = NA/NT\n",
    "\n",
    "print(f'At T = {Trxn:0.0f}K and P = {Prxn:0.0f} bar, conversion of N2 is {XN:0.3f}, yN is {yN:0.3f}, yH is {yH:0.3f}, and yA is {yA:0.3f}.')"
   ]
  },
  {
   "cell_type": "markdown",
   "metadata": {},
   "source": [
    "### Passing extra parameters with the args keyword in Python\n",
    "\n",
    "The second way to handle this is somewhat specific to Python, but it is convenient and worth knowing.  Both `opt.root()` and `opt.newton()` will accept a keyword argument called `args`.  We can use this to pass extra parameters into equations being solved by numerical methods.  It is functionally identical to what we did above with a lambda function, but the syntax is arguably a little cleaner."
   ]
  },
  {
   "cell_type": "code",
   "execution_count": 16,
   "metadata": {},
   "outputs": [
    {
     "name": "stdout",
     "output_type": "stream",
     "text": [
      "converged\n",
      "At T = 673K and P = 200 bar, conversion of N2 is 0.512, yN is 0.164, yH is 0.492, and yA is 0.344.\n"
     ]
    }
   ],
   "source": [
    "Trxn = 673 #K\n",
    "Prxn  = 200 #bar\n",
    "ans, info = opt.newton(tempfun2, 0.98, args = (Trxn, Prxn), full_output = True) #This solves for the equilibrium extent\n",
    "\n",
    "print(info.flag) #Let's make sure it converged...\n",
    "\n",
    "#Solve for conversion and mole fractions.\n",
    "NN = NN0 - ans\n",
    "NH = NH0 - 3*ans\n",
    "NA = NA0 + 2*ans\n",
    "NT = NN + NH + NA\n",
    "XN = (NN0 - NN)/NN0\n",
    "yN = NN/NT\n",
    "yH = NH/NT\n",
    "yA = NA/NT\n",
    "\n",
    "print(f'At T = {Trxn:0.0f}K and P = {Prxn:0.0f} bar, conversion of N2 is {XN:0.3f}, yN is {yN:0.3f}, yH is {yH:0.3f}, and yA is {yA:0.3f}.')"
   ]
  },
  {
   "cell_type": "markdown",
   "metadata": {},
   "source": [
    "## Why go through the trouble?\n",
    "\n",
    "We have a good reason to set up problems in a more general way like this.  At a minimum, it is clear that this format is nice for allowing us to explore the impact of changing parameters. We don't have to write much extra code, we just pass new values of $(T, P)$ to our objective function and obtain a new solution. This is a nice first step in obtaining very general information about how a reaction will respond to changes in operating conditions.  We shouldn't restrict ourselves to solving the problem at a single $(T, P)$ -- it is much more informative if we can solve the problem at many different temperatures or pressures so that we can develop a good understanding of system behavior and also be able to quantitatively state how the system will respond to a change in operating conditions.\n",
    "\n",
    "This is a good place to employ loops, which are nice tools for repeating the same operation over a set.  You could imagine writing a loop to, for example, solve the ammonia equilibrium problem at many different temperatures.  We'll do this below. First, let's look a little at how loops behave and how we will work with them. For these examples, we want to run iterations on a known set of temperatures, so a `for` loop is the best tool. In contrast, you want to use a `while` loop if you want to continue an operation until a threshold criterion is met."
   ]
  },
  {
   "cell_type": "code",
   "execution_count": 17,
   "metadata": {},
   "outputs": [
    {
     "name": "stdout",
     "output_type": "stream",
     "text": [
      "a\n",
      "b\n",
      "c\n",
      "d\n",
      "e\n",
      "\n",
      "1\n",
      "2\n",
      "3\n",
      "4\n",
      "5\n"
     ]
    }
   ],
   "source": [
    "####################################################\n",
    "# Some simple for loop examples                    #\n",
    "####################################################\n",
    "\n",
    "letters = ['a', 'b', 'c', 'd', 'e']\n",
    "numbers = [1, 2, 3, 4, 5]\n",
    "\n",
    "for entry in letters:\n",
    "    print(entry)\n",
    "\n",
    "print()\n",
    "\n",
    "for value in numbers:\n",
    "    print(value)"
   ]
  },
  {
   "cell_type": "code",
   "execution_count": 18,
   "metadata": {},
   "outputs": [
    {
     "name": "stdout",
     "output_type": "stream",
     "text": [
      "0 1 b\n",
      "1 2 c\n",
      "2 3 d\n"
     ]
    }
   ],
   "source": [
    "for i in range(0, 3):\n",
    "    print(i, numbers[i], letters[i+1])"
   ]
  },
  {
   "cell_type": "code",
   "execution_count": 19,
   "metadata": {},
   "outputs": [
    {
     "name": "stdout",
     "output_type": "stream",
     "text": [
      "1\n",
      "4\n",
      "9\n",
      "16\n",
      "25\n"
     ]
    }
   ],
   "source": [
    "for value in numbers:\n",
    "    result = value**2\n",
    "    print(result)"
   ]
  },
  {
   "cell_type": "code",
   "execution_count": 20,
   "metadata": {},
   "outputs": [
    {
     "name": "stdout",
     "output_type": "stream",
     "text": [
      "0 a\n",
      "1 b\n",
      "2 c\n",
      "3 d\n",
      "4 e\n"
     ]
    }
   ],
   "source": [
    "for i in range(0, len(letters), 1): #this is equivalent to for i in range(0, 5, 1):\n",
    "    print(i, letters[i])"
   ]
  },
  {
   "cell_type": "markdown",
   "metadata": {},
   "source": [
    "```{caution}\n",
    "Loops will generally overwrite variables defined within a loop. If you need to store the results generated in the course of a loop, you have to deliberately build this into the loop. There are multiple ways to do this -- you can append the result to an existing array, or you can store the result in pre-allocated space within an array.\n",
    "```"
   ]
  },
  {
   "cell_type": "code",
   "execution_count": 26,
   "metadata": {},
   "outputs": [
    {
     "name": "stdout",
     "output_type": "stream",
     "text": [
      "0 1\n",
      "1 4\n",
      "2 9\n",
      "3 16\n",
      "4 25\n",
      "\n",
      "4 25\n"
     ]
    }
   ],
   "source": [
    "for k in range(0, len(numbers), 1):\n",
    "    result_local = numbers[k]**2\n",
    "    print(k, result_local)\n",
    "print()\n",
    "print(k, result_local)"
   ]
  },
  {
   "cell_type": "code",
   "execution_count": 28,
   "metadata": {},
   "outputs": [
    {
     "name": "stdout",
     "output_type": "stream",
     "text": [
      "[0. 0. 0. 0. 0.]\n",
      "0 1\n",
      "1 4\n",
      "2 9\n",
      "3 16\n",
      "4 25\n",
      "\n",
      "4 25 \n",
      "\n",
      "[ 1.  4.  9. 16. 25.]\n"
     ]
    }
   ],
   "source": [
    "result_global = np.zeros(len(numbers))\n",
    "print(result_global)\n",
    "for k in range(0, len(numbers), 1):\n",
    "    result_local = numbers[k]**2\n",
    "    print(k, result_local)\n",
    "    result_global[k] = result_local\n",
    "print()\n",
    "print(k, result_local, '\\n')\n",
    "print(result_global)"
   ]
  },
  {
   "cell_type": "markdown",
   "metadata": {},
   "source": [
    "The Cell below uses a for loop to solve for the equilibrium conversion during ammonia synthesis at 1 bar and temperatures ranging from 300K to 900K. There is one small change from prior scripts -- it is hard to provide a good initial guess over such a large temperature range, so this script changes the numerical method used by opt.newton() from a secant method (default) to Brent's Method, which does not require an initial guess and offers better stability."
   ]
  },
  {
   "cell_type": "code",
   "execution_count": 23,
   "metadata": {},
   "outputs": [
    {
     "name": "stdout",
     "output_type": "stream",
     "text": [
      "298\n",
      "0.967858593206951 True \n",
      "\n",
      "0.967858593206951\n",
      "[0.96785859]\n"
     ]
    }
   ],
   "source": [
    "PRXN = 1   #bar\n",
    "TSET = [298]\n",
    "# TSET = [298, 323, 523]\n",
    "# TSET = np.linspace(300, 900, 100) #K\n",
    "\n",
    "XOUT = np.zeros(len(TSET))\n",
    "# flag = np.zeros(len(TSET))\n",
    "# print(XOUT)\n",
    "\n",
    "for j in range(0, len(TSET), 1):\n",
    "    print(TSET[j])\n",
    "    objective = lambda ε: tempfun2(ε, TSET[j], PRXN)\n",
    "    ans, info = opt.newton(objective, 0.99, full_output = True)\n",
    "    # ans, info = opt.brentq(objective, 1e-6, 0.99999, xtol = 1e-8, rtol = 1e-8, full_output = True)\n",
    "    print(ans, info.converged, '\\n')\n",
    "    XOUT[j] = ans/NN0\n",
    "    # flag[j] = info.converged\n",
    "    # if info.converged == True:\n",
    "    #     XOUT[j] = ans/NN0\n",
    "    # if info.converged == False:\n",
    "    #     print(info)\n",
    "\n",
    "print(ans)\n",
    "print(XOUT)\n",
    "# print(flag)"
   ]
  },
  {
   "cell_type": "markdown",
   "metadata": {},
   "source": [
    "Since we have such a large number of equilibrium solutions, it is much easier to interpret the results if we can visualize them. Below, we graph the equilibrium conversion of nitrogen at 1 bar as a function of temperature from 300K to 900K. It is important to understand that we obtained each data point on this figure by solving an equilibrium problem at a specific reaction temperature. This was accomplished using a for loop."
   ]
  },
  {
   "cell_type": "code",
   "execution_count": 24,
   "metadata": {},
   "outputs": [
    {
     "data": {
      "image/png": "[encoded data removed]",
      "text/plain": [
       "<Figure size 500x500 with 1 Axes>"
      ]
     },
     "metadata": {},
     "output_type": "display_data"
    }
   ],
   "source": [
    "plt.figure(figsize = (5,5))\n",
    "plt.plot(TSET, XOUT)\n",
    "plt.yscale('log')\n",
    "plt.ylabel('N2 Conversion', fontsize = 16)\n",
    "plt.ylim(10**-4, 1)\n",
    "plt.xlabel('T (K)', fontsize = 16)\n",
    "plt.xlim(300, 900)\n",
    "plt.xticks(np.arange(300, 901, 100), fontsize = 14)\n",
    "plt.show()"
   ]
  }
 ],
 "metadata": {
  "kernelspec": {
   "display_name": "Python 3 (ipykernel)",
   "language": "python",
   "name": "python3"
  },
  "language_info": {
   "codemirror_mode": {
    "name": "ipython",
    "version": 3
   },
   "file_extension": ".py",
   "mimetype": "text/x-python",
   "name": "python",
   "nbconvert_exporter": "python",
   "pygments_lexer": "ipython3",
   "version": "3.12.7"
  }
 },
 "nbformat": 4,
 "nbformat_minor": 4
}
