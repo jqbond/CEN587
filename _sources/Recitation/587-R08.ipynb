{
 "cells": [
  {
   "cell_type": "markdown",
   "metadata": {},
   "source": [
    "# Optimization\n",
    "\n",
    "An introduction to optimization in reactor design"
   ]
  },
  {
   "cell_type": "code",
   "execution_count": null,
   "metadata": {},
   "outputs": [],
   "source": [
    "import numpy as np\n",
    "import matplotlib.pyplot as plt\n",
    "import scipy.optimize as opt\n",
    "from scipy.integrate import trapezoid\n",
    "from math import ceil, floor\n",
    "import time"
   ]
  },
  {
   "cell_type": "markdown",
   "metadata": {},
   "source": [
    "## Review: Flow Reactors in Series\n",
    "\n",
    "Over the past couple of weeks, we have considered the idea of reactor sequencing for flow reactors. That is, we have considered whether it would be beneficial to use more than one flow reactor arranged in a sequence in order to accomplish a certain transformation. For now, we're only considering reactors in series where the outflow from one is the inflow to the next. For now, we are only really concerned with concepts about how placing reactors in sequences effects the process, and so we are looking at a very simple reaction:\n",
    "\n",
    "$$A \\longrightarrow B$$\n",
    "\n",
    "Whether we perform this reaction in a CSTR or a PFR, we can assume that the temperature, pressure, density, volume, and volumetric flowrate associated with these processes are constant with respect to time and position in the reactor. With those simplifying assumptions, we can write balances for the \"nth\" reactor in that system, e.g., for a CSTR:\n",
    "\n",
    "$$V_n = \\frac {F_{A_f}(x_{A_n} - x_{A_{n-1}})}{r(x_{A_n})}$$\n",
    "\n",
    "And for a PFR:\n",
    "\n",
    "$$V_n = \\int_{x_{A_{n-1}}}^{x_{A_n}} \\frac{F_{A_f}}{r(x_A)}dx_A$$\n",
    "\n",
    "Today, we will specifically consider reactor sizing for the case where the reaction given above is first order in species A such that $r = kC_A$; further, we are given the following information about this reactor:\n",
    "\n",
    "\\begin{align}\n",
    "    k &= 1 \\ \\textrm{min}^{-1} \\\\\n",
    "    F_{A_f} &= 1 \\ \\textrm{mol} \\ \\textrm{min}^{-1} \\\\\n",
    "    C_{A_f} &= 1 \\ \\textrm{mol} \\ \\textrm{L}^{-1} \\\\\n",
    "\\end{align}\n",
    "\n",
    "### Balances on the n<sup>th</sup> PFR and CSTR in a series\n",
    "\n",
    "We developed the following balances for the nth CSTR and PFR during class:\n",
    "\n",
    "$$V_{CSTR} = \\frac{F_{Af}(x_{A_n} - x_{A_{n-1}})}{kC_{A_f}(1 - x_{A_n})}$$\n",
    "\n",
    "$$V_{PFR} = \\int_{x_{A_{n-1}}}^{x_{A_n}} \\frac{F_{A_f}}{r(x_A)}dx_A $$\n",
    "\n",
    "### 90% conversion in a single flow reactor\n",
    "\n",
    "We can substitute the information in the problem statement to compute the size of a single CSTR and a single PFR to achieve 90% conversion of species A.  Doing so, we find:\n",
    "\n",
    "$$V_{CSTR} = \\frac{F_{Af}(x_{A_n} - x_{A_{n-1}})}{kC_{A_f}(1 - x_{A_n})} = \\frac{0.9}{(1-0.9)} \\textrm{L} = 9.0 \\textrm{L}$$\n",
    "\n",
    "$$V_{PFR} = \\int_{x_{A_{n-1}}}^{x_{A_n}} \\frac{F_{A_f}}{r(x_A)}dx_A = \\int_{0}^{0.9} \\frac{F_{A_f}}{kC_{A_f}(1-x_A)}dx_A = -\\ln{(1 - 0.9)} \\textrm{L} = 2.30 \\textrm{L}$$\n",
    "\n",
    "Both of these models are embedded in the next cell as lambda functions.  They will calculate the volume of a single CSTR or PFR required to achieve any fractional conversion in this reactor.  I've also plotted them so that you can see how the difference in sizes grows as the fractional conversion increases.  This makes sense if you think about the requirement that the entire volume of the CSTR operates at the exit concentration, i.e., where the reaction rate is at its lowest (for a positive order reaction)."
   ]
  },
  {
   "cell_type": "code",
   "execution_count": null,
   "metadata": {},
   "outputs": [],
   "source": [
    "FAf = 1 #mol/min\n",
    "CAf = 1 #mol/L\n",
    "k   = 1 #1/min\n",
    "\n",
    "VCSTR = lambda X: FAf/k/CAf*X/(1 - X)\n",
    "VPFR  = lambda X: -FAf/k/CAf*np.log(1 - X)\n",
    "print(f'To achieve 90% conversion, we need a {VCSTR(0.9):3.2f}L CSTR or a {VPFR(0.9):3.2f}L PFR') \n",
    "VPFR(0.9)\n",
    "xspan = np.linspace(0, 0.9, 100)\n",
    "\n",
    "plt1 = plt.figure(1, figsize = (5, 5))\n",
    "plt.title('Comparison of PFR and CSTR volumes', fontsize = 14)\n",
    "plt.plot(xspan, VCSTR(xspan), color = 'black', linestyle = 'solid', label = 'CSTR')\n",
    "plt.plot(xspan, VPFR(xspan), color = 'black', linestyle = 'dashed', label = 'PFR')\n",
    "plt.xlim(0, 1.0)\n",
    "plt.ylim(0, 10.0)\n",
    "plt.xlabel('Fractional Conversion of A', fontsize = 14)\n",
    "plt.ylabel('Volume of Reactor (L)', fontsize = 14)\n",
    "plt.legend()\n",
    "plt.show()"
   ]
  },
  {
   "cell_type": "markdown",
   "metadata": {},
   "source": [
    "### A Levenspiel Plot for this system\n",
    "\n",
    "This is also evident from a Levenspiel plot, where we present $\\frac{F_{A_f}}{r(x_A)}$ vs. $x_A$"
   ]
  },
  {
   "cell_type": "code",
   "execution_count": null,
   "metadata": {},
   "outputs": [],
   "source": [
    "LEV  = lambda X: FAf/k/CAf/(1 - X)\n",
    "VC   = LEV(0.9)*(0.9 - 0.0)\n",
    "VP   = trapezoid(LEV(xspan), xspan)\n",
    "print(f'To achieve 90% conversion, we need a {VC:3.2f}L CSTR or a {VP:3.2f}L PFR') \n",
    "\n",
    "plt2 = plt.figure(1, figsize = (5, 5))\n",
    "plt.plot(xspan, LEV(xspan))\n",
    "plt.hlines(LEV(0.9), 0, 0.9, linestyle = 'dashed', color = 'red', linewidth = 1)\n",
    "plt.vlines(0.9, 0, LEV(0.9), linestyle = 'dashed', color = 'red', linewidth = 1)\n",
    "plt.fill_between(xspan, LEV(xspan))\n",
    "plt.xlabel('Fractional Conversion of A', fontsize = 14)\n",
    "plt.ylabel('FAf/r, L', fontsize = 14)\n",
    "plt.title('Levenspiel Plot for 1st Order Reaction', fontsize = 14)\n",
    "plt.ylim(0, 12)\n",
    "plt.xlim(0, 1)\n",
    "plt.show()"
   ]
  },
  {
   "cell_type": "markdown",
   "metadata": {},
   "source": [
    "### If we use 2 CSTRs instead of 1 CSTR, the total volume required is lower...\n",
    "\n",
    "We also looked at how things change when we instead do this in multiple reactors; for example, if we decide to reach 90% total conversion of A in two CSTRs in series, with an intermediate conversion of 45%, we find:\n",
    "\n",
    "$$V_1 = \\frac{F_{A_f}(x_{A_n} - x_{A_{n-1}})}{kC_{A_f}(1-x_{A_{n-1}})} = \\frac{(0.45 - 0.00)}{(1 - 0.45)} \\ \\textrm{L} = 0.82 \\ \\textrm{L}$$\\\n",
    "$$V_2 = \\frac{F_{A_f}(x_{A_n} - x_{A_{n-1}})}{kC_{A_f}(1-x_{A_{n-1}})} = \\frac{(0.90 - 0.45)}{(1 - 0.90)} \\ \\textrm{L} = 4.5 \\ \\textrm{L}$$\\\n",
    "$$V_{\\textrm{total}} = V_1 + V_2 = 5.32 \\ \\textrm{L}$$"
   ]
  },
  {
   "cell_type": "code",
   "execution_count": null,
   "metadata": {},
   "outputs": [],
   "source": [
    "XAset = np.linspace(0, 0.90, 100)\n",
    "XMAX = max(XAset)\n",
    "XMID  = 0.90\n",
    "\n",
    "plt3 = plt.figure(1, figsize = (5, 5))\n",
    "plt.title('Levenspiel Plot for 1st Order Reaction', fontsize = 14)\n",
    "plt.plot(XAset, LEV(XAset), color = 'black')\n",
    "plt.fill_between(XAset, LEV(XAset))\n",
    "plt.vlines(XMID, 0, LEV(XMAX), linestyle = 'dashed', color = 'red', linewidth = 1)\n",
    "plt.vlines(XMAX, 0, LEV(XMAX), linestyle = 'dashed', color = 'red', linewidth = 1)\n",
    "plt.hlines(LEV(XMAX), XMID, XMAX, linestyle = 'dashed', color = 'red', linewidth = 1)\n",
    "plt.hlines(LEV(XMID), 0, XMID, linestyle = 'dashed', color = 'red', linewidth = 1)\n",
    "plt.ylabel('FAf/r (L)', fontsize = 14)\n",
    "plt.xlabel('XA', fontsize = 14)\n",
    "plt.xlim(0,1)\n",
    "plt.ylim(0, 12)\n",
    "plt.xticks(np.linspace(0, 1, 11))\n",
    "plt.show()"
   ]
  },
  {
   "cell_type": "markdown",
   "metadata": {},
   "source": [
    "# Problem 1: What is the optimum intermediate conversion?\n",
    "\n",
    "Surely, there is a better choice of intermediate conversion of A that 0.45, right?  We can see from the Levenspiel plot that as I vary the exit conversion from the first reactor, I will change the size of both reactors...and it isn't immediately clear how I should operate this process so that I have the smallest total possible CSTR volume.\n",
    "\n",
    "### Optimizing the intermediate conversion: a graphical solution\n",
    "\n",
    "Let's solve that problem using a handful of methods.  First, let's return to the analytical solution for the total volume of two CSTRs in series:\n",
    "\n",
    "$$V = \\frac {F_{A_f} (x_{A_1} - x_{A_{0}} ) } {kC_{A_f}(1-x_{A_{1}})} + \\frac {F_{A_f} (x_{A_2} - x_{A_{1}} ) } {kC_{A_f}(1-x_{A_{2}})} $$\n",
    "\n",
    "Here, we know that $x_{A_0} = 0$ and that $x_{A_2} = 0.9$, but we'll leave $x_{A_1}$, which is the intermediate conversion, as an unknown. \n",
    "\n",
    "$$V = \\frac{F_{A_f}}{kC_{A_f}} \\left[ \\frac {x_{A_1}}{(1-x_{A_{1}})} + \\frac {(0.9 - x_{A_{1}} )} {0.1} \\right] $$\n",
    "\n",
    "Let's program that information into a function in the cell below, and we'll learn some ways to analyze it; the most intuitive way is a graphical method."
   ]
  },
  {
   "cell_type": "code",
   "execution_count": null,
   "metadata": {},
   "outputs": [],
   "source": [
    "def f1(X):\n",
    "    FAf = 1 #mol/min\n",
    "    CAf = 1 #mol/L\n",
    "    k   = 1 #1/min    \n",
    "    V = FAf/k/CAf*(X/(1 - X) + (0.9 - X)/0.1)\n",
    "    return V\n",
    "xspan = np.linspace(0, 0.9, 100)\n",
    "V = f1(xspan)\n",
    "\n",
    "plt4 = plt.figure(1, figsize = (5, 5))\n",
    "plt.title('Total Volume for 2 CSTRs vs. Int. Conversion')\n",
    "plt.plot(xspan, V, color = 'black')\n",
    "plt.xlabel('Intermediate Conversion', fontsize = 12)\n",
    "plt.ylabel('Total CSTR Volume (L)', fontsize = 12)\n",
    "plt.xlim(0, 1)\n",
    "plt.ylim(0, 10)\n",
    "plt.show()"
   ]
  },
  {
   "cell_type": "markdown",
   "metadata": {},
   "source": [
    "### Optimizing the intermediate conversion: analytical solution\n",
    "\n",
    "Arguably, the best way to solve this would be to take the derivative of the volume function with respect to fractional conversion and find the point where the derivative is equal to zero (generally, this is a maximum or a minimum value in a function). This is somewhat tedious, but it isn't difficult.  Doing so, we find:\n",
    "\n",
    "$$\\frac{dV}{dx_{A_1}} = \\frac{F_{A_f}}{kC_{A_f}} \\left[ \\frac{ (1-x_{A_1}) + x_{A_1} }{ (1 - x_{A_1})^2} - 10\\right]$$\n",
    "\n",
    "To find the minimum, all we do is solve the following equation for $x_{A_1}$:\n",
    "\n",
    "$$0 = \\frac{1}{(1 - x_{A_1})^2} - 10$$\n",
    "\n",
    "And then plug that result back into our volume expression"
   ]
  },
  {
   "cell_type": "code",
   "execution_count": null,
   "metadata": {},
   "outputs": [],
   "source": [
    "der  = lambda X: 1/(1 - X)**2 - 10\n",
    "\n",
    "plt5 = plt.figure(1, figsize = (5, 5))\n",
    "plt.title('Derivative of V with respect to XI')\n",
    "plt.plot(xspan, der(xspan))\n",
    "plt.hlines(0, 0, 0.9, linestyle = 'dashed', color = 'black', linewidth = 1)\n",
    "plt.xlim(0.0, 1.0)\n",
    "plt.xlabel('Intermediate Conversion', fontsize = 12)\n",
    "plt.ylim(-10.0, 100.0)\n",
    "plt.ylabel('dV/dXI (L)', fontsize = 12)\n",
    "plt.show(1)"
   ]
  },
  {
   "cell_type": "code",
   "execution_count": null,
   "metadata": {},
   "outputs": [],
   "source": [
    "Xopt = opt.newton(der, 0.5)\n",
    "Vmin = f1(Xopt)\n",
    "print(f'The optimum intermediate conversion is {Xopt:3.2f}, which gives a total volume of {Vmin:3.2f}L')"
   ]
  },
  {
   "cell_type": "markdown",
   "metadata": {},
   "source": [
    "### Optimizing the intermediate conversion: a numerical solution\n",
    "\n",
    "Alternatively, we can use a numerical method (e.g., see Gauss-Newton Method or Course Supplement packet on Minimization).  This is similar to using Excel's solver to minimize a function value.  All we do is write an objective function that we want to minimize with respect to a certain variable.  In this case, we want to **minimize** total CSTR volume in two CSTRs in series **with respect to** intermediate fractional conversion, $x_{A_1}$.  We already have written an appropriate objective function here that gives us the total reactor volume as a function of intermediate conversion.\n",
    "\n",
    "There are a few options available. A useful method for scalar functions is `scipy.optimize.minimize_scalar()`, which is designed specifically to optimize (find the minimum of) univariate, scalar functions.\n",
    "\n",
    "https://docs.scipy.org/doc/scipy/reference/generated/scipy.optimize.minimize_scalar.html\n",
    "\n",
    "In the cells below, we'll see how to change a few options with minimize scalar to account for additional complexities in the functions we are trying to minimize.  These include changing methods, adding brackets or bounds, and adding options."
   ]
  },
  {
   "cell_type": "code",
   "execution_count": null,
   "metadata": {},
   "outputs": [],
   "source": [
    "def f2(X):\n",
    "    #print(f'Current int. conversion is {X:0.2f}')\n",
    "    FAf = 1 #mol/min\n",
    "    CAf = 1 #mol/L\n",
    "    k   = 1 #1/min\n",
    "    V = FAf/k/CAf*(X/(1.0 - X) + (0.9 - X)/0.1)\n",
    "    #print(f'Which gives a Total volume of {V:0.2f}L \\n')\n",
    "    return V"
   ]
  },
  {
   "cell_type": "code",
   "execution_count": null,
   "metadata": {},
   "outputs": [],
   "source": [
    "#opt.minimize_scalar(f2)\n",
    "#opt.minimize_scalar(f2, method = 'Brent') #uses a default bracket of (0, 1)\n",
    "#opt.minimize_scalar(f2, method = 'Brent', bracket = (0.1, 0.9))\n",
    "#opt.minimize_scalar(f2, method = 'Bounded', bounds = (0.1, 0.9))\n",
    "#optset = {'disp' : True}\n",
    "#optset['disp']\n",
    "#optset = {'disp' : True, 'maxiter' : 100}\n",
    "#opt.minimize_scalar(f2, method = 'Brent', bracket = (0.1, 0.9), options = optset)\n",
    "#ans2 = opt.minimize_scalar(f2, method = 'Brent', bracket = (0.1, 0.9), options = optset)"
   ]
  },
  {
   "cell_type": "markdown",
   "metadata": {},
   "source": [
    "A more general optimization tool is `scipy.optimize.minimize()` which will work on either univariate or multivariate optimization problems.  At some level, a useful analogy would be that `scipy.optimize.minimize_scalar()` is similar to `scipy.optimize.newton()` in that they only work for univariate scalar functions and they take a scalar for an argument.  In contrast, `scipy.optimize.minimize()` is similar to `scipy.optimize.root()` in that it can handle multivariate problems and it takes an array argument as an input.\n",
    "\n",
    "https://docs.scipy.org/doc/scipy/reference/generated/scipy.optimize.minimize.html#scipy.optimize.minimize\n",
    "\n",
    "As above, there is a lot of flexibility with `scipy.optimize.minimize()` and in the cells below we'll see how to change the method, add bounds, add options, and even add constraints to the problem."
   ]
  },
  {
   "cell_type": "code",
   "execution_count": null,
   "metadata": {},
   "outputs": [],
   "source": [
    "def f3(var):\n",
    "    X = var[0]\n",
    "    #print(f'Current int. conversion is {X:0.2f}')\n",
    "    FAf = 1 #mol/min\n",
    "    CAf = 1 #mol/L\n",
    "    k   = 1 #1/min\n",
    "    V = FAf/k/CAf*(X/(1.0 - X) + (0.9 - X)/0.1)\n",
    "    #print(f'Which gives a Total volume of {V:0.2f}L \\n')\n",
    "    return V"
   ]
  },
  {
   "cell_type": "code",
   "execution_count": null,
   "metadata": {},
   "outputs": [],
   "source": [
    "#opt.minimize(f3, 0.5)\n",
    "#opt.minimize(f3, 0.5, method = 'Nelder-Mead')\n",
    "#opt.minimize(f3, 0.5, method = 'Nelder-Mead', bounds = [(0.1, 0.9),])\n",
    "#opt.minimize(f3, 0.5, method = 'SLSQP', bounds = [(0.1, 0.9),])\n",
    "\n",
    "#optset = {'disp' : True, 'maxiter' : 50}\n",
    "#opt.minimize(f3, 0.5, method = 'SLSQP', bounds = [(0.1, 0.9),], options = optset)"
   ]
  },
  {
   "cell_type": "code",
   "execution_count": null,
   "metadata": {},
   "outputs": [],
   "source": [
    "# constraintfun1 = lambda X: 0.4 - X\n",
    "# constraint_dictionary = {'type' : 'ineq' , 'fun' : constraintfun1}\n",
    "# opt.minimize(f3, 0.01, method = 'SLSQP', constraints = (constraint_dictionary))"
   ]
  },
  {
   "cell_type": "markdown",
   "metadata": {},
   "source": [
    "# Problem 2\n",
    "\n",
    "Now let's solve a slightly different problem. The previous example minimized the Volume (capex) of 2 reactors by varying the intermediate conversion. But let's say that we want to minimize the total cost of our *process*, which needs to account for CapEx (increases with the size of a reactor) and OpEx (arguably, increases with the number of reactors).  Let's construct a very simple model for this.  We will say that the annualized total capital cost of our reactors is given by:\n",
    "\n",
    "$$\\textrm{CapEx} = 3.78V^{2.3} + 20$$\n",
    "\n",
    "Where V is volume of a reactor  in L and CapEx has units of M\\\\$ per year. OpEx will also have units of M\\\\$ per year and scale with the number of reactors that we have in the following way:\n",
    "\n",
    "$$\\textrm{OpEx} = 165.3N^\\frac{1}{3}$$\n",
    "\n",
    "And we'll say that, for this simple example, the total cost of the process is just CapEx plus OpEx.\n",
    "\n",
    "Our final assumption: Each reactor in the series will accomplish the same incremental change in fractional conversion of species A. For example, if we achieve 90% conversion in 2 reactors, each will achieve 45% conversion of $F_{A_f}$.  If we have 10 reactors, each will achieve 9% conversion of $F_{A_f}$, etc. \n",
    "\n",
    "That way, the change in fractional conversion (amount converted) across any reactor is constant, and our CSTR balance on reactor n becomes:\n",
    "\n",
    "$$V_n = \\frac{F_{A_f}\\Delta x_A}{kC_{A_f}(1 - x_{A_n})}$$\n",
    "\n",
    "We will keep the rest of the information about this problem the same as in Problem 1, i.e.,:\n",
    "\n",
    "\\begin{align}\n",
    "    r &= kC_A \\\\\n",
    "    k &= 1 \\ \\textrm{min}^{-1} \\\\\n",
    "    F_{A_f} &= 1 \\ \\textrm{mol} \\ \\textrm{min}^{-1} \\\\\n",
    "    C_{A_f} &= 1 \\ \\textrm{mol} \\ \\textrm{L}^{-1} \\\\\n",
    "\\end{align}\n",
    "\n",
    "How many reactors should we use in order to minimize the total cost of the process?"
   ]
  },
  {
   "cell_type": "code",
   "execution_count": null,
   "metadata": {},
   "outputs": [],
   "source": [
    "def volcalcn(n):\n",
    "    FAf = 1 #mol/min\n",
    "    CAf = 1 #mol/L\n",
    "    k   = 1 #1/min\n",
    "    XA  = 0.90\n",
    "    DX  = XA/n\n",
    "    Vn  = FAf*DX/k/CAf/(1 - 0.9)\n",
    "    return Vn\n",
    "volcalcn(1)"
   ]
  },
  {
   "cell_type": "code",
   "execution_count": null,
   "metadata": {},
   "outputs": [],
   "source": [
    "def volcalc(N):\n",
    "    FAf = 1 #mol/min\n",
    "    CAf = 1 #mol/L\n",
    "    k   = 1 #1/min\n",
    "    XA  = 0.9\n",
    "    DX  = XA/N\n",
    "    \n",
    "    reactorset = np.linspace(1, N, N)\n",
    "    V   = np.zeros(N)\n",
    "    \n",
    "    for index, n in enumerate(reactorset):\n",
    "         V[index] = FAf/CAf/k*DX/(1 - n*DX)\n",
    "    Vtot = sum(V)\n",
    "    return [Vtot, V]\n",
    "volcalc(1.0)"
   ]
  },
  {
   "cell_type": "code",
   "execution_count": null,
   "metadata": {},
   "outputs": [],
   "source": [
    "def obj(N):\n",
    "    Vtot, V = volcalc(N)\n",
    "    CAPEX = 3.78*V**(2.3) + 20\n",
    "    CAPEX = np.sum(CAPEX)\n",
    "    OPEX  = 165.3*N**(1/3)\n",
    "    COST  = CAPEX + OPEX\n",
    "    return [CAPEX, OPEX, COST]"
   ]
  },
  {
   "cell_type": "code",
   "execution_count": null,
   "metadata": {},
   "outputs": [],
   "source": [
    "CAPEX = np.zeros(20)\n",
    "OPEX  = np.zeros(20)\n",
    "COST  = np.zeros(20)\n",
    "\n",
    "nreact = np.linspace(1, 20, 20)\n",
    "for i, N in enumerate(nreact):\n",
    "    CAPEX[i], OPEX[i], COST[i] = obj(N)"
   ]
  },
  {
   "cell_type": "code",
   "execution_count": null,
   "metadata": {},
   "outputs": [],
   "source": [
    "plt.scatter(nreact, CAPEX, color = 'none', edgecolor = 'blue',  marker = 'o', label = 'CAPEX')\n",
    "plt.scatter(nreact, OPEX,  color = 'none', edgecolor = 'red',   marker = 'o', label = 'OPEX')\n",
    "plt.scatter(nreact, COST,  color = 'none', edgecolor = 'black', marker = 's', label = 'Cost')\n",
    "plt.xlim(0, 20)\n",
    "plt.ylim(0, 1000)\n",
    "plt.xticks(np.linspace(0, 20, 21))\n",
    "plt.xlabel('Number of Reactors')\n",
    "plt.ylabel('Cost ($)')\n",
    "plt.legend()\n",
    "plt.show()"
   ]
  }
 ],
 "metadata": {
  "kernelspec": {
   "display_name": "Python 3 (ipykernel)",
   "language": "python",
   "name": "python3"
  },
  "language_info": {
   "codemirror_mode": {
    "name": "ipython",
    "version": 3
   },
   "file_extension": ".py",
   "mimetype": "text/x-python",
   "name": "python",
   "nbconvert_exporter": "python",
   "pygments_lexer": "ipython3",
   "version": "3.9.13"
  }
 },
 "nbformat": 4,
 "nbformat_minor": 4
}
