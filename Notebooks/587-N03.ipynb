{
 "cells": [
  {
   "cell_type": "markdown",
   "metadata": {},
   "source": [
    "# Jupyter and Python\n",
    "\n",
    "[What is Bond listening to?](https://open.spotify.com/track/0Pe21Qy1cnwZmapx9rzLmN?si=cf8993e8d0ca4675)\n",
    "\n",
    "This recitation exercise is designed to introduce the Jupyter Environment and basic Python conventions and syntax. Here is an overview of the topics:\n",
    "\n",
    "* Base Python vs. Numpy (lists vs. arrays)\n",
    "* 1D arrays, columns, rows, and matrices\n",
    "* Basic math operators in Python \n",
    "* Functions\n",
    "* For Loops, While Loops\n",
    "* Element-wise operations (broadcasting) vs. matrix operations\n",
    "* Logical values and conditional statements\n",
    "* Plotting"
   ]
  },
  {
   "cell_type": "markdown",
   "metadata": {},
   "source": [
    "## Scalars and Types\n",
    "\n",
    "A scalar represents a single value of some kind (integer, floating point decimal, Boolean, string, etc.)  We need to recognize that there are different types of scalar quantities and that, e.g., an integer and floating point decimal are different things."
   ]
  },
  {
   "cell_type": "code",
   "execution_count": 171,
   "metadata": {},
   "outputs": [],
   "source": [
    "# %whos\n",
    "# S1 = 1\n",
    "# S1\n",
    "# type(S1)\n",
    "# %whos"
   ]
  },
  {
   "cell_type": "markdown",
   "metadata": {},
   "source": [
    "## Lists and Numpy Arrays\n",
    "\n",
    "We frequently need to store many quantities inside of some type of collection. If we're going to work in Python, we might choose to do this using ***lists*** or ***numpy arrays***, so it is important to understand the differences between them.  It is easy to confuse these two types of data structures since they look similar, and we create them in similar ways.  But they have important differences.  We will ***usually*** prefer to work with numpy arrays in this course, but it is important for us to understand lists for several reasons. First, to understand why a numpy array is preferred for the types of things we do in 587, we need to first understand how lists work; this takes some of the mystery out of deciding which type of structure we should work with. Second, we (often) construct numpy arrays using lists as inputs. Finally, there are many packages in Python that will use lists as their default input or output structure for data, so we should be familiar with them.\n",
    "\n",
    "### Lists\n",
    "\n",
    "When working with data, functions, and various types of analysis, we generally need to be able to store sets or collections of values instead of just scalars. In the base Python environment, we ***usually*** default to using lists when we need to store a collection of things. \n",
    "\n",
    "#### Making a List\n",
    "\n",
    "If you are familiar with Matlab syntax, creating a list is very similar to creating a row array in Matlab. For example, if we wanted to create a list containing the integers 1 to 5, we would do so as in the following code cell:\n",
    "\n",
    "```{note}\n",
    "Is everyone comfortable with indexing in Python to access specific elements?  Remember: Python is zero-indexed, which means the first element of any collection has an index of 0. \n",
    "```"
   ]
  },
  {
   "cell_type": "code",
   "execution_count": 172,
   "metadata": {},
   "outputs": [],
   "source": [
    "# L1 = [1, 2, 3, 4, 5]\n",
    "# L1[0]"
   ]
  },
  {
   "cell_type": "markdown",
   "metadata": {},
   "source": [
    "Types in Python have various attributes or fields that we can access; often, they can automate routine tasks in a convenient way. The cell below shows how to display all attributes of a data type, and it gives a few demonstrations of using `.reverse()` and `.sort()` with a list."
   ]
  },
  {
   "cell_type": "code",
   "execution_count": 173,
   "metadata": {},
   "outputs": [],
   "source": [
    "# dir(S1)\n",
    "# dir(L1)\n",
    "# L1.reverse()\n",
    "# L1\n",
    "# L1.sort()\n",
    "# L1"
   ]
  },
  {
   "cell_type": "markdown",
   "metadata": {},
   "source": [
    "#### The print command\n",
    "\n",
    "We can display the contents of that list and the length of that list.  We'll also display the type.\n",
    "\n",
    "```{tip}\n",
    "Python only displays the output of the last operation performed; if you want to see a value, you usually have to print it.\n",
    "```"
   ]
  },
  {
   "cell_type": "code",
   "execution_count": 174,
   "metadata": {},
   "outputs": [],
   "source": [
    "# S1\n",
    "# L1\n",
    "# print(S1)\n",
    "# print(L1)\n",
    "# print(len(L1))\n",
    "# print(type(L1))"
   ]
  },
  {
   "cell_type": "markdown",
   "metadata": {},
   "source": [
    "#### Despite appearances, lists are not rows, columns, or matrices\n",
    "\n",
    "This *looks* like a row vector compared to what we are probably used to from Matlab, but it has very different properties.  Technically, it is a 1 dimensional object (it only has a length associated with it), whereas rows, columns, and matrices are 2D objects (they have both row and column dimensions).\n",
    "\n",
    "Let's say we wanted to store a \"2D\" set of information in lists; we would do so by constructing a list of lists:"
   ]
  },
  {
   "cell_type": "code",
   "execution_count": 175,
   "metadata": {},
   "outputs": [],
   "source": [
    "# L2 = [[1, 2, 3, 4, 5], [6, 7, 8, 9, 10]]"
   ]
  },
  {
   "cell_type": "markdown",
   "metadata": {},
   "source": [
    "If we print that list, we find it *looks* like a matrix:"
   ]
  },
  {
   "cell_type": "code",
   "execution_count": 176,
   "metadata": {},
   "outputs": [],
   "source": [
    "# print(L2)"
   ]
  },
  {
   "cell_type": "markdown",
   "metadata": {},
   "source": [
    "However, if we ask for the length of that list, we find that it is only 2 elements long:"
   ]
  },
  {
   "cell_type": "code",
   "execution_count": 177,
   "metadata": {},
   "outputs": [],
   "source": [
    "# len(L2)"
   ]
  },
  {
   "cell_type": "markdown",
   "metadata": {},
   "source": [
    "It is **not** a 2x5 matrix, and if we tried to index it like a matrix (row, column), we get an error:"
   ]
  },
  {
   "cell_type": "code",
   "execution_count": 178,
   "metadata": {},
   "outputs": [],
   "source": [
    "# L2[0,0]"
   ]
  },
  {
   "cell_type": "markdown",
   "metadata": {},
   "source": [
    "If we wanted to access information in that list, we have to remember that it is not a matrix, but a list of lists...so if I wanted to display the number 5, for example, from `L2`, that is not indexed as:\n",
    "\n",
    "```python\n",
    "L2[0,4]  #5th column in first row of L2\n",
    "```\n",
    "    \n",
    "As you might do in Matlab; rather, it is indexed as:\n",
    "\n",
    "```python\n",
    "L2[0][4] #5th element in first list of L2\n",
    "```"
   ]
  },
  {
   "cell_type": "code",
   "execution_count": 179,
   "metadata": {},
   "outputs": [],
   "source": [
    "# L2[0,4]\n",
    "# L2[0][4]"
   ]
  },
  {
   "cell_type": "markdown",
   "metadata": {},
   "source": [
    "\n",
    "```{caution}\n",
    "Lists are not matrices, and they do not index or behave like matrices. Please do not try to use a list as a matrix!\n",
    "```"
   ]
  },
  {
   "cell_type": "markdown",
   "metadata": {},
   "source": [
    "#### Creating large lists with the range command\n",
    "\n",
    "If we want to create a large list, such as the full set of integers between 1 and 50, we generally won't type it out.  Instead, we'll pass the `range()` function into the `list()` constructor.  The basic syntax of range is:\n",
    "\n",
    "```python\n",
    "range(start, stop+1, step size)\n",
    "```\n",
    "\n",
    "```{note}\n",
    "A range command in Python excludes the last element in the range by default!\n",
    "```\n",
    "\n",
    "So for this example:"
   ]
  },
  {
   "cell_type": "code",
   "execution_count": 180,
   "metadata": {},
   "outputs": [
    {
     "name": "stdout",
     "output_type": "stream",
     "text": [
      "[1, 2, 3, 4, 5, 6, 7, 8, 9, 10, 11, 12, 13, 14, 15, 16, 17, 18, 19, 20, 21, 22, 23, 24, 25, 26, 27, 28, 29, 30, 31, 32, 33, 34, 35, 36, 37, 38, 39, 40, 41, 42, 43, 44, 45, 46, 47, 48, 49, 50]\n"
     ]
    }
   ],
   "source": [
    "L = list(range(1, 51, 1))\n",
    "print(L)"
   ]
  },
  {
   "cell_type": "markdown",
   "metadata": {},
   "source": [
    "### Numpy Arrays\n",
    "\n",
    "If we want a matrix like environment (and we'll see some reasons for this below), this is best handled in Python using numpy arrays.  This is not in base Pyton -- we have to import the numpy package to gain access to numpy arrays.    \n",
    "\n",
    "```{tip}\n",
    "Aliasing: The cell below imports the package \"numpy\" under the alias \"np.\"  So anywhere we'd normally call the package using \"numpy,\" we can replace that with \"np\" instead.\n",
    "```"
   ]
  },
  {
   "cell_type": "code",
   "execution_count": 181,
   "metadata": {},
   "outputs": [],
   "source": [
    "# import numpy as np"
   ]
  },
  {
   "cell_type": "markdown",
   "metadata": {},
   "source": [
    "#### Making a numpy array\n",
    "\n",
    "We create numpy arrays as in the following example.  Here, we create a 1D numpy array that contains the integers 1 to 5 (similar to the list above). Numpy arrays are created passing a list into the `np.array()` constructor. It is going to be very important to remember this when we create 2D arrays (similar to a matrix) or higher dimensional arrays."
   ]
  },
  {
   "cell_type": "code",
   "execution_count": 182,
   "metadata": {},
   "outputs": [],
   "source": [
    "# print(L1)"
   ]
  },
  {
   "cell_type": "code",
   "execution_count": 183,
   "metadata": {},
   "outputs": [],
   "source": [
    "# A1 = np.array([1, 2, 3, 4, 5]) #equivalent to np.array(L1)\n",
    "# A1 = np.array(L1)\n",
    "# print(A1)\n",
    "# %whos\n",
    "# A1[0]\n",
    "# L1[0]"
   ]
  },
  {
   "cell_type": "markdown",
   "metadata": {},
   "source": [
    "#### Examining the numpy array\n",
    "\n",
    "Let's print that array and check it's properties and dimensions; we'll compare it to the analogous list and consider some of the differences."
   ]
  },
  {
   "cell_type": "code",
   "execution_count": 184,
   "metadata": {},
   "outputs": [],
   "source": [
    "# print(L1)\n",
    "# print(len(L1))\n",
    "# print(type(L1))\n",
    "# print()\n",
    "# print(A1)\n",
    "# print(len(A1))\n",
    "# print(type(A1))"
   ]
  },
  {
   "cell_type": "markdown",
   "metadata": {},
   "source": [
    "#### Numpy arrays have a lot of useful features built into them\n",
    "\n",
    "Looking at numpy arrays, we can see that they have a lot more attributes than lists do; many of these are useful in mathematics, statistics, and engineering.  We can also use them to assess the size and shape of our arrays."
   ]
  },
  {
   "cell_type": "code",
   "execution_count": 185,
   "metadata": {},
   "outputs": [],
   "source": [
    "# dir(A1)\n",
    "# print(A1.max())\n",
    "# print(A1.min())\n",
    "# print(A1.size)\n",
    "# print(A1.shape)\n",
    "# print(A1.ndim)"
   ]
  },
  {
   "cell_type": "markdown",
   "metadata": {},
   "source": [
    "#### 2D and nD Arrays\n",
    "\n",
    "With numpy arrays, we can actually create 2D or higher dimensional structures (3D, 4D, etc.)  We'll mostly stick with 1D and 2D in CEN 587.  For example, let's recreate that list of lists above as a numpy array using the array constructor. The key thing to remember when you are creating a 2D array is that you still use the basic `np.array()` constructor syntax:\n",
    "\n",
    "```python\n",
    "np.array([])\n",
    "```\n",
    "\n",
    "But **every row in the array should be entered into the `np.array()` constructor as a list**.\n",
    "\n",
    "This is implemented below. If you look closely at this, you'll see that the first \"element\" in that array is the list [1, 2, 3, 4, 5], and the second element is the list [6, 7, 8, 9, 10]. These \"elements\" in a numpy array correspond to rows in a matrix, so when you're creating a matrix, you enter each row as a separate list.  Each list should be separated by a comma."
   ]
  },
  {
   "cell_type": "code",
   "execution_count": 186,
   "metadata": {},
   "outputs": [],
   "source": [
    "# A2 = np.array([[1, 2, 3, 4, 5], [6, 7, 8, 9, 10]]) #equivalent to np.array(L2)\n",
    "# print(A2)"
   ]
  },
  {
   "cell_type": "markdown",
   "metadata": {},
   "source": [
    "Now we'll look at that array and some of its associated properties and dimensions:"
   ]
  },
  {
   "cell_type": "code",
   "execution_count": 187,
   "metadata": {},
   "outputs": [],
   "source": [
    "# print(L2)\n",
    "# print(len(L2))\n",
    "# print(type(L2))\n",
    "# print()\n",
    "\n",
    "# print(A2)\n",
    "# print(len(A2))\n",
    "# print(type(A2))\n",
    "# print(A2.size)\n",
    "# print(A2.shape)\n",
    "# print(A2.ndim)"
   ]
  },
  {
   "cell_type": "markdown",
   "metadata": {},
   "source": [
    "#### Indexing in numpy arrays\n",
    "\n",
    "With a numpy array, we have the option of indexing it as we would a matrix using `[row, column]` indexing, so, with this numpy array, if I wanted to grab the fifth column in the first row, I can do using matrix-style, `[row, column]`:\n",
    "\n",
    "    A2[0,4]  #5th column in first row\n",
    "    \n",
    "ND arrays also support list-type indexing:\n",
    "\n",
    "    A2[0][4] #5th element in first element\n",
    "\n",
    "So: a numpy array has size, shape, and index options that are similar to what we are probably used to with Matlab matrices.  Lists do not translate directly to matrix format."
   ]
  },
  {
   "cell_type": "code",
   "execution_count": 188,
   "metadata": {},
   "outputs": [],
   "source": [
    "# print(A2[0,4])  #5th column in first row\n",
    "# print(A2[0][4]) #5th element in first element"
   ]
  },
  {
   "cell_type": "markdown",
   "metadata": {},
   "source": [
    "#### 1D arrays vs. Rows and Columns\n",
    "\n",
    "If you are coming from a Matlab background, you are used to thinking of \"vectors\" of numbers or entries as either rows (horizontal set of values) or columns (vertical set of values).  It is important to remember that rows and columns are 2-dimensional structures -- they both have a length (number of rows) and width (number of columns) associated with them. Specifically, a column is m rows x 1 column...and a row is 1 row x n columns.  **These are 2D structures** and they have the corresponding shapes associated with them. Whereas Matlab creates rows and columns by default using brackets [], commas, spaces, or semicolons, Python is slightly different.\n",
    "\n",
    "Let's go back to our original set of integers from 1 to 5.  If I create a numpy array and print its values as well as its dimensions and shape, we will find that it is a true 1 dimensional structure.  It is a \"line\" of values, and it is neither a row or column in that it has no horizontal or vertical orientation associated with it.  This is what the somewhat strange notation `A1.shape = (5,)` communicates to us.  There is no 2nd dimension."
   ]
  },
  {
   "cell_type": "code",
   "execution_count": 189,
   "metadata": {},
   "outputs": [],
   "source": [
    "# A1 = np.array([1, 2, 3, 4, 5])\n",
    "# print(A1)\n",
    "# print(A1.shape)\n",
    "# print(A1.ndim)"
   ]
  },
  {
   "cell_type": "markdown",
   "metadata": {},
   "source": [
    "Usually, we'll be fine working with 1D arrays.  They will typically behave either as a row or a column depending on context (if we need them to).  If we ever specifically need to create a row or a column, we have to deliberately create a 2D array.  For example, recreating that 1D array as a row is implemented in the cell below. Look at it closely and you'll see that we're still passing a list into the `np.array()` constructor with `[]`, and the first element in that list is another list enclosed in an additional set of `[]`.  This is how you create 2D arrays in Python with `np.array()`.\n",
    "\n",
    "We'll also print important aspects as usual:"
   ]
  },
  {
   "cell_type": "code",
   "execution_count": 190,
   "metadata": {},
   "outputs": [],
   "source": [
    "# R1 = np.array([[1, 2, 3, 4, 5]])\n",
    "# print(R1)\n",
    "# print(R1.shape)\n",
    "# print(R1.ndim)"
   ]
  },
  {
   "cell_type": "markdown",
   "metadata": {},
   "source": [
    "Now, you see that we have a true row of shape (1, 5), i.e., 1 row and 5 columns."
   ]
  },
  {
   "cell_type": "markdown",
   "metadata": {},
   "source": [
    "In contrast, if we really need a column, we would have to create it as in the cell below (again, as a 2D array). Again, you'll notice that we're passing a list into an `np.array()` constructor using a set of values enclosed in `[]`.  In this case, each element in that list is also a separate list enclosed in brackets `[]`, and we've created several rows by entering every value as its own list separated by commas.  With numpy arrays, each new \"list\" separated by commas creates a new row, so in this example, we've made a 2D column with 5 rows."
   ]
  },
  {
   "cell_type": "code",
   "execution_count": 191,
   "metadata": {},
   "outputs": [],
   "source": [
    "# C1 = np.array([[1], [2], [3], [4], [5]])\n",
    "# print(C1)\n",
    "# print(C1.shape)\n",
    "# print(C1.ndim)"
   ]
  },
  {
   "cell_type": "markdown",
   "metadata": {},
   "source": [
    "More often than not, we only need to work with 1D arrays and 2D matrices, but it is important to understand what these shapes mean.  I found myself initially very confused by 1D arrays when I switched from Matlab to Python, so I thought the explanation was worthwhile.  If we run into an occasion where we actually need a row or a column, we'll discuss why it is necesssary in that particular situation. Most of the time, 1D numpy arrays will suffice where we think we need a row or a column."
   ]
  },
  {
   "cell_type": "markdown",
   "metadata": {},
   "source": [
    "#### Tools for creating large numpy arrays\n",
    "\n",
    "We want to create a 1D numpy array, A, that has the numbers 1 through 50 in it. We can do this in at least three ways:\n",
    "\n",
    "Write out the integers 1 to 50 separated by commas in an `np.array` constructor (not recommended).\n",
    "\n",
    "```python\n",
    "A = np.array([1, 2, 3, 4, 5, ... , 48, 49, 50])\n",
    "```\n",
    "\n",
    "Use `np.arange()` (good option, but it returns integers by default. Can also be flaky with non-integer step sizes).\n",
    "\n",
    "```python\n",
    "A = np.arange(start, stop+1, step size) #same as np.array(range(start, stop+1, step size)) for int  \n",
    "```\n",
    "  \n",
    "Use `np.linspace()` to construct the array (returns floats; usually what we want; probably most useful option).\n",
    "\n",
    "```python\n",
    "A = np.linspace(start, stop, number of elements in collection)\n",
    "```\n",
    "```{note}\n",
    "In Python/Numpy `arange()` will exclude the last element in the range whereas `linspace()` will include the last element in the range.\n",
    "```"
   ]
  },
  {
   "cell_type": "code",
   "execution_count": 192,
   "metadata": {},
   "outputs": [],
   "source": [
    "# A = np.linspace(1, 50, 50) #array of floating point decimals from 1 to 50 in 50 steps.\n",
    "# A = np.arange(1, 51, 1) #array of integers from 1 to 50 with a step size of 1, same as np.array(range(1, 51, 1))\n",
    "# A = np.arange(1, 51, 1, dtype = int)\n",
    "# A = np.arange(1, 51, 1, dtype = float) #Roughly equivalent to np.linspace(1, 50, 50)\n",
    "# print(A)\n",
    "# print(type(A[0]))"
   ]
  },
  {
   "cell_type": "markdown",
   "metadata": {},
   "source": [
    "### Lists vs. arrays in practice (math!)\n",
    "\n",
    "As a simple demonstration, let's just try a few basic math operations on our 50 element array, A, and our 50 element list, L."
   ]
  },
  {
   "cell_type": "code",
   "execution_count": 193,
   "metadata": {},
   "outputs": [],
   "source": [
    "# L = list(range(1, 51, 1))\n",
    "# print(L, '\\n') #'\\n' adds a new line, effectively this is a \"return\" command\n",
    "# A = np.array(L)\n",
    "# print(A)\n",
    "\n",
    "# A + 5\n",
    "# L + 5\n",
    "# L + [5]\n",
    "# A*5\n",
    "# L*5\n",
    "# A**2  #A squared\n",
    "# L**2  #L squared"
   ]
  },
  {
   "cell_type": "markdown",
   "metadata": {},
   "source": [
    "Now we'll create a second 1D array, B, that has the numbers 2 through 100 in increments of 2."
   ]
  },
  {
   "cell_type": "code",
   "execution_count": 194,
   "metadata": {},
   "outputs": [],
   "source": [
    "# B = np.linspace(2, 100, 50)\n",
    "# print(B)"
   ]
  },
  {
   "cell_type": "markdown",
   "metadata": {},
   "source": [
    "#### Element-wise calculations are easy with arrays\n",
    "\n",
    "Let's take advange of element-wise operations (broadcasting) in numpy arrays to:\n",
    "\n",
    "1. Multiply each element in A by each element in B \n",
    "2. Raise each element in A to the third power\n",
    "3. Find the exponential of the cube root of each element in A\n",
    "4. Divide each element in B by each element in A\n",
    "\n",
    "Each should give a 50 element vector (why?)"
   ]
  },
  {
   "cell_type": "code",
   "execution_count": 195,
   "metadata": {},
   "outputs": [],
   "source": [
    "# A*B # * = elementwise multiplication\n",
    "# A**3 # ** = elementwise power\n",
    "# exp(A**(1/3))\n",
    "# np.exp(A**(1/3))\n",
    "# B/A # / = elementwise division"
   ]
  },
  {
   "cell_type": "markdown",
   "metadata": {},
   "source": [
    "#### Basic Matrix Operations (Optional)\n",
    "\n",
    "Now we'll get a look at Matrix operations in Python. To perform a matrix operation on something, we usually need a 2D array, so we'll use our rows and columns for this.\n",
    "\n",
    "1. Look at the difference between C1 and its transpose. #use `np.transpose(C1)` or `C1.T`\n",
    "2. Look at the difference between R1 and its transpose. #use `np.transpose(R1)` or `R1.T`\n",
    "3. Multiply C1 by its transpose - this should give a 5x5 array (why?) #use `C1@C.T`\n",
    "4. Multiply R1 by its transpose - this should give a 1x1 array (why?) #use `R1@R.T`"
   ]
  },
  {
   "cell_type": "code",
   "execution_count": 196,
   "metadata": {},
   "outputs": [],
   "source": [
    "# print(C1, '\\n') \n",
    "# print(C1.T, '\\n')\n",
    "# print(R1, '\\n')\n",
    "# print(R1.T, '\\n')\n",
    "# print(C1@C1.T, '\\n') # @ is matrix multiplication whereas * is elementwise multiplication\n",
    "# print(R1@R1.T)"
   ]
  },
  {
   "cell_type": "markdown",
   "metadata": {},
   "source": [
    "#### Introducing `np.zeros()` and `np.ones()`\n",
    "\n",
    "You can use np.zeros to create an array of zeros; here, we'll create a 3x5 array of zeros.\n",
    "\n",
    "```python\n",
    "np.zeros(shape) #Shape should be a collection (list, tuple, np.array, etc.).\n",
    "```\n",
    "\n",
    "```{tip}\n",
    "The shape of an array in Python is specified as some type of array in which the first element is the first dimension (rows), the second element is the second dimension (columns), the third element is the third dimension, and so forth. In this example, we could specify a 3 row by 5 column array as having the correct shape using a tuple `(3, 5)`; a list `[3, 5]`; or an nd array using numpy, `np.array([3, 5])`. Usually I use a tuple for this.  \n",
    "```\n",
    "\n",
    "Similarly, you can use `np.ones` to create an array of ones."
   ]
  },
  {
   "cell_type": "code",
   "execution_count": 197,
   "metadata": {},
   "outputs": [],
   "source": [
    "# D = np.zeros((3,5))\n",
    "# O = np.ones((3,5))\n",
    "\n",
    "# print(D, '\\n\\n', O) #'\\n\\n' is a string that is basically saying press enter twice"
   ]
  },
  {
   "cell_type": "code",
   "execution_count": 198,
   "metadata": {},
   "outputs": [],
   "source": [
    "# D.size\n",
    "# D.shape\n",
    "# rows, cols = D.shape #note that D.shape returns a tuple, i.e., \"multiple returns\".\n",
    "# print(rows, cols)"
   ]
  },
  {
   "cell_type": "markdown",
   "metadata": {},
   "source": [
    "#### Basic for loops (optional)\n",
    "\n",
    "1. Use a for loop to print all of the values in L1\n",
    "2. (Optional) Use a for loop to fill in the values of D such that each element in D is equal to the sum of it's $(i,j)$ index pair."
   ]
  },
  {
   "cell_type": "code",
   "execution_count": 199,
   "metadata": {},
   "outputs": [],
   "source": [
    "# A simple for loop that runs through all the values in L1\n",
    "# print(L1, '\\n')\n",
    "# for value in L1:\n",
    "#     print(value)"
   ]
  },
  {
   "cell_type": "code",
   "execution_count": 200,
   "metadata": {},
   "outputs": [],
   "source": [
    "#A for loop with some bells and whistles.  It runs over two indices, i and j, in a nested loop.\n",
    "#It prints information on each pass and also does a calculation and stores the result in D\n",
    "\n",
    "# for i in range(0, rows): #rows = 3, so this is same as for i in range(0, 3, 1)\n",
    "#     print(f'\\nThis is pass number {i+1} through the outer loop')\n",
    "#     for j in range(0, cols): #cols = 5, so this is the same as for j in range(0, 5, 1)\n",
    "#         print(f'i = {i}, j = {j}, i+j = {i+j}')\n",
    "#         D[i,j] = i + j\n",
    "# print('\\n', D)"
   ]
  },
  {
   "cell_type": "markdown",
   "metadata": {},
   "source": [
    "<!-- #### Finding the determinant (matrix must be square) --> \n",
    "\n",
    "(Optional) Find the determinant of:\n",
    "\n",
    "$$\n",
    "    E = \\begin{bmatrix}\n",
    "        1 & 7 & 9 \\\\\n",
    "        21 & -4 & 17 \\\\\n",
    "        -6 & 22 & 6\\\\\n",
    "        \\end{bmatrix}\n",
    "$$"
   ]
  },
  {
   "cell_type": "code",
   "execution_count": 201,
   "metadata": {},
   "outputs": [],
   "source": [
    "# E = np.array([[1,7,9],[21,-4,17],[-6,22,6]])\n",
    "# print(E)\n",
    "# np.linalg.det(E)"
   ]
  },
  {
   "cell_type": "markdown",
   "metadata": {},
   "source": [
    "#### Matrix inverse in numpy (optional)\n",
    "\n",
    "Find the inverse of $E$"
   ]
  },
  {
   "cell_type": "code",
   "execution_count": 202,
   "metadata": {},
   "outputs": [],
   "source": [
    "# np.linalg.inv(E)"
   ]
  },
  {
   "cell_type": "markdown",
   "metadata": {},
   "source": [
    "## Functions and graphing\n",
    "\n",
    "This section covers some basic function definitions and plotting tools using pyplot\n",
    "\n",
    "### Long form function definition\n",
    "\n",
    "Let's create a function that accepts one input using a conventional function declaration.\n",
    "\n",
    "$$ y(x) = x^2$$\n",
    "\n",
    "Plot y(x) on the domain $x = [-10, 10]$; add labels for x and y axis."
   ]
  },
  {
   "cell_type": "code",
   "execution_count": 218,
   "metadata": {},
   "outputs": [],
   "source": [
    "# def y(x):\n",
    "#     y = x**2\n",
    "#     return y"
   ]
  },
  {
   "cell_type": "code",
   "execution_count": 204,
   "metadata": {},
   "outputs": [],
   "source": [
    "# y(10)"
   ]
  },
  {
   "cell_type": "code",
   "execution_count": 217,
   "metadata": {},
   "outputs": [],
   "source": [
    "# x = np.linspace(-10, 10, 10)\n",
    "# print(x, '\\n')\n",
    "# print(y(x))"
   ]
  },
  {
   "cell_type": "code",
   "execution_count": 206,
   "metadata": {},
   "outputs": [],
   "source": [
    "# import matplotlib.pyplot as plt"
   ]
  },
  {
   "cell_type": "code",
   "execution_count": 234,
   "metadata": {},
   "outputs": [],
   "source": [
    "# plt.scatter(2, -7)\n",
    "# plt.scatter(2, -7, color = \"black\")\n",
    "# plt.scatter([5, 10, 15], [-3, 7, -12], color = \"blue\", marker = \"s\")\n",
    "# plt.plot([5, 10, 15], [-3, 7, -12], color = \"red\", linestyle = \"dashed\")\n",
    "# plt.plot(x, y(x), color = \"black\", linestyle = \"dotted\", linewidth = 2)\n",
    "# plt.title('some trends in y and x behavior', fontsize = 14)\n",
    "# plt.xlabel('x values (in some units)', fontsize = 12)\n",
    "# plt.ylabel('y values (in some units)', fontsize = 12)"
   ]
  },
  {
   "cell_type": "markdown",
   "metadata": {},
   "source": [
    "### A multivariate function using a lambda function definition\n",
    "\n",
    "Now we'll create a function that accepts two inputs; here, we'll use an inline or anonymous function syntax.\n",
    "\n",
    "$$ f(x,y) = \\sin(x) + \\cos(y) $$\n",
    "\n",
    "What is the value of f at x = 10, y = 7?\n"
   ]
  },
  {
   "cell_type": "code",
   "execution_count": null,
   "metadata": {},
   "outputs": [],
   "source": [
    "# def f1(x, y):\n",
    "#     output = np.sin(x) + np.cos(y)\n",
    "#     return output\n",
    "# f1(10, 7)"
   ]
  },
  {
   "cell_type": "code",
   "execution_count": 212,
   "metadata": {},
   "outputs": [],
   "source": [
    "# f = lambda x,y: np.sin(x) + np.cos(y) # translates to f(x,y) = sin(x) + cos(y)\n",
    "# f(10, 7)"
   ]
  },
  {
   "cell_type": "markdown",
   "metadata": {},
   "source": [
    "#### 3D plotting syntax (optional)\n",
    "\n",
    "Create a 3D plot of the surface on the domain $x = [-10, 10]$ and $y = [-10,10]$; add labels and title."
   ]
  },
  {
   "cell_type": "code",
   "execution_count": 213,
   "metadata": {},
   "outputs": [],
   "source": [
    "# fig, ax = plt.subplots(subplot_kw={\"projection\": \"3d\"})\n",
    "\n",
    "# #Data\n",
    "# x = np.linspace(-10, 10, 100)\n",
    "# y = np.linspace(-10, 10, 100)\n",
    "# X, Y = np.meshgrid(x, y) #we're making a surface plot, so we create a grid of (x,y) pairs\n",
    "# Z = f(X,Y)  #generate the Z data on the meshgrid (X,Y) by evaluating f at each XY pair.\n",
    "\n",
    "# #Plot the surface.\n",
    "# surf = ax.plot_surface(X, Y, Z)\n",
    "# plt.xlabel('X')\n",
    "# plt.ylabel('Y')\n",
    "# plt.title('Z values vs. X and Y')\n",
    "# plt.show()"
   ]
  },
  {
   "cell_type": "markdown",
   "metadata": {},
   "source": [
    "### Multiple arguments, and multiple returns\n",
    "\n",
    "Now, let's create a function, $g(x,t)$, that accepts multiple inputs and returns multiple outputs - value(s) for y and values for z as a function of $(x,t)$.  We can look at this as a system of functions\n",
    "\n",
    "\\begin{align*} \n",
    "    y(x,t) &= x^2t \\\\ \n",
    "    z(x,t) &= x\\cos(t)\n",
    "\\end{align*}\n",
    "   \n",
    "Calculate the values of y and z at x = 10, t = 7."
   ]
  },
  {
   "cell_type": "code",
   "execution_count": null,
   "metadata": {},
   "outputs": [],
   "source": [
    "# def g1(x,t):\n",
    "#     y = x**2*t\n",
    "#     z = x*np.cos(t)\n",
    "#     return y, z #this will return a tuple of (y, z) by default. \n",
    "    #             #A tuple is declared with and indicated by parentheses (). \n",
    "    #             #A tuple is an immutable array.\n",
    "    # return (y, z) #this will return a tuple of (y, z), same as default\n",
    "    # return [y, z] #this will return a list of [y, z]"
   ]
  },
  {
   "cell_type": "code",
   "execution_count": null,
   "metadata": {},
   "outputs": [],
   "source": [
    "# print(g1(10, 7), '\\n')\n",
    "\n",
    "# y, z = g1(10, 7) #when I have multiple returns, I can bind them to individual variables this way.\n",
    "# print(f'y = {y}, z = {z}')"
   ]
  },
  {
   "cell_type": "markdown",
   "metadata": {},
   "source": [
    "#### How about a contour plot (optional)?\n",
    "\n",
    "Use the function $g(x,t)$ to generate values for both $y$ and $z$ on the domain $x = [0, 10]$ and $t = [0, 10]$; create a contour plot for $y(x,t)$ and $z(x,t)$."
   ]
  },
  {
   "cell_type": "code",
   "execution_count": 214,
   "metadata": {},
   "outputs": [],
   "source": [
    "# x = np.linspace(1,10,50)\n",
    "# t = np.linspace(1,10,50)\n",
    "# [X, T] = np.meshgrid(x,t)\n",
    "# Y, Z = g1(X,T)\n",
    "\n",
    "# plt.figure()\n",
    "# plt.contour(X, T, Z, levels = 25)\n",
    "# plt.colorbar()\n",
    "\n",
    "# plt.figure()\n",
    "# plt.contourf(X, T, Y, levels = 25)\n",
    "# plt.colorbar()\n",
    "\n",
    "# plt.show()"
   ]
  },
  {
   "cell_type": "markdown",
   "metadata": {},
   "source": [
    "## You can create very complex functions...\n",
    "\n",
    "Let's add some complexity to that same function $g(x,t)$.  It still will take two inputs $(x,t)$, but let's add to the outputs.  Let's have it return an 3x3 matrix of zeros; a 5x5 matrix of ones; and a character array that says IT'S A TRAP! \n",
    "\n",
    "Print the 5 outputs for the $(x,t)$ input pair $(1,1)$."
   ]
  },
  {
   "cell_type": "code",
   "execution_count": 215,
   "metadata": {},
   "outputs": [],
   "source": [
    "# def g2(x,t):\n",
    "#     y = x**2*t\n",
    "#     z = x*np.cos(t)\n",
    "#     m1 = np.zeros((3,3))\n",
    "#     m2 = np.ones((5,5))\n",
    "#     s1 = \"IT'S A TRAP\"\n",
    "#     return y, z, m1, m2, s1\n",
    "\n",
    "# g2(1,1)\n",
    "\n",
    "# y, z, m1, m2, s1 = g2(1,1)\n",
    "\n",
    "# print(y, '\\n')\n",
    "# print(z, '\\n')\n",
    "# print(m1, '\\n')\n",
    "# print(m2, '\\n')\n",
    "# print(s1, '\\n')"
   ]
  }
 ],
 "metadata": {
  "kernelspec": {
   "display_name": "base",
   "language": "python",
   "name": "python3"
  },
  "language_info": {
   "codemirror_mode": {
    "name": "ipython",
    "version": 3
   },
   "file_extension": ".py",
   "mimetype": "text/x-python",
   "name": "python",
   "nbconvert_exporter": "python",
   "pygments_lexer": "ipython3",
   "version": "3.13.5"
  }
 },
 "nbformat": 4,
 "nbformat_minor": 4
}
