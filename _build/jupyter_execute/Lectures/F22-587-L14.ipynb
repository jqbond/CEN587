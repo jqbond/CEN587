{
 "cells": [
  {
   "cell_type": "markdown",
   "metadata": {},
   "source": [
    "# Lecture 14\n",
    "\n",
    "This lecture continues with Material Balance Example Problems"
   ]
  },
  {
   "cell_type": "code",
   "execution_count": 1,
   "metadata": {},
   "outputs": [],
   "source": [
    "import numpy as np"
   ]
  },
  {
   "cell_type": "markdown",
   "metadata": {},
   "source": [
    "## Example Problem 01\n",
    "\n",
    "The homogeneous reaction shown below is carried out in a Plug Flow Reactor (PFR).\n",
    "\t\t\t\n",
    "$$A \\rightarrow B$$\n",
    "\t\t\t\n",
    "The reaction rate does not depend on the product concentration, and it is occurring at 500K. You may assume that the density of the fluid phase is constant. The rate constant for this reaction is:\n",
    "\t\t\t\n",
    "$$k = 0.005 \\ \\textrm{L} \\ \\textrm{mol}^{-1} \\ \\textrm{min}^{-1}$$\n",
    "\t\t\t\n",
    "The molar flowrate of species A entering the reactor is 75 mol min$^{-1}$, and the feed volumetric flowrate is 100 L min$^{-1}$. What PFR volume is required to achieve 90\\% conversion of species A?\n",
    "\n",
    "**Answer:** 240,000 L"
   ]
  },
  {
   "cell_type": "markdown",
   "metadata": {},
   "source": [
    "### Solution to Example Problem 01\n",
    "\n",
    "We start with a balance on Species A in a PFR at Steady state:\n",
    "\n",
    "$$\\frac{dF_A}{dV} = R_A$$\n",
    "\n",
    "We define $R_A$ as usual:\n",
    "\n",
    "$$R_A = \\sum_{i = 1}^{N_R} \\nu_{i,A} \\, r_i$$\n",
    "\n",
    "We again have a single reaction, so:\n",
    "\n",
    "$$R_A = -r$$\n",
    "\n",
    "Here, we see that the rate constant is given in 2nd order units; therefore:\n",
    "\n",
    "$$r = kC_A^2$$\n",
    "\n",
    "And:\n",
    "\n",
    "$$R_A = -kC_A^2$$\n",
    "\n",
    "We substitute this into the material balance to get:\n",
    "\n",
    "$$\\frac{dF_A}{dV} = -kC_A^2$$\n",
    "\n",
    "We have to recognize that $C_A$ is an implicit function of $F_A$ and vice-versa, so we have to express one in terms of the other to proceed.  Here, we'll say:\n",
    "\n",
    "$$C_A = \\frac{F_A}{Q}$$\n",
    "\n",
    "Where $F_A$ is the molar flowrate of A at position \"V\" in the reactor, and Q is the volumetric flowrate at position \"V\" in the reactor.  Both are generally functions of position in the reactor; however, for a flow reactor at steady state, we know that if density is constant:\n",
    "\n",
    "$$Q = Q_f$$\n",
    "\n",
    "In other words, the volumetric flowrate is constant as a function of position in the reactor.  This gives:\n",
    "\n",
    "$$C_A = \\frac{F_A}{Q_f}$$\n",
    "\n",
    "Which we substitute back into the balance equation to get:\n",
    "\n",
    "$$\\frac{dF_A}{dV} = -k\\left(\\frac{F_A}{Q_f}\\right)^2$$\n",
    "\n",
    "$Q_f$ and k are both constants, so this is a separable ODE:\n",
    "\n",
    "$$\\frac{1}{F_A^2}dF_A = -\\frac{k}{Q_f^2}dV$$\n",
    "\n",
    "We integrate on the limits of Volume and molar flowrate from reactor inlet to reactor exit:\n",
    "\n",
    "$$\\int_{F_{A,f}}^{F_A}\\frac{1}{F_A^2}dF_A = \\int_{0}^{V}-\\frac{k}{Q_f^2}dV$$\n",
    "\n",
    "This gives:\n",
    "\n",
    "$$-\\frac{1}{F_A}\\bigg|_{F_{A,f}}^{F_A} = -\\frac{k}{Q_f^2}V \\,\\bigg|_0^V $$\n",
    "\n",
    "Which evaluates to:\n",
    "\n",
    "$$-\\frac{1}{F_A} + \\frac{1}{F_{A,f}} = -\\frac{k}{Q_f^2}V$$\n",
    "\n",
    "We can solve this for V:\n",
    "\n",
    "$$V = \\frac{Q_f^2}{k} \\left(\\frac{1}{F_A} - \\frac{1}{F_{A,f}}\\right)$$\n",
    "\n",
    "Where:\n",
    "\n",
    "$$F_A = F_{A,f}(1 - X_A)$$\n",
    "\n",
    "All quantites on the RHS are given in the problem statement, so we can evaluate the Volume required."
   ]
  },
  {
   "cell_type": "code",
   "execution_count": 2,
   "metadata": {},
   "outputs": [
    {
     "name": "stdout",
     "output_type": "stream",
     "text": [
      "Volume is 240000.0 L\n"
     ]
    }
   ],
   "source": [
    "Qf  = 100 #L/min\n",
    "FAf = 75 #mol/min\n",
    "k   = 0.005 #L/mol/min\n",
    "XA  = 0.9\n",
    "\n",
    "FA  = FAf*(1 - XA)\n",
    "V = Qf**2/k*(1/FA - 1/FAf)\n",
    "print(f'Volume is {round(V,3)} L')"
   ]
  },
  {
   "cell_type": "markdown",
   "metadata": {},
   "source": [
    "## Example Problem 02 \n",
    "\n",
    "**(You aren't seeing things; this is the same as Example Problem 01)**\n",
    "\n",
    "The homogeneous reaction shown below is carried out in a Plug Flow Reactor (PFR).\n",
    "\t\t\t\n",
    "$$A \\rightarrow B$$\n",
    "\t\t\t\n",
    "The reaction rate does not depend on the product concentration, and it is occurring at 500K. You may assume that the density of the fluid phase is constant. The rate constant for this reaction is:\n",
    "\t\t\t\n",
    "$$k = 0.005 \\ \\textrm{L} \\ \\textrm{mol}^{-1} \\ \\textrm{min}^{-1}$$\n",
    "\t\t\t\n",
    "The molar flowrate of species A entering the reactor is 75 mol min$^{-1}$, and the feed volumetric flowrate is 100 L min$^{-1}$. What PFR volume is required to achieve 90\\% conversion of species A?\n",
    "\n",
    "### Solution to Example Problem 02\n",
    "\n",
    "This time, we will re-write the material balance in terms of fractional conversion of A instead of molar flowrate of A. We do this by stating that:\n",
    "\n",
    "$$F_A = F_{Af}(1 - X_A)$$\n",
    "\n",
    "If we substitute this into our material balance, we get:\n",
    "\n",
    "$$\\frac{d(F_{Af} - F_{Af}X_A)}{dV} = -r$$\n",
    "\n",
    "Simplifying, we arrive at the result that:\n",
    "\t\t\t\n",
    "$$\\frac{dX_A}{dV} = \\frac{r}{F_{Af}} = \\frac{k \\, {C_A}^2}{F_{Af}}$$\n",
    "\n",
    "Integration gives an equivalent result to that in Example 01.\n",
    "\n",
    "**Answer:** 240,000 L"
   ]
  },
  {
   "cell_type": "code",
   "execution_count": 3,
   "metadata": {},
   "outputs": [
    {
     "name": "stdout",
     "output_type": "stream",
     "text": [
      "Volume is 240000.0 L\n"
     ]
    }
   ],
   "source": [
    "Qf  = 100 #L/min\n",
    "FAf = 75 #mol/min\n",
    "k   = 0.005 #L/mol/min\n",
    "XA  = 0.9\n",
    "\n",
    "FA  = FAf*(1 - XA)\n",
    "\n",
    "V = Qf**2/k/FAf*(1/(1-XA) - 1)\n",
    "print(f'Volume is {round(V,3)} L')"
   ]
  },
  {
   "cell_type": "markdown",
   "metadata": {},
   "source": [
    "## Example Problem 03\n",
    "\n",
    "Consider the following liquid-phase, irreversible, homogeneous reaction that is occurring in an isothermal plug flow reactor. \n",
    "\t\n",
    "$$A + B \\rightarrow C$$\n",
    "\n",
    "This reaction is first order in A and first order in B. You may assume that the liquid phase has a constant density. Additional data are given below:\n",
    "\n",
    "\\begin{align}\n",
    "    k &= 25.3 \\ \\textrm{L} \\ \\textrm{mol}^{-1} \\ \\textrm{h}^{-1}\\\\\n",
    "    Q_f &= 10 \\ \\textrm{L} \\ \\textrm{h}^{-1}\\\\\n",
    "    F_{Af} &= 10 \\textrm{mol} \\ \\textrm{h}^{-1}\\\\\n",
    "    F_{Bf} &= 10 \\textrm{mol} \\ \\textrm{h}^{-1}\n",
    "\\end{align}\n",
    "\n",
    "What fractional conversion of species A is achieved in 1.24L PFR? \t\n",
    "\n",
    "**Answer:** $X_A = 0.758$"
   ]
  },
  {
   "cell_type": "markdown",
   "metadata": {},
   "source": [
    "### Solution to Example Problem 03\n",
    "\n",
    "Begin with a balance on A:\n",
    "\n",
    "$$\\frac{dF_A}{dV} = R_A$$\n",
    "\n",
    "Define $R_A$ as usual:\n",
    "\n",
    "$$\\frac{dF_A}{dV} = -r$$\n",
    "\n",
    "We are given reaction orders and a rate constant, so we know the rate law, $r = kC_AC_B$:\n",
    "\n",
    "$$\\frac{dF_A}{dV} = -kC_AC_B$$\n",
    "\n",
    "\n",
    "Here, we have a bit of a problem.  There are 3 things in this equation that are changing with position (V) in the reactor: $F_A$, $C_A$, and $C_B$.  If we want an analytical solution, we need to write this ODE in terms of 1 dependent variable.  I can do that with fractional conversions.  \n",
    "\n",
    "First, I will express concentrations in terms of molar and volumetric flowrates, i.e.,:\n",
    "\n",
    "$$C_j = \\frac{F_j}{Q}$$\n",
    "\n",
    "Where, since this is a constant density system, we can say $Q = Q_f$.\n",
    "\n",
    "$$C_j = \\frac{F_j}{Q_f}$$\n",
    "\n",
    "This gives:\n",
    "\n",
    "$$\\frac{dF_A}{dV} = -\\frac{k}{Q_f^2}F_AF_B$$\n",
    "\n",
    "We write a mole table for all species as functions of fractional conversion of A. This gives:\n",
    "\n",
    "\\begin{align}\n",
    "    F_A = F_{A,f} - F_{A,f}X_A \\\\\n",
    "    F_B = F_{B,f} - F_{A,f}X_A \\\\\n",
    "    F_C = F_{C,f} + F_{A,f}X_A \\\\\n",
    "    F_T = F_{T,f} - F_{A,f}X_A \\\\\n",
    "\\end{align}\n",
    "    \n",
    "Where $F_{T,f} = F_{A,f} + F_{B,f} + F_{C,f}$. We can substitute these molar flowrates into our ODE to get:\n",
    "\n",
    "\n",
    "$$-F_{A,f}\\frac{dX_A}{dV} = -\\frac{k}{Q_f^2}(F_{A,f} - F_{A,f}X_A)(F_{B,f} - F_{A,f}X_A)$$\n",
    "\n",
    "In this particular example, we are told that $F_{A,f} = F_{B,f}$, so this simplifies considerably:\n",
    "\n",
    "$$-F_{A,f}\\frac{dX_A}{dV} = -\\frac{kF_{A,f}^2}{Q_f^2}(1 - X_A)^2$$\n",
    "\n",
    "Cancelling terms:\n",
    "\n",
    "$$\\frac{dX_A}{dV} = \\frac{kF_{A,f}}{Q_f^2}(1 - X_A)^2$$\n",
    "\n",
    "This is now a separable ODE and can be solved analytically:\n",
    "\n",
    "$$\\int_0^{X_A}\\frac{1}{(1 - X_A)^2} dX_A = \\int_0^{V_R}\\frac{kF_{A,f}}{Q_f^2} dV$$\n",
    "\n",
    "The left hand side, you can integrate using a substitution:\n",
    "\n",
    "$$u = 1 - X_A$$\n",
    "\n",
    "Which means that\n",
    "\n",
    "$$du = -dX_A$$\n",
    "\n",
    "So you would solve:\n",
    "\n",
    "$$\\int_{u_0}^{u}\\frac{-1}{u^2} du = \\int_0^{V_R}\\frac{kF_{A,f}}{Q_f^2} dV$$\n",
    "\n",
    "Integrating both sides:\n",
    "\n",
    "$$\\frac{1}{u}\\bigg|_{u_0}^{u} = \\frac{kF_{A,f}}{Q_f^2}\\bigg|_0^{V_R}$$\n",
    "\n",
    "Substituting limits of integration:\n",
    "\n",
    "$$\\frac{1}{u} - \\frac{1}{u_0} = \\frac{kF_{A,f}}{Q_f^2}V_R$$\n",
    "\n",
    "Substituting the expression for u:\n",
    "\n",
    "$$\\frac{1}{1-X_A} - \\frac{1}{1 - X_{A,0}} = \\frac{kF_{A,f}}{Q_f^2}V_R$$\n",
    "\n",
    "The initial conversion, $X_{A,0}$, is zero.  We solve the above for conversion, $X_A$, as a function of reactor volume, $V_R$:\n",
    "\n",
    "$$X_A = 1 - \\frac{1}{1 + \\frac{kF_{A,f}}{Q_f^2}V_R}$$\n",
    "\n",
    "Substituting numerical values for k, $F_{A,f}$, $Q_f$, and $V_R$, we find that the fractional conversion attained is:\n",
    "\n",
    "$$X_A = 0.758$$"
   ]
  },
  {
   "cell_type": "code",
   "execution_count": 4,
   "metadata": {},
   "outputs": [
    {
     "data": {
      "text/plain": [
       "0.758290631344871"
      ]
     },
     "execution_count": 4,
     "metadata": {},
     "output_type": "execute_result"
    }
   ],
   "source": [
    "k   = 25.3 #L/mol/h\n",
    "Qf  = 10   #L/h\n",
    "FAf = 10   #mol/h\n",
    "VR  = 1.24 #L\n",
    "XA  = 1 - 1/(1 + k*FAf/Qf**2*VR)\n",
    "XA"
   ]
  }
 ],
 "metadata": {
  "kernelspec": {
   "display_name": "Python 3 (ipykernel)",
   "language": "python",
   "name": "python3"
  },
  "language_info": {
   "codemirror_mode": {
    "name": "ipython",
    "version": 3
   },
   "file_extension": ".py",
   "mimetype": "text/x-python",
   "name": "python",
   "nbconvert_exporter": "python",
   "pygments_lexer": "ipython3",
   "version": "3.9.13"
  }
 },
 "nbformat": 4,
 "nbformat_minor": 4
}