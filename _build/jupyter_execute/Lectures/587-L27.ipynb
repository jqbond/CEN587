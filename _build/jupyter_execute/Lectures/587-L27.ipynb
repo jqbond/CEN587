{
 "cells": [
  {
   "cell_type": "markdown",
   "metadata": {},
   "source": [
    "# Material Balances XVIII\n",
    "\n",
    "This lecture solves reactor design problems involving semi-batch reactors; membrane reactors; recycle reactors, and packed beds with pressure drops."
   ]
  },
  {
   "cell_type": "code",
   "execution_count": 1,
   "metadata": {
    "executionInfo": {
     "elapsed": 126,
     "status": "ok",
     "timestamp": 1633700692097,
     "user": {
      "displayName": "Bowei Liu",
      "photoUrl": "https://lh3.googleusercontent.com/a/default-user=s64",
      "userId": "09481582047933696573"
     },
     "user_tz": 240
    },
    "id": "h9UTaC1vBEif"
   },
   "outputs": [],
   "source": [
    "import numpy as np\n",
    "import matplotlib.pyplot as plt\n",
    "import scipy.optimize as opt\n",
    "from scipy.integrate import solve_ivp\n",
    "from scipy.interpolate import interp1d"
   ]
  },
  {
   "cell_type": "markdown",
   "metadata": {},
   "source": [
    "## Recap\n",
    "\n",
    "To this point, we have seen that the strategy of decreasing pressure and adding a diluent presented above will work, but it requires a reactor volume of roughly 28,000L. We also see that we can get away with a relatively small reactor ***if*** we also invest in separations and recycle. Let's see if we can do better than this using a membrane reactor.  \n",
    "\n",
    "## Example Problem 01\n",
    "\n",
    "We'll carry out propane dehydrogenation in a membrane reactor. Specifically we design the reactor such that there is an internal tube where we feed pure propane at 8.2 atm and a flowrate of 10 moles per minute. This internal tube is surrounded by an external tube into which we feed N2 at 1 atm and a very high flowrate. The walls of the inner tube are made from a specialized membrane that will allow H2 diffusion across the membrane--in this configuration, the pressure of H2 inside the inner reactor is always higher than the pressure of H2 in the annulus, so H2 will diffuse out of the reactor and into the annulus where it is instantly diluted by N2 to a concentration (partial pressure) of zero. Since we're removing a product, we don't need to feed a diluent or reduce pressure to achieve the desired 95\\% conversion of propane.  \n",
    "\t\t\n",
    "Rate and equilibrium constants remain the same because we haven't changed the temperature. We are additionally given a lumped mass transfer coefficient that describes the rate of H2 diffusion across the membrane.\n",
    "\t\t\n",
    "\\begin{align}\n",
    "    k_f  &= 0.7  \\ \\textrm{min}^{-1} \\\\\n",
    "    K_C &= 0.05 \\ \\textrm{mol} \\ \\textrm{L}^{-1}\\\\\n",
    "    k_{C_C}a &= 0.2 \\ \\textrm{min}^{-1}\t\t\t\t\n",
    "\\end{align}\t\t\t\n",
    "\n",
    "How large does this membrane reactor need to be to achieve 95\\% conversion of propane?"
   ]
  },
  {
   "cell_type": "markdown",
   "metadata": {},
   "source": [
    "## Membrane Reactors\n",
    "\n",
    "Recall how we originally developed the PFR balance by considering a single cross sectional element with a volume of $\\Delta V$. In the case of a simple PFR, we assume that inside of that cross section, everything is well-mixed, so we know that it has a uniform Temperature, Pressure, Composition (and therefore reaction rate).  So, within that well-mixed cross section, the rate of generation or consumption by chemical reaction, $G_j$, is given by:\n",
    "\n",
    "$$G_j = R_j\\Delta V$$\n",
    "\n",
    "If the PFR is operating at steady state, we can write a balance on that well-mixed cross section:\n",
    "\n",
    "$$ 0 = F_j\\big|_V - F_j\\big|_{V+\\Delta V} + R_j \\Delta V$$\n",
    "\n",
    "Next, we divide the whole equation by $\\Delta V$:\n",
    "\n",
    "$$ 0 = \\frac{F_j\\big|_V - F_j\\big|_{V+\\Delta V}}{\\Delta V} + R_j$$\n",
    "\n",
    "And we now assume we have an infinite number of cross sections and let the volume of each cross section approach zero, i.e., $\\Delta V \\longrightarrow 0$.  You may recognize this as the definition of a derivative from your first semester calculus course.  This gives:\n",
    "\n",
    "$$ 0 = -\\frac{dF_j}{dV} + R_j$$\n",
    "\n",
    "In PFR analysis, we typically rearrange this equation to get:\n",
    "\n",
    "$$\\frac{dF_j}{dV} = R_j$$\n",
    "\n",
    "## Modifying the PFR balance to model a membrane reactor\n",
    "\n",
    "When we have a membrane reactor, we modify the PFR balance slightly to allow that species $j$ can diffuse into or out of the well-mixed volume element, $\\Delta V$.  We define the rate of diffusion across the membrane per unit volume of reactor as:\n",
    "\n",
    "$$\\bar{R}_j = W_ja$$\n",
    "\n",
    "Where $W_j$ is the flux of species $j$ across the membrane and $a$ is the ratio of surface area to volume for that membrane.  \n",
    "\n",
    "### Units in the Membrane Reactor Balance\n",
    "\n",
    "We need to briefly discuss dimensions.  $\\bar{R_j}$ will have the same units as our intensive reaction rates, $r_i$ and our intensive species production rates, $R_j$.  For example:\n",
    "\n",
    "$$\\bar{R}_j \\ [=]\\ \\mathrm{\\frac{mol}{m^3 \\, s}}$$\n",
    "\n",
    "We recall from heat and mass transfer that fluxes have units of moles per area per time; for example:\n",
    "\n",
    "$$W_j \\ [=] \\ \\mathrm{\\frac{mol}{m^2 \\, s}}$$\n",
    "\n",
    "And the surface area to volume ratio, $a$ will have units of area per volume, which reduces to inverse length, for example:\n",
    "\n",
    "$$a = \\mathrm{\\frac{Area}{Volume}} \\ [=] \\ \\frac{m^2}{m^3} \\ [=] \\ \\frac{1}{m}$$\n",
    "\n",
    "With these definitions and unit conventions in mind, we see that the product of $W_j a$ gives the correct units on $\\bar{R}_j$:\n",
    "\n",
    "$$\\bar{R}_j = W_ja \\ [=] \\ \\mathrm{\\frac{mol}{m^2 \\, s}} \\ \\frac{1}{m} \\ [=] \\ \\mathrm{\\frac{mol}{m^3 \\, s}}$$\n",
    "\n",
    "### The steady state balance on a well-mixed volume element in a membrane reactor\n",
    "\n",
    "With the above in mind, we can write the following balance to describe flow in, flow out, and reaction into the well-mixed volume element, $\\Delta V$:\n",
    "\n",
    "$$ 0 = F_j\\big|_V - F_j\\big|_{V+\\Delta V} + R_j \\Delta V + \\bar{R}_j \\Delta V$$\n",
    "\n",
    "Dividing the equation through by $\\Delta V$ and allowing $\\Delta V \\rightarrow \\infty$ gives the membrane reactor balance:\n",
    "\n",
    "$$\\frac{dF_j}{dV} = R_j + \\bar{R}_j$$\n",
    "\n",
    "### Defining the diffusion rate\n",
    "\n",
    "Now that we have a general balance, the only thing that remains is to express the diffusion rate in terms of species concentrations (or partial pressures) similar to the way we have always expressed intensive production rates in terms of species concentrations (or partial pressures).  From heat and mass, we recall that flux across a boundary can be calculated as:\n",
    "\n",
    "$$W_j = k_{C_j}(C_{j_s} - C_j)$$\n",
    "\n",
    "In the context of the membrane reactor, consistent with sign conventions on flowrates and production rates, we define flux *into* the reactor as positive and *out of* the reactor as negative. $k_{C_j}$ is a mass transfer coefficient for species $j$; $C_{j_s}$ is the concentration of species $j$ in the annular *space* surrounding the inner reactor tube, and $C_j$ is the concentration of species $j$ inside of the reactor.\n",
    "\n",
    "We can see that in cases where $C_j > C_{j_s}$, diffusion will occur from the reactor to the annulus and have a negative sign.  Mass transfer coefficients always have units of length-per-time, thus the product of $k_{C_j}$ and concentration gives a flux in the correct units of moles per area per time.\n",
    "\n",
    "For a cylinder such as this membrane reactor, the ratio of area to volume is:\n",
    "\n",
    "$$a = \\frac{2 \\pi r L}{\\pi r^2 L} = \\frac{2}{r}$$\n",
    "\n",
    "Ultimately, we can define the rate of diffusion across the membrane as:\n",
    "\n",
    "$$\\bar{R}_j = k_{C_j}a(C_{j_s} - C_j)$$\n",
    "\n",
    "And we note that the product $k_{C_j}a$ is frequently lumped and given in problem statements (such as this one)."
   ]
  },
  {
   "cell_type": "markdown",
   "metadata": {},
   "source": [
    "### Solution to Example Problem 01\n",
    "\n",
    "With the above derivations for membrane reactor balances in mind, we can write material balances for all 3 species in this reactor:\n",
    "\n",
    "\\begin{align}\n",
    "    \\frac{dF_A}{dV} &= R_A \\\\\n",
    "    \\frac{dF_B}{dV} &= R_B \\\\\n",
    "    \\frac{dF_C}{dV} &= R_C + \\bar{R}_C\\\\\n",
    "\\end{align}\n",
    "\n",
    "Next, we begin the usual steps of defining the right hand side of each ODE in terms of parameters, state variables, and the independent variable (V):\n",
    "\n",
    "\\begin{align}\n",
    "    R_A &= -r \\\\\n",
    "    R_B &=  r \\\\\n",
    "    R_C &=  r \n",
    "\\end{align}\n",
    "\n",
    "We know that this reaction has elementary kinetics so:\n",
    "\n",
    "$$r = k_fC_A - k_rC_BC_C$$\n",
    "\n",
    "Concentrations can be defined in terms of flowrates:\n",
    "\n",
    "\\begin{align}\n",
    "    R_A &= F_A/Q \\\\\n",
    "    R_B &= F_B/Q \\\\\n",
    "    R_C &= F_C/Q \n",
    "\\end{align}\n",
    "\n",
    "Where:\n",
    "\n",
    "$$Q = \\frac{F_T R T}{P}$$\n",
    "\n",
    "And:\n",
    "\n",
    "$$F_T = F_A + F_B + F_C$$\n",
    "\n",
    "Finally:\n",
    "\n",
    "$$\\bar{R}_j = k_{C_C}a(C_{C_s} - C_C)$$\n",
    "\n",
    "The lumped mass transfer coefficient/area product is given in the problem statement, and we can assume that the concentration of C in the annular space is zero due to the large excess of N2 in the annulus.  With that, we can solve the problem using `solve_ivp()`."
   ]
  },
  {
   "cell_type": "code",
   "execution_count": 2,
   "metadata": {},
   "outputs": [],
   "source": [
    "kf  = 0.7  #1/min\n",
    "KC  = 0.05 #mol/L\n",
    "kr  = kf/KC #L/mol/min\n",
    "kca = 0.2 #1/min\n",
    "CCs = 0.0\n",
    "T   = 500 #K\n",
    "P   = 8.2 #atm\n",
    "R   = 0.08206 #L*atm/mol/K\n",
    "FAf = 10.0 #mol/min\n",
    "FBf = 0.0\n",
    "FCf = 0.0\n",
    "XA_target = 0.95"
   ]
  },
  {
   "cell_type": "code",
   "execution_count": 3,
   "metadata": {},
   "outputs": [],
   "source": [
    "def P01(V, var, par):\n",
    "    FA, FB, FC = var\n",
    "    kf, kr, T, P, R, kca, CCs = par\n",
    "    \n",
    "    FT = FA + FB + FC\n",
    "    \n",
    "    Q  = FT*R*T/P\n",
    "    \n",
    "    CA = FA/Q\n",
    "    CB = FB/Q\n",
    "    CC = FC/Q\n",
    "    \n",
    "    r  = kf*CA - kr*CB*CC\n",
    "    \n",
    "    RA = -r\n",
    "    RB =  r\n",
    "    RC =  r\n",
    "    \n",
    "    RCbar = kca*(CCs - CC)\n",
    "    \n",
    "    dA = RA\n",
    "    dB = RB\n",
    "    dC = RC + RCbar\n",
    "    \n",
    "    return [dA, dB, dC]"
   ]
  },
  {
   "cell_type": "code",
   "execution_count": 4,
   "metadata": {},
   "outputs": [
    {
     "data": {
      "image/png": "[encoded data removed]",
      "text/plain": [
       "<Figure size 500x500 with 1 Axes>"
      ]
     },
     "metadata": {},
     "output_type": "display_data"
    }
   ],
   "source": [
    "#Vspan = (0.0, 100.0)\n",
    "Vspan = (0.0, 5000.0)\n",
    "var0  = (FAf, FBf, FCf)\n",
    "par0  = (kf, kr, T, P, R, kca, CCs)\n",
    "ans2  = solve_ivp(P01, Vspan, var0, args = (par0, ), atol = 1e-8, rtol =  1e-8)\n",
    "\n",
    "V     = ans2.t\n",
    "FA    = ans2.y[0, :]\n",
    "FB    = ans2.y[1, :]\n",
    "FC    = ans2.y[2, :]\n",
    "\n",
    "XA    = (FAf - FA)/FAf\n",
    "\n",
    "plt.figure(1, figsize = (5, 5))\n",
    "plt.plot(V, XA)\n",
    "plt.xlim(0.0, max(Vspan))\n",
    "plt.xticks(fontsize = 11)\n",
    "plt.xlabel('Volume (L)', fontsize = 14)\n",
    "plt.ylim(0.0, 1.0)\n",
    "plt.yticks(fontsize = 11)\n",
    "plt.ylabel('Conversion of A', fontsize = 14)\n",
    "plt.show(1)"
   ]
  },
  {
   "cell_type": "code",
   "execution_count": 5,
   "metadata": {},
   "outputs": [
    {
     "name": "stdout",
     "output_type": "stream",
     "text": [
      "The Volume required for XA = 0.95 is 3054L\n"
     ]
    }
   ],
   "source": [
    "itp1 = interp1d(XA, V, kind = 'cubic')\n",
    "Vopt = itp1(XA_target)\n",
    "print(f'The Volume required for XA = {XA_target:0.2f} is {Vopt:0.0f}L')"
   ]
  },
  {
   "cell_type": "markdown",
   "metadata": {},
   "source": [
    "## Example Problem 02\n",
    "\n",
    "Now let's consider packed bed reactor performance.  For this problem, we'll carry out ethylene hydrogenation (reaction 1). A side reaction, ethylene dimerization (reaction 2) also occurs under these conditions. Overall reactions for each are given below.\n",
    "\n",
    "\\begin{align*}\n",
    "    C_2H_4 + H_2 \\longrightarrow C_2H_6 \\\\\n",
    "    2C_2H_4 \\longrightarrow C_4H_8\t\t\t\n",
    "\\end{align*}\t\t\t\n",
    "\n",
    "Both reactions occur in the gas phase, and each has an elementary rate law.  Additional parameters and operating conditions are specified below.\n",
    "\n",
    "\\begin{align*}\n",
    "    k_1  &= 10 \\ \\textrm{L}^{2} \\ \\textrm{mol}^{-1} \\ \\textrm{kg}^{-1} \\ \\textrm{sec}^{-1} \\\\\n",
    "    k_2  &= 1 \\ \\textrm{L}^{2} \\ \\textrm{mol}^{-1} \\ \\textrm{kg}^{-1} \\ \\textrm{sec}^{-1} \\\\\n",
    "    F_{A_f} &= 100 \\ \\textrm{mol} \\ \\textrm{sec}^{-1} \\\\\t\t\t\t\n",
    "    F_{B_f} &= 100 \\ \\textrm{mol} \\ \\textrm{sec}^{-1} \\\\\n",
    "    T &= 573 \\ \\textrm{K} \\\\\n",
    "    P &= 10 \\ \\textrm{bar}\n",
    "\\end{align*}\t\t\t\n",
    "\n",
    "If the reactor operates isobarically, calculate the mass of catalyst required to achieve an ethylene conversion of 70\\%."
   ]
  },
  {
   "cell_type": "code",
   "execution_count": 6,
   "metadata": {},
   "outputs": [],
   "source": [
    "def P02(W, var, par):\n",
    "    FA, FB, FC, FD = var #all flowrates in mol/s\n",
    "    \n",
    "    #Operating conditions/fixed values\n",
    "    P, R, T, k1, k2 = par   \n",
    "\n",
    "    #Total molar flowrate\n",
    "    FT = FA + FB + FC + FD\n",
    "    \n",
    "    #Volumetric flowrate\n",
    "    Q = FT*R*T/P       #vol flow rate, L/sec\n",
    "\n",
    "    CA = FA/Q          #Concentration of A, mol/L\n",
    "    CB = FB/Q          #Concentration of B, mol/L\n",
    "    CC = FC/Q          #Concentration of C, mol/L\n",
    "    CD = FD/Q          #Concentration of D, mol/L\n",
    "\n",
    "    r1 = k1*CA*CB      #Rate of reaction 1, mol/kg/sec\n",
    "    r2 = k2*CA**2       #Rate of reaction 2, mol/kg/sec\n",
    "\n",
    "    RA = -r1 - 2*r2\n",
    "    RB = -r1\n",
    "    RC =  r1\n",
    "    RD =  r2\n",
    "\n",
    "    dFAdW = RA\n",
    "    dFBdW = RB\n",
    "    dFCdW = RC\n",
    "    dFDdW = RD\n",
    "    return [dFAdW, dFBdW, dFCdW, dFDdW]"
   ]
  },
  {
   "cell_type": "code",
   "execution_count": 7,
   "metadata": {},
   "outputs": [
    {
     "name": "stdout",
     "output_type": "stream",
     "text": [
      "The mass of catalyst required to achieve XA = 0.70 is W = 957 kg\n"
     ]
    }
   ],
   "source": [
    "FAf = 100        #mol/s\n",
    "FBf = 100        #mol/s\n",
    "FCf = 0          #mol/s\n",
    "FDf = 0          #mol/s\n",
    "P   = 1.0e6   #Pa, 10 bar\n",
    "R   = 8314       #L*Pa/mol/K\n",
    "T   = 573        #K\n",
    "k1  = 10         #L^2/mol/kg/sec\n",
    "k2  = 1          #L^2/mol/kg/sec\n",
    "\n",
    "XA_target = 0.7\n",
    "var0 = (FAf, FBf, FCf, FDf)\n",
    "par0 = (P, R, T, k1, k2)\n",
    "wspan = (0, 2500)\n",
    "ans02 = solve_ivp(P02, wspan, var0, args = (par0, ), atol = 1e-8, rtol = 1e-8)\n",
    "\n",
    "W   = ans02.t\n",
    "FA  = ans02.y[0, :]\n",
    "XA  = (FAf - FA)/FAf\n",
    "itp = interp1d(XA, W, kind = 'cubic')\n",
    "\n",
    "print(f'The mass of catalyst required to achieve XA = {XA_target:0.2f} is W = {itp(XA_target):0.0f} kg') "
   ]
  },
  {
   "cell_type": "code",
   "execution_count": 8,
   "metadata": {},
   "outputs": [
    {
     "data": {
      "image/png": "[encoded data removed]",
      "text/plain": [
       "<Figure size 500x500 with 1 Axes>"
      ]
     },
     "metadata": {},
     "output_type": "display_data"
    }
   ],
   "source": [
    "plt.figure(1, figsize = (5, 5))\n",
    "plt.plot(W, XA)\n",
    "plt.xlim(0.0, max(wspan))\n",
    "plt.xticks(fontsize = 11)\n",
    "plt.xlabel('Catalys Mass (kg)', fontsize = 14)\n",
    "plt.ylim(0.0, 1.0)\n",
    "plt.yticks(fontsize = 11)\n",
    "plt.ylabel('Conversion of A', fontsize = 14)\n",
    "plt.show(1)"
   ]
  },
  {
   "cell_type": "markdown",
   "metadata": {},
   "source": [
    "\n",
    "## Example Problem 03\n",
    "\n",
    "The packed bed reactor described in Example Problem 02 above is no longer isobaric. Assume that the pressure gradient in the packed bed can be modeled using the Ergun equation.  For this example, we are given the lumped Ergun Equation parameter as:\n",
    "\t\n",
    "$$\\frac{\\beta}{A_c\\rho_b} = 303.975 \\ \\textrm{Pa} \\ \\mathrm{kg^{-1}}$$\n",
    "\t\n",
    "Calculate the mass of catalyst required to achieve an ethylene conversion of 70\\%."
   ]
  },
  {
   "cell_type": "markdown",
   "metadata": {},
   "source": [
    "### Solution to Example Problem 03\n",
    "\n",
    "For this, we develop the material balances on all species as in Example 02, but we add a fifth differential equation (the Ergun Equation) to model the change in pressure as a function of increasing catalyst mass."
   ]
  },
  {
   "cell_type": "code",
   "execution_count": 9,
   "metadata": {},
   "outputs": [],
   "source": [
    "def P03(W, var, par):\n",
    "    FA, FB, FC, FD, P = var #all flowrates in mol/s\n",
    "    \n",
    "    #Operating conditions/fixed values\n",
    "    R, T, k1, k2, Ergun, Qf = par   \n",
    "\n",
    "    #Total molar flowrate\n",
    "    FT = FA + FB + FC + FD\n",
    "    \n",
    "    #Volumetric flowrate\n",
    "    Q = FT*R*T/P       #vol flow rate, L/sec\n",
    "\n",
    "    CA = FA/Q          #Concentration of A, mol/L\n",
    "    CB = FB/Q          #Concentration of B, mol/L\n",
    "    CC = FC/Q          #Concentration of C, mol/L\n",
    "    CD = FD/Q          #Concentration of D, mol/L\n",
    "\n",
    "    r1 = k1*CA*CB      #Rate of reaction 1, mol/kg/sec\n",
    "    r2 = k2*CA**2       #Rate of reaction 2, mol/kg/sec\n",
    "\n",
    "    RA = -r1 - 2*r2\n",
    "    RB = -r1\n",
    "    RC =  r1\n",
    "    RD =  r2\n",
    "\n",
    "    dFAdW = RA\n",
    "    dFBdW = RB\n",
    "    dFCdW = RC\n",
    "    dFDdW = RD\n",
    "    dPdW  = -Ergun*Q/Qf\n",
    "    return [dFAdW, dFBdW, dFCdW, dFDdW, dPdW]"
   ]
  },
  {
   "cell_type": "code",
   "execution_count": 10,
   "metadata": {},
   "outputs": [
    {
     "name": "stdout",
     "output_type": "stream",
     "text": [
      "The mass of catalyst required to achieve XA = 0.70 is W = 1581 kg\n"
     ]
    }
   ],
   "source": [
    "FAf = 100        #mol/s\n",
    "FBf = 100        #mol/s\n",
    "FCf = 0          #mol/s\n",
    "FDf = 0          #mol/s\n",
    "FTf = FAf + FBf + FCf + FDf\n",
    "Pf  = 1.0e6   #Pa, 10 bar\n",
    "R   = 8314       #L*Pa/mol/K\n",
    "T   = 573        #K\n",
    "Qf  = FTf*R*T/Pf\n",
    "k1  = 10         #L^2/mol/kg/sec\n",
    "k2  = 1          #L^2/mol/kg/sec\n",
    "Ergun = 303.975  #Pa/kg\n",
    "\n",
    "XA_target = 0.7\n",
    "var0 = (FAf, FBf, FCf, FDf, Pf)\n",
    "par0 = (R, T, k1, k2, Ergun, Qf)\n",
    "wspan = (0, 2000)\n",
    "ans03 = solve_ivp(P03, wspan, var0, args = (par0, ), atol = 1e-8, rtol = 1e-8)\n",
    "\n",
    "W   = ans03.t\n",
    "FA  = ans03.y[0, :]\n",
    "XA  = (FAf - FA)/FAf\n",
    "itp = interp1d(XA, W, kind = 'cubic')\n",
    "\n",
    "print(f'The mass of catalyst required to achieve XA = {XA_target:0.2f} is W = {itp(XA_target):0.0f} kg') "
   ]
  },
  {
   "cell_type": "code",
   "execution_count": 11,
   "metadata": {},
   "outputs": [
    {
     "data": {
      "image/png": "[encoded data removed]",
      "text/plain": [
       "<Figure size 500x500 with 1 Axes>"
      ]
     },
     "metadata": {},
     "output_type": "display_data"
    }
   ],
   "source": [
    "plt.figure(1, figsize = (5, 5))\n",
    "plt.plot(W, XA)\n",
    "plt.xlim(0.0, max(wspan))\n",
    "plt.xticks(fontsize = 11)\n",
    "plt.xlabel('Catalys Mass (kg)', fontsize = 14)\n",
    "plt.ylim(0.0, 1.0)\n",
    "plt.yticks(fontsize = 11)\n",
    "plt.ylabel('Conversion of A', fontsize = 14)\n",
    "plt.show(1)"
   ]
  }
 ],
 "metadata": {
  "colab": {
   "authorship_tag": "ABX9TyP0ZJPj0jWZ7tx7s+T6+2CS",
   "name": "P14.ipynb",
   "provenance": []
  },
  "kernelspec": {
   "display_name": "Python 3 (ipykernel)",
   "language": "python",
   "name": "python3"
  },
  "language_info": {
   "codemirror_mode": {
    "name": "ipython",
    "version": 3
   },
   "file_extension": ".py",
   "mimetype": "text/x-python",
   "name": "python",
   "nbconvert_exporter": "python",
   "pygments_lexer": "ipython3",
   "version": "3.11.5"
  }
 },
 "nbformat": 4,
 "nbformat_minor": 1
}