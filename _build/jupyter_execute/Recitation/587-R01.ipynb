{
 "cells": [
  {
   "cell_type": "markdown",
   "metadata": {},
   "source": [
    "# Jupyter and Python\n",
    "\n",
    "This recitation exercise is designed to introduce the Jupyter Environment and basic Python conventions and syntax. Here is an overview of the topics:\n",
    "\n",
    "* Base Python vs. Numpy (lists vs. arrays)\n",
    "* 1D arrays, columns, rows, and matrices\n",
    "* Basic math operators in Python \n",
    "* Functions\n",
    "* For Loops, While Loops\n",
    "* Element-wise operations (broadcasting) vs. matrix operations\n",
    "* Logical values and conditional statements\n",
    "* Plotting"
   ]
  },
  {
   "cell_type": "markdown",
   "metadata": {},
   "source": [
    "## Lists and Numpy Arrays\n",
    "\n",
    "If we're going to work in Python, we need to discuss the differences between ***lists*** and ***numpy arrays***.  It is easy to confuse these two types of data structures since they look similar, and we create them in similar ways.  But they have important differences.  We will usually want to work with numpy arrays in this course, but I want to communicate why they are a bit more convenient. To do that, we need to discuss lists first.\n",
    "\n",
    "### Lists\n",
    "\n",
    "When working with data, functions, and various types of analysis, we generally need to be able to store sets or collections of values instead of just scalars. In the base Python environment, the default type of collection is a list. \n",
    "\n",
    "#### Making a List\n",
    "\n",
    "If you are familiar with Matlab syntax, creating a simple list is very similar to creating an row array in Matlab.  For example, if we wanted to create a list containing the integers 1 to 5, we would do so as follows:\n",
    "\n",
    "<div class=\"alert alert-block alert-warning\">\n",
    "<b>Important:</b> Is everyone comfortable with indexing in Python to access specific elements?  Remember: Python is zero-indexed, which means the first element of any collection has an index of 0. \n",
    "</div>"
   ]
  },
  {
   "cell_type": "code",
   "execution_count": 1,
   "metadata": {},
   "outputs": [],
   "source": [
    "# L1 = [1, 2, 3, 4, 5]\n",
    "# %whos\n",
    "# L1[3]\n",
    "# dir(L1)\n",
    "# L1.reverse()\n",
    "# L1"
   ]
  },
  {
   "cell_type": "markdown",
   "metadata": {},
   "source": [
    "#### The print command\n",
    "\n",
    "We can display the contents of that list and the length of that list.  We'll also display the type.\n",
    "\n",
    "<div class=\"alert alert-block alert-warning\">\n",
    "<b>Notice:</b> Python only displays the output of the last operation performed; if you want to see a value, you usually have to print it.\n",
    "</div>"
   ]
  },
  {
   "cell_type": "code",
   "execution_count": 2,
   "metadata": {},
   "outputs": [],
   "source": [
    "# print(L1)\n",
    "# print(len(L1))\n",
    "# print(type(L1))"
   ]
  },
  {
   "cell_type": "markdown",
   "metadata": {},
   "source": [
    "#### Despite appearances, lists are not rows, columns, or matrices\n",
    "\n",
    "This *looks* like a row vector compared to what we are probably used to from Matlab, but it has very different properties.  Technically, it is a 1 dimensional object (it only has a length associated with it), whereas rows, columns, and matrices are 2D objects (they have both row and column dimensions).\n",
    "\n",
    "Let's say we wanted to store a \"2D\" set of information in lists; we would do so by constructing a list of lists:"
   ]
  },
  {
   "cell_type": "code",
   "execution_count": 3,
   "metadata": {},
   "outputs": [],
   "source": [
    "# L2 = [[1, 2, 3, 4, 5], [6, 7, 8, 9, 10]]"
   ]
  },
  {
   "cell_type": "markdown",
   "metadata": {},
   "source": [
    "If we print that list, we find it *looks* like a matrix:"
   ]
  },
  {
   "cell_type": "code",
   "execution_count": 4,
   "metadata": {},
   "outputs": [],
   "source": [
    "# print(L2)"
   ]
  },
  {
   "cell_type": "markdown",
   "metadata": {},
   "source": [
    "However, if we ask for the length of that list, we find that it is only 2 elements long:"
   ]
  },
  {
   "cell_type": "code",
   "execution_count": 5,
   "metadata": {},
   "outputs": [],
   "source": [
    "# len(L2)"
   ]
  },
  {
   "cell_type": "markdown",
   "metadata": {},
   "source": [
    "It is **not** a 2x5 matrix, and if we tried to index it like a matrix (row, column), we get an error:"
   ]
  },
  {
   "cell_type": "code",
   "execution_count": 6,
   "metadata": {},
   "outputs": [],
   "source": [
    "# L2[1,1]"
   ]
  },
  {
   "cell_type": "markdown",
   "metadata": {},
   "source": [
    "If we wanted to access information in that list, we have to remember that it is not a matrix, but a list of lists...so if I wanted to recall the number 5, for example, from L2, that is not indexed as:\n",
    "\n",
    "```python\n",
    "L2[0,4]  #5th column in first row of L2\n",
    "```\n",
    "    \n",
    "As you might do in Matlab; rather, it is indexed as:\n",
    "\n",
    "```python\n",
    "L2[0][4] #5th element in first list of L2\n",
    "```"
   ]
  },
  {
   "cell_type": "code",
   "execution_count": 7,
   "metadata": {},
   "outputs": [],
   "source": [
    "# L2[0][4]"
   ]
  },
  {
   "cell_type": "markdown",
   "metadata": {},
   "source": [
    "\n",
    "<div class=\"alert alert-block alert-warning\">\n",
    "<b>The moral of the story:</b> Lists are not matrices, and they do not index or behave like matrices.\n",
    "</div>"
   ]
  },
  {
   "cell_type": "markdown",
   "metadata": {},
   "source": [
    "#### Creating large lists with the range command\n",
    "\n",
    "If we want to create a large list, such as the full set of integers between 1 and 50, we generally won't type it out.  Instead, we'll pass the `range()` function into the `list()` constructor.  The basic syntax of range is:\n",
    "\n",
    "```python\n",
    "range(start, stop+1, step size)\n",
    "```\n",
    "\n",
    "So for this example:"
   ]
  },
  {
   "cell_type": "code",
   "execution_count": 8,
   "metadata": {},
   "outputs": [],
   "source": [
    "# L = list(range(1, 51, 1))\n",
    "# print(L)"
   ]
  },
  {
   "cell_type": "markdown",
   "metadata": {},
   "source": [
    "### Numpy Arrays\n",
    "\n",
    "If we want a matrix like environment (and we'll see some reasons for this below), this is best handled in Python using numpy arrays.  This is not in base Pyton -- we have to import the numpy package to gain access to numpy arrays.    \n",
    "\n",
    "<div class=\"alert alert-block alert-info\">\n",
    "<b>Aliasing:</b> The cell below imports the package \"numpy\" under the alias \"np.\"  So anywhere we'd normally call the package using \"numpy,\" we can replace that with \"np\" instead.\n",
    "</div>"
   ]
  },
  {
   "cell_type": "code",
   "execution_count": 9,
   "metadata": {},
   "outputs": [],
   "source": [
    "# import numpy as np"
   ]
  },
  {
   "cell_type": "markdown",
   "metadata": {},
   "source": [
    "#### Making a numpy array\n",
    "\n",
    "We create numpy arrays as in the following example.  Here, we create a 1D numpy array that contains the integers 1 to 5 (similar to the list above). The way numpy arrays are created is that we actually pass a list into the array constructor. It is going to be very important to remember this when we create 2D arrays (similar to a matrix) or higher dimensional arrays."
   ]
  },
  {
   "cell_type": "code",
   "execution_count": 10,
   "metadata": {},
   "outputs": [],
   "source": [
    "# A1 = np.array([1, 2, 3, 4, 5]) #equivalent to np.array(L1)\n",
    "# %whos\n",
    "# A1[0]"
   ]
  },
  {
   "cell_type": "markdown",
   "metadata": {},
   "source": [
    "#### Examining the numpy array\n",
    "\n",
    "Let's print that array and check it's properties and dimensions; we'll compare it to the analogous list and consider some of the differences."
   ]
  },
  {
   "cell_type": "code",
   "execution_count": 11,
   "metadata": {},
   "outputs": [],
   "source": [
    "# print(L1)\n",
    "# print(len(L1))\n",
    "# print(type(L1))\n",
    "# print()\n",
    "# print(A1)\n",
    "# print(len(A1))\n",
    "# print(type(A1))"
   ]
  },
  {
   "cell_type": "markdown",
   "metadata": {},
   "source": [
    "#### Numpy arrays have a lot of useful features built into them\n",
    "\n",
    "Looking at numpy arrays, we can see that they have a lot more attributes than lists do; many of these are useful in mathematics, statistics, and engineering.  We can also use them to assess the size and shape of our arrays."
   ]
  },
  {
   "cell_type": "code",
   "execution_count": 12,
   "metadata": {},
   "outputs": [],
   "source": [
    "# dir(A1)\n",
    "# print(A1.max())\n",
    "# print(A1.min())\n",
    "# print(A1.size)\n",
    "# print(A1.shape)\n",
    "# print(A1.ndim)"
   ]
  },
  {
   "cell_type": "markdown",
   "metadata": {},
   "source": [
    "#### 2D and nD Arrays\n",
    "\n",
    "With numpy arrays, we can actually create 2D or higher dimensional structures (3D, 4D, etc.)  We'll mostly stick with 1D and 2D in CEN 587.  For example, let's recreate that list of lists above as a numpy array using the array constructor.\n",
    "\n",
    "The key thing to remember when you are creating a 2D array is that you still use the basic np.array() constructor syntax:\n",
    "\n",
    "```python\n",
    "np.array([])\n",
    "```\n",
    "\n",
    "But **every row in the array should be entered into the np.array() constructor as a list**.\n",
    "\n",
    "This is implemented below. If you look closely at this, you'll see that the first \"element\" in that array is the list [1, 2, 3, 4, 5], and the second element is the list [6, 7, 8, 9, 10].  These \"elements\" in a numpy array correspond to rows in a matrix, so when you're creating a matrix, you enter each row as a separate list.  Each list should be separated by a comma."
   ]
  },
  {
   "cell_type": "code",
   "execution_count": 13,
   "metadata": {},
   "outputs": [],
   "source": [
    "# A2 = np.array([[1, 2, 3, 4, 5], [6, 7, 8, 9, 10]]) #equivalent to np.array(L2)"
   ]
  },
  {
   "cell_type": "markdown",
   "metadata": {},
   "source": [
    "Now we'll look at that array and some of its associated properties and dimensions:"
   ]
  },
  {
   "cell_type": "code",
   "execution_count": 14,
   "metadata": {},
   "outputs": [],
   "source": [
    "# print(L2)\n",
    "# print(len(L2))\n",
    "# print(type(L2))\n",
    "# print()\n",
    "\n",
    "# print(A2)\n",
    "# print(len(A2))\n",
    "# print(type(A2))\n",
    "# print(A2.size)\n",
    "# print(A2.shape)\n",
    "# print(A2.ndim)"
   ]
  },
  {
   "cell_type": "markdown",
   "metadata": {},
   "source": [
    "#### Indexing in numpy arrays\n",
    "\n",
    "With a numpy array, we have the option of indexing it as we would a matrix using [row, column] indexing, so, with this numpy array, if I wanted to grab the fifth column in the first row, I can do using matrix-style, [row, column]:\n",
    "\n",
    "    A2[0,4]  #5th column in first row\n",
    "    \n",
    "ND arrays also support list-type indexing:\n",
    "\n",
    "    A2[0][4] #5th element in first element\n",
    "\n",
    "So: a numpy array has size, shape, and index options that are similar to what we are probably used to with Matlab matrices.  Lists do not translate directly to matrix format."
   ]
  },
  {
   "cell_type": "code",
   "execution_count": 15,
   "metadata": {},
   "outputs": [],
   "source": [
    "# print(A2[0,4])  #5th column in first row\n",
    "# print(A2[0][4]) #5th element in first element"
   ]
  },
  {
   "cell_type": "markdown",
   "metadata": {},
   "source": [
    "#### 1D arrays vs. Rows and Columns\n",
    "\n",
    "If you are coming from a Matlab background, you are used to thinking of \"vectors\" of numbers or entries as either rows (horizontal set of values) or columns (vertical set of values).  It is important to remember that rows and columns are 2-dimensional structures -- they both have a length (number of rows) and width (number of columns) associated with them. Specifically, a column is m rows x 1 column...and a row is 1 row x n columns.  **These are 2D structures** and they have the corresponding shapes associated with them. Whereas Matlab creates rows and columns by default using brackets [], spaces, or semicolons, Python is slightly different.\n",
    "\n",
    "Let's go back to our original set of integers from 1 to 5.  If I create a numpy array and print its values as well as its dimensions and shape, we will find that it is a true 1 dimensional structure.  It is a \"line\" of values, and it is neither a row or column in that it has no horizontal or vertical orientation associated with it.  This is what the somewhat strange notation (5,) communicates to us.  There is no 2nd dimension."
   ]
  },
  {
   "cell_type": "code",
   "execution_count": 16,
   "metadata": {},
   "outputs": [],
   "source": [
    "# A1 = np.array([1, 2, 3, 4, 5])\n",
    "# print(A1)\n",
    "# print(A1.ndim)\n",
    "# print(A1.shape)"
   ]
  },
  {
   "cell_type": "markdown",
   "metadata": {},
   "source": [
    "Usually, we'll be fine working with 1D arrays.  They will typically behave either as a row or a column depending on context (if we need them to).  If we ever specifically need to create a row or a column, we have to deliberately create a 2D array.  For example, recreating that 1D array as a row looks is implemented in the cell below. Look at it closely and you'll see that we're still passing a list into the `np.array()` constructor with `[]`, and the first element in that list is another list enclosed in an additional set of `[]`.  This is how you create 2D arrays in Python with numpy arrays.\n",
    "\n",
    "We'll also print important aspects as usual:"
   ]
  },
  {
   "cell_type": "code",
   "execution_count": 17,
   "metadata": {},
   "outputs": [],
   "source": [
    "# R1 = np.array([[1, 2, 3, 4, 5]])\n",
    "# print(R1)\n",
    "# print(R1.shape)\n",
    "# print(R1.ndim)"
   ]
  },
  {
   "cell_type": "markdown",
   "metadata": {},
   "source": [
    "Now, you see that we have a true row of shape (1, 5), i.e., 1 row and 5 columns."
   ]
  },
  {
   "cell_type": "markdown",
   "metadata": {},
   "source": [
    "In contrast, if we really need a column, we would have to create it as in the cell below (again, as a 2D array). Again, you'll notice that we're passing a list into an `np.array()` constructor using a set of values enclosed in `[]`.  In this case, each element in that list is also a separate list enclosed in brackets `[]`, and I've created several rows by entering every value as its own list separated by commas.  With numpy arrays, each new \"list\" separated by commas creates a new row, so in this example, we've made a 2D column with 5 rows."
   ]
  },
  {
   "cell_type": "code",
   "execution_count": 18,
   "metadata": {},
   "outputs": [],
   "source": [
    "# C1 = np.array([[1], [2], [3], [4], [5]])\n",
    "# print(C1)\n",
    "# print(C1.ndim)\n",
    "# print(C1.shape)"
   ]
  },
  {
   "cell_type": "markdown",
   "metadata": {},
   "source": [
    "More often than not, we only need to work with 1D arrays and matrices, but it is important to understand what these shapes mean.  I found myself initially very confused by 1D arrays when I switched from Matlab to Python, so I thought the explanation was worthwhile.  If I run into an occasion where we actually need a row or a column, we'll discuss it.  Most of the time, 1D numpy arrays will suffice where we think we need a row or a column."
   ]
  },
  {
   "cell_type": "markdown",
   "metadata": {},
   "source": [
    "#### Tools for creating large numpy arrays\n",
    "\n",
    "We want to create a 1D numpy array, A, that has the numbers 1 through 50 in it. We can do this in at least three ways:\n",
    "\n",
    "Write out the integers 1 to 50 separated by commas in an np.array constructor (not recommended).\n",
    "\n",
    "```python\n",
    "A = np.array([1, 2, 3, 4, 5, ... , 48, 49, 50])\n",
    "```\n",
    "\n",
    "Use `np.arange()` (good option, can be flaky with non-integer step sizes).\n",
    "\n",
    "```python\n",
    "A = np.arange(start, stop+1, step size) #same as np.array(range(start, stop+1, step size)) for int  \n",
    "```\n",
    "  \n",
    "Use `np.linspace()` to construct the array (returns floats; usually what we want; probably most useful option).\n",
    "\n",
    "```python\n",
    "A = np.linspace(start, stop, number of elements in collection)\n",
    "\n",
    "```"
   ]
  },
  {
   "cell_type": "code",
   "execution_count": 19,
   "metadata": {},
   "outputs": [],
   "source": [
    "# A = np.linspace(1, 50, 50)\n",
    "# A = np.arange(1, 51, 1) #Roughly equivalent to np.linspace(1, 50, 50)\n",
    "# A = np.array(range(1, 51, 1)) #equivalent to np.arange(1, 51, 1)\n",
    "# A = np.array(L) #effectively the same as np.arange(1, 51, 1) since we have list L created above"
   ]
  },
  {
   "cell_type": "markdown",
   "metadata": {},
   "source": [
    "### Lists vs. arrays in practice (math!)\n",
    "\n",
    "As a simple demonstration, let's just try a few basic math operations on our 50 element array, A, and our 50 element list, L."
   ]
  },
  {
   "cell_type": "code",
   "execution_count": 20,
   "metadata": {},
   "outputs": [],
   "source": [
    "# A + 5\n",
    "# L + 5\n",
    "# A*5\n",
    "# L*5\n",
    "# A**2  #A squared\n",
    "# L**2  #L squared"
   ]
  },
  {
   "cell_type": "markdown",
   "metadata": {},
   "source": [
    "Now we'll create a second 1D array, B, that has the numbers 2 through 100 in increments of 2."
   ]
  },
  {
   "cell_type": "code",
   "execution_count": 21,
   "metadata": {},
   "outputs": [],
   "source": [
    "# B = np.linspace(2, 100, 50)"
   ]
  },
  {
   "cell_type": "markdown",
   "metadata": {},
   "source": [
    "#### Element-wise calculations are easy with arrays\n",
    "\n",
    "Let's take advange of element-wise operations (broadcasting) in numpy arrays to:\n",
    "\n",
    "1. Multiply each element in A by each element in B \n",
    "2. Raise each element in A to the third power\n",
    "3. Find the exponential of the cube root of each element in A\n",
    "4. Divide each element in B by each element in A\n",
    "\n",
    "Each should give a 50 element vector (why?)"
   ]
  },
  {
   "cell_type": "code",
   "execution_count": 22,
   "metadata": {},
   "outputs": [],
   "source": [
    "# A*B\n",
    "# A**3\n",
    "# np.exp(A**(1/3))\n",
    "# B/A"
   ]
  },
  {
   "cell_type": "markdown",
   "metadata": {},
   "source": [
    "#### Basic Matrix Operations\n",
    "\n",
    "Now we'll get a look at Matrix operations in Python. To perform a matrix operation on something, we usually need a 2D array, so we'll use our rows and columns for this.\n",
    "\n",
    "1. Look at the difference between C1 and its transpose. #use np.transpose(C1) or C1.T\n",
    "2. Look at the difference between R1 and its transpose. #use np.transpose(R1) or R1.T\n",
    "3. Multiply C1 by C1$^T$ - this should give a 5x5 array (why?) #use C1\\@C.T\n",
    "4. Multiply R1 by R1$^T$ - this should give a 1x1 array (why?)       #use R1\\@R.T"
   ]
  },
  {
   "cell_type": "code",
   "execution_count": 23,
   "metadata": {},
   "outputs": [],
   "source": [
    "# print(C1, '\\n') #'\\n' adds a new line, effectively this is a \"return\" command\n",
    "# print(C1.T, '\\n')\n",
    "# print(R1, '\\n')\n",
    "# print(R1.T, '\\n')\n",
    "# print(C1@C1.T, '\\n')\n",
    "# print(R1@R1.T)"
   ]
  },
  {
   "cell_type": "markdown",
   "metadata": {},
   "source": [
    "#### Introducing np.zeros and np.ones\n",
    "\n",
    "You can use np.zeros to create an array of zeros; here, we'll create a 3x5 array of zeros.\n",
    "\n",
    "```python\n",
    "np.zeros(shape) #Shape should be a tuple (immutable list, give or take).\n",
    "```\n",
    "\n",
    "<div class=\"alert alert-block alert-warning\">\n",
    "<b>Important:</b> The shape of an array in python is specified as some type of array in which the first element is the first dimension (rows), the second element is the second dimension (columns), the third element is the third dimension, and so forth. In this example, we could specify a 3 row by 5 column array as having the correct shape using a tuple <code>(3, 5)</code>; a list <code>[3, 5]</code>; or an nd array using numpy, <code>np.array([3, 5])</code>. Usually I use a tuple for this.  \n",
    "</div>\n",
    "\n",
    "Similarly, you can use `np.ones` to create an array of ones."
   ]
  },
  {
   "cell_type": "code",
   "execution_count": 24,
   "metadata": {},
   "outputs": [],
   "source": [
    "# D = np.zeros((3,5))\n",
    "# O = np.ones((3,5))\n",
    "\n",
    "# print(D, '\\n\\n', O) #'\\n\\n' is a string that is basically saying press enter twice"
   ]
  },
  {
   "cell_type": "code",
   "execution_count": 25,
   "metadata": {},
   "outputs": [],
   "source": [
    "# D.size\n",
    "# D.shape\n",
    "# rows, cols = D.shape #note that D.shape returns a tuple, i.e., \"multiple returns\"."
   ]
  },
  {
   "cell_type": "markdown",
   "metadata": {},
   "source": [
    "#### Basic for loops\n",
    "\n",
    "1. Use a for loop to print all of the values in C1\n",
    "2. Use a for loop to fill in the values of D such that each element in D is equal to the sum of it's (i,j) index pair."
   ]
  },
  {
   "cell_type": "code",
   "execution_count": 26,
   "metadata": {},
   "outputs": [],
   "source": [
    "#A simple for loop that runs through all the values in C1\n",
    "\n",
    "# for value in C1:\n",
    "#     print(value)"
   ]
  },
  {
   "cell_type": "code",
   "execution_count": 27,
   "metadata": {},
   "outputs": [],
   "source": [
    "# #A for loop with some bells and whistles.  It runs over two indices, i and j, in a nested loop.\n",
    "# #It prints information on each pass and also does a calculation and stores the result in D\n",
    "\n",
    "# for i in range(0, rows):\n",
    "#     print(f'\\nThis is pass number {i+1} through the outer loop')\n",
    "#     for j in range(0, cols):\n",
    "#         print(f'i = {i}, j = {j}, i+j = {i+j}')\n",
    "#         D[i,j] = i + j\n",
    "# print('\\n', D)"
   ]
  },
  {
   "cell_type": "markdown",
   "metadata": {},
   "source": [
    "#### Finding the determinant (matrix must be square)\n",
    "\n",
    "Find the determinant of:\n",
    "\n",
    "$$\n",
    "    E = \\begin{bmatrix}\n",
    "        1 & 7 & 9 \\\\\n",
    "        21 & -4 & 17 \\\\\n",
    "        -6 & 22 & 6\\\\\n",
    "        \\end{bmatrix}\n",
    "$$"
   ]
  },
  {
   "cell_type": "code",
   "execution_count": 28,
   "metadata": {},
   "outputs": [],
   "source": [
    "# E = np.array([[1,7,9],[21,-4,17],[-6,22,6]])\n",
    "# print(E)\n",
    "# np.linalg.det(E)"
   ]
  },
  {
   "cell_type": "markdown",
   "metadata": {},
   "source": [
    "#### Matrix inverse in numpy\n",
    "\n",
    "Find the inverse of $E$"
   ]
  },
  {
   "cell_type": "code",
   "execution_count": 29,
   "metadata": {},
   "outputs": [],
   "source": [
    "# np.linalg.inv(E)"
   ]
  },
  {
   "cell_type": "markdown",
   "metadata": {},
   "source": [
    "## Functions and graphing\n",
    "\n",
    "This section covers some basic function definitions and plotting tools using pyplot\n",
    "\n",
    "### Long form function definition\n",
    "\n",
    "Let's create a function that accepts one input using a conventional function declaration.\n",
    "\n",
    "$$ y(x) = x^2$$\n",
    "\n",
    "Plot y(x) on the domain $x = [-10, 10]$; add labels for x and y axis."
   ]
  },
  {
   "cell_type": "code",
   "execution_count": 30,
   "metadata": {},
   "outputs": [],
   "source": [
    "# def y(x):\n",
    "#     y = x**2\n",
    "#     return y"
   ]
  },
  {
   "cell_type": "code",
   "execution_count": 31,
   "metadata": {},
   "outputs": [],
   "source": [
    "# y(10)"
   ]
  },
  {
   "cell_type": "code",
   "execution_count": 32,
   "metadata": {},
   "outputs": [],
   "source": [
    "# x = np.linspace(-10, 10, 100)"
   ]
  },
  {
   "cell_type": "code",
   "execution_count": 33,
   "metadata": {},
   "outputs": [],
   "source": [
    "# import matplotlib.pyplot as plt"
   ]
  },
  {
   "cell_type": "code",
   "execution_count": 34,
   "metadata": {},
   "outputs": [],
   "source": [
    "# plt.plot(x, y(x))"
   ]
  },
  {
   "cell_type": "markdown",
   "metadata": {},
   "source": [
    "### A multivariate function using a lambda function definition\n",
    "\n",
    "Now we'll create a function that accepts two inputs; here, we'll use an inline or anonymous function syntax.\n",
    "\n",
    "$$ f(x,y) = \\sin(x) + \\cos(y) $$\n",
    "\n",
    "What is the value of f at x = 10, y = 7?\n"
   ]
  },
  {
   "cell_type": "code",
   "execution_count": 35,
   "metadata": {},
   "outputs": [],
   "source": [
    "# f = lambda x,y: np.sin(x) + np.cos(y)\n",
    "# f(10, 7)"
   ]
  },
  {
   "cell_type": "markdown",
   "metadata": {},
   "source": [
    "#### 3D plotting syntax\n",
    "\n",
    "Create a 3D plot of the surface on the domain $x = [-10, 10]$ and $y = [-10,10]$; add labels and title."
   ]
  },
  {
   "cell_type": "code",
   "execution_count": 36,
   "metadata": {},
   "outputs": [],
   "source": [
    "# fig, ax = plt.subplots(subplot_kw={\"projection\": \"3d\"})\n",
    "\n",
    "# #Data\n",
    "# x = np.linspace(-10, 10, 100)\n",
    "# y = np.linspace(-10, 10, 100)\n",
    "# X, Y = np.meshgrid(x, y) #we're making a surface plot, so we create a grid of (x,y) pairs\n",
    "# Z = f(X,Y)  #generate the Z data on the meshgrid (X,Y) by evaluating f at each XY pair.\n",
    "\n",
    "# #Plot the surface.\n",
    "# surf = ax.plot_surface(X, Y, Z)\n",
    "# plt.xlabel('X')\n",
    "# plt.ylabel('Y')\n",
    "# plt.title('Z values vs. X and Y')\n",
    "# plt.show()"
   ]
  },
  {
   "cell_type": "markdown",
   "metadata": {},
   "source": [
    "### Multiple arguments, and multiple returns\n",
    "\n",
    "Now, let's create a function, $g(x,t)$, that accepts multiple inputs and returns multiple outputs - value(s) for y and values for z as a function of $(x,t)$.  We can look at this as a system of functions\n",
    "\n",
    "$$ y(x,t) = x^2t \\\\\n",
    "   z(x,t) = x\\cos(t)$$\n",
    "   \n",
    "Calculate the values of y and z at x = 10, t = 7."
   ]
  },
  {
   "cell_type": "code",
   "execution_count": 37,
   "metadata": {},
   "outputs": [],
   "source": [
    "# def g1(x,t):\n",
    "#     y = x**2*t\n",
    "#     z = x*np.cos(t)\n",
    "#     return y, z #this will return a tuple of (y, z) by default. \n",
    "#                 #A tuple is declared with and indicated by parentheses (). \n",
    "#                 #A tuple is an immutable array."
   ]
  },
  {
   "cell_type": "code",
   "execution_count": 38,
   "metadata": {},
   "outputs": [],
   "source": [
    "# print(g1(10, 7), '\\n')\n",
    "\n",
    "# y, z = g1(10, 7) #when I have multiple returns, I can bind them to individual variables this way.\n",
    "# print(f'y = {y}, z = {z}')"
   ]
  },
  {
   "cell_type": "markdown",
   "metadata": {},
   "source": [
    "#### How about a contour plot?\n",
    "\n",
    "Use the function $g(x,t)$ to generate values for both $y$ and $z$ on the domain $x = [0, 10]$ and $t = [0, 10]$; create a contour plot for $y(x,t)$ and $z(x,t)$."
   ]
  },
  {
   "cell_type": "code",
   "execution_count": 39,
   "metadata": {},
   "outputs": [],
   "source": [
    "# x = np.linspace(1,10,50)\n",
    "# t = np.linspace(1,10,50)\n",
    "# [X, T] = np.meshgrid(x,t)\n",
    "# Y, Z = g1(X,T)\n",
    "\n",
    "# plt.figure()\n",
    "# plt.contour(X, T, Z, levels = 25)\n",
    "# plt.colorbar()\n",
    "\n",
    "# plt.figure()\n",
    "# plt.contourf(X, T, Y, levels = 25)\n",
    "# plt.colorbar()\n",
    "\n",
    "# plt.show()"
   ]
  },
  {
   "cell_type": "markdown",
   "metadata": {},
   "source": [
    "## You can create very complex functions...\n",
    "\n",
    "Let's add some complexity to that same function $g(x,t)$.  It still will take two inputs $(x,t)$, but let's add to the outputs.  Let's have it return an 3x3 matrix of zeros; a 5x5 matrix of ones; and a character array that says IT'S A TRAP! \n",
    "\n",
    "Print the 5 outputs for the $(x,t)$ input pair $(1,1)$."
   ]
  },
  {
   "cell_type": "code",
   "execution_count": 40,
   "metadata": {},
   "outputs": [],
   "source": [
    "# def g2(x,t):\n",
    "#     y = x**2*t\n",
    "#     z = x*np.cos(t)\n",
    "#     m1 = np.zeros((3,3))\n",
    "#     m2 = np.ones((5,5))\n",
    "#     s1 = \"IT'S A TRAP\"\n",
    "#     return y, z, m1, m2, s1\n",
    "\n",
    "# display(g2(1,1))\n",
    "\n",
    "# y, z, m1, m2, s1 = g2(1,1)\n",
    "\n",
    "# print(y, '\\n')\n",
    "# print(z, '\\n')\n",
    "# print(m1, '\\n')\n",
    "# print(m2, '\\n')\n",
    "# print(s1, '\\n')"
   ]
  }
 ],
 "metadata": {
  "kernelspec": {
   "display_name": "Python 3 (ipykernel)",
   "language": "python",
   "name": "python3"
  },
  "language_info": {
   "codemirror_mode": {
    "name": "ipython",
    "version": 3
   },
   "file_extension": ".py",
   "mimetype": "text/x-python",
   "name": "python",
   "nbconvert_exporter": "python",
   "pygments_lexer": "ipython3",
   "version": "3.10.9"
  }
 },
 "nbformat": 4,
 "nbformat_minor": 4
}