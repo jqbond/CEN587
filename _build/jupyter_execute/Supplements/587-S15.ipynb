{
 "cells": [
  {
   "cell_type": "markdown",
   "metadata": {},
   "source": [
    "# Quadrature \n",
    "\n",
    "You may frequently find yourself in a situation where you need to do one of two things:\n",
    "\n",
    "1. Solve a definite integral for which the analytical solution is either impossible or sufficiently tedious, difficult, and error prone that it may as well be impossible. This is a good application for numerical integration using something like Gaussian quadrature.\n",
    "2. Integrate discrete data points; this is typically done using quadrature methods like the trapezoidal rule or Simpson's rule.\n",
    "\n",
    "These are built into most programming languages, and we should at least know how to use them when we need them. When you solve a definite integral on your calculator, they are using some version of quadrature methods. We'll keep this exercise pretty brief.\n",
    "\n",
    "## Gaussian Quadrature\n",
    "\n",
    "Let's say we want to solve the following definite integral:\n",
    "\n",
    "$$A = \\int_0^{10} x^2 dx$$\n",
    "\n",
    "Analytically, we know that the solution is:\n",
    "\n",
    "$$\\frac{x^3}{3} \\bigg|_0^{10} = \\frac{10^3}{3} - \\frac{0^3}{3} = 333.33$$\n",
    "\n",
    "We can also integrate this using gaussian quadrature, which provides a numerical approximation. We will not go into detail about how gaussian quadrature works, but if you're interested, it is basically done by calculating the function value at very specific locations of the independent variable, multiplying those values by very specific weight factors, and summing up all of the results:\n",
    "\n",
    "https://en.wikipedia.org/wiki/Gaussian_quadrature\n",
    "\n",
    "In Python, easy gaussian quadrature is available in Scipy, specifically, `scipy.integrate.quadrature`. Read more about it here:\n",
    "\n",
    "https://docs.scipy.org/doc/scipy/reference/generated/scipy.integrate.quadrature.html"
   ]
  },
  {
   "cell_type": "code",
   "execution_count": 1,
   "metadata": {},
   "outputs": [],
   "source": [
    "from scipy import integrate\n",
    "import matplotlib.pyplot as plt\n",
    "import numpy as np"
   ]
  },
  {
   "cell_type": "markdown",
   "metadata": {},
   "source": [
    "### Defining the integrand for use with `integrate.quadrature()`\n",
    "\n",
    "The basic usage is that we first define the integrand as a function (the integrand is just what we are going to integrate). "
   ]
  },
  {
   "cell_type": "code",
   "execution_count": 2,
   "metadata": {},
   "outputs": [],
   "source": [
    "def integrand(x):\n",
    "    return x**2"
   ]
  },
  {
   "cell_type": "markdown",
   "metadata": {},
   "source": [
    "### Solving the definite integral using `integrate.quadrature()`\n",
    "\n",
    "Then we can integrate directly with quadgk, which the basic syntax:\n",
    "\n",
    "```python\n",
    "integral, error = integrate.quadrature(function, lower limit, upper limit)\n",
    "```\n",
    "\n",
    "It returns both the value of the integral and the error associated with the numerical integration. For this example:"
   ]
  },
  {
   "cell_type": "code",
   "execution_count": 3,
   "metadata": {},
   "outputs": [
    {
     "name": "stdout",
     "output_type": "stream",
     "text": [
      "333.33333333333326 1.1368683772161603e-13\n"
     ]
    },
    {
     "name": "stderr",
     "output_type": "stream",
     "text": [
      "C:\\Users\\jqbon\\AppData\\Local\\Temp\\ipykernel_9536\\446370.py:1: DeprecationWarning: `scipy.integrate.quadrature` is deprecated as of SciPy 1.12.0and will be removed in SciPy 1.15.0. Please use`scipy.integrate.quad` instead.\n",
      "  int_val, err_val = integrate.quadrature(integrand, 0, 10)\n"
     ]
    }
   ],
   "source": [
    "int_val, err_val = integrate.quadrature(integrand, 0, 10)\n",
    "print(int_val, err_val)"
   ]
  },
  {
   "cell_type": "markdown",
   "metadata": {},
   "source": [
    "## Integrating discrete data: Trapezoidal and Simpson's\n",
    "\n",
    "Simpson's rule and the trapezoidal rule work for discrete sets of data that we need to integrate.  So, for example, if I just calculated some discrete values of $y = x^2$ on the domain $x = [0,10]$:"
   ]
  },
  {
   "cell_type": "code",
   "execution_count": 4,
   "metadata": {},
   "outputs": [
    {
     "data": {
      "image/png": "[encoded data removed]",
      "text/plain": [
       "<Figure size 500x500 with 1 Axes>"
      ]
     },
     "metadata": {},
     "output_type": "display_data"
    }
   ],
   "source": [
    "x = np.linspace(0, 10, 15)\n",
    "y = x**2    \n",
    "\n",
    "plt.figure(1, figsize = (5, 5))\n",
    "plt.scatter(x, y, marker = 'o', color = 'none', edgecolor = 'black')\n",
    "plt.xlim(0, 12)\n",
    "plt.ylim(0, 120)\n",
    "plt.xlabel('X')\n",
    "plt.ylabel('Y')\n",
    "plt.show()"
   ]
  },
  {
   "cell_type": "markdown",
   "metadata": {},
   "source": [
    "So let's pretend we don't know that data was generated using the function $y = x^2$, and we just wanted to integrate it based on the discrete values of x and y that we have in our data set.  We would use either the trapezoidal rule or Simpson's rule.  Simpson's and Trapezoidal rules are both available in Python through the Scipy package.\n",
    "\n",
    "https://docs.scipy.org/doc/scipy/reference/generated/scipy.integrate.trapezoid.html\n",
    "\n",
    "https://docs.scipy.org/doc/scipy/reference/generated/scipy.integrate.simpson.html"
   ]
  },
  {
   "cell_type": "markdown",
   "metadata": {},
   "source": [
    "### Trapezoidal Rule\n",
    "\n",
    "If I wanted to calculate an approximate integral using the trapezoidal rule, would do so as in the following cell; this will return the approximate integrated area of y(x)dx over the domain of x that we've sampled."
   ]
  },
  {
   "cell_type": "code",
   "execution_count": 5,
   "metadata": {},
   "outputs": [
    {
     "data": {
      "text/plain": [
       "334.1836734693877"
      ]
     },
     "execution_count": 5,
     "metadata": {},
     "output_type": "execute_result"
    }
   ],
   "source": [
    "integrate.trapezoid(y, x)"
   ]
  },
  {
   "cell_type": "markdown",
   "metadata": {},
   "source": [
    "### Simpson's Rule\n",
    "\n",
    "Alternatively, the analogous integration using Simpson's rule:"
   ]
  },
  {
   "cell_type": "code",
   "execution_count": 6,
   "metadata": {},
   "outputs": [
    {
     "name": "stderr",
     "output_type": "stream",
     "text": [
      "C:\\Users\\jqbon\\AppData\\Local\\Temp\\ipykernel_9536\\3852435855.py:1: DeprecationWarning: You are passing x=[ 0.          0.71428571  1.42857143  2.14285714  2.85714286  3.57142857\n",
      "  4.28571429  5.          5.71428571  6.42857143  7.14285714  7.85714286\n",
      "  8.57142857  9.28571429 10.        ] as a positional argument. Please change your invocation to use keyword arguments. From SciPy 1.14, passing these as positional arguments will result in an error.\n",
      "  integrate.simpson(y, x)\n"
     ]
    },
    {
     "data": {
      "text/plain": [
       "333.33333333333337"
      ]
     },
     "execution_count": 6,
     "metadata": {},
     "output_type": "execute_result"
    }
   ],
   "source": [
    "integrate.simpson(y, x) "
   ]
  },
  {
   "cell_type": "markdown",
   "metadata": {},
   "source": [
    "### Cumulative integration with the trapezoidal rule\n",
    "\n",
    "Finally, we commonly need to know the cumulative value of the integral at each value of the independent variable. This is very common in working with probability or residence time distributions. We can get this using the following syntax, which will only use a trazezoidal rule. You'll see that this generates an array of integral values.  Basically, it keeps a running tab of the integrated area as you move through the set.\n",
    "\n",
    "https://docs.scipy.org/doc/scipy/reference/generated/scipy.integrate.cumulative_trapezoid.html"
   ]
  },
  {
   "cell_type": "code",
   "execution_count": 7,
   "metadata": {},
   "outputs": [
    {
     "data": {
      "image/png": "[encoded data removed]",
      "text/plain": [
       "<Figure size 500x500 with 1 Axes>"
      ]
     },
     "metadata": {},
     "output_type": "display_data"
    }
   ],
   "source": [
    "ctrapz = integrate.cumulative_trapezoid(y, x)\n",
    "\n",
    "plt.figure(1, figsize = (5, 5))\n",
    "plt.plot(x[1:], ctrapz, color = 'black')\n",
    "plt.xlim(0, 10)\n",
    "plt.ylim(0, 350)\n",
    "plt.xlabel('X')\n",
    "plt.ylabel('Area Under y(x)')\n",
    "plt.show()\n"
   ]
  }
 ],
 "metadata": {
  "kernelspec": {
   "display_name": "Python 3 (ipykernel)",
   "language": "python",
   "name": "python3"
  },
  "language_info": {
   "codemirror_mode": {
    "name": "ipython",
    "version": 3
   },
   "file_extension": ".py",
   "mimetype": "text/x-python",
   "name": "python",
   "nbconvert_exporter": "python",
   "pygments_lexer": "ipython3",
   "version": "3.12.3"
  }
 },
 "nbformat": 4,
 "nbformat_minor": 4
}