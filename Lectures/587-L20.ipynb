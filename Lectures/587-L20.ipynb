{
 "cells": [
  {
   "cell_type": "markdown",
   "metadata": {},
   "source": [
    "# Material Balances XI\n",
    "\n",
    "This lecture introduces Levenspiel Plots to compare sizing trends for a single CSTR and PFR for various reaction orders."
   ]
  },
  {
   "cell_type": "code",
   "execution_count": null,
   "metadata": {
    "executionInfo": {
     "elapsed": 126,
     "status": "ok",
     "timestamp": 1633700692097,
     "user": {
      "displayName": "Bowei Liu",
      "photoUrl": "https://lh3.googleusercontent.com/a/default-user=s64",
      "userId": "09481582047933696573"
     },
     "user_tz": 240
    },
    "id": "h9UTaC1vBEif"
   },
   "outputs": [],
   "source": [
    "# import numpy as np\n",
    "# import scipy.optimize as opt\n",
    "# from scipy.integrate import solve_ivp\n",
    "# import matplotlib.pyplot as plt\n",
    "# from scipy.interpolate import interp1d\n",
    "# from scipy.integrate import quadrature\n",
    "# from math import ceil, floor"
   ]
  },
  {
   "cell_type": "markdown",
   "metadata": {},
   "source": [
    "## Levenspiel Plots\n",
    "\n",
    "We're going to take a small break from the usual problem solutions and consider a graphical approach to reactor sizing. It is a pretty old method, but I think it helps to build some useful insight about how reactor size (or time required inside of the reactor) scale with the reaction rate.  It also helps us to visualize the differences between PFR and CSTR reactor sizes required to achieve the exact same conversion level for a given reaction. We will also use these to help to visualize optimal strategies for reactor sequencing when our process involves more than one reactor (and sometimes more than one type of reactor).\n",
    "\n",
    "To begin, we will write material balances on a CSTR and a PFR.  We will only consider these two reactors using Levenspiel plots, but the concepts are fairly general.\n",
    "\n",
    "First, let's establish that we will consider a single, simple, irreversible reaction:\n",
    "\n",
    "$$A \\longrightarrow B$$\n",
    "\n",
    "Second, we will assume that its rate only depends on the concentration of species $A$, that is to say $r = f(C_A)$. More specifically, we will specify that $r \\neq f(C_B)$. \n",
    "\n",
    "Finally, throughout this notebook and the next one (**587-L20** and **587-L21**), we are going to specify that our flow reactors always operate at steady state and that the density of the fluid in the reactor is constant and does not change between the reactor inlet and the reactor outlet. As we have covered extensively, for a flow reactor a steady state, constant density means that the volumetric flowrate is constant between the reactor inlet and reactor outlet.\n",
    "\n",
    "We will not specify a rate law yet as we want to look at some general concepts abour reactor sizing first.\n",
    "\n",
    "### A generic CSTR Balance\n",
    "\n",
    "If we write a balance on species $A$ for a CSTR operating at steady state, we get:\n",
    "\n",
    "$$0 = F_{A,f} - F_A + R_AV$$\n",
    "\n",
    "We really want to consider the size of the reactor in this analysis, so we'll solve this balance for Volume:\n",
    "\n",
    "$$V = \\frac{-(F_{A,f} - F_A)}{R_A}$$\n",
    "\n",
    "For this simple reaction, we know that:\n",
    "\n",
    "$$R_A = -r$$\n",
    "\n",
    "We have to recognize that the rate of reaction will *generally* depend on the fractional conversion of reactant, so I'm actually going to write this to show that functional dependence explicitly:\n",
    "\n",
    "$$R_A = -r \\, (X_A)$$\n",
    "\n",
    "We also can derive the following result from the definition of fractional conversion of $A$ in a flow reactor:\n",
    "\n",
    "$$F_{A,f} - F_A = F_{A,f}X_A$$\n",
    "\n",
    "Substituting those two results into the expression for Volume, we find:\n",
    "\n",
    "$$V = \\frac{F_{A,f}X_A}{r \\, (X_A)}$$\n",
    "\n",
    "The numerator of that expression conceptually represents the extensive change in the quantity of species $A$ per unit time $(\\mathrm{mol \\ time^{-1}})$. The denominator represents the intensive rate of generation/consumption in units of $(\\mathrm{mol \\ time^{-1} \\ volume^{-1}})$. If we divide the quantity of species being consumed per time by the rate at which they are consumed per unit volume, we get the size of the system.\n",
    "\n",
    "### A Generic PFR Balance\n",
    "\n",
    "We start by writing a balance on $A$ in a PFR at steady state:\n",
    "\n",
    "$$\\frac{dF_A}{dV} = R_A$$\n",
    "\n",
    "We express the Flowrate of $A$ as a function of conversion:\n",
    "\n",
    "$$F_A = F_{A,f} - F_{A,f}X_A = F_{A,f} (1 - X_A)$$\n",
    "\n",
    "And we know from the CSTR balance above that:\n",
    "\n",
    "$$R_A = -r \\, (X_A)$$\n",
    "\n",
    "Where, again, the $r \\, (X_A)$ term indicates explicitly that rate is a function of fractional conversion of $A$.  Making these substitutions into the material balance, we get\n",
    "\n",
    "$$\\frac{dX_A}{dV} = \\frac{r \\, (X_A)}{F_{A,f}}$$\n",
    "\n",
    "This equation can be rearranged as shown below:\n",
    "\n",
    "$$dV = \\frac{F_{A,f} \\, dX_A}{r \\, (X_A)}$$\n",
    "\n",
    "If you compare this to the result obtained for CSTR volume, you will see that this is actually a differential analog of the CSTR balance.\n",
    "\n",
    "$$V_\\textrm{CSTR} = \\frac{F_{A,f}X_A}{r \\, (X_A)}$$\n",
    "\n",
    "In a PFR, the balance essentially tells us that the differential change in volume $(dV)$ is equal to the differential quantity of species $A$ converted divided by the intensive rate at which it is converted. If we want to solve for the total PFR volume to compare to the total CSTR volume, we have to integrate the PFR balance:\n",
    "\n",
    "$$\\int_0^{V_\\textrm{PFR}}dV = \\int_0^{X_A}\\frac{F_{A,f} \\, dX_A}{r \\, (X_A)}$$\n",
    "\n",
    "The left hand side is easy to integrate, and we get the result that:\n",
    "\n",
    "$$V_\\textrm{PFR} = \\int_0^{X_A}\\frac{F_{A,f} \\, dX_A}{r \\, (X_A)}$$\n",
    "\n",
    "Again, loosely, the size of the PFR depends on the quantity of species that we are converting divided by the rate at which we convert them.\n",
    "\n",
    "### General Ideas\n",
    "\n",
    "What we see from these equations is that the size of the reactor (whether it is a PFR or a CSTR) scales directly with the quantity of \"stuff\" converted in that reactor, and it scales inversely with the rate of reaction.  \n",
    "\n",
    "In other words, the more \"stuff\" the reactor needs to convert, the larger it needs to be (everything else fixed). Analogously, the faster the reaction occurs (larger r), the smaller the reactor needs to be.  So those are the general things we need to think about when we consider reactor sizes and especially when we compare the performance of CSTRs and PFRs: how much extensive conversion does the reactor need to accomplish, and how quickly does the reaction occur inside of that reactor.\n",
    "\n",
    "The differences between CSTRs and PFRs will depend on the reaction rate, specificially how the reaction rate changes as a function of fractional conversion.  Until we know that relationship, we can't really compare the sizes of these two reactors."
   ]
  },
  {
   "cell_type": "markdown",
   "metadata": {},
   "source": [
    "## A general rate of reaction\n",
    "\n",
    "For this simple reaction:\n",
    "\n",
    "$$A \\longrightarrow B$$\n",
    "\n",
    "We can propose that the rate of reaction scales with the concentration of $A$ in some unknown power law relationship.  Something like:\n",
    "\n",
    "$$r = k{C_A}^\\alpha$$\n",
    "\n",
    "Here $\\alpha$ is an unspecified reaction order (0, 1, -3, 0.5, etc.).  We can express the concentration of $A$ as a function of fractional conversion of $A$ using molar and volumetric flowrates:\n",
    "\n",
    "$$C_A = \\frac{F_A}{Q}$$\n",
    "\n",
    "For a constant density flow reactor (we have made this assumption already):\n",
    "\n",
    "$$C_A = \\frac{F_A}{Q_f}$$\n",
    "\n",
    "And we can express the molar flowrate as a function of conversion:\n",
    "\n",
    "$$C_A = \\frac{F_{A,f}(1 - X_A)}{Q_f}$$\n",
    "\n",
    "We can see that this simplifies to the following (for a constant density flow reactor):\n",
    "\n",
    "$$C_A = C_{A,f} \\, (1 - X_A)$$\n",
    "\n",
    "We can substitute that into our rate expression:\n",
    "\n",
    "$$r = k{C_{A,f}}^\\alpha \\, (1 - X_A)^\\alpha$$\n",
    "\n",
    "Note that this is the rate of reaction as a function of fractional conversion, $r(X_A)$. This is important because it is the quantity that shows up in the solutions for CSTR and PFR volumes shown above.\n",
    "\n",
    "Now with a power law expression, we can consider how rate of reaction changes as a function of fractional conversion.  This really depends on the value of $\\alpha$, specifically, whether it is less than, greater than, or equal to zero. Let's consider these cases for numerical values of k = 1 and $C_{A,f} = 1$.  The rate constant will always have correct units so that we get the reaction rate in dimensions of moles per volume per time. What we'll do next is include this generic rate expression into our generic PFR and CSTR balances.  Then we'll compare PFR and CSTR sizes as a function of fractional conversion, and see how trends change when we vary the reaction order ($\\alpha$).  \n",
    "\n",
    "### A general solution for CSTR volume\n",
    "\n",
    "Recall, our CSTR Balance is given by:\n",
    "\n",
    "$$V_\\textrm{CSTR} = \\frac{F_{A,f}X_A}{r \\, (X_A)}$$\n",
    "\n",
    "So, I'll just write a function that calculates the CSTR Volume for any value of fractional conversion and alpha. Just for illustration of how to use this, we'll calculate the CSTR volume required to achieve a conversion of 50% for a first order reaction \n",
    "\n",
    "**Answer:** $V = 1 \\ \\mathrm{L}$"
   ]
  },
  {
   "cell_type": "code",
   "execution_count": null,
   "metadata": {},
   "outputs": [],
   "source": [
    "α   = 1\n",
    "XA  = 0.5\n",
    "FAf = 1 #mol/min\n",
    "Qf  = 1 #mol/min\n",
    "CAf = 1 #mol/L\n",
    "k   = 1 #1/min\n",
    "CA  = CAf*(1 - XA)\n",
    "r   = k*CA**α\n",
    "V   = FAf*XA/r\n",
    "print(f'For α = {α:3.1f}: \\n XA = {XA:4.2f} at VCSTR = {V:5.3f}L')"
   ]
  },
  {
   "cell_type": "code",
   "execution_count": null,
   "metadata": {},
   "outputs": [],
   "source": [
    "def VCSTR(XA, α):\n",
    "    FAf = 1 #mol/min\n",
    "    Qf  = 1 #mol/min\n",
    "    CAf = 1 #mol/L\n",
    "    k   = 1 #1/min\n",
    "    CA  = CAf*(1 - XA)\n",
    "    r   = k*CA**α\n",
    "    V   = FAf*XA/r\n",
    "    return V"
   ]
  },
  {
   "cell_type": "code",
   "execution_count": null,
   "metadata": {},
   "outputs": [],
   "source": [
    "α_test  = 1.0\n",
    "XA_test = 0.5\n",
    "print(f'For α = {α_test:3.1f}: \\n XA = {XA_test:4.2f} at VCSTR = {VCSTR(XA_test, α_test):5.3f}L')"
   ]
  },
  {
   "cell_type": "code",
   "execution_count": null,
   "metadata": {},
   "outputs": [],
   "source": [
    "order    = 1\n",
    "XAset    = np.linspace(0.001, 0.99, 10)\n",
    "VCSTR(XAset, order)"
   ]
  },
  {
   "cell_type": "markdown",
   "metadata": {},
   "source": [
    "### A general solution for PFR volume\n",
    "\n",
    "Next, we recall the solution for PFR volume:\n",
    "\n",
    "$$V_\\textrm{PFR} = \\int_0^{X_A}\\frac{F_{A,f} \\, dX_A}{r \\, (X_A)}$$\n",
    "\n",
    "We can replace the rate law with the generic function of XA and alpha as above.  We also need to integrate this equation to solve for the PFR volume, but this is straightforward with Gaussian Quadrature. See below; we'll write this as a general function that takes the desired conversion and reaction order as arguments and then solves the corresponding definite integral to find the PFR Volume"
   ]
  },
  {
   "cell_type": "code",
   "execution_count": null,
   "metadata": {},
   "outputs": [],
   "source": [
    "α   = 1\n",
    "XA  = 0.5\n",
    "FAf = 1 #mol/min\n",
    "Qf  = 1 #mol/min\n",
    "CAf = 1 #mol/L\n",
    "k   = 1 #1/min\n",
    "CA  = lambda X: CAf*(1 - X)\n",
    "r   = lambda X: k*CA(X)**α\n",
    "int = lambda X: FAf/r(X)\n",
    "vol, err = quadrature(int, 0, XA)\n",
    "print(f'For α = {α:3.1f}: \\n XA = {XA:4.2f} at VPFR = {vol:5.3f}L')"
   ]
  },
  {
   "cell_type": "code",
   "execution_count": null,
   "metadata": {
    "scrolled": true
   },
   "outputs": [],
   "source": [
    "def VPFR(XA, α):\n",
    "    FAf = 1 #mol/min\n",
    "    Qf  = 1 #mol/min\n",
    "    CAf = 1 #mol/L\n",
    "    k   = 1 #1/min\n",
    "    CA  = lambda X: CAf*(1 - X)\n",
    "    r   = lambda X: k*CA(X)**α \n",
    "    intfun   = lambda X: FAf/r(X)\n",
    "    vol, err = quadrature(intfun, 0, XA)\n",
    "    return vol"
   ]
  },
  {
   "cell_type": "code",
   "execution_count": null,
   "metadata": {},
   "outputs": [],
   "source": [
    "α_test  = 1.0\n",
    "XA_test = 0.5\n",
    "print(f'For α = {α_test:3.1f}: \\n XA = {XA_test:4.2f} at VPFR = {VPFR(XA_test, α_test):5.3f}L')"
   ]
  },
  {
   "cell_type": "code",
   "execution_count": null,
   "metadata": {},
   "outputs": [],
   "source": [
    "order    = 1\n",
    "XAset    = np.linspace(0.001, 0.99, 10)\n",
    "# VPFRset  = VPFR(XAset, order)"
   ]
  },
  {
   "cell_type": "code",
   "execution_count": null,
   "metadata": {},
   "outputs": [],
   "source": [
    "VPFRtemp = np.zeros(len(XAset))\n",
    "for i in range(0, len(XAset), 1):\n",
    "    VPFRtemp[i] = VPFR(XAset[i], order)\n",
    "VPFRtemp"
   ]
  },
  {
   "cell_type": "code",
   "execution_count": null,
   "metadata": {},
   "outputs": [],
   "source": [
    "VPFRtemp = np.zeros(len(XAset))\n",
    "for i, XAvalue in enumerate(XAset):\n",
    "    print(i, XAvalue)\n",
    "    VPFRtemp[i] = VPFR(XAvalue, order)\n",
    "VPFRtemp"
   ]
  },
  {
   "cell_type": "code",
   "execution_count": null,
   "metadata": {},
   "outputs": [],
   "source": [
    "VPFRset  = [VPFR(val, order) for val in XAset] \n",
    "VPFRset"
   ]
  },
  {
   "cell_type": "markdown",
   "metadata": {},
   "source": [
    "### A comparison of CSTR and PFR Volumes for a first order reaction\n",
    "\n",
    "Now that we have those general functions set up, we will compare results for a few different reaction orders. There are a handful of ways we can do this.  For the CSTR, I'll just pass a numpy array of desired conversions into the VCSTR function.  For the PFR, I'll have to use a loop since quadrature won't take an array as an argument (upper limit of integration).  I'll use a list comprehension for this, which is basically a shorthand for loop."
   ]
  },
  {
   "cell_type": "code",
   "execution_count": null,
   "metadata": {},
   "outputs": [],
   "source": [
    "order    = 1\n",
    "XAset    = np.linspace(0.001, 0.99, 200)\n",
    "VCSTRset = VCSTR(XAset, order)\n",
    "VPFRset  = [VPFR(val, order) for val in XAset] \n",
    "\n",
    "#Create and format figure\n",
    "plt.figure(1, figsize = (5,5))\n",
    "plt.semilogy(XAset, VCSTRset, color = 'red', label = 'CSTR')\n",
    "plt.semilogy(XAset, VPFRset,  color = 'blue', label = 'PFR', linestyle = 'dashed')\n",
    "plt.xlim(0, 1)\n",
    "plt.ylim(1e-3, 1000)\n",
    "plt.title(f'Volume Comparison for an order {order} reaction')\n",
    "plt.xlabel('XA', fontsize = 14)\n",
    "plt.ylabel('Volume (L)', fontsize = 14)\n",
    "plt.legend()\n",
    "plt.show()"
   ]
  },
  {
   "cell_type": "markdown",
   "metadata": {},
   "source": [
    "### A comparison of CSTR and PFR Volumes for a zero order reaction"
   ]
  },
  {
   "cell_type": "code",
   "execution_count": null,
   "metadata": {},
   "outputs": [],
   "source": [
    "order = 0\n",
    "XAset = np.linspace(0, 0.9, 100)\n",
    "VCSTRset = VCSTR(XAset, order)\n",
    "templist = [VPFR(val, order) for val in XAset] \n",
    "VPFRset  = np.array(templist)\n",
    "\n",
    "#Create and format figure\n",
    "plt.figure(1, figsize = (5,5))\n",
    "plt.plot(XAset, VCSTRset, color = 'red', label = 'CSTR')\n",
    "plt.plot(XAset, VPFRset,  color = 'blue', label = 'PFR', linestyle = 'dashed')\n",
    "plt.xlim(0, 1)\n",
    "plt.ylim(0, 1)\n",
    "plt.title(f'Volume Comparison for an order {order} reaction')\n",
    "plt.xlabel('XA', fontsize = 14)\n",
    "plt.ylabel('Volume (L)', fontsize = 14)\n",
    "plt.legend()\n",
    "plt.show()"
   ]
  },
  {
   "cell_type": "markdown",
   "metadata": {},
   "source": [
    "### A comparison of CSTR and PFR Volumes for a -1 order reaction"
   ]
  },
  {
   "cell_type": "code",
   "execution_count": null,
   "metadata": {},
   "outputs": [],
   "source": [
    "order = -1\n",
    "XAset = np.linspace(0, 0.9, 100)\n",
    "VCSTRset = VCSTR(XAset, order)\n",
    "templist = [VPFR(val, order) for val in XAset] \n",
    "VPFRset  = np.array(templist)\n",
    "\n",
    "#Create and format figure\n",
    "plt.figure(1, figsize = (5,5))\n",
    "plt.plot(XAset, VCSTRset, color = 'red', label = 'CSTR')\n",
    "plt.plot(XAset, VPFRset,  color = 'blue', label = 'PFR', linestyle = 'dashed')\n",
    "plt.xlim(0, 1)\n",
    "plt.ylim(0, 0.75)\n",
    "plt.yticks(np.arange(0.0, 0.76, 0.15))\n",
    "plt.title(f'Volume Comparison for an order {order} reaction')\n",
    "plt.xlabel('XA', fontsize = 14)\n",
    "plt.ylabel('Volume (L)', fontsize = 14)\n",
    "plt.legend()\n",
    "plt.show()"
   ]
  },
  {
   "cell_type": "markdown",
   "metadata": {},
   "source": [
    "### Summarizing Observations\n",
    "\n",
    "If you completed the Unit 03 Assignment correctly, you should have found the same trends.  For positive order reactions, the PFR will always be smaller than the CSTR.  For negative order reactions, the PFR will always be larger than the CSTR.  For 0 order reactions, the two reactors will have identical volumes. Now we're going to try to figure out why this happens. A good place to start this discussion is with our generic CSTR and PFR balances that are solved for Volume (in general terms):\n",
    "\n",
    "**CSTR Volume**\n",
    "\n",
    "$$V_\\textrm{CSTR} = \\frac{F_{A,f}X_A}{r \\, (X_A)}$$\n",
    "\n",
    "**PFR Volume**\n",
    "\n",
    "$$V_\\textrm{PFR} = \\int_0^{X_A}\\frac{F_{A,f} \\, dX_A}{r \\, (X_A)}$$\n",
    "\n",
    "Looking at those again, we remind ourselves that the size of the reactor will scale directly with the quantity of species A converted and it will scale inversely with the rate at which A is converted.  The numerator term is pretty easy to visualize:\n",
    "\n",
    "$$F_{A,f}X_A$$\n",
    "\n",
    "It represents the quantity of species A consumed (in units of moles per time).  Since $F_{A,f}$ is constant, this quantity only changes in response to changes in the conversion that we want to achieve in that reactor.  As conversion increases, the quantity of species A converted increases.\n",
    "\n",
    "### Rate as a function of conversion\n",
    "\n",
    "The denominator is a bit less easy to visualize.  To do so, we need to define a rate law.  We will again assume arbitrary power law kinetics and that the rate only depends on the concentration of species A:\n",
    "\n",
    "$$r(X_A) = k{C_A}^\\alpha$$\n",
    "\n",
    "And as above, we can express the concentration of A in terms of fractional conversion as follows (for a constant density flow reactor):\n",
    "\n",
    "$$r(X_A) = k{C_{A,f}}^\\alpha \\, {(1 - X_A)}^\\alpha$$\n",
    "\n",
    "With that, we can define a general rate equation that calculates reaction rate as a function of fractional conversion for any reaction order (in A).  See below; once defined we use it to calculate the rate of reaction for a first order reaction at 50% conversion of A. "
   ]
  },
  {
   "cell_type": "code",
   "execution_count": null,
   "metadata": {},
   "outputs": [],
   "source": [
    "def r(XA, α):\n",
    "    k   = 1\n",
    "    CAf = 1\n",
    "    CA  = CAf*(1 - XA)\n",
    "    r   = k*CA**α\n",
    "    return r\n",
    "print(f'The reaction rate is r(0.5, 1) mol/L/min')"
   ]
  },
  {
   "cell_type": "markdown",
   "metadata": {},
   "source": [
    "### Visualizing how rate changes as a function of conversion\n",
    "\n",
    "With that defined, we'll use it with a loop to illustrate how reaction rate changes as a function for various reaction orders."
   ]
  },
  {
   "cell_type": "code",
   "execution_count": null,
   "metadata": {},
   "outputs": [],
   "source": [
    "XAset = np.linspace(0, 0.9, 100)\n",
    "\n",
    "plt.figure(1, figsize = (5,5)) \n",
    "\n",
    "for order in [-2, -1, -0.5, 0, 0.5, 1, 2]:\n",
    "    plt.plot(XAset, r(XAset, order), label = str(order))  \n",
    "\n",
    "plt.title('Rates vs. conversion for various orders')\n",
    "plt.ylabel('rate (mol/L/min)', fontsize = 14)\n",
    "plt.xlabel('XA', fontsize = 14)\n",
    "plt.xlim(0,0.9)\n",
    "plt.ylim(0,3)\n",
    "plt.legend()\n",
    "plt.show(1)"
   ]
  },
  {
   "cell_type": "markdown",
   "metadata": {},
   "source": [
    "Although we only show a few reaction orders in the plot, the trends are completely general:\n",
    "\n",
    "1. For $\\alpha > 0$, the rate of reaction decreases with increasing fractional conversion of A (as CA decreases)\n",
    "2. For $\\alpha = 0$, the rate of reaction is independent of fractional conversion of A\n",
    "3. For $\\alpha < 0$, the rate of reaction increases with increasing fractional conversion of A (as CA decreases)\n",
    "\n",
    "### The Levenspiel Plot\n",
    "\n",
    "Now we'll take a look at the balances for the CSTR and the PFR:\n",
    "\n",
    "$$V_\\textrm{CSTR} = \\frac{F_{A,f}}{r \\, (X_A)}X_A$$\n",
    "\n",
    "and\n",
    "\n",
    "$$V_\\textrm{PFR} = \\int_0^{X_A}\\frac{F_{A,f}}{r \\, (X_A)}dX_A$$\n",
    "\n",
    "We see that the size of the reactor scales with the ratio of the feed rate of A and the rate of reaction.  Above, we created functions that describe the rate of reaction for various reaction orders. We'll do something similar here and call it a Levenspiel plot.  The quantity of interest for us is the ratio, $F_{A,f}/r \\, (X_A)$, so we'll write that in a function and then plot it vs. fractional conversion.\n",
    "\n",
    "Specifically:\n",
    "\n",
    "$$\\frac{F_{A,f}}{r \\, (X_A)} = \\frac{F_{A,f}}{k{C_{A,f}}^\\alpha \\, (1 - X_A)^\\alpha}$$"
   ]
  },
  {
   "cell_type": "code",
   "execution_count": null,
   "metadata": {},
   "outputs": [],
   "source": [
    "def LEV(XA, α):\n",
    "    k   = 1 #units to vary with reaction order so that r = mol/L/min\n",
    "    CAf = 1 #mol/L\n",
    "    FAf = 1 #mol/min\n",
    "    CA  = CAf*(1 - XA)\n",
    "    r   = k*CA**α\n",
    "    return FAf/r\n",
    "\n",
    "XAset = np.linspace(0, 0.9, 100)\n",
    "\n",
    "plt.figure(1, figsize = (5,5))\n",
    "for order in [-2, -1, -0.5, 0, 0.5, 1, 2]:\n",
    "    plt.plot(XAset, LEV(XAset, order), label = str(order))\n",
    "\n",
    "plt.title('Levenspiel Plots for various reaction orders')\n",
    "plt.ylabel('FAf/r (L)', fontsize = 14)\n",
    "plt.xlabel('XA', fontsize = 14)\n",
    "plt.xlim(0,0.9)\n",
    "plt.ylim(0,3)\n",
    "plt.legend()\n",
    "plt.show(1)"
   ]
  },
  {
   "cell_type": "markdown",
   "metadata": {},
   "source": [
    "The figure above is basically showing you how inverse rate changes as a function of fractional conversion.  For positive order kinetics, inverse rate gets bigger as a function of conversion.  For negative order kinetics, inverse rate gets smaller as a function of conversion.  For zero order kinetics, inverse rate is constant as a function of conversion. To use the plots and to start understanding the trends, we'll focus on the first order case.  Before we do, let's recall some results for CSTR and PFR volumes required to achieve specific conversions for the first order case.  I'll ask for volumes required for conversions of 0.2, 0.5, and 0.9."
   ]
  },
  {
   "cell_type": "code",
   "execution_count": null,
   "metadata": {},
   "outputs": [],
   "source": [
    "# XAtest = [0.05, 0.1, 0.2, 0.3, 0.5, 0.75, 0.9]\n",
    "# VCtest = [VCSTR(val, 1) for val in XAtest] #I'm using a comprehension here; shorthand for loop\n",
    "# VPtest = [VPFR(val, 1) for val in XAtest]  #another list comprehension\n",
    "\n",
    "# for XA, VC, VP in zip(XAtest, VCtest, VPtest):  #zip is handy; it let's you iterate over values in multiple sets.\n",
    "#     if XA == 0.05:\n",
    "#         print('For a first order reaction with the specified parameters...')\n",
    "#     print(f'To achieve a conversion of {XA:3.2f}, the CSTR volume is {VC:3.3f}L and the PFR volume is {VP:3.3f}L')"
   ]
  },
  {
   "cell_type": "markdown",
   "metadata": {},
   "source": [
    "Now that we have specific volumes in mind for these various cases, we can proceed with the Levenspiel Plot analysis.  We'll go back again to the balances on the CSTR and PFR that we have solved for volume:\n",
    "\n",
    "Now we'll take a look at the balances for the CSTR and the PFR.  We will look at the CSTR first.\n",
    "\n",
    "$$V_\\textrm{CSTR} = \\frac{F_{A,f}}{r \\, (X_A)}X_A$$\n",
    "\n",
    "Notice:  this is actually the product of our \"LEV\" function, $F_{A,f}/r \\, (X_A)$, and the fractional conversion achieved in that reactor.  Since we assume a CSTR is perfectly mixed, the relevant reaction rate is specified at the exit composition (exit conversion).  This is to say that the entire volume of a CSTR is at an identical conversion value because it is perfectly mixed.  That means the rate of reaction in a CSTR is uniform throughout, and that the rate of reaction is **calculated at the exit conditions of the CSTR**.  In a graphical context, if we plot our \"LEV\" function against fractional conversion, then the volume of a CSTR is given by the product of the \"LEV\" function value at a specific conversion (i.e., the \"y\" axis on our plot) and the value of fractional conversion at the reactor exit (i.e., the \"x\" axis on our plot).  It looks like a rectangle defined by the exit conditions on the Levenspiel plot.\n",
    "\n",
    "In the PFR, we see that the right hand side involves the product of our \"LEV\" function, $F_{A,f}/r \\, (X_A)$ and a differential change in fractional conversion.  To determine the PFR volume, we have to evaluate the integral on the right hand side.  Specifically, we are integrating our \"LEV\" function, $F_{A,f}/r \\, (X_A)$, as a function of fractional conversion. This allows us to account for the way a PFR operates, which is to incrementally increase conversion from inlet to exit through a series of axial slices.  In a graphical context, the volume of the PFR represents the area under the curve in a Levenspiel plot.\n",
    "\n",
    "$$V_\\textrm{PFR} = \\int_0^{X_A}\\frac{F_{A,f}}{r \\, (X_A)}dX_A$$\n",
    "\n",
    "So, graphing our \"LEV\" function vs. fractional conversion for a first order reaction gives us our \"Levenspiel Plot\" for this case."
   ]
  },
  {
   "cell_type": "code",
   "execution_count": null,
   "metadata": {},
   "outputs": [],
   "source": [
    "XAset = np.linspace(0, 0.95, 100)\n",
    "plt.figure(1, figsize = (5,5))\n",
    "plt.plot(XAset, LEV(XAset, 1))\n",
    "plt.title('Levenspiel Plots for a first order reaction')\n",
    "plt.ylabel('FAf/r (L)', fontsize = 14)\n",
    "plt.xlabel('XA', fontsize = 14)\n",
    "plt.xlim(0,1)\n",
    "plt.ylim(0,20)\n",
    "plt.xticks(np.linspace(0, 1, 11))\n",
    "plt.show(1)"
   ]
  },
  {
   "cell_type": "markdown",
   "metadata": {},
   "source": [
    "We'll add a bit of detail to that plot.  Specifically, we'll add a vertical line at XA = 0.9, and we'll add a horizontal line at the corresponding value of FAf/r."
   ]
  },
  {
   "cell_type": "code",
   "execution_count": null,
   "metadata": {},
   "outputs": [],
   "source": [
    "XAset = np.linspace(0, 0.95, 100)\n",
    "plt.plot(XAset, LEV(XAset, 1), color = 'black')\n",
    "plt.vlines(0.9, 0, 10, linestyle = 'dashed', color = 'red', linewidth = 1)\n",
    "plt.hlines(LEV(0.9, 1), 0, 0.9, linestyle = 'dashed', color = 'red', linewidth = 1)\n",
    "plt.annotate('CSTR volume given by red box', (0.2, 11.5))\n",
    "plt.title('Levenspiel Plots for a first order reaction')\n",
    "plt.ylabel('FAf/r (L)')\n",
    "plt.xlabel('XA')\n",
    "plt.xlim(0,1)\n",
    "plt.ylim(0,20)\n",
    "plt.xticks(np.linspace(0, 1, 11))\n",
    "plt.show()"
   ]
  },
  {
   "cell_type": "markdown",
   "metadata": {},
   "source": [
    "The volume of the CSTR is given by the product of FAf/r and XA at the exit.  Here, we see those numbers are 10L and 0.9.  Multiply them together, and we get the CSTR volume is 9.0L just as we did in the analytical solution.\n",
    "\n",
    "In contrast, if we wanted to get the PFR volume, we'd need to take the integral of FAf/r from XA = 0 to XA = 0.9, i.e., we would have to find the area under the curve shown in the figure above.  We'll add that illustration to show the PFR volume on the Levenspiel plot."
   ]
  },
  {
   "cell_type": "code",
   "execution_count": null,
   "metadata": {},
   "outputs": [],
   "source": [
    "order = 1\n",
    "XAset = np.linspace(0, 0.95, 100)\n",
    "XAPFR = np.linspace(0, 0.90, 100)\n",
    "plt.plot(XAset, LEV(XAset, order), color = 'black')\n",
    "plt.fill_between(XAPFR, LEV(XAPFR, order))\n",
    "plt.vlines(0.9, 0, LEV(0.9, order), linestyle = 'dashed', color = 'red', linewidth = 1)\n",
    "plt.hlines(LEV(0.9, order), 0, 0.9, linestyle = 'dashed', color = 'red', linewidth = 1)\n",
    "plt.annotate('CSTR volume given by red box', (0.2, 11.5))\n",
    "plt.annotate('PFR volume given by shaded area', (0.35, 0.5))\n",
    "plt.title(f'Levenspiel Plots for a {order} order reaction')\n",
    "plt.ylabel('FAf/r (L)')\n",
    "plt.xlabel('XA')\n",
    "plt.xlim(0,1)\n",
    "plt.ylim(0, ceil(max(LEV(XAset, order))))\n",
    "plt.xticks(np.linspace(0, 1, 11))\n",
    "plt.show()"
   ]
  },
  {
   "cell_type": "markdown",
   "metadata": {},
   "source": [
    "There are a lot of ways to do the integral, but since we have a function for the Levenspiel plot, using quadrature to integrate it is straightforward.  See below --- we find that it is 2.3 liters just like in the solution above:"
   ]
  },
  {
   "cell_type": "code",
   "execution_count": null,
   "metadata": {},
   "outputs": [],
   "source": [
    "integrand      = lambda x: LEV(x, 1)\n",
    "VPFR_quad, err = quadrature(integrand, 0, 0.9)\n",
    "VPFR_quad"
   ]
  },
  {
   "cell_type": "code",
   "execution_count": null,
   "metadata": {},
   "outputs": [],
   "source": [
    "order = 0\n",
    "XAset = np.linspace(0, 0.90, 100)\n",
    "plt.plot(XAset, LEV(XAset, order), color = 'black')\n",
    "plt.fill_between(XAset, LEV(XAset, order))\n",
    "plt.vlines(0.9, 0, LEV(0.9, order), linestyle = 'dashed', color = 'red', linewidth = 1)\n",
    "plt.hlines(LEV(0.9, order), 0, 0.9, linestyle = 'dashed', color = 'red', linewidth = 3)\n",
    "#plt.annotate('CSTR volume given by red box', (0.2, 11.5))\n",
    "#plt.annotate('PFR volume given by shaded area', (0.35, 0.5))\n",
    "plt.title(f'Levenspiel Plots for a {order} order reaction')\n",
    "plt.ylabel('FAf/r (L)')\n",
    "plt.xlabel('XA')\n",
    "plt.xlim(0,1)\n",
    "plt.ylim(0, 2*ceil(max(LEV(XAset, order))))\n",
    "plt.xticks(np.linspace(0, 1, 11))\n",
    "plt.show()"
   ]
  },
  {
   "cell_type": "code",
   "execution_count": null,
   "metadata": {},
   "outputs": [],
   "source": [
    "order = -1\n",
    "XAset = np.linspace(0, 0.90, 100)\n",
    "plt.plot(XAset, LEV(XAset, order), color = 'black')\n",
    "plt.fill_between(XAset, LEV(XAset, order))\n",
    "plt.vlines(0.9, 0, LEV(0.9, order), linestyle = 'dashed', color = 'red', linewidth = 1)\n",
    "plt.hlines(LEV(0.9, order), 0, 0.9, linestyle = 'dashed', color = 'red', linewidth = 1)\n",
    "#plt.annotate('CSTR volume given by red box', (0.2, 11.5))\n",
    "#plt.annotate('PFR volume given by shaded area', (0.35, 0.5))\n",
    "plt.title(f'Levenspiel Plots for a {order} order reaction')\n",
    "plt.ylabel('FAf/r (L)')\n",
    "plt.xlabel('XA')\n",
    "plt.xlim(0,1)\n",
    "plt.ylim(0, 2*ceil(max(LEV(XAset, order))))\n",
    "plt.xticks(np.linspace(0, 1, 11))\n",
    "plt.show()"
   ]
  },
  {
   "cell_type": "markdown",
   "metadata": {},
   "source": [
    "The **reason** that we observe these differences has to do with the fundamental difference in the way that PFRs and CSTRs and CSTRs operate. With a PFR, the conversion (and concentration) change gradually as we go from the inlet of the reactor to the exit of the reactor.  The PFR begins operation at a very high concentration of A at the inlet, and it gradually approaches a low concentration of A at the exit.  So the rate of reaction incrementally changes down the length of the PFR.  \n",
    "\n",
    "For a positive order reaction, the rate *decreases* down the length of the PFR.  For a zero order reaction, the rate is *constant* down the length of the PFR. For a negative order reaction, the rate *increases* down the length of the PFR.  In all cases, we have to average these effects by integrating with respect to the differential changes in volume that occur as we move from one axial slice to the next down the length of the PFR.\n",
    "\n",
    "A CSTR is the exact opposite.  As soon as the feed enters the CSTR, it is instantly mixed, and the inside of the CSTR all exists as the same conditions as at the CSTR exit.  So whatever the exit concentration is, that is the concentration inside the CSTR. As a result, the CSTR always operates at the lowest possible value of concentration for the specified level of conversion.  In other words, it operates entirely at the conversion we have specified for the system.  For a positive order reaction, this means that the rate is at the minimum possible value (lowest CA).  For a zero order reaction, the rate is independent of conversion/concentration, so operating at a conversion of 90% gives you the same rate you'd see at a conversion of 0%.  For negative order reaction, rate increases with conversion, so the CSTR operates at minimum concentration of A, which gives a maximum reaction rate!\n",
    "\n",
    "For a positive order reaction, on average, the PFR will always have the higher rate across the reactor volume--it starts at a high rate and finishes at the minimum rate.  The CSTR operates entirely at the minimum rate, so it's average reaction rate is always lower for a positive order reaction.  The converse is true for a negative order reaction--the rate will gradually increase down the length of the PFR, whereas the CSTR operates entirely at the exit conversion and thus the maximum rate.  For a zero order reaction, rate is independent of conversion, and PFRs and CSTRs will have the same average rate.\n",
    "\n",
    "Since the size of a system is determined by the ratio of the \"stuff\" that gets converted to the rate at which it gets converted, it is easy to predict PFR and CSTR sizing trends once we grasp the above concepts.  PFRs will always be smaller for positive order reactions because, on average, they have a higher reaction rate than a CSTR achieving the same conversion.  In contrast, for negative order reactions, PFRs will always be larger because, on average, they have a lower reaction rate than a CSTR achieving the same conversion.  For zero order reactions, they will be the exact same size because the rates are equal in the two systems."
   ]
  }
 ],
 "metadata": {
  "colab": {
   "authorship_tag": "ABX9TyP0ZJPj0jWZ7tx7s+T6+2CS",
   "name": "P14.ipynb",
   "provenance": []
  },
  "kernelspec": {
   "display_name": "Python 3 (ipykernel)",
   "language": "python",
   "name": "python3"
  },
  "language_info": {
   "codemirror_mode": {
    "name": "ipython",
    "version": 3
   },
   "file_extension": ".py",
   "mimetype": "text/x-python",
   "name": "python",
   "nbconvert_exporter": "python",
   "pygments_lexer": "ipython3",
   "version": "3.12.3"
  }
 },
 "nbformat": 4,
 "nbformat_minor": 4
}
