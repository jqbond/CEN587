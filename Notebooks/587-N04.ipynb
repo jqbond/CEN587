{
 "cells": [
  {
   "cell_type": "markdown",
   "metadata": {},
   "source": [
    "# Solving Algebraic Equations\n",
    "\n",
    "[What is Bond listening to right now?](https://www.youtube.com/watch?v=eQskcr4v0LI&list=RDeQskcr4v0LI&start_radio=1)\n",
    "\n",
    "These exercises cover the basic ideas behind numerical methods for solving algebraic equations. For more detail on these concepts and how they are implemented in Python, please reference **Supplements 09 - 14**.\n",
    "\n",
    "## Numerical Methods\n",
    "\n",
    "Your mathematics and introductory engineering courses have given you a lot of problems that you were able to solve by hand (i.e., analytically) to obtain closed-form solutions using pencil-and-paper and, at most, a calculator. This is not generally the case in engineering practice, especially in reactor design. We frequently have to solve equations or sets of equations that have no straightforward analytical solution. These are usually, at best, tedious to solve by hand and, at worst, impossible to solve by hand. In these cases, we have to rely on numerical methods, which use simple mathematical operations (add, subtract, multiply, divide) to provide an approximation of the true solution. We will use numerical methods extensively in this course. so we will introduce a few of the key tools for solving various types of equations in this notebook, and then we'll get a lot of practice with them for the rest of the semester. Here, we will cover the basics of solving ***algebraic equations*** analytically, graphically, and using numerical methods. We will use these tools for solving problems in ***Chemical Equilibrium*** and ***Reactor Design***. \n",
    "\n",
    "## Topics Covered\n",
    "\n",
    "1. Basic principles of root finding\n",
    "2. Graphical root finding in 2D and 3D\n",
    "3. Numerical methods for root finding (Iterative approaches, Newton-Raphson method)\n",
    "6. Scipy package; `scipy.optimize`\n",
    "7. Solution of algebraic equations with `scipy.optimize.newton()` (root finding for univariate functions).\n",
    "8. Solving systems of nonlinear algebraic equations with `scipy.optimize.root()` (root finding for multivariate functions).\n",
    "9. The importance of initial guesses; strategies for providing good initial guesses to Equations solvers.\n",
    "10. Stability issues with iterative solvers."
   ]
  },
  {
   "cell_type": "code",
   "execution_count": 31,
   "metadata": {},
   "outputs": [],
   "source": [
    "###################################################################################################\n",
    "# I usually import all packages in a single cell so that I can keep everything in one place       #\n",
    "# These are all of the packages used in this notebook                                             #\n",
    "# For teaching purposes, I'll add packages as we need them throughout the notebook                #\n",
    "###################################################################################################\n",
    "\n",
    "# import numpy as np\n",
    "# import matplotlib.pyplot as plt\n",
    "# import time\n",
    "# from scipy import optimize as opt"
   ]
  },
  {
   "cell_type": "markdown",
   "metadata": {},
   "source": [
    "## Problem 01\n",
    "\n",
    "Imagine we have an algebraic equation that we want to solve.  In this case, we'll consider a simple function:\n",
    "\n",
    "$$f(x) = x^2 - 10x - 25$$\n",
    "\n",
    "We want to find the root of that function, i.e., we want to find the value of $x$ where $f(x) = 0$.  So, with root finding, we are trying to solve for the value of $x$ that satisfies the equation below:\n",
    "\n",
    "$$0 = x^2 - 10x - 25$$\n",
    "\n",
    "### A Closed Form (Exact Analytical) Solution\n",
    "\n",
    "This is pretty easy to solve--that is intentional. When you first test out numerical methods (which give approximate solutions), it is very helpful to know the correct answer so that you can make sure your numerical methods are working properly. In this case, I would just use the quadratic formula if I needed an exact solution:  \n",
    "\n",
    "$$ x = \\frac{-b \\pm \\sqrt{b^2 - 4ac}}{2a}$$\n",
    "\n",
    "If we do that, we find that there are two solutions to this equation (two roots of the function):\n",
    "\n",
    "\\begin{align*}\n",
    "    x &= 12.07107 \\\\\n",
    "    x &= -2.07107\n",
    "\\end{align*}\n",
    "\n",
    "But what if we had no idea how to solve the problem?  There are a number of things we might try.  First, if it is possible, I like to graph the function on the relevant domain. For univariate problems like this one, it is easy and illustrative to do this.\n",
    "\n",
    "### A Graphical Solution\n",
    "\n",
    "In the cell below, we plot the function of interest on a domain (set of $x$ values) of $x = [-20, 20]$. Roots are where the function crosses the x-axis (i.e., where $y = 0$)."
   ]
  },
  {
   "cell_type": "code",
   "execution_count": 32,
   "metadata": {},
   "outputs": [],
   "source": [
    "################################################################################################\n",
    "# For graphing, we'll import pyplot.                                                           #\n",
    "# Numpy is also useful here; it lets us create array and perform elementwise calculations      #\n",
    "################################################################################################\n",
    "\n",
    "# import numpy as np\n",
    "# import matplotlib.pyplot as plt"
   ]
  },
  {
   "cell_type": "code",
   "execution_count": 33,
   "metadata": {},
   "outputs": [],
   "source": [
    "################################################################################################\n",
    "# We need to tell Python that f(x) = x^2 - 10x - 25; define a function!                        #\n",
    "################################################################################################\n",
    "\n",
    "# def f(x):\n",
    "#     y = x**2 - 10*x - 25\n",
    "#     return y\n",
    "\n",
    "################################################################################################\n",
    "# Create a set of 100 x values between -20 and 20.                                             #\n",
    "################################################################################################\n",
    "\n",
    "# xplot = np.linspace(-20, 20, 100)\n",
    "# print(xplot)\n",
    "\n",
    "################################################################################################\n",
    "# This creates and displays a plot of f(x) vs. x                                               #\n",
    "################################################################################################\n",
    "\n",
    "# plt.figure(figsize = (5, 5))\n",
    "# plt.plot(xplot, f(xplot))\n",
    "# plt.xlim(-20, 20)  #limits on x axis\n",
    "# plt.xticks(np.arange(-20, 21, 5)) #set x-ticks manually\n",
    "# plt.xlabel('x', fontsize = 14) #add x axis label at font size of 14 pt\n",
    "# plt.ylim(-100, 100) #set limits on y axis\n",
    "# plt.yticks(np.linspace(-100, 100, 11)) #set tickmarks on y axis\n",
    "# plt.ylabel('f(x)', fontsize = 14) #add lable on y axis at 14 pt font\n",
    "# plt.hlines(0, -20, 20, ls = 'dashed', color = 'black', lw = 1.0) #horizontal line at y =0\n",
    "# plt.vlines(-2.07107, -100, 100, ls = 'dotted', color = 'red', lw = 0.75) #vertical line at root 1\n",
    "# plt.vlines(12.07107, -100, 100, ls = 'dotted', color = 'red', lw = 0.75) #vertical line at root 2\n",
    "plt.show() #display current figure"
   ]
  },
  {
   "cell_type": "markdown",
   "metadata": {},
   "source": [
    "From this, we can see there is one root near $x = -2$, and there is another root near $x = 12$. This is consistent with our quadratic formula solution. Graphing isn't the most precise method, but it allows us to very quickly identify the rough location of roots, so it is extremely useful. Beyond this (and assuming we cannot solve the problem analytically), we have to rely on numerical methods, which are usually iterative in nature. This means that we make a guess at the solution, we check the answer to see how close we are to zero, and then we change our guess based on how close we are to zero.  The hope is that we move steadily toward the solution as we continue to revise our guesses.\n",
    "\n",
    "### Guess and Check: A Brute Force Numerical Method\n",
    "\n",
    "The most basic example is an iterative guess-and-check strategy. We literally make a guess and keep changing it until we get close enough to our solution.  \"Close enough\" is the tolerance on our problem solution, and it depends on the level of precision we need in a particular problem. This is implemented in the cell below, where we repeatedly pass values of x to our function f(x) until it returns a value that is sufficiently close to zero for our satisfaction..."
   ]
  },
  {
   "cell_type": "code",
   "execution_count": 34,
   "metadata": {},
   "outputs": [],
   "source": [
    "# print(f(-10))    #gives 175\n",
    "# print(f(10))     #gives -25.  There is at least one root between -10 and 10 since I crossed the x-axis.\n",
    "# print(f(-5))     #gives 50....There is at least one root between 10 and -5 sice I crossed x again\n",
    "# print(f(-7))     #gives 94....that move was away from the root\n",
    "# print(f(-3))     #gives 14....relative to -5, that moves me toward the root\n",
    "# print(f(-1))     #gives -14...the root is somewhere between -1 and -3\n",
    "# print(f(-2))     #gives -1...close, but not quite there\n",
    "# print(f(-2.5))   #gives 6.25...too far\n",
    "# print(f(-2.1))   #gives 0.4...root must be between -2 and -2.1\n",
    "# print(f(-2.05))  #gives -.29...root is between -2.05 and -2.1\n",
    "# print(f(-2.075)) #gives 0.0556...root must be between -2.05 and -2.075\n",
    "# print(f(-2.07))  #gives -0.015...close enough."
   ]
  },
  {
   "cell_type": "markdown",
   "metadata": {},
   "source": [
    "Although it is intuitive, guess and check is an inefficient way to solve this problem.  It requires that we inspect each solution and make decisions about the next guess. Although we can generally find the root of a simple univarate funtion like $f(x)$ above, it is always tedious. Further, it is almost impossible to solve systems of nonlinear equations using a guess and check method. Generally speaking, it is preferable to use a formal numerical method to solve algebraic equations. These approaches are usually still iterative in nature, but they use more sophisticated mathematics to update guesses in a way that moves efficiently toward the root. One of the most straightforward of these approaches is the Newton-Raphson method.\n",
    "\n",
    "### Newton-Raphson Method\n",
    "\n",
    "As an example, we'll implement a Newton-Raphson iteration to solve this problem. The Newton-Raphson iteration is much better than what we did above because it uses information about both the function value and its derivative to update guesses automatically. The formula for the Newton-Raphson iteration is this:\n",
    "\n",
    "$$x_{i+1} = x_i - \\frac{f(x_i)}{f^\\prime(x_i)}$$\n",
    "\n",
    "We make an initial guess, $x_i$, then we update that guess by subtracting the ratio of the function value at $x_i$, $f(x_i)$, to its derivative at $x_i$, $f^\\prime(x_i)$. The sign of the function value and the derivative of the function value ensure that guesses are updated in a fashion that moves them toward the root location. A basic Newton-Raphson iteration is implemented in the cell below. The first few iterations are performed manually, and then we see how to automate the process with a while loop, which will continue to iterate until our specified criteria are met. You can see how quickly it converges for this simple example.  This is much, much better than a simple guess and check strategy."
   ]
  },
  {
   "cell_type": "code",
   "execution_count": 35,
   "metadata": {},
   "outputs": [],
   "source": [
    "# import time"
   ]
  },
  {
   "cell_type": "code",
   "execution_count": 36,
   "metadata": {},
   "outputs": [],
   "source": [
    "################################################################################################\n",
    "# Define functions for f(x) and f'(x); we do this with lambda functions here                   #\n",
    "################################################################################################\n",
    "# f  = lambda x: x**2 - 10*x - 25 #telling Python  f(x) = x^2 - 10x - 25\n",
    "# df = lambda x: 2*x  - 10        #telling Python df(x) = 2x - 10 \n",
    "\n",
    "################################################################################################\n",
    "# Make an initial guess -- where do we *think* the root is located?                            #\n",
    "################################################################################################\n",
    "# x0 = 10\n",
    "\n",
    "################################################################################################\n",
    "# Evaluate terms for Newton-Raphson iteration                                                  #\n",
    "################################################################################################\n",
    "\n",
    "# print(f(x0))\n",
    "# print(df(x0))\n",
    "# print(f'The value of                      x = {x0:3d}')\n",
    "# print(f'The value of the function      at x = {x0:3d} is {f(x0):3.2f}') #These are formatting string literals! Useful!!\n",
    "# print(f'The derivative of the function at x = {x0:3d} is {df(x0):3.2f}')"
   ]
  },
  {
   "cell_type": "code",
   "execution_count": 37,
   "metadata": {},
   "outputs": [],
   "source": [
    "################################################################################################\n",
    "# Manual illustration of the first few iterations                                              #\n",
    "################################################################################################\n",
    "\n",
    "# x1 = -10.0\n",
    "# print(f'{x1:7.3f}, {f(x1):8.3f}, {df(x1):7.3f}')\n",
    "# x2 = x1 - f(x1)/df(x1)\n",
    "# print(f'{x2:7.3f}, {f(x2):8.3f}, {df(x2):7.3f}')\n",
    "# x3 = x2 - f(x2)/df(x2)\n",
    "# print(f'{x3:7.3f}, {f(x3):8.3f}, {df(x3):7.3f}')\n",
    "# x4 = x3 - f(x3)/df(x3)\n",
    "# print(f'{x4:7.3f}, {f(x4):8.3f}, {df(x4):7.3f} \\n')"
   ]
  },
  {
   "cell_type": "code",
   "execution_count": 38,
   "metadata": {},
   "outputs": [],
   "source": [
    "################################################################################################\n",
    "# run a while loop until the NR iteration converges to within 1e-3 of zero.                    #\n",
    "################################################################################################\n",
    "\n",
    "################################################################################################\n",
    "# Need a starting value of x to initialize the iterations                                      #\n",
    "################################################################################################\n",
    "\n",
    "# x = 10\n",
    "# print(f'{x:14.3f}, {f(x):14.3f}')     #print current value of x, f(x)\n",
    "# time.sleep(2)                         #pause for 2 seconds\n",
    "\n",
    "################################################################################################\n",
    "# Construct the while loop                                                                     #\n",
    "################################################################################################\n",
    "\n",
    "# while abs(f(x)) > 1e-3:               #set the tolerance on f(x) -- how close to zero?\n",
    "#     x = x - f(x)/df(x)                #calculate next value of x using NR, make it the current value of x\n",
    "#     print(f'{x:14.7f}, {f(x):14.7f}') #print current value of x, f(x) \n",
    "#     time.sleep(2)                     #pause for 2 seconds\n",
    "\n",
    "################################################################################################\n",
    "# Once f(x) is below tolerance, while loop will exit                                           #\n",
    "################################################################################################\n",
    "\n",
    "# print(\"\\n Loop is finished!\")"
   ]
  },
  {
   "cell_type": "markdown",
   "metadata": {},
   "source": [
    "### More Robust Tools are available in Python (scipy)\n",
    "\n",
    "Instead of writing our own solvers, we should *generally* use the numerical methods packages that are available in whatever software we're using. Under the hood, it's basically the same thing, but the packages in Python are generally more robust against instabilities that you may encounter when using iterative methods. If you're using Python, the appropriate tools are found in the `optimize` module from the Scipy Package.\n",
    "\n",
    "In the cell below, we illustrate how `scipy.optimize` works in practice. First, we import `optimize` and we alias it as `opt` just to make the syntax a little shorter and cleaner. Inside of `scipy.optimize` or `opt` as we will call it hereafter, there are many solvers available.  These include the classic Newton-Raphson algorithm, among many others. As an example, we can use `opt.newton()` to find the root of a univariate function, such as the one above. To use `opt.newton()`, we need to pass the function handle (its name) and an initial guess at the solution as arguments.  `opt.newton()` will handle the rest.\n",
    "\n",
    "```{note}\n",
    "Despite the name, `opt.newton` actually uses a secant method by default.\n",
    "```"
   ]
  },
  {
   "cell_type": "code",
   "execution_count": 39,
   "metadata": {},
   "outputs": [],
   "source": [
    "# from scipy import optimize as opt"
   ]
  },
  {
   "cell_type": "code",
   "execution_count": 40,
   "metadata": {},
   "outputs": [],
   "source": [
    "################################################################################################\n",
    "# Define Objective Function for root finding LHS = x^2 -10*x - 25                              #\n",
    "################################################################################################\n",
    "\n",
    "# P01 = lambda x: x**2 - 10*x - 25 \n",
    "\n",
    "################################################################################################\n",
    "# Make initial guess at root location                                                          #\n",
    "################################################################################################\n",
    "\n",
    "# X0  = 10\n",
    "\n",
    "################################################################################################\n",
    "# Solve problem using opt.newton()                                                             #\n",
    "################################################################################################\n",
    "\n",
    "# opt.newton(P01, X0)\n",
    "# sol01 = opt.newton(P01, X0)\n",
    "# print(sol01)\n",
    "# print(P01(sol01))\n",
    "# print(f'The root of P01(x) with the current initial guess of X0 = {X0:3.2f} is {sol01:4.3f}; P01({sol01:4.3f}) = {P01(sol01):4.3E}.')"
   ]
  },
  {
   "cell_type": "markdown",
   "metadata": {},
   "source": [
    "## Problem 02\n",
    "\n",
    "Solve the following algebraic equation for the smallest positive root:\n",
    "\n",
    "$$x^3 - 10x + e^{-0.25x} = 35.75$$"
   ]
  },
  {
   "cell_type": "markdown",
   "metadata": {},
   "source": [
    "### Solution to Problem 02\n",
    "\n",
    "As we've discussed, if it is easy for me to graph a function, I usually do so because I need a good initial guess of the root location when I use numerical methods.  Graphing makes it very easy to see where the roots are. I'll plot this below by creating a **lambda** function.  I am using a lambda function because this is a very simple expression.  Specifically, I am going to create a function of the form:\n",
    "\n",
    "$$f(x) = x^3 - 10x + \\exp{(-0.25x)} - 35.75$$\n",
    "\n",
    "Why do I write it that way?  Because I want to figure out where the function, $f(x)$, equals zero.  So in that form, I can graph the function and look for any places where $f(x)$ crosses the x axis.  Those are the places where f(x) = 0."
   ]
  },
  {
   "cell_type": "code",
   "execution_count": 41,
   "metadata": {},
   "outputs": [],
   "source": [
    "################################################################################################\n",
    "# Define Objective Function for root finding LHS = x^3 - 10x +exp(-0.25x) - 35.75              #\n",
    "################################################################################################\n",
    "\n",
    "# P02 = lambda x: x**3 - 10*x + np.exp(-0.25*x) - 35.75 #translates to p1(x) = x^3 - 10x + exp(-0.25x) - 35.75\n",
    "\n",
    "################################################################################################\n",
    "# Plot the function on the domain x = [-50, 50]                                                #\n",
    "################################################################################################\n",
    "\n",
    "# xspan = np.linspace(-50, 50, 200)\n",
    "# plt.plot(xspan, P02(xspan))\n",
    "# plt.hlines(0, -50, 50, linestyle = 'dashed', color = 'black')\n",
    "# plt.xlim(-10, 10)\n",
    "# plt.xticks(range(-50, 51, 10))\n",
    "# plt.ylim(-100, 100)\n",
    "# # plt.xticks(range(-10, 11, 1))\n",
    "# plt.xlabel('x', fontsize = 16)\n",
    "# plt.ylabel('f(x)', fontsize = 16)\n",
    "# plt.show()"
   ]
  },
  {
   "cell_type": "markdown",
   "metadata": {},
   "source": [
    "We can see clearly that it crosses the x-axis in two places (this remains true even if we zoom out much further).  There is a root at about -45 and another at about 5.  We want the \"smallest positive root\" according to the problem statement, so we want to look around x = 5 for a root.\n",
    "\n",
    "Unlike the first example problem, we do not have an easy way to solve this nonlinear equation analytically. We will therefore use a numerical method -- specifically, we will use solver from `scipy.optimize` that is designed to find the roots of univariate scalar functions (functions that have only one argument and return one output). `opt.newton()` is usually a fine choice here.  "
   ]
  },
  {
   "cell_type": "code",
   "execution_count": 42,
   "metadata": {},
   "outputs": [],
   "source": [
    "################################################################################################\n",
    "# Find root of objective function using opt.newton()                                           #\n",
    "################################################################################################\n",
    "\n",
    "# sol02 = opt.newton(P02, 4) #opt.newton needs our function name and an initial guess.\n",
    "# print(sol02)\n",
    "# print(P02(sol02))\n",
    "\n",
    "################################################################################################\n",
    "# Enabling full output to show more information                                                #\n",
    "################################################################################################\n",
    "\n",
    "# opt.newton(P02, 4, full_output = True)\n",
    "# sol02, info = opt.newton(P02, 4, full_output = True)\n",
    "# print(sol02, '\\n')\n",
    "# print(info)\n",
    "# print(info.converged)\n",
    "# print(info.iterations)\n",
    "# print('', sol02, '\\n', info.converged, '\\n', P02(info.root), '\\n', info.flag)"
   ]
  },
  {
   "cell_type": "markdown",
   "metadata": {},
   "source": [
    "## Problem 3\n",
    "\n",
    "Find all roots for the following system of equations. Search only on the domain $x = [-10, 10]$ and $y = [-10, 10]$.\n",
    "\n",
    "\\begin{align}\n",
    "     10 &= 5x^2y - y^3\\\\\n",
    "    -(15y+x) &= 2y^2 + \\textrm{tanh}(0.075x)\\\\\n",
    "\\end{align}"
   ]
  },
  {
   "cell_type": "markdown",
   "metadata": {},
   "source": [
    "### Solution to Problem 03\n",
    "\n",
    "This is a system of nonlinear equations, and even adding a second equation, we see that things get more complicated.  We do not have a solution until we find the $(x,y)$ pairs where both of the equations are solved.  We are essentially looking for the roots of the following two functions with this problem:\n",
    "\n",
    "\\begin{align}\n",
    "    f_1(x, y) &= 5x^2y - y^3 - 10 \\\\\n",
    "    f_2(x, y) &= 2y^2 + \\tanh{(0.075x)} + 15y + x\\\\\n",
    "\\end{align}\n",
    "\n",
    "We have solved our problem when we find the values $\\hat{x}$ and $\\hat{y}$ that give the following result:\n",
    "\n",
    "\\begin{align}\n",
    "    f_1(\\hat{x}, \\hat{y}) &= 0 \\\\\n",
    "    f_2(\\hat{x}, \\hat{y}) &= 0 \\\\\n",
    "\\end{align}\n",
    "\n",
    "We would love to be able to assess the problem graphically because that helps us to see axis crossings (root locations), but here, we have to work in 3-dimensions.  For every $(x,y)$ pair that we give to each function, it will return a $z$ value in a third dimension...so this is harder to visualize. Both functions describe surfaces, not lines, and we need to find the $(x, y)$ points where both surfaces are equal to zero. But, let's give it a try and see what we can come up with.  This is definitely **not** an essential step in solving this problem, but it serves a few purposes:\n",
    "\n",
    "1. It gives us extra practice with graphing\n",
    "2. It illustrates visually what root finding for systems of equations entails\n",
    "\n",
    "First, let's create two functions that take $(x,y)$ argument pairs and return the values of $f_1(x,y)$ and $f_2(x,y)$.  We can again use `lambda` syntax here because these are easy one-liners."
   ]
  },
  {
   "cell_type": "code",
   "execution_count": 43,
   "metadata": {},
   "outputs": [],
   "source": [
    "# f1 = lambda x,y: 5*x**2*y - y**3 - 10\n",
    "# f2 = lambda x,y: 2*y**2 + np.tanh(0.075*x) + 15*y + x"
   ]
  },
  {
   "cell_type": "markdown",
   "metadata": {},
   "source": [
    "#### Surface Plots\n",
    "\n",
    "We have to visualize these functions in 3D, so our options are surface plots (\"actual\" 3D illustration) or contour plots (a 2D representation of a 3D surface using contour lines).  Let's start with the surfaces."
   ]
  },
  {
   "cell_type": "code",
   "execution_count": 44,
   "metadata": {},
   "outputs": [],
   "source": [
    "# x = np.linspace(-10,10,50)\n",
    "# y = np.linspace(-10,10,50)\n",
    "# [X, Y] = np.meshgrid(x,y)\n",
    "\n",
    "# Z1 = f1(X,Y) #values of the left-hand side of f1 for all X,Y pairs\n",
    "# Z2 = f2(X,Y) #values of the left-hand side of f2 for all X,Y pairs.\n",
    "\n",
    "# fig1, ax1 = plt.subplots(subplot_kw={\"projection\": \"3d\"})\n",
    "# ax1.plot_surface(X, Y, Z1)\n",
    "# plt.xlabel('X')\n",
    "# plt.ylabel('Y')\n",
    "# plt.title('f1(x,y)')\n",
    "\n",
    "# fig2, ax2 = plt.subplots(subplot_kw={\"projection\": \"3d\"})\n",
    "# ax2.plot_surface(X, Y, Z2)\n",
    "# plt.xlabel('X')\n",
    "# plt.ylabel('Y')\n",
    "# plt.title('f2(x,y)')\n",
    "# plt.show()"
   ]
  },
  {
   "cell_type": "markdown",
   "metadata": {},
   "source": [
    "So, that's fine?  I guess?  It doesn't really help much, though.  What we need to find are the places where *both* surfaces intersect at values of zero, and that is almost impossible to determine from these 3D projections.\n",
    "\n",
    "#### Overlaid Surface Plots\n",
    "\n",
    "Maybe we can try to plot two surfaces on the same plot?"
   ]
  },
  {
   "cell_type": "code",
   "execution_count": 45,
   "metadata": {},
   "outputs": [],
   "source": [
    "# fig1, ax1 = plt.subplots(subplot_kw={\"projection\": \"3d\"})\n",
    "# ax1.plot_surface(X, Y, Z1)\n",
    "# ax1.plot_surface(X, Y, Z2)\n",
    "# plt.xlabel('X')\n",
    "# plt.ylabel('Y')\n",
    "# plt.title('f1 and f2')\n",
    "# plt.show()"
   ]
  },
  {
   "cell_type": "markdown",
   "metadata": {},
   "source": [
    "Nope.  Not helpful.  We cannot really pin down any of locations of the roots using this.  Maybe contour plots?\n",
    "\n",
    "#### Contour Plots"
   ]
  },
  {
   "cell_type": "code",
   "execution_count": 46,
   "metadata": {},
   "outputs": [],
   "source": [
    "# plt.figure()\n",
    "# plt.contour(X, Y, Z1, levels = 50) #note, levels = scalar tells us how many contour lines to use.\n",
    "# plt.xlabel('X')\n",
    "# plt.ylabel('Y')\n",
    "# plt.colorbar()\n",
    "# plt.show()\n",
    "\n",
    "# plt.figure()\n",
    "# plt.contour(X, Y, Z2, levels = 50)\n",
    "# plt.xlabel('X')\n",
    "# plt.ylabel('Y')\n",
    "# plt.colorbar()\n",
    "# plt.show()"
   ]
  },
  {
   "cell_type": "markdown",
   "metadata": {},
   "source": [
    "Actually, this gives a much more clear view of where the functions are near zero. From the first plot, we can see that $f_1(x,y)$ is close to zero toward the center of the plot, and then as we move to large $X$ and $Y$ values, we see that the function gets either very positive or very negative.  In the second case, we see that $f_2(x,y)$ is close to zero over a fairly broad space between $y = 3$ and $y = -7$ or so...and $-10 \\leq x \\leq 10$.  \n",
    "\n",
    "#### Overlay Contour Plots\n",
    "\n",
    "If we put the above onto a single plot, it is a mess:"
   ]
  },
  {
   "cell_type": "code",
   "execution_count": 47,
   "metadata": {},
   "outputs": [],
   "source": [
    "# plt.figure()\n",
    "# plt.contour(X, Y, Z1, levels = 50) #note, levels = scalar tells us how many contour lines to use.\n",
    "# plt.contour(X, Y, Z2, levels = 50)\n",
    "# plt.xlabel('X')\n",
    "# plt.ylabel('Y')\n",
    "# plt.colorbar()\n",
    "# plt.show()"
   ]
  },
  {
   "cell_type": "markdown",
   "metadata": {},
   "source": [
    "#### Adjusting Contour Plot Options\n",
    "\n",
    "It is very difficult to interpret this figure.  There is too much going on, and we can't identify where the intersections are where both $f_1(x,y)$ and $f_2(x,y)$ are near zero.  However, we can also use the level keyword argument to specify a range of contour lines...sort of like applying limits to the z axis. We can also set the colors of contour lines to various things. Here, we'll show the contour lines for the first function in red and the second function in blue.  We will also only show the contours between -0.01 and 0.01 because these will bound any areas where the functions are zero pretty well. With this, we can see clearly where both functions are zero(ish)--this is indicated by the lines on the contour plot below.  \n",
    "\n",
    "```{important}\n",
    "These contours are showing us where the two surfaces intersect at values of 0!\n",
    "```"
   ]
  },
  {
   "cell_type": "code",
   "execution_count": 48,
   "metadata": {},
   "outputs": [],
   "source": [
    "# x = np.linspace(-10,10,50)\n",
    "# y = np.linspace(-10,10,50)\n",
    "# [X, Y] = np.meshgrid(x,y)\n",
    "\n",
    "# Z1 = f1(X,Y) #values of the left-hand side of f1 for all X,Y pairs\n",
    "# Z2 = f2(X,Y) #values of the left-hand side of f2 for all X,Y pairs.\n",
    "\n",
    "# plt.figure()\n",
    "# plt.contour(X, Y, Z1, levels = [-0.01, 0.01], colors = 'red')  #function 1 in red\n",
    "# plt.contour(X, Y, Z2, levels = [-0.01, 0.01], colors = 'blue') #function 2 in blue\n",
    "# plt.colorbar()\n",
    "# plt.show()"
   ]
  },
  {
   "cell_type": "markdown",
   "metadata": {},
   "source": [
    "Now that makes it very clear that I have 3 roots on the domain $(X, Y) = [-10, 10]$.  Specifically, they are somewhere around:\n",
    "\n",
    "1. $(-3, -8)$\n",
    "2. $(3, -8)$\n",
    "3. $(-3, 0)$\n",
    "\n",
    "Now that we know this, we have a pretty good idea of initial guesses to make for $x$ and $y$ with our iterative numerical solver.\n",
    "\n",
    "#### Solving with `scipy.optimize.root()`\n",
    "\n",
    "For a system of nonlinear equations, we can't use `opt.newton()` -- it only works on univariate scalar functions.  Here, we need to solve functions that have two arguments, $x$ and $y$, and return two outputs $f_1(x,y)$ and $f_2(x,y)$. We'll need to use `opt.root()` instead. This is a place where Python is picky about syntax.  We have to construct a function that models our system of equations...there are two rules we need to follow:\n",
    "\n",
    "1. This function must take a single argument that contains all of the unknowns in a collection (list, array, tuple, etc.). In this example, we have to pass $x$ and $y$ in a single collection.\n",
    "2. This function must return the values of all of the equations we're solving for a given set of argument values--this must be done in a collection (list, array, tuple, etc.). In this example, our function must return the values of ($f_1(x,y)$ and $f_2(x,y)$) for a given $(x^\\prime,y^\\prime)$ pair).\n",
    "\n",
    "Here, the problem is complicated enough that lambda functions lose their charm. We need to build what you would call a multivariate vector function. We call it this because it takes more than one argument (multivariate) and it returns more than one output (vector output). We'll specify with a general function definition."
   ]
  },
  {
   "cell_type": "code",
   "execution_count": 49,
   "metadata": {},
   "outputs": [],
   "source": [
    "################################################################################################\n",
    "# Define objective function -- this is the system of equations                                 #\n",
    "# It has the form f([x, y]) and returns [LHS1, LHS2]                                           #\n",
    "################################################################################################\n",
    "\n",
    "# def P03(var): # var = [x, y]\n",
    "#     x = var[0]\n",
    "#     y = var[1]\n",
    "#     # print([x, y])\n",
    "#     LHS1 = 10 - 5*x**2*y + y**3  #this is function 1, solution at LHS1 = 0\n",
    "#     LHS2 = 2*y**2 + np.tanh(0.075*x) + 15*y + x  #this is function 2, solution at LHS2 = 0\n",
    "#     return [LHS1, LHS2] #return the value of f1 and f2 at current (x,y) values; I'm using a list."
   ]
  },
  {
   "cell_type": "markdown",
   "metadata": {},
   "source": [
    "Once we have that function defined in that particular format, then we can use `opt.root()` to solve it.  All it needs from us is the function name and an initial guess at the solution.  We have some pretty good ideas from the contour plot.  \n",
    "\n",
    "`opt.root()` will return a \"solution structure\" that has a ton of information in it. We'll call this `sol03` below, and we'll print the important fields from that solution:\n",
    "\n",
    "1. The solution (`sol03.x`); this is our \"answer to the problem\"\n",
    "2. The function value at the solution (`sol03.fun`); array of function values at solution; should all be zeros.\n",
    "3. The message that tells us whether the solver converged or not (`sol03.message`)"
   ]
  },
  {
   "cell_type": "code",
   "execution_count": 50,
   "metadata": {},
   "outputs": [],
   "source": [
    "################################################################################################\n",
    "# Define and initial guess for [x0, y0]                                                        #\n",
    "################################################################################################\n",
    "\n",
    "# var0 = [-3, -7] #I'm passing the initial guesses as a list; these unpack as x0 and y0 in the function\n",
    "\n",
    "################################################################################################\n",
    "# Solve using opt.root(); store results in solution structure; access .x and .fun              #\n",
    "################################################################################################\n",
    "\n",
    "# opt.root(P03, var0)\n",
    "# sol03  = opt.root(P03, var0)\n",
    "# print('', sol03.x, '\\n', sol03.fun, '\\n', P03(sol03.x), '\\n', sol03.message)"
   ]
  },
  {
   "cell_type": "markdown",
   "metadata": {},
   "source": [
    "## Problem 04\n",
    "\n",
    "Solve the following system of nonlinear equations:\n",
    "\n",
    "\\begin{align}\n",
    "    0 &= x^2 - 10x - 25y + 17z^2\\\\\n",
    "    18.3 &= xz + \\textrm{ln}(yz)\\\\\n",
    "    145 - y^2 &= x^2 + 5z\\\\\n",
    "\\end{align}"
   ]
  },
  {
   "cell_type": "markdown",
   "metadata": {},
   "source": [
    "### Solution to Problem 04\n",
    "\n",
    "Once you get the hang of formatting equations so that they are compatible with `opt.root()`, this is straightforward.  See below, and compare it to above. Think about how logically similar the two code cells are.  This one is a little bigger and a little more complex because I have 3 variables and 3 functions, but otherwise, everything is identical.  This is a super easy concept to generalize, and I can solve any number of equations in this way using `opt.root()`!!"
   ]
  },
  {
   "cell_type": "code",
   "execution_count": 51,
   "metadata": {},
   "outputs": [],
   "source": [
    "################################################################################################\n",
    "# Define objective function -- this is the system of equations                                 #\n",
    "# It has the form f([x, y, z]) and returns [LHS1, LHS2, LHS3]                                  #\n",
    "################################################################################################\n",
    "\n",
    "# def P04(var):\n",
    "#     x = var[0]\n",
    "#     y = var[1]\n",
    "#     z = var[2]\n",
    "#     LHS1 = x**2 - 10*x - 25*y + 17*z**2\n",
    "#     LHS2 = x*z + np.log(y*z) - 18.3\n",
    "#     LHS3 = x**2 + 5*z + y**2 - 145\n",
    "#     return [LHS1, LHS2, LHS3] #using a list, this is my choice.\n",
    "\n",
    "################################################################################################\n",
    "# Define and initial guess for [x0, y0]                                                        #\n",
    "################################################################################################\n",
    "\n",
    "# var0 = [5, 5, 5]\n",
    "\n",
    "################################################################################################\n",
    "# Solve using opt.root(); store results in solution structure; access .x and .fun              #\n",
    "################################################################################################\n",
    "\n",
    "# sol04 = opt.root(P04, var0)\n",
    "# print('', sol04.x, '\\n', sol04.fun, '\\n', P04(sol04.x), '\\n', sol04.message)"
   ]
  },
  {
   "cell_type": "markdown",
   "metadata": {},
   "source": [
    "## Stability of Nonlinear Equation Solvers\n",
    "\n",
    "### Initial Guess Sensitivity and NaN errors in Problem 04\n",
    "\n",
    "Although tools like `opt.newton` and `opt.root` are very easy to use, numerical solution of algebraic equations can be very tricky.  As a rule of thumb, the more equations that you are solving, and the more nonlinear these equations are, the more challening the numerical solution will be.  Usually, you need good-to-great initial guesses in order to solve difficult systems on nonlinear equations with numerical tools. Below, we demonstrate how certain initial guesses would cause the solver to go off the rails. This problem is hard because visualizing it would require us to work in 4 dimensions since we have $f1(x, y, z)$, etc. So providing good initial guesses can be tricky. In a physical system, we usually have limits on the variables that I can use to provide a better guess. For example, fractional conversions and mole fractions are between 0 and 1; absolute temperatures can't be less than zero; a temperature of 8000C is unrealistic in a chemical process; a pressure of 50000000 atm is unrealistic in a chemical process, etc. Here, it's just a math problem, so we have no idea how to bound $(x, y, z)$ without putting in a bit of effort (not a topic for this course).\n",
    "\n",
    "Anyway, we can show that an initial guess of:\n",
    "\n",
    "    var0 = [5, -5, -5]\n",
    "\n",
    "Will cause the solver to issue a warning since it ends up passing a negative value to the logarithm in the second equation, which is undefined (notice that it still converges, though. It gets around the `nan` (\"not a number\") error here). Astute readers will point out that $-5*-5 = 25$, so the negative signs should cancel, allowing us to evaluate the natural logarithm. This is true at the start, but, remember, these are iterative processes. We make initial guesses, and those guesses bias our solutions.  Just because the solver starts out with $y$ and $z$ both negative (and with a positive product), it won't necessarily stay here.  We demonstrate this in the cell below.  You can see that it hits places where only one of the two is negative; hence the error.\n",
    "\n",
    "If we instead try:\n",
    "\n",
    "    var0 = [-5, -5, -5]\n",
    "\n",
    "The solver will not recover, and we will see a convergence error."
   ]
  },
  {
   "cell_type": "code",
   "execution_count": 52,
   "metadata": {},
   "outputs": [],
   "source": [
    "# def P4_stability(var):\n",
    "#     x = var[0]\n",
    "#     y = var[1]\n",
    "#     z = var[2]\n",
    "#     print(f'current values in iteration are x = {x}, y = {y}, z = {z}')\n",
    "#     LHS1 = x**2 - 10*x - 25*y + 17*z**2\n",
    "#     LHS2 = x*z + np.log(y*z) - 18.3\n",
    "#     LHS3 = x**2 + 5*z + y**2 - 145\n",
    "#     return np.array([LHS1, LHS2, LHS3])\n",
    "\n",
    "# var0 = np.array([5, -5, -5])\n",
    "# sol = opt.root(P4_stability, var0)\n",
    "# print('\\n', sol)\n",
    "# print('', sol.x, '\\n', sol.fun, '\\n', P4_stability(sol.x), '\\n', sol.message)"
   ]
  },
  {
   "cell_type": "markdown",
   "metadata": {},
   "source": [
    "### An Extreme Example of instability with the Newton-Raphson Iteration\n",
    "\n",
    "Although a Newton-Raphson iteration is very useful, it isn't always guaranteed to converge.  In general, you'll find this is true of algebraic solutions.  They can be flaky, and they are usually very sensitive to the initial guess that we make for the solution.  As the equations become increasingly nonlinear and difficult to solve, we will find we need very good initial guesses in order to get numerical methods to converge for algebraic equations. As an example, let's consider the more difficult function:\n",
    "\n",
    "$$g(x) = -0.74 + 0.765x + 1.1x^2 - 3.55x^3$$\n",
    "\n",
    "We'll graph it and then run a Newton-Raphson iteration."
   ]
  },
  {
   "cell_type": "code",
   "execution_count": 53,
   "metadata": {},
   "outputs": [],
   "source": [
    "# g   = lambda x: -0.74  + 0.765*x + 1.1*x**2 - 3.55*x**3   #g(x)\n",
    "# dg  = lambda x:          0.765   + 2.2*x    - 3*3.55*x**2 #g'(x)\n",
    "# ddg = lambda x:                    2.2      - 2*3*3.55*x  #g''(x)\n",
    "\n",
    "# xspan = np.linspace(-1, 1, 100)\n",
    "\n",
    "# plt.figure(figsize = (5, 5))\n",
    "# plt.plot(xspan, g(xspan))\n",
    "# plt.xlim(-1, 1)\n",
    "# plt.xticks(np.linspace(-1, 1, 9))\n",
    "# plt.xlabel('x')\n",
    "# plt.ylim(-4, 4)\n",
    "# plt.yticks(np.arange(-4, 5, 1))\n",
    "# plt.ylabel('g(x)')\n",
    "# plt.hlines(0, -1, 1, ls = 'dashed', color = 'black', lw = 1.0)\n",
    "# plt.vlines(-0.6081345343, -4, 4, ls = 'dotted', color = 'red', lw = 0.75)\n",
    "# plt.show()"
   ]
  },
  {
   "cell_type": "code",
   "execution_count": 54,
   "metadata": {},
   "outputs": [],
   "source": [
    "# x = -0.5\n",
    "# y = g(x)\n",
    "\n",
    "# while abs(y) > 1e-6:\n",
    "#     y = g(x)\n",
    "#     x = x - g(x)/dg(x)\n",
    "#     print(f'{x:14.10}, {y:14.10}')"
   ]
  },
  {
   "cell_type": "code",
   "execution_count": 55,
   "metadata": {},
   "outputs": [],
   "source": [
    "############################################################################################################################\n",
    "# This block of code will get stuck in an infinite loop; if you execute it, you'll need to interrupt the kernel to stop it #\n",
    "############################################################################################################################\n",
    "\n",
    "# x = 5/9\n",
    "# y = g(x)\n",
    "\n",
    "# while abs(y) > 1e-6:\n",
    "#     y = g(x)\n",
    "#     x = x - g(x)/dg(x)\n",
    "#     print(f'{x:14.10}, {y:14.10}')"
   ]
  },
  {
   "cell_type": "code",
   "execution_count": 56,
   "metadata": {},
   "outputs": [],
   "source": [
    "# opt.newton(g, -0.5) # no derivative information, opt.newton uses secant method\n",
    "# opt.newton(g, -0.5, fprime = dg) #first derivative provided, opt.newton uses Newton-Raphson\n",
    "# opt.newton(g, -0.5, fprime = dg, fprime2 = ddg) #first and second derivative provided, opt.newton uses Halley's Method"
   ]
  },
  {
   "cell_type": "code",
   "execution_count": 57,
   "metadata": {},
   "outputs": [],
   "source": [
    "# opt.newton(g, 5/9) # no derivative information, opt.newton uses secant method\n",
    "# opt.newton(g, 5/9, fprime = dg) #first derivative provided, opt.newton uses Newton-Raphson\n",
    "# opt.newton(g, 5/9, fprime = dg, fprime2 = ddg) #first and second derivative provided, opt.newton uses Halley's Method"
   ]
  }
 ],
 "metadata": {
  "kernelspec": {
   "display_name": "base",
   "language": "python",
   "name": "python3"
  },
  "language_info": {
   "codemirror_mode": {
    "name": "ipython",
    "version": 3
   },
   "file_extension": ".py",
   "mimetype": "text/x-python",
   "name": "python",
   "nbconvert_exporter": "python",
   "pygments_lexer": "ipython3",
   "version": "3.12.7"
  }
 },
 "nbformat": 4,
 "nbformat_minor": 4
}
